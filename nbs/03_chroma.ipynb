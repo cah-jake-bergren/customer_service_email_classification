{
 "cells": [
  {
   "cell_type": "markdown",
   "metadata": {},
   "source": [
    "# chroma\n",
    "\n",
    "> Put email summaries into a vector store"
   ]
  },
  {
   "cell_type": "code",
   "execution_count": 35,
   "metadata": {},
   "outputs": [],
   "source": [
    "#| default_exp chroma"
   ]
  },
  {
   "cell_type": "code",
   "execution_count": 7,
   "metadata": {},
   "outputs": [],
   "source": [
    "#| export\n",
    "from typing import List, Dict, Any, Iterable\n",
    "from pathlib import Path\n",
    "import json\n",
    "import pandas as pd\n",
    "\n",
    "import chromadb\n",
    "from langchain.vectorstores import Chroma\n",
    "from langchain.embeddings import VertexAIEmbeddings\n",
    "from langchain.schema import Document\n",
    "from langchain.document_loaders import DataFrameLoader\n",
    "from google.cloud import storage\n",
    "from tqdm import tqdm\n",
    "\n",
    "from classifier.schema import get_embedder, get_storage_client, WRITE_PREFIX\n",
    "from classifier.load import get_emails_from_frame, get_idx, Email, \\\n",
    "    PROJECT_BUCKET, get_train_test_idx, LABEL_COLUMN, get_batches, write_idx, \\\n",
    "    get_raw_emails_tejas_case_numbers"
   ]
  },
  {
   "cell_type": "code",
   "execution_count": 2,
   "metadata": {},
   "outputs": [],
   "source": [
    "## Load summaries - Local\n",
    "# data_dir = Path('../data')\n",
    "# assert data_dir.exists()\n",
    "# summary_path = data_dir / 'summaries.csv'\n",
    "# assert summary_path.exists()"
   ]
  },
  {
   "cell_type": "code",
   "execution_count": 5,
   "metadata": {},
   "outputs": [
    {
     "data": {
      "text/html": [
       "<div>\n",
       "<style scoped>\n",
       "    .dataframe tbody tr th:only-of-type {\n",
       "        vertical-align: middle;\n",
       "    }\n",
       "\n",
       "    .dataframe tbody tr th {\n",
       "        vertical-align: top;\n",
       "    }\n",
       "\n",
       "    .dataframe thead th {\n",
       "        text-align: right;\n",
       "    }\n",
       "</style>\n",
       "<table border=\"1\" class=\"dataframe\">\n",
       "  <thead>\n",
       "    <tr style=\"text-align: right;\">\n",
       "      <th></th>\n",
       "      <th>idx</th>\n",
       "      <th>summary</th>\n",
       "    </tr>\n",
       "  </thead>\n",
       "  <tbody>\n",
       "    <tr>\n",
       "      <th>0</th>\n",
       "      <td>31716</td>\n",
       "      <td>Pavlina Georgieva (Logistics Coordinator) sen...</td>\n",
       "    </tr>\n",
       "    <tr>\n",
       "      <th>1</th>\n",
       "      <td>35200</td>\n",
       "      <td>**Summary**\\n\\nA customer reached out to Card...</td>\n",
       "    </tr>\n",
       "    <tr>\n",
       "      <th>2</th>\n",
       "      <td>462</td>\n",
       "      <td>**Subject**: Invoice 7322207358 - State of Fl...</td>\n",
       "    </tr>\n",
       "    <tr>\n",
       "      <th>3</th>\n",
       "      <td>3705</td>\n",
       "      <td>**Subject**: ACTION REQUIRED | Additional Inf...</td>\n",
       "    </tr>\n",
       "    <tr>\n",
       "      <th>4</th>\n",
       "      <td>25300</td>\n",
       "      <td>**Subject**: Paid - Invoice 7328757492\\n\\n**C...</td>\n",
       "    </tr>\n",
       "  </tbody>\n",
       "</table>\n",
       "</div>"
      ],
      "text/plain": [
       "     idx                                            summary\n",
       "0  31716   Pavlina Georgieva (Logistics Coordinator) sen...\n",
       "1  35200   **Summary**\\n\\nA customer reached out to Card...\n",
       "2    462   **Subject**: Invoice 7322207358 - State of Fl...\n",
       "3   3705   **Subject**: ACTION REQUIRED | Additional Inf...\n",
       "4  25300   **Subject**: Paid - Invoice 7328757492\\n\\n**C..."
      ]
     },
     "execution_count": 5,
     "metadata": {},
     "output_type": "execute_result"
    }
   ],
   "source": [
    "summaries_path = f'gs://{PROJECT_BUCKET}/{WRITE_PREFIX}/tejas/summaries.csv'\n",
    "summaries = pd.read_csv(summaries_path)\n",
    "summaries.rename({\"Unnamed: 0\": \"idx\"}, axis=1, inplace=True)\n",
    "summaries.head(5)"
   ]
  },
  {
   "cell_type": "markdown",
   "metadata": {},
   "source": [
    "Add metadata, create documents"
   ]
  },
  {
   "cell_type": "code",
   "execution_count": 6,
   "metadata": {},
   "outputs": [],
   "source": [
    "train_idx, test_idx = get_idx(prefix=f\"{WRITE_PREFIX}/tejas\")"
   ]
  },
  {
   "cell_type": "code",
   "execution_count": 12,
   "metadata": {},
   "outputs": [],
   "source": [
    "raw_emails_tejas = get_raw_emails_tejas_case_numbers()\n",
    "emails = list(get_emails_from_frame(\n",
    "    raw_emails_tejas,\n",
    "    index_prefix=f'{WRITE_PREFIX}/tejas'\n",
    "))"
   ]
  },
  {
   "cell_type": "code",
   "execution_count": 22,
   "metadata": {},
   "outputs": [
    {
     "data": {
      "text/html": [
       "<div>\n",
       "<style scoped>\n",
       "    .dataframe tbody tr th:only-of-type {\n",
       "        vertical-align: middle;\n",
       "    }\n",
       "\n",
       "    .dataframe tbody tr th {\n",
       "        vertical-align: top;\n",
       "    }\n",
       "\n",
       "    .dataframe thead th {\n",
       "        text-align: right;\n",
       "    }\n",
       "</style>\n",
       "<table border=\"1\" class=\"dataframe\">\n",
       "  <thead>\n",
       "    <tr style=\"text-align: right;\">\n",
       "      <th></th>\n",
       "      <th>BU</th>\n",
       "      <th>case_number</th>\n",
       "      <th>ACCOUNT_BUSINESS_UNIT__C</th>\n",
       "      <th>received_at</th>\n",
       "      <th>sfdc_subcategory</th>\n",
       "      <th>predicted_category</th>\n",
       "      <th>predicted_subcategory</th>\n",
       "      <th>record_type</th>\n",
       "      <th>probability</th>\n",
       "      <th>Accuracy_upd</th>\n",
       "      <th>Bin</th>\n",
       "      <th>idx</th>\n",
       "      <th>label</th>\n",
       "      <th>email_subject</th>\n",
       "      <th>email_body</th>\n",
       "    </tr>\n",
       "  </thead>\n",
       "  <tbody>\n",
       "    <tr>\n",
       "      <th>0</th>\n",
       "      <td>PD</td>\n",
       "      <td>3598350</td>\n",
       "      <td>NaN</td>\n",
       "      <td>2023-11-01T19:40:57</td>\n",
       "      <td>Drop Ship Order</td>\n",
       "      <td>Order Processing</td>\n",
       "      <td>Drop Ship Order</td>\n",
       "      <td>1</td>\n",
       "      <td>0.576672</td>\n",
       "      <td>Correct</td>\n",
       "      <td>5</td>\n",
       "      <td>31716</td>\n",
       "      <td>Order Processing</td>\n",
       "      <td>Equashield latest - FW: EQ II Catalog 2023 - C...</td>\n",
       "      <td>External Email â€“ Please use caution before o...</td>\n",
       "    </tr>\n",
       "    <tr>\n",
       "      <th>1</th>\n",
       "      <td>PD</td>\n",
       "      <td>3613116</td>\n",
       "      <td>NaN</td>\n",
       "      <td>2023-11-08T17:27:04</td>\n",
       "      <td>Account balance</td>\n",
       "      <td>Billing / Invoice</td>\n",
       "      <td>NaN</td>\n",
       "      <td>1</td>\n",
       "      <td>0.496874</td>\n",
       "      <td>Correct</td>\n",
       "      <td>4</td>\n",
       "      <td>35200</td>\n",
       "      <td>Billing / Invoice</td>\n",
       "      <td>Auto-Reply.  We Have Received Your Request</td>\n",
       "      <td>To whom it may concern,  Your request has been...</td>\n",
       "    </tr>\n",
       "  </tbody>\n",
       "</table>\n",
       "</div>"
      ],
      "text/plain": [
       "   BU  case_number ACCOUNT_BUSINESS_UNIT__C          received_at  \\\n",
       "0  PD      3598350                      NaN  2023-11-01T19:40:57   \n",
       "1  PD      3613116                      NaN  2023-11-08T17:27:04   \n",
       "\n",
       "  sfdc_subcategory predicted_category predicted_subcategory  record_type  \\\n",
       "0  Drop Ship Order   Order Processing       Drop Ship Order            1   \n",
       "1  Account balance  Billing / Invoice                   NaN            1   \n",
       "\n",
       "   probability Accuracy_upd  Bin    idx              label  \\\n",
       "0     0.576672      Correct    5  31716   Order Processing   \n",
       "1     0.496874      Correct    4  35200  Billing / Invoice   \n",
       "\n",
       "                                       email_subject  \\\n",
       "0  Equashield latest - FW: EQ II Catalog 2023 - C...   \n",
       "1         Auto-Reply.  We Have Received Your Request   \n",
       "\n",
       "                                          email_body  \n",
       "0  External Email â€“ Please use caution before o...  \n",
       "1  To whom it may concern,  Your request has been...  "
      ]
     },
     "execution_count": 22,
     "metadata": {},
     "output_type": "execute_result"
    }
   ],
   "source": [
    "emails_frame = pd.DataFrame([e.to_series() for e in emails])\n",
    "emails_frame.head(2)"
   ]
  },
  {
   "cell_type": "code",
   "execution_count": 27,
   "metadata": {},
   "outputs": [
    {
     "data": {
      "text/html": [
       "<div>\n",
       "<style scoped>\n",
       "    .dataframe tbody tr th:only-of-type {\n",
       "        vertical-align: middle;\n",
       "    }\n",
       "\n",
       "    .dataframe tbody tr th {\n",
       "        vertical-align: top;\n",
       "    }\n",
       "\n",
       "    .dataframe thead th {\n",
       "        text-align: right;\n",
       "    }\n",
       "</style>\n",
       "<table border=\"1\" class=\"dataframe\">\n",
       "  <thead>\n",
       "    <tr style=\"text-align: right;\">\n",
       "      <th></th>\n",
       "      <th>BU</th>\n",
       "      <th>case_number</th>\n",
       "      <th>ACCOUNT_BUSINESS_UNIT__C</th>\n",
       "      <th>received_at</th>\n",
       "      <th>sfdc_subcategory</th>\n",
       "      <th>predicted_category</th>\n",
       "      <th>predicted_subcategory</th>\n",
       "      <th>record_type</th>\n",
       "      <th>probability</th>\n",
       "      <th>Accuracy_upd</th>\n",
       "      <th>Bin</th>\n",
       "      <th>label</th>\n",
       "      <th>email_subject</th>\n",
       "      <th>email_body</th>\n",
       "      <th>summary</th>\n",
       "    </tr>\n",
       "    <tr>\n",
       "      <th>idx</th>\n",
       "      <th></th>\n",
       "      <th></th>\n",
       "      <th></th>\n",
       "      <th></th>\n",
       "      <th></th>\n",
       "      <th></th>\n",
       "      <th></th>\n",
       "      <th></th>\n",
       "      <th></th>\n",
       "      <th></th>\n",
       "      <th></th>\n",
       "      <th></th>\n",
       "      <th></th>\n",
       "      <th></th>\n",
       "      <th></th>\n",
       "    </tr>\n",
       "  </thead>\n",
       "  <tbody>\n",
       "    <tr>\n",
       "      <th>31716</th>\n",
       "      <td>PD</td>\n",
       "      <td>3598350</td>\n",
       "      <td>NaN</td>\n",
       "      <td>2023-11-01T19:40:57</td>\n",
       "      <td>Drop Ship Order</td>\n",
       "      <td>Order Processing</td>\n",
       "      <td>Drop Ship Order</td>\n",
       "      <td>1</td>\n",
       "      <td>0.576672</td>\n",
       "      <td>Correct</td>\n",
       "      <td>5</td>\n",
       "      <td>Order Processing</td>\n",
       "      <td>Equashield latest - FW: EQ II Catalog 2023 - C...</td>\n",
       "      <td>External Email â€“ Please use caution before o...</td>\n",
       "      <td>Pavlina Georgieva (Logistics Coordinator) sen...</td>\n",
       "    </tr>\n",
       "    <tr>\n",
       "      <th>35200</th>\n",
       "      <td>PD</td>\n",
       "      <td>3613116</td>\n",
       "      <td>NaN</td>\n",
       "      <td>2023-11-08T17:27:04</td>\n",
       "      <td>Account balance</td>\n",
       "      <td>Billing / Invoice</td>\n",
       "      <td>NaN</td>\n",
       "      <td>1</td>\n",
       "      <td>0.496874</td>\n",
       "      <td>Correct</td>\n",
       "      <td>4</td>\n",
       "      <td>Billing / Invoice</td>\n",
       "      <td>Auto-Reply.  We Have Received Your Request</td>\n",
       "      <td>To whom it may concern,  Your request has been...</td>\n",
       "      <td>**Summary**\\n\\nA customer reached out to Card...</td>\n",
       "    </tr>\n",
       "  </tbody>\n",
       "</table>\n",
       "</div>"
      ],
      "text/plain": [
       "       BU  case_number ACCOUNT_BUSINESS_UNIT__C          received_at  \\\n",
       "idx                                                                    \n",
       "31716  PD      3598350                      NaN  2023-11-01T19:40:57   \n",
       "35200  PD      3613116                      NaN  2023-11-08T17:27:04   \n",
       "\n",
       "      sfdc_subcategory predicted_category predicted_subcategory  record_type  \\\n",
       "idx                                                                            \n",
       "31716  Drop Ship Order   Order Processing       Drop Ship Order            1   \n",
       "35200  Account balance  Billing / Invoice                   NaN            1   \n",
       "\n",
       "       probability Accuracy_upd  Bin              label  \\\n",
       "idx                                                       \n",
       "31716     0.576672      Correct    5   Order Processing   \n",
       "35200     0.496874      Correct    4  Billing / Invoice   \n",
       "\n",
       "                                           email_subject  \\\n",
       "idx                                                        \n",
       "31716  Equashield latest - FW: EQ II Catalog 2023 - C...   \n",
       "35200         Auto-Reply.  We Have Received Your Request   \n",
       "\n",
       "                                              email_body  \\\n",
       "idx                                                        \n",
       "31716  External Email â€“ Please use caution before o...   \n",
       "35200  To whom it may concern,  Your request has been...   \n",
       "\n",
       "                                                 summary  \n",
       "idx                                                       \n",
       "31716   Pavlina Georgieva (Logistics Coordinator) sen...  \n",
       "35200   **Summary**\\n\\nA customer reached out to Card...  "
      ]
     },
     "execution_count": 27,
     "metadata": {},
     "output_type": "execute_result"
    }
   ],
   "source": [
    "chroma_document_frame = emails_frame.merge(summaries, on='idx', how='inner').set_index('idx')\n",
    "chroma_document_frame.head(2)"
   ]
  },
  {
   "cell_type": "code",
   "execution_count": 28,
   "metadata": {},
   "outputs": [
    {
     "data": {
      "text/plain": [
       "(3000, 15)"
      ]
     },
     "execution_count": 28,
     "metadata": {},
     "output_type": "execute_result"
    }
   ],
   "source": [
    "chroma_document_frame.shape"
   ]
  },
  {
   "cell_type": "code",
   "execution_count": 29,
   "metadata": {},
   "outputs": [],
   "source": [
    "train_documents = chroma_document_frame.loc[train_idx, :]\n",
    "test_documents = chroma_document_frame.loc[test_idx, :]"
   ]
  },
  {
   "cell_type": "markdown",
   "metadata": {},
   "source": [
    "# Make our chroma db from these documents"
   ]
  },
  {
   "cell_type": "code",
   "execution_count": 30,
   "metadata": {},
   "outputs": [
    {
     "data": {
      "text/plain": [
       "2400"
      ]
     },
     "execution_count": 30,
     "metadata": {},
     "output_type": "execute_result"
    }
   ],
   "source": [
    "chroma_documents = DataFrameLoader(\n",
    "    train_documents.reset_index(drop=False)[['summary', 'idx', 'label']],\n",
    "    page_content_column='summary').load()\n",
    "len(chroma_documents)"
   ]
  },
  {
   "cell_type": "code",
   "execution_count": 31,
   "metadata": {},
   "outputs": [
    {
     "data": {
      "text/plain": [
       "Document(page_content=' Pavlina Georgieva (Logistics Coordinator) sent the 2023 EQ II Catalog from Cardinal Health to Thomas Everitt (Customer Service Representative).', metadata={'idx': 31716, 'label': 'Order Processing'})"
      ]
     },
     "execution_count": 31,
     "metadata": {},
     "output_type": "execute_result"
    }
   ],
   "source": [
    "chroma_documents[0]"
   ]
  },
  {
   "cell_type": "code",
   "execution_count": 32,
   "metadata": {},
   "outputs": [],
   "source": [
    "embedder = get_embedder()"
   ]
  },
  {
   "cell_type": "code",
   "execution_count": 33,
   "metadata": {},
   "outputs": [],
   "source": [
    "#| export\n",
    "def get_or_make_chroma(\n",
    "        data_dir: Path, \n",
    "        documents: List[Document] = None,\n",
    "        overwrite: bool = False):\n",
    "    chroma_dir = data_dir / 'chroma'\n",
    "    if not chroma_dir.exists():\n",
    "        chroma_dir.mkdir()\n",
    "    embedding_function = get_embedder()\n",
    "    persist_directory = str(chroma_dir.resolve())\n",
    "    if len(list(chroma_dir.glob(\"*.sqlite3\"))) > 0:\n",
    "        if not overwrite:\n",
    "            return Chroma(\n",
    "                persist_directory=persist_directory,\n",
    "                embedding_function=embedding_function\n",
    "            )\n",
    "        else:\n",
    "            for f in chroma_dir.glob(\"*\"):\n",
    "                f.unlink()\n",
    "    if documents is None:\n",
    "        raise ValueError(\"documents cannot be None\")\n",
    "    return Chroma.from_documents(\n",
    "        documents,\n",
    "        embedding_function,\n",
    "        persist_directory=persist_directory\n",
    "    )"
   ]
  },
  {
   "cell_type": "code",
   "execution_count": 35,
   "metadata": {},
   "outputs": [],
   "source": [
    "data_dir = Path(\"../data\")\n",
    "assert data_dir.exists()\n",
    "tejas_dir = data_dir / \"tejas\"\n",
    "if not tejas_dir.exists():\n",
    "    tejas_dir.mkdir()"
   ]
  },
  {
   "cell_type": "code",
   "execution_count": 36,
   "metadata": {},
   "outputs": [],
   "source": [
    "# Takes a bit\n",
    "chroma = get_or_make_chroma(tejas_dir, chroma_documents, overwrite=False)"
   ]
  },
  {
   "cell_type": "code",
   "execution_count": 37,
   "metadata": {},
   "outputs": [
    {
     "data": {
      "text/plain": [
       "[Document(page_content=' **Customer:** \\n- Name: N/A\\n- Account Number: 24-2057190625 465086\\n- Request: Drop ship order\\n\\n**Order Details:**\\n- NDC: 677683-0630-68\\n- CIN: 2905347\\n- Item: Calcium Gluconate 2.5% Gel\\n- Quantity: 2\\n- PO: 1MEDCAR11022023\\n\\n**Action Required:**\\n- Process the drop ship order', metadata={'idx': 32233, 'label': 'Order Processing'}),\n",
       " Document(page_content=' **Customer:** Robin Passmore, Supply at Maxor, (806)324-5410 EX: 5405\\n\\n**Request:** Robin wants to place a drop ship order for several accounts for the same item.\\n\\n**Item Details:**\\n- ECONOMY EMRG. SPILL KIT\\n- ITEM #3678257\\n- QTY #1\\n\\n**Accounts:**\\n- 2057201907\\n- 2052016170\\n- 2052014129\\n-', metadata={'idx': 44254, 'label': 'Order Processing'}),\n",
       " Document(page_content=' **Subject**: Cardinal Drop Ship order - Acct 2150123024\\n\\n**Customer**: Cardinal (Acct # 2150123024)\\n\\n**Issue**: Drop Ship order with 1 item\\n\\n**Action Required**: Contact Wellpartner Operations at 1-877-805-9483 for any questions\\n\\n**Business Functions**:\\n- Sender: Wellpartner Operations (Providing Drop Ship order and contact information)\\n- Recipient: Cardinal (Customer receiving the Drop Ship order)', metadata={'idx': 14588, 'label': 'Order Processing'}),\n",
       " Document(page_content=' **Subject**: Cardinal Drop Ship order - Acct 2150421072\\n\\n**Customer**: Cardinal (Acct # 2150421072)\\n\\n**Issue**: Drop Ship order with 1 item\\n\\n**Action**: \\n- Attached is the Drop Ship order for Cardinal.\\n- For inquiries, contact Wellpartner Operations at 1-877-805-9483.\\n\\n**Business Functions**:\\n- Sender: Sales/Customer Service\\n- Recipient: Purchasing/Inventory Management', metadata={'idx': 36745, 'label': 'Order Processing'})]"
      ]
     },
     "execution_count": 37,
     "metadata": {},
     "output_type": "execute_result"
    }
   ],
   "source": [
    "chroma.similarity_search(\"Help I need a drop ship\")"
   ]
  },
  {
   "cell_type": "markdown",
   "metadata": {},
   "source": [
    "## Make chroma DB from the 10k batch processed docs"
   ]
  },
  {
   "cell_type": "code",
   "execution_count": 20,
   "metadata": {},
   "outputs": [],
   "source": [
    "#| export\n",
    "def read_json_lines_from_gcs(\n",
    "        blob_name: str,\n",
    "        bucket_name: str = PROJECT_BUCKET) -> Iterable[Any]:\n",
    "    client = get_storage_client()\n",
    "    bucket = client.bucket(bucket_name)\n",
    "    blob = bucket.blob(blob_name)\n",
    "    with blob.open('r') as f:\n",
    "        for line in f.readlines():\n",
    "            yield json.loads(line)"
   ]
  },
  {
   "cell_type": "code",
   "execution_count": 21,
   "metadata": {},
   "outputs": [],
   "source": [
    "batch_result_file_uri = \"JDB_experiments/summarization/prediction-model-2023-12-18T15:10:57.834767Z/000000000000.jsonl\"\n",
    "\n",
    "batch_result = list(read_json_lines_from_gcs(batch_result_file_uri))"
   ]
  },
  {
   "cell_type": "code",
   "execution_count": 22,
   "metadata": {},
   "outputs": [
    {
     "data": {
      "text/plain": [
       "dict_keys(['instance', 'predictions', 'status'])"
      ]
     },
     "execution_count": 22,
     "metadata": {},
     "output_type": "execute_result"
    }
   ],
   "source": [
    "batch_result[0].keys()"
   ]
  },
  {
   "cell_type": "code",
   "execution_count": 23,
   "metadata": {},
   "outputs": [
    {
     "data": {
      "text/plain": [
       "1"
      ]
     },
     "execution_count": 23,
     "metadata": {},
     "output_type": "execute_result"
    }
   ],
   "source": [
    "len(batch_result[0].get(\"predictions\"))"
   ]
  },
  {
   "cell_type": "code",
   "execution_count": 24,
   "metadata": {},
   "outputs": [],
   "source": [
    "batch_result_summaries = [r.get('predictions', [{}])[0].get(\"content\", \"\").strip() for r in batch_result]"
   ]
  },
  {
   "cell_type": "code",
   "execution_count": 25,
   "metadata": {},
   "outputs": [],
   "source": [
    "batch_result_metadata = list(read_json_lines_from_gcs(\n",
    "    \"JDB_experiments/summarization_metadata.jsonl\"\n",
    "))"
   ]
  },
  {
   "cell_type": "code",
   "execution_count": 26,
   "metadata": {},
   "outputs": [
    {
     "data": {
      "text/plain": [
       "True"
      ]
     },
     "execution_count": 26,
     "metadata": {},
     "output_type": "execute_result"
    }
   ],
   "source": [
    "len(batch_result_summaries) == len(batch_result_metadata)"
   ]
  },
  {
   "cell_type": "code",
   "execution_count": 27,
   "metadata": {},
   "outputs": [
    {
     "data": {
      "text/plain": [
       "725"
      ]
     },
     "execution_count": 27,
     "metadata": {},
     "output_type": "execute_result"
    }
   ],
   "source": [
    "len([r for r in batch_result_summaries if len(r) == 0])"
   ]
  },
  {
   "cell_type": "code",
   "execution_count": 28,
   "metadata": {},
   "outputs": [],
   "source": [
    "batch_result_dataframe = pd.DataFrame.from_records(batch_result_metadata)\n",
    "batch_result_dataframe.loc[:, 'summary'] = pd.Series(batch_result_summaries)"
   ]
  },
  {
   "cell_type": "code",
   "execution_count": 29,
   "metadata": {},
   "outputs": [],
   "source": [
    "# Add label\n",
    "training_data = pd.read_excel(\n",
    "    f\"gs://{PROJECT_BUCKET}/Last50KCases_withSubjectAndBody.xlsx\")\n",
    "training_data.loc[:, 'email_subject'] = training_data.email_subject.fillna(\"N/A\")"
   ]
  },
  {
   "cell_type": "code",
   "execution_count": 30,
   "metadata": {},
   "outputs": [],
   "source": [
    "batch_result_labels = training_data.loc[batch_result_dataframe.idx, LABEL_COLUMN]\n",
    "batch_result_dataframe.loc[:, 'label'] = batch_result_labels.tolist()"
   ]
  },
  {
   "cell_type": "code",
   "execution_count": 31,
   "metadata": {},
   "outputs": [
    {
     "data": {
      "text/html": [
       "<div>\n",
       "<style scoped>\n",
       "    .dataframe tbody tr th:only-of-type {\n",
       "        vertical-align: middle;\n",
       "    }\n",
       "\n",
       "    .dataframe tbody tr th {\n",
       "        vertical-align: top;\n",
       "    }\n",
       "\n",
       "    .dataframe thead th {\n",
       "        text-align: right;\n",
       "    }\n",
       "</style>\n",
       "<table border=\"1\" class=\"dataframe\">\n",
       "  <thead>\n",
       "    <tr style=\"text-align: right;\">\n",
       "      <th></th>\n",
       "      <th>BU</th>\n",
       "      <th>case_number</th>\n",
       "      <th>ACCOUNT_BUSINESS_UNIT__C</th>\n",
       "      <th>received_at</th>\n",
       "      <th>sfdc_subcategory</th>\n",
       "      <th>predicted_category</th>\n",
       "      <th>predicted_subcategory</th>\n",
       "      <th>record_type</th>\n",
       "      <th>probability</th>\n",
       "      <th>Accuracy_upd</th>\n",
       "      <th>Bin</th>\n",
       "      <th>idx</th>\n",
       "      <th>summary</th>\n",
       "      <th>label</th>\n",
       "    </tr>\n",
       "  </thead>\n",
       "  <tbody>\n",
       "    <tr>\n",
       "      <th>0</th>\n",
       "      <td>PD</td>\n",
       "      <td>3665915</td>\n",
       "      <td>NaN</td>\n",
       "      <td>2023-12-01T22:43:59</td>\n",
       "      <td>Inquiry</td>\n",
       "      <td>Order Processing</td>\n",
       "      <td>Order Entry</td>\n",
       "      <td>1</td>\n",
       "      <td>0.676467</td>\n",
       "      <td>Incorrect</td>\n",
       "      <td>6</td>\n",
       "      <td>48942</td>\n",
       "      <td>The email is from Max Daugherty, Vice Presiden...</td>\n",
       "      <td>Order Processing</td>\n",
       "    </tr>\n",
       "    <tr>\n",
       "      <th>1</th>\n",
       "      <td>PD</td>\n",
       "      <td>3622254</td>\n",
       "      <td>NaN</td>\n",
       "      <td>2023-11-13T16:16:55</td>\n",
       "      <td>Account updates</td>\n",
       "      <td>Account/Inquiry</td>\n",
       "      <td>NaN</td>\n",
       "      <td>1</td>\n",
       "      <td>0.764455</td>\n",
       "      <td>Correct</td>\n",
       "      <td>7</td>\n",
       "      <td>37242</td>\n",
       "      <td>The customer, Nicholas Brand from Slavins Hanc...</td>\n",
       "      <td>Account/Inquiry</td>\n",
       "    </tr>\n",
       "  </tbody>\n",
       "</table>\n",
       "</div>"
      ],
      "text/plain": [
       "   BU  case_number ACCOUNT_BUSINESS_UNIT__C          received_at  \\\n",
       "0  PD      3665915                      NaN  2023-12-01T22:43:59   \n",
       "1  PD      3622254                      NaN  2023-11-13T16:16:55   \n",
       "\n",
       "  sfdc_subcategory predicted_category predicted_subcategory  record_type  \\\n",
       "0          Inquiry   Order Processing           Order Entry            1   \n",
       "1  Account updates    Account/Inquiry                   NaN            1   \n",
       "\n",
       "   probability Accuracy_upd  Bin    idx  \\\n",
       "0     0.676467    Incorrect    6  48942   \n",
       "1     0.764455      Correct    7  37242   \n",
       "\n",
       "                                             summary             label  \n",
       "0  The email is from Max Daugherty, Vice Presiden...  Order Processing  \n",
       "1  The customer, Nicholas Brand from Slavins Hanc...   Account/Inquiry  "
      ]
     },
     "execution_count": 31,
     "metadata": {},
     "output_type": "execute_result"
    }
   ],
   "source": [
    "batch_result_dataframe.head(2)"
   ]
  },
  {
   "cell_type": "code",
   "execution_count": 34,
   "metadata": {},
   "outputs": [
    {
     "data": {
      "text/plain": [
       "['The email is from Max Daugherty, Vice President of Clinical Operations at Partners Pharmacy. He is requesting a same-day order for account number 2057192443 in Stafford, TX. The confirmation number for the order is 1053194086.\\n\\nThe customer is requesting that the order be removed from credit hold, processed, and delivered to the pharmacy the same day.',\n",
       " 'The customer, Nicholas Brand from Slavins Hancock Pharmacy, is requesting a return for the following items due to overstock:\\n\\n- LOSARTAN/HCT TAB 50-12.5 (NDC: 00093-7367-98)\\n- HYDROCORT CRE 1% (NDC: 00168-0015-31)\\n- MOMETASONE CRE 0.1% (NDC',\n",
       " 'The customer, Twila Traweek, needs to place an item on a dropship order with overnight shipping for Monday or Tuesday. The order should be charged to account number 2052011851. Twila requests confirmation when the order is placed.',\n",
       " 'The customer, Leslie K. Keller, is inquiring about the best dating available for CIN 5476262 Gamastan 2ml.',\n",
       " '- Tina, a customer with account number 2057202984, is requesting a quantity of 6 for CIN 3571338.\\n- The email emphasizes the importance of ordering medication and supplies in advance to avoid potential delays in patient treatment.\\n- The email also includes information about the Drug Supply Chain Security Act regulations taking effect in November 2024 and provides a link to the Resource Center for up-to-date information.']"
      ]
     },
     "execution_count": 34,
     "metadata": {},
     "output_type": "execute_result"
    }
   ],
   "source": [
    "batch_result_dataframe.summary.head(5).values.tolist()"
   ]
  },
  {
   "cell_type": "code",
   "execution_count": 29,
   "metadata": {},
   "outputs": [],
   "source": [
    "train_8k, test_2k = get_train_test_idx(\n",
    "    batch_result_dataframe,\n",
    "    batch_result_dataframe.shape[0],\n",
    "    0.8,\n",
    "    label_column='label'\n",
    ")"
   ]
  },
  {
   "cell_type": "code",
   "execution_count": 30,
   "metadata": {},
   "outputs": [
    {
     "data": {
      "text/plain": [
       "(8000, 2000)"
      ]
     },
     "execution_count": 30,
     "metadata": {},
     "output_type": "execute_result"
    }
   ],
   "source": [
    "train_8k.shape[0], test_2k.shape[0]"
   ]
  },
  {
   "cell_type": "code",
   "execution_count": 31,
   "metadata": {},
   "outputs": [
    {
     "data": {
      "text/plain": [
       "(7418, 1857)"
      ]
     },
     "execution_count": 31,
     "metadata": {},
     "output_type": "execute_result"
    }
   ],
   "source": [
    "train_8k = train_8k[train_8k.summary.str.len() > 0]\n",
    "test_2k = test_2k[test_2k.summary.str.len() > 0]\n",
    "\n",
    "train_8k.shape[0], test_2k.shape[0]"
   ]
  },
  {
   "cell_type": "code",
   "execution_count": 32,
   "metadata": {},
   "outputs": [],
   "source": [
    "write_idx(\n",
    "    train_8k.set_index('idx').index,\n",
    "    test_2k.set_index('idx').index,\n",
    "    prefix=WRITE_PREFIX + \"/summarization_idx\"\n",
    ")"
   ]
  },
  {
   "cell_type": "code",
   "execution_count": 85,
   "metadata": {},
   "outputs": [],
   "source": [
    "chroma_10k_path = data_dir / 'chroma_10k'\n",
    "if not chroma_10k_path.exists():\n",
    "    chroma_10k_path.mkdir()"
   ]
  },
  {
   "cell_type": "code",
   "execution_count": 86,
   "metadata": {},
   "outputs": [
    {
     "data": {
      "text/plain": [
       "7418"
      ]
     },
     "execution_count": 86,
     "metadata": {},
     "output_type": "execute_result"
    }
   ],
   "source": [
    "chroma_10k_documents = DataFrameLoader(\n",
    "    train_8k[['idx', 'label', 'summary']], page_content_column='summary'\n",
    ").load()\n",
    "len(chroma_10k_documents)"
   ]
  },
  {
   "cell_type": "markdown",
   "metadata": {},
   "source": [
    "Embed"
   ]
  },
  {
   "cell_type": "code",
   "execution_count": 88,
   "metadata": {},
   "outputs": [],
   "source": [
    "embedder = get_embedder()"
   ]
  },
  {
   "cell_type": "code",
   "execution_count": 100,
   "metadata": {},
   "outputs": [
    {
     "name": "stderr",
     "output_type": "stream",
     "text": [
      "                                                                                \r"
     ]
    }
   ],
   "source": [
    "chroma_10k_documents_embedded = []\n",
    "\n",
    "pbar = tqdm(total=len(chroma_10k_documents), ncols=80, leave=False)\n",
    "\n",
    "for doc_batch in get_batches(iter(chroma_10k_documents), 5):\n",
    "    doc_batch_embedded = embedder.embed_documents([d.page_content for d in doc_batch])\n",
    "    chroma_10k_documents_embedded.extend(doc_batch_embedded)\n",
    "    pbar.update(len(doc_batch))\n",
    "\n",
    "pbar.close()"
   ]
  },
  {
   "cell_type": "code",
   "execution_count": 112,
   "metadata": {},
   "outputs": [],
   "source": [
    "# Write embeddings to GCS\n",
    "with get_storage_client().bucket(PROJECT_BUCKET).blob(WRITE_PREFIX + \"/summarization_embeddings.json\").open('w') as f:\n",
    "    json.dump(chroma_10k_documents_embedded, f)"
   ]
  },
  {
   "cell_type": "markdown",
   "metadata": {},
   "source": [
    "Add to chroma"
   ]
  },
  {
   "cell_type": "code",
   "execution_count": 104,
   "metadata": {},
   "outputs": [],
   "source": [
    "# Should take about 15 minutes if you're building it fresh\n",
    "chroma_10k_client = chromadb.PersistentClient(path=str(chroma_10k_path.resolve()))"
   ]
  },
  {
   "cell_type": "code",
   "execution_count": 105,
   "metadata": {},
   "outputs": [],
   "source": [
    "collection_10k = chroma_10k_client.get_or_create_collection(name=\"emails\")"
   ]
  },
  {
   "cell_type": "code",
   "execution_count": 109,
   "metadata": {},
   "outputs": [
    {
     "data": {
      "text/plain": [
       "(7418, 3)"
      ]
     },
     "execution_count": 109,
     "metadata": {},
     "output_type": "execute_result"
    }
   ],
   "source": [
    "len(chroma_10k_documents_embedded), len(doc_batch)"
   ]
  },
  {
   "cell_type": "code",
   "execution_count": 110,
   "metadata": {},
   "outputs": [],
   "source": [
    "collection_10k.add(\n",
    "    documents=[d.page_content for d in chroma_10k_documents],\n",
    "    embeddings=chroma_10k_documents_embedded,\n",
    "    metadatas=[d.metadata for d in chroma_10k_documents],\n",
    "    ids=[str(d.metadata.get('idx')) for d in chroma_10k_documents]\n",
    ")"
   ]
  },
  {
   "cell_type": "code",
   "execution_count": 118,
   "metadata": {},
   "outputs": [],
   "source": [
    "langchain_10k_chroma = Chroma(\n",
    "    collection_name=\"emails\",\n",
    "    client=chroma_10k_client, \n",
    "    embedding_function=embedder)"
   ]
  },
  {
   "cell_type": "markdown",
   "metadata": {},
   "source": [
    "## Export"
   ]
  },
  {
   "cell_type": "code",
   "execution_count": 38,
   "metadata": {},
   "outputs": [],
   "source": [
    "#| hide\n",
    "import nbdev; nbdev.nbdev_export()"
   ]
  },
  {
   "cell_type": "code",
   "execution_count": null,
   "metadata": {},
   "outputs": [],
   "source": []
  }
 ],
 "metadata": {
  "kernelspec": {
   "display_name": ".venv",
   "language": "python",
   "name": "python3"
  },
  "language_info": {
   "codemirror_mode": {
    "name": "ipython",
    "version": 3
   },
   "file_extension": ".py",
   "mimetype": "text/x-python",
   "name": "python",
   "nbconvert_exporter": "python",
   "pygments_lexer": "ipython3",
   "version": "3.11.4"
  }
 },
 "nbformat": 4,
 "nbformat_minor": 2
}
