{
 "cells": [
  {
   "cell_type": "markdown",
   "metadata": {},
   "source": [
    "# chroma\n",
    "\n",
    "> Put email summaries into a vector store"
   ]
  },
  {
   "cell_type": "code",
   "execution_count": 1,
   "metadata": {},
   "outputs": [],
   "source": [
    "#| default_exp chroma"
   ]
  },
  {
   "cell_type": "code",
   "execution_count": 2,
   "metadata": {},
   "outputs": [],
   "source": [
    "#| export\n",
    "from typing import List, Dict\n",
    "from pathlib import Path\n",
    "import json\n",
    "\n",
    "from langchain.vectorstores import Chroma\n",
    "from langchain.embeddings import VertexAIEmbeddings\n",
    "from langchain.schema import Document\n",
    "\n",
    "from classifier.schema import get_embedder"
   ]
  },
  {
   "cell_type": "code",
   "execution_count": 3,
   "metadata": {},
   "outputs": [],
   "source": [
    "# Load summaries\n",
    "data_dir = Path('../data')\n",
    "assert data_dir.exists()\n",
    "summary_path = data_dir / 'summaries.json'\n",
    "assert summary_path.exists()"
   ]
  },
  {
   "cell_type": "code",
   "execution_count": 4,
   "metadata": {},
   "outputs": [],
   "source": [
    "with summary_path.open('r') as f:\n",
    "    summaries = json.load(f)"
   ]
  },
  {
   "cell_type": "code",
   "execution_count": 5,
   "metadata": {},
   "outputs": [
    {
     "data": {
      "text/plain": [
       "{'label': 'Order Processing',\n",
       " 'summaries': {'0': ' The email is requesting a drop ship order for Ohio State University.\\nThe PO number is 7004014842, the account number is 2150126632, and the store number is 16422.\\nThe drug name is EPIDIOLEX 100MG/ML SOL 100ML, the order quantity is 5, and the prescriber names are LUCRETIA LONG and PHILIP CLAYTON JONAS.\\nThe prescriber NPIs or DEAs are ML0822634 and FJ142'}}"
      ]
     },
     "execution_count": 5,
     "metadata": {},
     "output_type": "execute_result"
    }
   ],
   "source": [
    "summaries['0']"
   ]
  },
  {
   "cell_type": "code",
   "execution_count": 6,
   "metadata": {},
   "outputs": [],
   "source": [
    "#| export\n",
    "def concat_email_summaries(\n",
    "    summaries: Dict[str, Dict[str, List[str]]]\n",
    "    ) -> List[Document]:\n",
    "    documents = []\n",
    "    for idx, idx_dict in summaries.items():\n",
    "        label = idx_dict.get('label')\n",
    "        idx_content = \"\"\n",
    "        for _, summary in idx_dict['summaries'].items():\n",
    "            idx_content = idx_content + summary.strip() + \"\\n\"\n",
    "        documents.append(\n",
    "            Document(\n",
    "                page_content=idx_content,\n",
    "                metadata={\n",
    "                    'idx': int(idx),\n",
    "                    'label': label\n",
    "                }\n",
    "            )\n",
    "        )\n",
    "    return documents"
   ]
  },
  {
   "cell_type": "code",
   "execution_count": 7,
   "metadata": {},
   "outputs": [],
   "source": [
    "summary_documents = concat_email_summaries(summaries)"
   ]
  },
  {
   "cell_type": "code",
   "execution_count": 8,
   "metadata": {},
   "outputs": [
    {
     "data": {
      "text/plain": [
       "Document(page_content='The email is requesting a drop ship order for Ohio State University.\\nThe PO number is 7004014842, the account number is 2150126632, and the store number is 16422.\\nThe drug name is EPIDIOLEX 100MG/ML SOL 100ML, the order quantity is 5, and the prescriber names are LUCRETIA LONG and PHILIP CLAYTON JONAS.\\nThe prescriber NPIs or DEAs are ML0822634 and FJ142\\n', metadata={'idx': 0, 'label': 'Order Processing'})"
      ]
     },
     "execution_count": 8,
     "metadata": {},
     "output_type": "execute_result"
    }
   ],
   "source": [
    "summary_documents[0]"
   ]
  },
  {
   "cell_type": "markdown",
   "metadata": {},
   "source": [
    "# Make our chroma db from these documents"
   ]
  },
  {
   "cell_type": "code",
   "execution_count": 9,
   "metadata": {},
   "outputs": [],
   "source": [
    "embedder = get_embedder()"
   ]
  },
  {
   "cell_type": "code",
   "execution_count": 16,
   "metadata": {},
   "outputs": [],
   "source": [
    "#| export\n",
    "def get_or_make_chroma(\n",
    "        data_dir: Path, \n",
    "        documents: List[Document] = None,\n",
    "        overwrite: bool = False):\n",
    "    chroma_dir = data_dir / 'chroma'\n",
    "    if not chroma_dir.exists():\n",
    "        chroma_dir.mkdir()\n",
    "    embedding_function = get_embedder()\n",
    "    persist_directory = str(chroma_dir.resolve())\n",
    "    if len(list(chroma_dir.glob(\"*.sqlite3\"))) > 0 and not overwrite:\n",
    "        return Chroma(\n",
    "            persist_directory=persist_directory,\n",
    "            embedding_function=embedding_function\n",
    "        )\n",
    "    if documents is None:\n",
    "        raise ValueError(\"documents cannot be None\")\n",
    "    return Chroma.from_documents(\n",
    "        documents,\n",
    "        embedding_function,\n",
    "        persist_directory=persist_directory\n",
    "    )"
   ]
  },
  {
   "cell_type": "code",
   "execution_count": 13,
   "metadata": {},
   "outputs": [],
   "source": [
    "chroma = get_or_make_chroma(data_dir, summary_documents, overwrite=True)"
   ]
  },
  {
   "cell_type": "code",
   "execution_count": 14,
   "metadata": {},
   "outputs": [
    {
     "data": {
      "text/plain": [
       "[Document(page_content='The email is requesting a drop ship order for the following:\\n\\n- Client Name: Rosedale Infectious Diseases, PLLC\\n- PO ID: 7004000449\\n- Account #: 2150129609\\n- Store #: 16405\\n- NDC: 49702024015\\n- Drug Name: CABENUVA 600-900MG INJ SUSP KIT\\n- Order Quantity: 1\\n- Prescriber Name: ASHLEY DAY SCOTT\\n- Prescriber NPI\\n', metadata={'idx': 16, 'label': 'Order Processing'}),\n",
       " Document(page_content='The email is requesting a drop ship order for Ohio State University.\\nThe PO number is 7004014842, the account number is 2150126632, and the store number is 16422.\\nThe drug name is EPIDIOLEX 100MG/ML SOL 100ML, the order quantity is 5, and the prescriber names are LUCRETIA LONG and PHILIP CLAYTON JONAS.\\nThe prescriber NPIs or DEAs are ML0822634 and FJ142\\n', metadata={'idx': 0, 'label': 'Order Processing'}),\n",
       " Document(page_content='The customer, Tara May from Tower Health, is not receiving the drop ship invoices for their orders with their daily packet of invoices. The issue has been ongoing since at least August 10, 2023. Tara has reached out to Chris Brannen and the GMB-AcctOpsE team multiple times, but the problem persists. The affected accounts are:\\n\\n- SAP Ship To Name 2052014745 PHOENIXVILLE HOSPITAL CO LLC\\n- SAP Ship To Name 2057194735 PHOENIXVILLE HSP SYS PHARM\\n- SAP Ship To Name 2\\nThe customer is inquiring about drop ship invoices.\\n', metadata={'idx': 1, 'label': 'Order Processing'}),\n",
       " Document(page_content='The customer, Nicole Sullivan from Equiscript, LLC, is inquiring about the status of two orders:\\n\\n- PO # 2308-24863\\n  - Submitted: 08/29/2023\\n  - Bill To Account #: 2057214965\\n  - Ship To Account #: 2150424768\\n  - Account Name: DACA - Optum HD\\n\\n- PO # 2308-24857\\n  - Submitted: 08/29/2\\n', metadata={'idx': 8, 'label': 'Order Processing'})]"
      ]
     },
     "execution_count": 14,
     "metadata": {},
     "output_type": "execute_result"
    }
   ],
   "source": [
    "chroma.similarity_search(\"Help I need a drop ship\")"
   ]
  },
  {
   "cell_type": "code",
   "execution_count": 17,
   "metadata": {},
   "outputs": [],
   "source": [
    "#| hide\n",
    "import nbdev; nbdev.nbdev_export()"
   ]
  },
  {
   "cell_type": "code",
   "execution_count": null,
   "metadata": {},
   "outputs": [],
   "source": []
  }
 ],
 "metadata": {
  "kernelspec": {
   "display_name": ".venv",
   "language": "python",
   "name": "python3"
  },
  "language_info": {
   "codemirror_mode": {
    "name": "ipython",
    "version": 3
   },
   "file_extension": ".py",
   "mimetype": "text/x-python",
   "name": "python",
   "nbconvert_exporter": "python",
   "pygments_lexer": "ipython3",
   "version": "3.11.4"
  }
 },
 "nbformat": 4,
 "nbformat_minor": 2
}
