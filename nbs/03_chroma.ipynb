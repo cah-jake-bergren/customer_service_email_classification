{
 "cells": [
  {
   "cell_type": "markdown",
   "metadata": {},
   "source": [
    "# chroma\n",
    "\n",
    "> Put email summaries into a vector store"
   ]
  },
  {
   "cell_type": "code",
   "execution_count": 1,
   "metadata": {},
   "outputs": [],
   "source": [
    "#| default_exp chroma"
   ]
  },
  {
   "cell_type": "code",
   "execution_count": 2,
   "metadata": {},
   "outputs": [],
   "source": [
    "#| export\n",
    "from typing import List, Dict\n",
    "from pathlib import Path\n",
    "import json\n",
    "import pandas as pd\n",
    "\n",
    "from langchain.vectorstores import Chroma\n",
    "from langchain.embeddings import VertexAIEmbeddings\n",
    "from langchain.schema import Document\n",
    "from langchain.document_loaders import DataFrameLoader\n",
    "\n",
    "from classifier.schema import get_embedder\n",
    "from classifier.load import get_training_instances, get_idx, TrainingInstance"
   ]
  },
  {
   "cell_type": "code",
   "execution_count": 3,
   "metadata": {},
   "outputs": [],
   "source": [
    "# Load summaries\n",
    "data_dir = Path('../data')\n",
    "assert data_dir.exists()\n",
    "summary_path = data_dir / 'summaries.csv'\n",
    "assert summary_path.exists()"
   ]
  },
  {
   "cell_type": "code",
   "execution_count": 4,
   "metadata": {},
   "outputs": [],
   "source": [
    "summaries = pd.read_csv(summary_path)"
   ]
  },
  {
   "cell_type": "code",
   "execution_count": 5,
   "metadata": {},
   "outputs": [
    {
     "data": {
      "text/html": [
       "<div>\n",
       "<style scoped>\n",
       "    .dataframe tbody tr th:only-of-type {\n",
       "        vertical-align: middle;\n",
       "    }\n",
       "\n",
       "    .dataframe tbody tr th {\n",
       "        vertical-align: top;\n",
       "    }\n",
       "\n",
       "    .dataframe thead th {\n",
       "        text-align: right;\n",
       "    }\n",
       "</style>\n",
       "<table border=\"1\" class=\"dataframe\">\n",
       "  <thead>\n",
       "    <tr style=\"text-align: right;\">\n",
       "      <th></th>\n",
       "      <th>summary</th>\n",
       "    </tr>\n",
       "  </thead>\n",
       "  <tbody>\n",
       "    <tr>\n",
       "      <th>0</th>\n",
       "      <td>The customer received an invoice from Cardina...</td>\n",
       "    </tr>\n",
       "    <tr>\n",
       "      <th>1</th>\n",
       "      <td>The customer received an email from the State...</td>\n",
       "    </tr>\n",
       "    <tr>\n",
       "      <th>2</th>\n",
       "      <td>The customer would like to place a new order ...</td>\n",
       "    </tr>\n",
       "    <tr>\n",
       "      <th>3</th>\n",
       "      <td>The customer, State of Florida Next Gen, upda...</td>\n",
       "    </tr>\n",
       "    <tr>\n",
       "      <th>4</th>\n",
       "      <td>The customer is inquiring about an order plac...</td>\n",
       "    </tr>\n",
       "  </tbody>\n",
       "</table>\n",
       "</div>"
      ],
      "text/plain": [
       "                                             summary\n",
       "0   The customer received an invoice from Cardina...\n",
       "1   The customer received an email from the State...\n",
       "2   The customer would like to place a new order ...\n",
       "3   The customer, State of Florida Next Gen, upda...\n",
       "4   The customer is inquiring about an order plac..."
      ]
     },
     "execution_count": 5,
     "metadata": {},
     "output_type": "execute_result"
    }
   ],
   "source": [
    "summaries.head(5)"
   ]
  },
  {
   "cell_type": "markdown",
   "metadata": {},
   "source": [
    "Add metadata, create documents"
   ]
  },
  {
   "cell_type": "code",
   "execution_count": 6,
   "metadata": {},
   "outputs": [],
   "source": [
    "train_idx, test_idx = get_idx()"
   ]
  },
  {
   "cell_type": "code",
   "execution_count": 7,
   "metadata": {},
   "outputs": [],
   "source": [
    "training_instances = list(get_training_instances())"
   ]
  },
  {
   "cell_type": "code",
   "execution_count": 8,
   "metadata": {},
   "outputs": [
    {
     "data": {
      "text/plain": [
       "TrainingInstance(idx=20775, label='Billing / Invoice', email_subject='Invoices 1 of 1 for 2057199110 , TEXAS INSTITUTE FOR SURGERY', email_body='Dear Valued Customer,  Your Cardinal Health invoice is attached to this email as a PDF file.  If you have any questions, please contact our Customer Service department at the phone number listed on the invoice.  Thank you, Cardinal Health  _________________________________________________  This message is for the designated recipient only and may contain privileged, proprietary or otherwise private information. If you have received it in error, please notify the sender immediately and delete the original. Any other use of the email by you is prohibited.  Dansk - Deutsch - Espanol - Francais - Italiano - Japanese - Nederlands - Norsk - Portuguese - Chinese Svenska: http://www.cardinalhealth.com/en/support/terms-and-conditions-english.html', metadata={'BU': 'PD', 'case_number': 3553288, 'ACCOUNT_BUSINESS_UNIT__C': 'a1G4z00000H6C4aEAF', 'received_at': '2023-10-13T12:37:20', 'sfdc_subcategory': 'Billing Statements', 'predicted_category': 'Billing / Invoice', 'predicted_subcategory': nan, 'record_type': 1, 'probability': 0.47403228, 'Accuracy_upd': 'Correct', 'Bin': 4})"
      ]
     },
     "execution_count": 8,
     "metadata": {},
     "output_type": "execute_result"
    }
   ],
   "source": [
    "training_instances[0]"
   ]
  },
  {
   "cell_type": "code",
   "execution_count": 9,
   "metadata": {},
   "outputs": [],
   "source": [
    "#| export\n",
    "def merge_summaries_with_instances(\n",
    "        summaries: pd.DataFrame, \n",
    "        instances: List[TrainingInstance]\n",
    "        ) -> pd.DataFrame:\n",
    "    instances_frame = pd.DataFrame([i.to_series() for i in instances])\n",
    "    return pd.concat(\n",
    "        [\n",
    "            summaries,\n",
    "            instances_frame\n",
    "        ],\n",
    "        axis=1).set_index('idx')"
   ]
  },
  {
   "cell_type": "code",
   "execution_count": 10,
   "metadata": {},
   "outputs": [
    {
     "data": {
      "text/html": [
       "<div>\n",
       "<style scoped>\n",
       "    .dataframe tbody tr th:only-of-type {\n",
       "        vertical-align: middle;\n",
       "    }\n",
       "\n",
       "    .dataframe tbody tr th {\n",
       "        vertical-align: top;\n",
       "    }\n",
       "\n",
       "    .dataframe thead th {\n",
       "        text-align: right;\n",
       "    }\n",
       "</style>\n",
       "<table border=\"1\" class=\"dataframe\">\n",
       "  <thead>\n",
       "    <tr style=\"text-align: right;\">\n",
       "      <th></th>\n",
       "      <th>summary</th>\n",
       "      <th>BU</th>\n",
       "      <th>case_number</th>\n",
       "      <th>ACCOUNT_BUSINESS_UNIT__C</th>\n",
       "      <th>received_at</th>\n",
       "      <th>sfdc_subcategory</th>\n",
       "      <th>predicted_category</th>\n",
       "      <th>predicted_subcategory</th>\n",
       "      <th>record_type</th>\n",
       "      <th>probability</th>\n",
       "      <th>Accuracy_upd</th>\n",
       "      <th>Bin</th>\n",
       "      <th>label</th>\n",
       "      <th>email_subject</th>\n",
       "      <th>email_body</th>\n",
       "    </tr>\n",
       "    <tr>\n",
       "      <th>idx</th>\n",
       "      <th></th>\n",
       "      <th></th>\n",
       "      <th></th>\n",
       "      <th></th>\n",
       "      <th></th>\n",
       "      <th></th>\n",
       "      <th></th>\n",
       "      <th></th>\n",
       "      <th></th>\n",
       "      <th></th>\n",
       "      <th></th>\n",
       "      <th></th>\n",
       "      <th></th>\n",
       "      <th></th>\n",
       "      <th></th>\n",
       "    </tr>\n",
       "  </thead>\n",
       "  <tbody>\n",
       "    <tr>\n",
       "      <th>20775</th>\n",
       "      <td>The customer received an invoice from Cardina...</td>\n",
       "      <td>PD</td>\n",
       "      <td>3553288</td>\n",
       "      <td>a1G4z00000H6C4aEAF</td>\n",
       "      <td>2023-10-13T12:37:20</td>\n",
       "      <td>Billing Statements</td>\n",
       "      <td>Billing / Invoice</td>\n",
       "      <td>NaN</td>\n",
       "      <td>1</td>\n",
       "      <td>0.474032</td>\n",
       "      <td>Correct</td>\n",
       "      <td>4</td>\n",
       "      <td>Billing / Invoice</td>\n",
       "      <td>Invoices 1 of 1 for 2057199110 , TEXAS INSTITU...</td>\n",
       "      <td>Dear Valued Customer,  Your Cardinal Health in...</td>\n",
       "    </tr>\n",
       "    <tr>\n",
       "      <th>46774</th>\n",
       "      <td>The customer received an email from the State...</td>\n",
       "      <td>PD</td>\n",
       "      <td>3658829</td>\n",
       "      <td>NaN</td>\n",
       "      <td>2023-11-29T20:25:47</td>\n",
       "      <td>Account updates</td>\n",
       "      <td>Billing / Invoice</td>\n",
       "      <td>NaN</td>\n",
       "      <td>1</td>\n",
       "      <td>0.566661</td>\n",
       "      <td>Incorrect</td>\n",
       "      <td>5</td>\n",
       "      <td>Account/Inquiry</td>\n",
       "      <td>Invoice status from State of Florida Next Gen</td>\n",
       "      <td>External Email â€“ Please use caution before o...</td>\n",
       "    </tr>\n",
       "  </tbody>\n",
       "</table>\n",
       "</div>"
      ],
      "text/plain": [
       "                                                 summary  BU  case_number  \\\n",
       "idx                                                                         \n",
       "20775   The customer received an invoice from Cardina...  PD      3553288   \n",
       "46774   The customer received an email from the State...  PD      3658829   \n",
       "\n",
       "      ACCOUNT_BUSINESS_UNIT__C          received_at    sfdc_subcategory  \\\n",
       "idx                                                                       \n",
       "20775       a1G4z00000H6C4aEAF  2023-10-13T12:37:20  Billing Statements   \n",
       "46774                      NaN  2023-11-29T20:25:47     Account updates   \n",
       "\n",
       "      predicted_category predicted_subcategory  record_type  probability  \\\n",
       "idx                                                                        \n",
       "20775  Billing / Invoice                   NaN            1     0.474032   \n",
       "46774  Billing / Invoice                   NaN            1     0.566661   \n",
       "\n",
       "      Accuracy_upd  Bin              label  \\\n",
       "idx                                          \n",
       "20775      Correct    4  Billing / Invoice   \n",
       "46774    Incorrect    5    Account/Inquiry   \n",
       "\n",
       "                                           email_subject  \\\n",
       "idx                                                        \n",
       "20775  Invoices 1 of 1 for 2057199110 , TEXAS INSTITU...   \n",
       "46774      Invoice status from State of Florida Next Gen   \n",
       "\n",
       "                                              email_body  \n",
       "idx                                                       \n",
       "20775  Dear Valued Customer,  Your Cardinal Health in...  \n",
       "46774  External Email â€“ Please use caution before o...  "
      ]
     },
     "execution_count": 10,
     "metadata": {},
     "output_type": "execute_result"
    }
   ],
   "source": [
    "chroma_document_frame = merge_summaries_with_instances(\n",
    "    summaries,\n",
    "    training_instances\n",
    ")\n",
    "chroma_document_frame.head(2)"
   ]
  },
  {
   "cell_type": "code",
   "execution_count": 11,
   "metadata": {},
   "outputs": [],
   "source": [
    "train_documents = chroma_document_frame.loc[train_idx, :]\n",
    "test_documents = chroma_document_frame.loc[test_idx, :]"
   ]
  },
  {
   "cell_type": "markdown",
   "metadata": {},
   "source": [
    "# Make our chroma db from these documents"
   ]
  },
  {
   "cell_type": "code",
   "execution_count": 12,
   "metadata": {},
   "outputs": [
    {
     "data": {
      "text/plain": [
       "900"
      ]
     },
     "execution_count": 12,
     "metadata": {},
     "output_type": "execute_result"
    }
   ],
   "source": [
    "chroma_documents = DataFrameLoader(\n",
    "    train_documents.reset_index(drop=False)[['summary', 'idx', 'label']],\n",
    "    page_content_column='summary').load()\n",
    "len(chroma_documents)"
   ]
  },
  {
   "cell_type": "code",
   "execution_count": 13,
   "metadata": {},
   "outputs": [
    {
     "data": {
      "text/plain": [
       "Document(page_content=' The customer received an invoice from Cardinal Health for invoice number 1 of 1 for account number 2057199110, but they have questions about the invoice.', metadata={'idx': 20775, 'label': 'Billing / Invoice'})"
      ]
     },
     "execution_count": 13,
     "metadata": {},
     "output_type": "execute_result"
    }
   ],
   "source": [
    "chroma_documents[0]"
   ]
  },
  {
   "cell_type": "code",
   "execution_count": 14,
   "metadata": {},
   "outputs": [],
   "source": [
    "embedder = get_embedder()"
   ]
  },
  {
   "cell_type": "code",
   "execution_count": 15,
   "metadata": {},
   "outputs": [],
   "source": [
    "#| export\n",
    "def get_or_make_chroma(\n",
    "        data_dir: Path, \n",
    "        documents: List[Document] = None,\n",
    "        overwrite: bool = False):\n",
    "    chroma_dir = data_dir / 'chroma'\n",
    "    if not chroma_dir.exists():\n",
    "        chroma_dir.mkdir()\n",
    "    embedding_function = get_embedder()\n",
    "    persist_directory = str(chroma_dir.resolve())\n",
    "    if len(list(chroma_dir.glob(\"*.sqlite3\"))) > 0:\n",
    "        if not overwrite:\n",
    "            return Chroma(\n",
    "                persist_directory=persist_directory,\n",
    "                embedding_function=embedding_function\n",
    "            )\n",
    "        else:\n",
    "            for f in chroma_dir.glob(\"*\"):\n",
    "                f.unlink()\n",
    "    if documents is None:\n",
    "        raise ValueError(\"documents cannot be None\")\n",
    "    return Chroma.from_documents(\n",
    "        documents,\n",
    "        embedding_function,\n",
    "        persist_directory=persist_directory\n",
    "    )"
   ]
  },
  {
   "cell_type": "code",
   "execution_count": 17,
   "metadata": {},
   "outputs": [],
   "source": [
    "chroma = get_or_make_chroma(data_dir, chroma_documents, overwrite=True)"
   ]
  },
  {
   "cell_type": "code",
   "execution_count": 18,
   "metadata": {},
   "outputs": [
    {
     "data": {
      "text/plain": [
       "[Document(page_content=' **Customer:** Melissa Green, Dropship Coordinator\\n\\n**Issue:** Received a PO for item 5872742 via Weblink, but the vendor does not dropship as per their notes.\\n\\n**Details:**\\n- PO Number: Not provided\\n- Item Number: 5872742\\n- Vendor: Not specified\\n\\n**Request:** Melissa needs confirmation from the vendor regarding their dropshipping policy for the specified item.', metadata={'idx': 7566, 'label': 'Order Processing'}),\n",
       " Document(page_content=' The customer sent a Drop Ship order for Cardinal account number 2150122506, containing 2 items to order.\\nThey attached the Drop Ship order to the email.\\nIf there are any questions, the customer can be contacted at 1-877-805-9483.', metadata={'idx': 14583, 'label': 'Order Processing'}),\n",
       " Document(page_content=' The customer sent a drop ship order for Cardinal account number 2150411502, containing 1 item to order.\\nThey have attached the drop ship order to the email.\\nIf there are any questions, the customer can be contacted at 1-877-805-9483.', metadata={'idx': 19527, 'label': 'Order Processing'}),\n",
       " Document(page_content=' The customer sent a drop ship order for Cardinal account number 2150405218, containing 1 item to order.\\nThey have attached the drop ship order to the email.\\nIf there are any questions, the customer can be contacted at 1-877-805-9483.', metadata={'idx': 19532, 'label': 'Order Processing'})]"
      ]
     },
     "execution_count": 18,
     "metadata": {},
     "output_type": "execute_result"
    }
   ],
   "source": [
    "chroma.similarity_search(\"Help I need a drop ship\")"
   ]
  },
  {
   "cell_type": "code",
   "execution_count": 19,
   "metadata": {},
   "outputs": [],
   "source": [
    "#| hide\n",
    "import nbdev; nbdev.nbdev_export()"
   ]
  },
  {
   "cell_type": "code",
   "execution_count": null,
   "metadata": {},
   "outputs": [],
   "source": []
  }
 ],
 "metadata": {
  "kernelspec": {
   "display_name": ".venv",
   "language": "python",
   "name": "python3"
  },
  "language_info": {
   "codemirror_mode": {
    "name": "ipython",
    "version": 3
   },
   "file_extension": ".py",
   "mimetype": "text/x-python",
   "name": "python",
   "nbconvert_exporter": "python",
   "pygments_lexer": "ipython3",
   "version": "3.11.4"
  }
 },
 "nbformat": 4,
 "nbformat_minor": 2
}
