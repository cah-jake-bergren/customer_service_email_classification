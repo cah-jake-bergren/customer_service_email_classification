{
 "cells": [
  {
   "cell_type": "markdown",
   "metadata": {},
   "source": [
    "# chroma\n",
    "\n",
    "> Put email summaries into a vector store"
   ]
  },
  {
   "cell_type": "code",
   "execution_count": 1,
   "metadata": {},
   "outputs": [],
   "source": [
    "#| default_exp chroma"
   ]
  },
  {
   "cell_type": "code",
   "execution_count": 1,
   "metadata": {},
   "outputs": [],
   "source": [
    "#| export\n",
    "from typing import List, Dict, Any\n",
    "from pathlib import Path\n",
    "import json\n",
    "import pandas as pd\n",
    "\n",
    "import chromadb\n",
    "from langchain.vectorstores import Chroma\n",
    "from langchain.embeddings import VertexAIEmbeddings\n",
    "from langchain.schema import Document\n",
    "from langchain.document_loaders import DataFrameLoader\n",
    "from google.cloud import storage\n",
    "from tqdm import tqdm\n",
    "\n",
    "from classifier.schema import get_embedder, get_storage_client, WRITE_PREFIX\n",
    "from classifier.load import get_training_instances, get_idx, TrainingInstance, \\\n",
    "    PROJECT_BUCKET, get_train_test_idx, LABEL_COLUMN, get_document_batches, write_idx"
   ]
  },
  {
   "cell_type": "code",
   "execution_count": 2,
   "metadata": {},
   "outputs": [],
   "source": [
    "# Load summaries\n",
    "data_dir = Path('../data')\n",
    "assert data_dir.exists()\n",
    "summary_path = data_dir / 'summaries.csv'\n",
    "assert summary_path.exists()"
   ]
  },
  {
   "cell_type": "code",
   "execution_count": 3,
   "metadata": {},
   "outputs": [],
   "source": [
    "summaries = pd.read_csv(summary_path)"
   ]
  },
  {
   "cell_type": "code",
   "execution_count": 4,
   "metadata": {},
   "outputs": [
    {
     "data": {
      "text/html": [
       "<div>\n",
       "<style scoped>\n",
       "    .dataframe tbody tr th:only-of-type {\n",
       "        vertical-align: middle;\n",
       "    }\n",
       "\n",
       "    .dataframe tbody tr th {\n",
       "        vertical-align: top;\n",
       "    }\n",
       "\n",
       "    .dataframe thead th {\n",
       "        text-align: right;\n",
       "    }\n",
       "</style>\n",
       "<table border=\"1\" class=\"dataframe\">\n",
       "  <thead>\n",
       "    <tr style=\"text-align: right;\">\n",
       "      <th></th>\n",
       "      <th>summary</th>\n",
       "    </tr>\n",
       "  </thead>\n",
       "  <tbody>\n",
       "    <tr>\n",
       "      <th>0</th>\n",
       "      <td>The customer received an invoice from Cardina...</td>\n",
       "    </tr>\n",
       "    <tr>\n",
       "      <th>1</th>\n",
       "      <td>The customer received an email from the State...</td>\n",
       "    </tr>\n",
       "    <tr>\n",
       "      <th>2</th>\n",
       "      <td>The customer would like to place a new order ...</td>\n",
       "    </tr>\n",
       "    <tr>\n",
       "      <th>3</th>\n",
       "      <td>The customer, State of Florida Next Gen, upda...</td>\n",
       "    </tr>\n",
       "    <tr>\n",
       "      <th>4</th>\n",
       "      <td>The customer is inquiring about an order plac...</td>\n",
       "    </tr>\n",
       "  </tbody>\n",
       "</table>\n",
       "</div>"
      ],
      "text/plain": [
       "                                             summary\n",
       "0   The customer received an invoice from Cardina...\n",
       "1   The customer received an email from the State...\n",
       "2   The customer would like to place a new order ...\n",
       "3   The customer, State of Florida Next Gen, upda...\n",
       "4   The customer is inquiring about an order plac..."
      ]
     },
     "execution_count": 4,
     "metadata": {},
     "output_type": "execute_result"
    }
   ],
   "source": [
    "summaries.head(5)"
   ]
  },
  {
   "cell_type": "markdown",
   "metadata": {},
   "source": [
    "Add metadata, create documents"
   ]
  },
  {
   "cell_type": "code",
   "execution_count": 5,
   "metadata": {},
   "outputs": [],
   "source": [
    "train_idx, test_idx = get_idx()"
   ]
  },
  {
   "cell_type": "code",
   "execution_count": 6,
   "metadata": {},
   "outputs": [],
   "source": [
    "training_instances = list(get_training_instances())"
   ]
  },
  {
   "cell_type": "code",
   "execution_count": 7,
   "metadata": {},
   "outputs": [
    {
     "data": {
      "text/plain": [
       "TrainingInstance(idx=20775, label='Billing / Invoice', email_subject='Invoices 1 of 1 for 2057199110 , TEXAS INSTITUTE FOR SURGERY', email_body='Dear Valued Customer,  Your Cardinal Health invoice is attached to this email as a PDF file.  If you have any questions, please contact our Customer Service department at the phone number listed on the invoice.  Thank you, Cardinal Health  _________________________________________________  This message is for the designated recipient only and may contain privileged, proprietary or otherwise private information. If you have received it in error, please notify the sender immediately and delete the original. Any other use of the email by you is prohibited.  Dansk - Deutsch - Espanol - Francais - Italiano - Japanese - Nederlands - Norsk - Portuguese - Chinese Svenska: http://www.cardinalhealth.com/en/support/terms-and-conditions-english.html', metadata={'BU': 'PD', 'case_number': 3553288, 'ACCOUNT_BUSINESS_UNIT__C': 'a1G4z00000H6C4aEAF', 'received_at': '2023-10-13T12:37:20', 'sfdc_subcategory': 'Billing Statements', 'predicted_category': 'Billing / Invoice', 'predicted_subcategory': nan, 'record_type': 1, 'probability': 0.47403228, 'Accuracy_upd': 'Correct', 'Bin': 4})"
      ]
     },
     "execution_count": 7,
     "metadata": {},
     "output_type": "execute_result"
    }
   ],
   "source": [
    "training_instances[0]"
   ]
  },
  {
   "cell_type": "code",
   "execution_count": 8,
   "metadata": {},
   "outputs": [],
   "source": [
    "#| export\n",
    "def merge_summaries_with_instances(\n",
    "        summaries: pd.DataFrame, \n",
    "        instances: List[TrainingInstance]\n",
    "        ) -> pd.DataFrame:\n",
    "    instances_frame = pd.DataFrame([i.to_series() for i in instances])\n",
    "    return pd.concat(\n",
    "        [\n",
    "            summaries,\n",
    "            instances_frame\n",
    "        ],\n",
    "        axis=1).set_index('idx')"
   ]
  },
  {
   "cell_type": "code",
   "execution_count": 9,
   "metadata": {},
   "outputs": [
    {
     "data": {
      "text/html": [
       "<div>\n",
       "<style scoped>\n",
       "    .dataframe tbody tr th:only-of-type {\n",
       "        vertical-align: middle;\n",
       "    }\n",
       "\n",
       "    .dataframe tbody tr th {\n",
       "        vertical-align: top;\n",
       "    }\n",
       "\n",
       "    .dataframe thead th {\n",
       "        text-align: right;\n",
       "    }\n",
       "</style>\n",
       "<table border=\"1\" class=\"dataframe\">\n",
       "  <thead>\n",
       "    <tr style=\"text-align: right;\">\n",
       "      <th></th>\n",
       "      <th>summary</th>\n",
       "      <th>BU</th>\n",
       "      <th>case_number</th>\n",
       "      <th>ACCOUNT_BUSINESS_UNIT__C</th>\n",
       "      <th>received_at</th>\n",
       "      <th>sfdc_subcategory</th>\n",
       "      <th>predicted_category</th>\n",
       "      <th>predicted_subcategory</th>\n",
       "      <th>record_type</th>\n",
       "      <th>probability</th>\n",
       "      <th>Accuracy_upd</th>\n",
       "      <th>Bin</th>\n",
       "      <th>label</th>\n",
       "      <th>email_subject</th>\n",
       "      <th>email_body</th>\n",
       "    </tr>\n",
       "    <tr>\n",
       "      <th>idx</th>\n",
       "      <th></th>\n",
       "      <th></th>\n",
       "      <th></th>\n",
       "      <th></th>\n",
       "      <th></th>\n",
       "      <th></th>\n",
       "      <th></th>\n",
       "      <th></th>\n",
       "      <th></th>\n",
       "      <th></th>\n",
       "      <th></th>\n",
       "      <th></th>\n",
       "      <th></th>\n",
       "      <th></th>\n",
       "      <th></th>\n",
       "    </tr>\n",
       "  </thead>\n",
       "  <tbody>\n",
       "    <tr>\n",
       "      <th>20775</th>\n",
       "      <td>The customer received an invoice from Cardina...</td>\n",
       "      <td>PD</td>\n",
       "      <td>3553288</td>\n",
       "      <td>a1G4z00000H6C4aEAF</td>\n",
       "      <td>2023-10-13T12:37:20</td>\n",
       "      <td>Billing Statements</td>\n",
       "      <td>Billing / Invoice</td>\n",
       "      <td>NaN</td>\n",
       "      <td>1</td>\n",
       "      <td>0.474032</td>\n",
       "      <td>Correct</td>\n",
       "      <td>4</td>\n",
       "      <td>Billing / Invoice</td>\n",
       "      <td>Invoices 1 of 1 for 2057199110 , TEXAS INSTITU...</td>\n",
       "      <td>Dear Valued Customer,  Your Cardinal Health in...</td>\n",
       "    </tr>\n",
       "    <tr>\n",
       "      <th>46774</th>\n",
       "      <td>The customer received an email from the State...</td>\n",
       "      <td>PD</td>\n",
       "      <td>3658829</td>\n",
       "      <td>NaN</td>\n",
       "      <td>2023-11-29T20:25:47</td>\n",
       "      <td>Account updates</td>\n",
       "      <td>Billing / Invoice</td>\n",
       "      <td>NaN</td>\n",
       "      <td>1</td>\n",
       "      <td>0.566661</td>\n",
       "      <td>Incorrect</td>\n",
       "      <td>5</td>\n",
       "      <td>Account/Inquiry</td>\n",
       "      <td>Invoice status from State of Florida Next Gen</td>\n",
       "      <td>External Email â€“ Please use caution before o...</td>\n",
       "    </tr>\n",
       "  </tbody>\n",
       "</table>\n",
       "</div>"
      ],
      "text/plain": [
       "                                                 summary  BU  case_number  \\\n",
       "idx                                                                         \n",
       "20775   The customer received an invoice from Cardina...  PD      3553288   \n",
       "46774   The customer received an email from the State...  PD      3658829   \n",
       "\n",
       "      ACCOUNT_BUSINESS_UNIT__C          received_at    sfdc_subcategory  \\\n",
       "idx                                                                       \n",
       "20775       a1G4z00000H6C4aEAF  2023-10-13T12:37:20  Billing Statements   \n",
       "46774                      NaN  2023-11-29T20:25:47     Account updates   \n",
       "\n",
       "      predicted_category predicted_subcategory  record_type  probability  \\\n",
       "idx                                                                        \n",
       "20775  Billing / Invoice                   NaN            1     0.474032   \n",
       "46774  Billing / Invoice                   NaN            1     0.566661   \n",
       "\n",
       "      Accuracy_upd  Bin              label  \\\n",
       "idx                                          \n",
       "20775      Correct    4  Billing / Invoice   \n",
       "46774    Incorrect    5    Account/Inquiry   \n",
       "\n",
       "                                           email_subject  \\\n",
       "idx                                                        \n",
       "20775  Invoices 1 of 1 for 2057199110 , TEXAS INSTITU...   \n",
       "46774      Invoice status from State of Florida Next Gen   \n",
       "\n",
       "                                              email_body  \n",
       "idx                                                       \n",
       "20775  Dear Valued Customer,  Your Cardinal Health in...  \n",
       "46774  External Email â€“ Please use caution before o...  "
      ]
     },
     "execution_count": 9,
     "metadata": {},
     "output_type": "execute_result"
    }
   ],
   "source": [
    "chroma_document_frame = merge_summaries_with_instances(\n",
    "    summaries,\n",
    "    training_instances\n",
    ")\n",
    "chroma_document_frame.head(2)"
   ]
  },
  {
   "cell_type": "code",
   "execution_count": 10,
   "metadata": {},
   "outputs": [],
   "source": [
    "train_documents = chroma_document_frame.loc[train_idx, :]\n",
    "test_documents = chroma_document_frame.loc[test_idx, :]"
   ]
  },
  {
   "cell_type": "markdown",
   "metadata": {},
   "source": [
    "# Make our chroma db from these documents"
   ]
  },
  {
   "cell_type": "code",
   "execution_count": 11,
   "metadata": {},
   "outputs": [
    {
     "data": {
      "text/plain": [
       "900"
      ]
     },
     "execution_count": 11,
     "metadata": {},
     "output_type": "execute_result"
    }
   ],
   "source": [
    "chroma_documents = DataFrameLoader(\n",
    "    train_documents.reset_index(drop=False)[['summary', 'idx', 'label']],\n",
    "    page_content_column='summary').load()\n",
    "len(chroma_documents)"
   ]
  },
  {
   "cell_type": "code",
   "execution_count": 12,
   "metadata": {},
   "outputs": [
    {
     "data": {
      "text/plain": [
       "Document(page_content=' The customer received an invoice from Cardinal Health for invoice number 1 of 1 for account number 2057199110, but they have questions about the invoice.', metadata={'idx': 20775, 'label': 'Billing / Invoice'})"
      ]
     },
     "execution_count": 12,
     "metadata": {},
     "output_type": "execute_result"
    }
   ],
   "source": [
    "chroma_documents[0]"
   ]
  },
  {
   "cell_type": "code",
   "execution_count": 13,
   "metadata": {},
   "outputs": [],
   "source": [
    "embedder = get_embedder()"
   ]
  },
  {
   "cell_type": "code",
   "execution_count": 14,
   "metadata": {},
   "outputs": [],
   "source": [
    "#| export\n",
    "def get_or_make_chroma(\n",
    "        data_dir: Path, \n",
    "        documents: List[Document] = None,\n",
    "        overwrite: bool = False):\n",
    "    chroma_dir = data_dir / 'chroma'\n",
    "    if not chroma_dir.exists():\n",
    "        chroma_dir.mkdir()\n",
    "    embedding_function = get_embedder()\n",
    "    persist_directory = str(chroma_dir.resolve())\n",
    "    if len(list(chroma_dir.glob(\"*.sqlite3\"))) > 0:\n",
    "        if not overwrite:\n",
    "            return Chroma(\n",
    "                persist_directory=persist_directory,\n",
    "                embedding_function=embedding_function\n",
    "            )\n",
    "        else:\n",
    "            for f in chroma_dir.glob(\"*\"):\n",
    "                f.unlink()\n",
    "    if documents is None:\n",
    "        raise ValueError(\"documents cannot be None\")\n",
    "    return Chroma.from_documents(\n",
    "        documents,\n",
    "        embedding_function,\n",
    "        persist_directory=persist_directory\n",
    "    )"
   ]
  },
  {
   "cell_type": "code",
   "execution_count": 15,
   "metadata": {},
   "outputs": [],
   "source": [
    "chroma = get_or_make_chroma(data_dir, chroma_documents, overwrite=False)"
   ]
  },
  {
   "cell_type": "code",
   "execution_count": 16,
   "metadata": {},
   "outputs": [
    {
     "data": {
      "text/plain": [
       "[Document(page_content=' **Customer:** Melissa Green, Dropship Coordinator\\n\\n**Issue:** Received a PO for item 5872742 via Weblink, but the vendor does not dropship as per their notes.\\n\\n**Details:**\\n- PO Number: Not provided\\n- Item Number: 5872742\\n- Vendor: Not specified\\n\\n**Request:** Melissa needs confirmation from the vendor regarding their dropshipping policy for the specified item.', metadata={'idx': 7566, 'label': 'Order Processing'}),\n",
       " Document(page_content=' The customer sent a Drop Ship order for Cardinal account number 2150122506, containing 2 items to order.\\nThey attached the Drop Ship order to the email.\\nIf there are any questions, the customer can be contacted at 1-877-805-9483.', metadata={'idx': 14583, 'label': 'Order Processing'}),\n",
       " Document(page_content=' The customer sent a drop ship order for Cardinal account number 2150411502, containing 1 item to order.\\nThey have attached the drop ship order to the email.\\nIf there are any questions, the customer can be contacted at 1-877-805-9483.', metadata={'idx': 19527, 'label': 'Order Processing'}),\n",
       " Document(page_content=' The customer sent a drop ship order for Cardinal account number 2150405218, containing 1 item to order.\\nThey have attached the drop ship order to the email.\\nIf there are any questions, the customer can be contacted at 1-877-805-9483.', metadata={'idx': 19532, 'label': 'Order Processing'})]"
      ]
     },
     "execution_count": 16,
     "metadata": {},
     "output_type": "execute_result"
    }
   ],
   "source": [
    "chroma.similarity_search(\"Help I need a drop ship\")"
   ]
  },
  {
   "cell_type": "markdown",
   "metadata": {},
   "source": [
    "## Make chroma DB from the 10k batch processed docs"
   ]
  },
  {
   "cell_type": "code",
   "execution_count": 17,
   "metadata": {},
   "outputs": [],
   "source": [
    "#| export\n",
    "def read_json_lines_from_gcs(\n",
    "        blob_name: str,\n",
    "        bucket_name: str = PROJECT_BUCKET) -> Any:\n",
    "    client = get_storage_client()\n",
    "    bucket = client.bucket(bucket_name)\n",
    "    blob = bucket.blob(blob_name)\n",
    "    with blob.open('r') as f:\n",
    "        for line in f.readlines():\n",
    "            yield json.loads(line)"
   ]
  },
  {
   "cell_type": "code",
   "execution_count": 18,
   "metadata": {},
   "outputs": [],
   "source": [
    "batch_result_file_uri = \"JDB_experiments/summarization/prediction-model-2023-12-18T15:10:57.834767Z/000000000000.jsonl\"\n",
    "\n",
    "batch_result = list(read_json_lines_from_gcs(batch_result_file_uri))"
   ]
  },
  {
   "cell_type": "code",
   "execution_count": 19,
   "metadata": {},
   "outputs": [
    {
     "data": {
      "text/plain": [
       "dict_keys(['instance', 'predictions', 'status'])"
      ]
     },
     "execution_count": 19,
     "metadata": {},
     "output_type": "execute_result"
    }
   ],
   "source": [
    "batch_result[0].keys()"
   ]
  },
  {
   "cell_type": "code",
   "execution_count": 20,
   "metadata": {},
   "outputs": [
    {
     "data": {
      "text/plain": [
       "1"
      ]
     },
     "execution_count": 20,
     "metadata": {},
     "output_type": "execute_result"
    }
   ],
   "source": [
    "len(batch_result[0].get(\"predictions\"))"
   ]
  },
  {
   "cell_type": "code",
   "execution_count": 21,
   "metadata": {},
   "outputs": [],
   "source": [
    "batch_result_summaries = [r.get('predictions', [{}])[0].get(\"content\", \"\").strip() for r in batch_result]"
   ]
  },
  {
   "cell_type": "code",
   "execution_count": 22,
   "metadata": {},
   "outputs": [],
   "source": [
    "batch_result_metadata = list(read_json_lines_from_gcs(\n",
    "    \"JDB_experiments/summarization_metadata.jsonl\"\n",
    "))"
   ]
  },
  {
   "cell_type": "code",
   "execution_count": 23,
   "metadata": {},
   "outputs": [
    {
     "data": {
      "text/plain": [
       "True"
      ]
     },
     "execution_count": 23,
     "metadata": {},
     "output_type": "execute_result"
    }
   ],
   "source": [
    "len(batch_result_summaries) == len(batch_result_metadata)"
   ]
  },
  {
   "cell_type": "code",
   "execution_count": 24,
   "metadata": {},
   "outputs": [
    {
     "data": {
      "text/plain": [
       "725"
      ]
     },
     "execution_count": 24,
     "metadata": {},
     "output_type": "execute_result"
    }
   ],
   "source": [
    "len([r for r in batch_result_summaries if len(r) == 0])"
   ]
  },
  {
   "cell_type": "code",
   "execution_count": 25,
   "metadata": {},
   "outputs": [],
   "source": [
    "batch_result_dataframe = pd.DataFrame.from_records(batch_result_metadata)\n",
    "batch_result_dataframe.loc[:, 'summary'] = pd.Series(batch_result_summaries)"
   ]
  },
  {
   "cell_type": "code",
   "execution_count": 26,
   "metadata": {},
   "outputs": [],
   "source": [
    "# Add label\n",
    "training_data = pd.read_excel(\n",
    "    f\"gs://{PROJECT_BUCKET}/Last50KCases_withSubjectAndBody.xlsx\")\n",
    "training_data.loc[:, 'email_subject'] = training_data.email_subject.fillna(\"N/A\")"
   ]
  },
  {
   "cell_type": "code",
   "execution_count": 27,
   "metadata": {},
   "outputs": [],
   "source": [
    "batch_result_labels = training_data.loc[batch_result_dataframe.idx, LABEL_COLUMN]\n",
    "batch_result_dataframe.loc[:, 'label'] = batch_result_labels.tolist()"
   ]
  },
  {
   "cell_type": "code",
   "execution_count": 28,
   "metadata": {},
   "outputs": [
    {
     "data": {
      "text/html": [
       "<div>\n",
       "<style scoped>\n",
       "    .dataframe tbody tr th:only-of-type {\n",
       "        vertical-align: middle;\n",
       "    }\n",
       "\n",
       "    .dataframe tbody tr th {\n",
       "        vertical-align: top;\n",
       "    }\n",
       "\n",
       "    .dataframe thead th {\n",
       "        text-align: right;\n",
       "    }\n",
       "</style>\n",
       "<table border=\"1\" class=\"dataframe\">\n",
       "  <thead>\n",
       "    <tr style=\"text-align: right;\">\n",
       "      <th></th>\n",
       "      <th>BU</th>\n",
       "      <th>case_number</th>\n",
       "      <th>ACCOUNT_BUSINESS_UNIT__C</th>\n",
       "      <th>received_at</th>\n",
       "      <th>sfdc_subcategory</th>\n",
       "      <th>predicted_category</th>\n",
       "      <th>predicted_subcategory</th>\n",
       "      <th>record_type</th>\n",
       "      <th>probability</th>\n",
       "      <th>Accuracy_upd</th>\n",
       "      <th>Bin</th>\n",
       "      <th>idx</th>\n",
       "      <th>summary</th>\n",
       "      <th>label</th>\n",
       "    </tr>\n",
       "  </thead>\n",
       "  <tbody>\n",
       "    <tr>\n",
       "      <th>0</th>\n",
       "      <td>PD</td>\n",
       "      <td>3665915</td>\n",
       "      <td>NaN</td>\n",
       "      <td>2023-12-01T22:43:59</td>\n",
       "      <td>Inquiry</td>\n",
       "      <td>Order Processing</td>\n",
       "      <td>Order Entry</td>\n",
       "      <td>1</td>\n",
       "      <td>0.676467</td>\n",
       "      <td>Incorrect</td>\n",
       "      <td>6</td>\n",
       "      <td>48942</td>\n",
       "      <td>The email is from Max Daugherty, Vice Presiden...</td>\n",
       "      <td>Order Processing</td>\n",
       "    </tr>\n",
       "    <tr>\n",
       "      <th>1</th>\n",
       "      <td>PD</td>\n",
       "      <td>3622254</td>\n",
       "      <td>NaN</td>\n",
       "      <td>2023-11-13T16:16:55</td>\n",
       "      <td>Account updates</td>\n",
       "      <td>Account/Inquiry</td>\n",
       "      <td>NaN</td>\n",
       "      <td>1</td>\n",
       "      <td>0.764455</td>\n",
       "      <td>Correct</td>\n",
       "      <td>7</td>\n",
       "      <td>37242</td>\n",
       "      <td>The customer, Nicholas Brand from Slavins Hanc...</td>\n",
       "      <td>Account/Inquiry</td>\n",
       "    </tr>\n",
       "  </tbody>\n",
       "</table>\n",
       "</div>"
      ],
      "text/plain": [
       "   BU  case_number ACCOUNT_BUSINESS_UNIT__C          received_at  \\\n",
       "0  PD      3665915                      NaN  2023-12-01T22:43:59   \n",
       "1  PD      3622254                      NaN  2023-11-13T16:16:55   \n",
       "\n",
       "  sfdc_subcategory predicted_category predicted_subcategory  record_type  \\\n",
       "0          Inquiry   Order Processing           Order Entry            1   \n",
       "1  Account updates    Account/Inquiry                   NaN            1   \n",
       "\n",
       "   probability Accuracy_upd  Bin    idx  \\\n",
       "0     0.676467    Incorrect    6  48942   \n",
       "1     0.764455      Correct    7  37242   \n",
       "\n",
       "                                             summary             label  \n",
       "0  The email is from Max Daugherty, Vice Presiden...  Order Processing  \n",
       "1  The customer, Nicholas Brand from Slavins Hanc...   Account/Inquiry  "
      ]
     },
     "execution_count": 28,
     "metadata": {},
     "output_type": "execute_result"
    }
   ],
   "source": [
    "batch_result_dataframe.head(2)"
   ]
  },
  {
   "cell_type": "code",
   "execution_count": 29,
   "metadata": {},
   "outputs": [],
   "source": [
    "train_8k, test_2k = get_train_test_idx(\n",
    "    batch_result_dataframe,\n",
    "    batch_result_dataframe.shape[0],\n",
    "    0.8,\n",
    "    label_column='label'\n",
    ")"
   ]
  },
  {
   "cell_type": "code",
   "execution_count": 30,
   "metadata": {},
   "outputs": [
    {
     "data": {
      "text/plain": [
       "(8000, 2000)"
      ]
     },
     "execution_count": 30,
     "metadata": {},
     "output_type": "execute_result"
    }
   ],
   "source": [
    "train_8k.shape[0], test_2k.shape[0]"
   ]
  },
  {
   "cell_type": "code",
   "execution_count": 31,
   "metadata": {},
   "outputs": [
    {
     "data": {
      "text/plain": [
       "(7418, 1857)"
      ]
     },
     "execution_count": 31,
     "metadata": {},
     "output_type": "execute_result"
    }
   ],
   "source": [
    "train_8k = train_8k[train_8k.summary.str.len() > 0]\n",
    "test_2k = test_2k[test_2k.summary.str.len() > 0]\n",
    "\n",
    "train_8k.shape[0], test_2k.shape[0]"
   ]
  },
  {
   "cell_type": "code",
   "execution_count": 32,
   "metadata": {},
   "outputs": [],
   "source": [
    "write_idx(\n",
    "    train_8k.set_index('idx').index,\n",
    "    test_2k.set_index('idx').index,\n",
    "    prefix=WRITE_PREFIX + \"/summarization_idx\"\n",
    ")"
   ]
  },
  {
   "cell_type": "code",
   "execution_count": 85,
   "metadata": {},
   "outputs": [],
   "source": [
    "chroma_10k_path = data_dir / 'chroma_10k'\n",
    "if not chroma_10k_path.exists():\n",
    "    chroma_10k_path.mkdir()"
   ]
  },
  {
   "cell_type": "code",
   "execution_count": 86,
   "metadata": {},
   "outputs": [
    {
     "data": {
      "text/plain": [
       "7418"
      ]
     },
     "execution_count": 86,
     "metadata": {},
     "output_type": "execute_result"
    }
   ],
   "source": [
    "chroma_10k_documents = DataFrameLoader(\n",
    "    train_8k[['idx', 'label', 'summary']], page_content_column='summary'\n",
    ").load()\n",
    "len(chroma_10k_documents)"
   ]
  },
  {
   "cell_type": "markdown",
   "metadata": {},
   "source": [
    "Embed"
   ]
  },
  {
   "cell_type": "code",
   "execution_count": 88,
   "metadata": {},
   "outputs": [],
   "source": [
    "embedder = get_embedder()"
   ]
  },
  {
   "cell_type": "code",
   "execution_count": 100,
   "metadata": {},
   "outputs": [
    {
     "name": "stderr",
     "output_type": "stream",
     "text": [
      "                                                                                \r"
     ]
    }
   ],
   "source": [
    "chroma_10k_documents_embedded = []\n",
    "\n",
    "pbar = tqdm(total=len(chroma_10k_documents), ncols=80, leave=False)\n",
    "\n",
    "for doc_batch in get_document_batches(iter(chroma_10k_documents), 5):\n",
    "    doc_batch_embedded = embedder.embed_documents([d.page_content for d in doc_batch])\n",
    "    chroma_10k_documents_embedded.extend(doc_batch_embedded)\n",
    "    pbar.update(len(doc_batch))\n",
    "\n",
    "pbar.close()"
   ]
  },
  {
   "cell_type": "code",
   "execution_count": 112,
   "metadata": {},
   "outputs": [],
   "source": [
    "# Write embeddings to GCS\n",
    "with get_storage_client().bucket(PROJECT_BUCKET).blob(WRITE_PREFIX + \"/summarization_embeddings.json\").open('w') as f:\n",
    "    json.dump(chroma_10k_documents_embedded, f)"
   ]
  },
  {
   "cell_type": "markdown",
   "metadata": {},
   "source": [
    "Add to chroma"
   ]
  },
  {
   "cell_type": "code",
   "execution_count": 104,
   "metadata": {},
   "outputs": [],
   "source": [
    "# Should take about 15 minutes if you're building it fresh\n",
    "chroma_10k_client = chromadb.PersistentClient(path=str(chroma_10k_path.resolve()))"
   ]
  },
  {
   "cell_type": "code",
   "execution_count": 105,
   "metadata": {},
   "outputs": [],
   "source": [
    "collection_10k = chroma_10k_client.get_or_create_collection(name=\"emails\")"
   ]
  },
  {
   "cell_type": "code",
   "execution_count": 109,
   "metadata": {},
   "outputs": [
    {
     "data": {
      "text/plain": [
       "(7418, 3)"
      ]
     },
     "execution_count": 109,
     "metadata": {},
     "output_type": "execute_result"
    }
   ],
   "source": [
    "len(chroma_10k_documents_embedded), len(doc_batch)"
   ]
  },
  {
   "cell_type": "code",
   "execution_count": 110,
   "metadata": {},
   "outputs": [],
   "source": [
    "collection_10k.add(\n",
    "    documents=[d.page_content for d in chroma_10k_documents],\n",
    "    embeddings=chroma_10k_documents_embedded,\n",
    "    metadatas=[d.metadata for d in chroma_10k_documents],\n",
    "    ids=[str(d.metadata.get('idx')) for d in chroma_10k_documents]\n",
    ")"
   ]
  },
  {
   "cell_type": "code",
   "execution_count": 118,
   "metadata": {},
   "outputs": [],
   "source": [
    "langchain_10k_chroma = Chroma(\n",
    "    collection_name=\"emails\",\n",
    "    client=chroma_10k_client, \n",
    "    embedding_function=embedder)"
   ]
  },
  {
   "cell_type": "markdown",
   "metadata": {},
   "source": [
    "## Export"
   ]
  },
  {
   "cell_type": "code",
   "execution_count": 119,
   "metadata": {},
   "outputs": [],
   "source": [
    "#| hide\n",
    "import nbdev; nbdev.nbdev_export()"
   ]
  },
  {
   "cell_type": "code",
   "execution_count": null,
   "metadata": {},
   "outputs": [],
   "source": []
  }
 ],
 "metadata": {
  "kernelspec": {
   "display_name": ".venv",
   "language": "python",
   "name": "python3"
  },
  "language_info": {
   "codemirror_mode": {
    "name": "ipython",
    "version": 3
   },
   "file_extension": ".py",
   "mimetype": "text/x-python",
   "name": "python",
   "nbconvert_exporter": "python",
   "pygments_lexer": "ipython3",
   "version": "3.11.4"
  }
 },
 "nbformat": 4,
 "nbformat_minor": 2
}
