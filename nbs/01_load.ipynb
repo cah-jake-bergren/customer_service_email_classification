{
 "cells": [
  {
   "cell_type": "markdown",
   "metadata": {},
   "source": [
    "# load\n",
    "\n",
    "> Load documents from GCS"
   ]
  },
  {
   "cell_type": "code",
   "execution_count": 1,
   "metadata": {},
   "outputs": [],
   "source": [
    "#| default_exp load"
   ]
  },
  {
   "cell_type": "code",
   "execution_count": 22,
   "metadata": {},
   "outputs": [],
   "source": [
    "#| export\n",
    "import math\n",
    "from typing import Dict, Any, Iterable, List, Tuple\n",
    "import pandas as pd\n",
    "import json\n",
    "\n",
    "from pydantic import BaseModel\n",
    "from langchain.schema import Document\n",
    "from langchain.document_loaders.base import BaseLoader\n",
    "from sklearn.model_selection import train_test_split\n",
    "from google.cloud import storage\n",
    "\n",
    "from classifier.schema import PROJECT_ID, PROJECT_BUCKET, WRITE_PREFIX"
   ]
  },
  {
   "cell_type": "markdown",
   "metadata": {},
   "source": [
    "Load the data from GCS"
   ]
  },
  {
   "cell_type": "code",
   "execution_count": 2,
   "metadata": {},
   "outputs": [],
   "source": [
    "training_data = pd.read_excel(\n",
    "    f\"gs://{PROJECT_BUCKET}/Last50KCases_withSubjectAndBody.xlsx\")\n",
    "training_data.loc[:, 'email_subject'] = training_data.email_subject.fillna(\"N/A\")"
   ]
  },
  {
   "cell_type": "code",
   "execution_count": 3,
   "metadata": {},
   "outputs": [
    {
     "data": {
      "text/html": [
       "<div>\n",
       "<style scoped>\n",
       "    .dataframe tbody tr th:only-of-type {\n",
       "        vertical-align: middle;\n",
       "    }\n",
       "\n",
       "    .dataframe tbody tr th {\n",
       "        vertical-align: top;\n",
       "    }\n",
       "\n",
       "    .dataframe thead th {\n",
       "        text-align: right;\n",
       "    }\n",
       "</style>\n",
       "<table border=\"1\" class=\"dataframe\">\n",
       "  <thead>\n",
       "    <tr style=\"text-align: right;\">\n",
       "      <th></th>\n",
       "      <th>BU</th>\n",
       "      <th>case_number</th>\n",
       "      <th>ACCOUNT_BUSINESS_UNIT__C</th>\n",
       "      <th>received_at</th>\n",
       "      <th>sfdc_category</th>\n",
       "      <th>sfdc_subcategory</th>\n",
       "      <th>predicted_category</th>\n",
       "      <th>predicted_subcategory</th>\n",
       "      <th>record_type</th>\n",
       "      <th>probability</th>\n",
       "      <th>Accuracy_upd</th>\n",
       "      <th>Bin</th>\n",
       "      <th>email_subject</th>\n",
       "      <th>email_body</th>\n",
       "    </tr>\n",
       "  </thead>\n",
       "  <tbody>\n",
       "  </tbody>\n",
       "</table>\n",
       "</div>"
      ],
      "text/plain": [
       "Empty DataFrame\n",
       "Columns: [BU, case_number, ACCOUNT_BUSINESS_UNIT__C, received_at, sfdc_category, sfdc_subcategory, predicted_category, predicted_subcategory, record_type, probability, Accuracy_upd, Bin, email_subject, email_body]\n",
       "Index: []"
      ]
     },
     "execution_count": 3,
     "metadata": {},
     "output_type": "execute_result"
    }
   ],
   "source": [
    "training_data[\n",
    "    (training_data.email_subject.isna()) |\n",
    "    (training_data.email_body.isna())]"
   ]
  },
  {
   "cell_type": "code",
   "execution_count": 4,
   "metadata": {},
   "outputs": [],
   "source": [
    "#| export\n",
    "LABEL_COLUMN = \"sfdc_category\""
   ]
  },
  {
   "cell_type": "code",
   "execution_count": 5,
   "metadata": {},
   "outputs": [
    {
     "data": {
      "text/plain": [
       "sfdc_category\n",
       "Order Processing        23011\n",
       "Account/Inquiry         12128\n",
       "General Inquiry          5645\n",
       "Order Discrepancy        3924\n",
       "Returns                  3806\n",
       "Product Inquiry          3034\n",
       "Billing / Invoice        2262\n",
       "Delivery                 1880\n",
       "Credits                  1066\n",
       "Pricing                   241\n",
       "Program / Promotions      240\n",
       "Name: count, dtype: int64"
      ]
     },
     "execution_count": 5,
     "metadata": {},
     "output_type": "execute_result"
    }
   ],
   "source": [
    "training_data[LABEL_COLUMN].value_counts()"
   ]
  },
  {
   "cell_type": "code",
   "execution_count": 6,
   "metadata": {},
   "outputs": [
    {
     "data": {
      "text/plain": [
       "BU                                                                        SPD\n",
       "case_number                                                           3469839\n",
       "ACCOUNT_BUSINESS_UNIT__C                                                  NaN\n",
       "received_at                                               2023-09-11T13:22:32\n",
       "sfdc_category                                                Order Processing\n",
       "sfdc_subcategory                                                  Order Entry\n",
       "predicted_category                                           Order Processing\n",
       "predicted_subcategory                                                     NaN\n",
       "record_type                                                                 2\n",
       "probability                                                          0.876806\n",
       "Accuracy_upd                                                          Correct\n",
       "Bin                                                                         8\n",
       "email_subject               PO# 7004014842 || Walgreens Store 16422 || Ohi...\n",
       "email_body                  External Email â€“ Please use caution before o...\n",
       "Name: 0, dtype: object"
      ]
     },
     "execution_count": 6,
     "metadata": {},
     "output_type": "execute_result"
    }
   ],
   "source": [
    "training_data.iloc[0]"
   ]
  },
  {
   "cell_type": "code",
   "execution_count": 7,
   "metadata": {},
   "outputs": [],
   "source": [
    "#| export\n",
    "def get_possible_labels() -> List[str]:\n",
    "    return pd.read_excel(\n",
    "        f\"gs://{PROJECT_BUCKET}/Last50KCases_withSubjectAndBody.xlsx\"\n",
    "        ).sfdc_category.unique().tolist()"
   ]
  },
  {
   "cell_type": "code",
   "execution_count": 186,
   "metadata": {},
   "outputs": [],
   "source": [
    "#| export\n",
    "class TrainingInstance(BaseModel):\n",
    "    idx: int\n",
    "    label: str\n",
    "    email_subject: str\n",
    "    email_body: str\n",
    "    metadata: Dict[str, Any]\n",
    "\n",
    "    def to_series(self) -> pd.Series:\n",
    "        data = self.metadata.copy()\n",
    "        data['idx'] = self.idx\n",
    "        data['label'] = self.label\n",
    "        data['email_subject'] = self.email_subject\n",
    "        data['email_body'] = self.email_body\n",
    "        return pd.Series(data)\n",
    "\n",
    "\n",
    "def training_instance_from_row(idx: int, row: pd.Series):\n",
    "    metadata = row.drop(\n",
    "        [\n",
    "            'sfdc_category', \n",
    "            'email_subject',\n",
    "            'email_body'\n",
    "        ]).to_dict()\n",
    "    return TrainingInstance(\n",
    "        idx=idx,\n",
    "        label=row.sfdc_category,\n",
    "        email_subject=str(row.email_subject),\n",
    "        email_body=str(row.email_body),\n",
    "        metadata=metadata\n",
    "    )"
   ]
  },
  {
   "cell_type": "code",
   "execution_count": 187,
   "metadata": {},
   "outputs": [],
   "source": [
    "example_training_instance = training_instance_from_row(0, training_data.iloc[0])"
   ]
  },
  {
   "cell_type": "markdown",
   "metadata": {},
   "source": [
    "## Get a \"training\" and \"test\" sample, remove outliers"
   ]
  },
  {
   "cell_type": "markdown",
   "metadata": {},
   "source": [
    "### Outlier removal\n",
    "We will remove outliers by subject + body length"
   ]
  },
  {
   "cell_type": "code",
   "execution_count": 95,
   "metadata": {},
   "outputs": [],
   "source": [
    "#| export\n",
    "# Our prompt to summarize takes up some amount of prompt space. This is a rough limit\n",
    "EMAIL_SIZE_LIMIT = 7800\n",
    "\n",
    "\n",
    "def email_small_enough(subject: str, body: str, limit: int = EMAIL_SIZE_LIMIT) -> bool:\n",
    "    if not isinstance(subject, str):\n",
    "        subject = str(subject)\n",
    "    if not isinstance(body, str):\n",
    "        body = str(body)\n",
    "    return (len(subject) + len(body)) < limit"
   ]
  },
  {
   "cell_type": "code",
   "execution_count": 96,
   "metadata": {},
   "outputs": [],
   "source": [
    "size_mask = training_data.apply(\n",
    "    lambda row: email_small_enough(\n",
    "        row.email_subject,\n",
    "        row.email_body\n",
    "    ), axis=1)"
   ]
  },
  {
   "cell_type": "code",
   "execution_count": 97,
   "metadata": {},
   "outputs": [
    {
     "data": {
      "text/plain": [
       "56096"
      ]
     },
     "execution_count": 97,
     "metadata": {},
     "output_type": "execute_result"
    }
   ],
   "source": [
    "training_data_included = training_data[size_mask]\n",
    "training_data_included.shape[0]"
   ]
  },
  {
   "cell_type": "markdown",
   "metadata": {},
   "source": [
    "### Train and test set\n",
    "We will sample by label. Limit to 5,000 emails total. 90% train, 10% test."
   ]
  },
  {
   "cell_type": "code",
   "execution_count": 160,
   "metadata": {},
   "outputs": [],
   "source": [
    "#| export\n",
    "INCLUSION_COUNT = 1000\n",
    "\n",
    "\n",
    "def get_train_test_idx(\n",
    "        data: pd.DataFrame,\n",
    "        inclusion_count: int = INCLUSION_COUNT, \n",
    "        train_proportion: int = 0.9,\n",
    "        label_column: str = LABEL_COLUMN,\n",
    "        random_state: int = 42):\n",
    "    train_count = int(round(inclusion_count * train_proportion))\n",
    "    test_count = inclusion_count - train_count\n",
    "    train, test = train_test_split(\n",
    "        data,\n",
    "        test_size=test_count, \n",
    "        train_size=train_count,\n",
    "        random_state=random_state,\n",
    "        stratify=data[label_column])\n",
    "    input_data = pd.concat([train, test], axis=0)\n",
    "    return train_test_split(\n",
    "        input_data,\n",
    "        test_size=1-train_proportion,\n",
    "        train_size=train_proportion,\n",
    "        random_state=random_state,\n",
    "        stratify=input_data[label_column]\n",
    "    )"
   ]
  },
  {
   "cell_type": "code",
   "execution_count": 161,
   "metadata": {},
   "outputs": [],
   "source": [
    "train, test = get_train_test_idx(training_data_included)"
   ]
  },
  {
   "cell_type": "code",
   "execution_count": 162,
   "metadata": {},
   "outputs": [
    {
     "data": {
      "text/plain": [
       "1000"
      ]
     },
     "execution_count": 162,
     "metadata": {},
     "output_type": "execute_result"
    }
   ],
   "source": [
    "train.shape[0] + test.shape[0]"
   ]
  },
  {
   "cell_type": "code",
   "execution_count": 163,
   "metadata": {},
   "outputs": [
    {
     "data": {
      "text/plain": [
       "(sfdc_category\n",
       " Account/Inquiry         193\n",
       " Billing / Invoice        35\n",
       " Credits                  14\n",
       " Delivery                 29\n",
       " General Inquiry          87\n",
       " Order Discrepancy        62\n",
       " Order Processing        364\n",
       " Pricing                   4\n",
       " Product Inquiry          48\n",
       " Program / Promotions      4\n",
       " Returns                  60\n",
       " Name: count, dtype: int64,\n",
       " sfdc_category\n",
       " Account/Inquiry      21\n",
       " Billing / Invoice     4\n",
       " Credits               2\n",
       " Delivery              3\n",
       " General Inquiry      10\n",
       " Order Discrepancy     7\n",
       " Order Processing     41\n",
       " Product Inquiry       5\n",
       " Returns               7\n",
       " Name: count, dtype: int64)"
      ]
     },
     "execution_count": 163,
     "metadata": {},
     "output_type": "execute_result"
    }
   ],
   "source": [
    "train[LABEL_COLUMN].value_counts().sort_index(), test[LABEL_COLUMN].value_counts().sort_index()"
   ]
  },
  {
   "cell_type": "code",
   "execution_count": 164,
   "metadata": {},
   "outputs": [],
   "source": [
    "#| export\n",
    "TRAIN_IDX_NAME = \"train_idx.csv\"\n",
    "TEST_IDX_NAME = \"test_idx.csv\"\n",
    "\n",
    "\n",
    "def write_idx(\n",
    "        train_idx: pd.Index, \n",
    "        test_idx: pd.Index, \n",
    "        bucket_name: str = PROJECT_BUCKET,\n",
    "        prefix: str = WRITE_PREFIX):\n",
    "    \n",
    "    train_idx.to_series().to_csv(f\"gs://{bucket_name}/{prefix}/{TRAIN_IDX_NAME}\", index=False)\n",
    "    test_idx.to_series().to_csv(f\"gs://{bucket_name}/{prefix}/{TEST_IDX_NAME}\", index=False)"
   ]
  },
  {
   "cell_type": "code",
   "execution_count": 165,
   "metadata": {},
   "outputs": [],
   "source": [
    "write_idx(\n",
    "    train.index,\n",
    "    test.index\n",
    ")"
   ]
  },
  {
   "cell_type": "code",
   "execution_count": 166,
   "metadata": {},
   "outputs": [],
   "source": [
    "#| export\n",
    "def get_idx(\n",
    "        bucket_name: str = PROJECT_BUCKET,\n",
    "        prefix: str = WRITE_PREFIX) -> Tuple[pd.Series, pd.Series]:\n",
    "    return pd.read_csv(f'gs://{bucket_name}/{prefix}/{TRAIN_IDX_NAME}').iloc[:, 0], \\\n",
    "        pd.read_csv(f'gs://{bucket_name}/{prefix}/{TEST_IDX_NAME}').iloc[:, 0]"
   ]
  },
  {
   "cell_type": "code",
   "execution_count": 167,
   "metadata": {},
   "outputs": [
    {
     "data": {
      "text/plain": [
       "0    20775\n",
       "1    46774\n",
       "2    15159\n",
       "3     2756\n",
       "4    26009\n",
       "Name: 0, dtype: int64"
      ]
     },
     "execution_count": 167,
     "metadata": {},
     "output_type": "execute_result"
    }
   ],
   "source": [
    "train_idx, test_idx = get_idx()\n",
    "train_idx.head()"
   ]
  },
  {
   "cell_type": "code",
   "execution_count": 168,
   "metadata": {},
   "outputs": [
    {
     "data": {
      "text/html": [
       "<div>\n",
       "<style scoped>\n",
       "    .dataframe tbody tr th:only-of-type {\n",
       "        vertical-align: middle;\n",
       "    }\n",
       "\n",
       "    .dataframe tbody tr th {\n",
       "        vertical-align: top;\n",
       "    }\n",
       "\n",
       "    .dataframe thead th {\n",
       "        text-align: right;\n",
       "    }\n",
       "</style>\n",
       "<table border=\"1\" class=\"dataframe\">\n",
       "  <thead>\n",
       "    <tr style=\"text-align: right;\">\n",
       "      <th></th>\n",
       "      <th>BU</th>\n",
       "      <th>case_number</th>\n",
       "      <th>ACCOUNT_BUSINESS_UNIT__C</th>\n",
       "      <th>received_at</th>\n",
       "      <th>sfdc_category</th>\n",
       "      <th>sfdc_subcategory</th>\n",
       "      <th>predicted_category</th>\n",
       "      <th>predicted_subcategory</th>\n",
       "      <th>record_type</th>\n",
       "      <th>probability</th>\n",
       "      <th>Accuracy_upd</th>\n",
       "      <th>Bin</th>\n",
       "      <th>email_subject</th>\n",
       "      <th>email_body</th>\n",
       "    </tr>\n",
       "  </thead>\n",
       "  <tbody>\n",
       "    <tr>\n",
       "      <th>20775</th>\n",
       "      <td>PD</td>\n",
       "      <td>3553288</td>\n",
       "      <td>a1G4z00000H6C4aEAF</td>\n",
       "      <td>2023-10-13T12:37:20</td>\n",
       "      <td>Billing / Invoice</td>\n",
       "      <td>Billing Statements</td>\n",
       "      <td>Billing / Invoice</td>\n",
       "      <td>NaN</td>\n",
       "      <td>1</td>\n",
       "      <td>0.474032</td>\n",
       "      <td>Correct</td>\n",
       "      <td>4</td>\n",
       "      <td>Invoices 1 of 1 for 2057199110 , TEXAS INSTITU...</td>\n",
       "      <td>Dear Valued Customer,  Your Cardinal Health in...</td>\n",
       "    </tr>\n",
       "    <tr>\n",
       "      <th>46774</th>\n",
       "      <td>PD</td>\n",
       "      <td>3658829</td>\n",
       "      <td>NaN</td>\n",
       "      <td>2023-11-29T20:25:47</td>\n",
       "      <td>Account/Inquiry</td>\n",
       "      <td>Account updates</td>\n",
       "      <td>Billing / Invoice</td>\n",
       "      <td>NaN</td>\n",
       "      <td>1</td>\n",
       "      <td>0.566661</td>\n",
       "      <td>Incorrect</td>\n",
       "      <td>5</td>\n",
       "      <td>Invoice status from State of Florida Next Gen</td>\n",
       "      <td>External Email â€“ Please use caution before o...</td>\n",
       "    </tr>\n",
       "  </tbody>\n",
       "</table>\n",
       "</div>"
      ],
      "text/plain": [
       "       BU  case_number ACCOUNT_BUSINESS_UNIT__C          received_at  \\\n",
       "20775  PD      3553288       a1G4z00000H6C4aEAF  2023-10-13T12:37:20   \n",
       "46774  PD      3658829                      NaN  2023-11-29T20:25:47   \n",
       "\n",
       "           sfdc_category    sfdc_subcategory predicted_category  \\\n",
       "20775  Billing / Invoice  Billing Statements  Billing / Invoice   \n",
       "46774    Account/Inquiry     Account updates  Billing / Invoice   \n",
       "\n",
       "      predicted_subcategory  record_type  probability Accuracy_upd  Bin  \\\n",
       "20775                   NaN            1     0.474032      Correct    4   \n",
       "46774                   NaN            1     0.566661    Incorrect    5   \n",
       "\n",
       "                                           email_subject  \\\n",
       "20775  Invoices 1 of 1 for 2057199110 , TEXAS INSTITU...   \n",
       "46774      Invoice status from State of Florida Next Gen   \n",
       "\n",
       "                                              email_body  \n",
       "20775  Dear Valued Customer,  Your Cardinal Health in...  \n",
       "46774  External Email â€“ Please use caution before o...  "
      ]
     },
     "execution_count": 168,
     "metadata": {},
     "output_type": "execute_result"
    }
   ],
   "source": [
    "full_idx = pd.concat(\n",
    "    [train_idx, test_idx],\n",
    "    axis=0,\n",
    "    ignore_index=True\n",
    ")\n",
    "training_data_included.loc[full_idx, :].head(2)"
   ]
  },
  {
   "cell_type": "code",
   "execution_count": 169,
   "metadata": {},
   "outputs": [],
   "source": [
    "#| export\n",
    "def get_training_instances(\n",
    "        bucket_name: str = PROJECT_BUCKET\n",
    ") -> Iterable[TrainingInstance]:\n",
    "    data = pd.read_excel(\n",
    "        f\"gs://{bucket_name}/Last50KCases_withSubjectAndBody.xlsx\")\n",
    "    # Load train and test idx\n",
    "    train_idx, test_idx = get_idx(bucket_name=bucket_name)\n",
    "    full_idx = pd.concat([train_idx, test_idx], axis=0, ignore_index=True)\n",
    "    data = data.loc[full_idx, :]\n",
    "    for idx, row in data.iterrows():\n",
    "        yield training_instance_from_row(idx, row)"
   ]
  },
  {
   "cell_type": "code",
   "execution_count": 170,
   "metadata": {},
   "outputs": [],
   "source": [
    "# max length\n",
    "instance_loader = get_training_instances()"
   ]
  },
  {
   "cell_type": "code",
   "execution_count": 178,
   "metadata": {},
   "outputs": [],
   "source": [
    "#| export\n",
    "def get_document_batches(loader: Iterable[TrainingInstance], batch_size: int = 32) -> Iterable[List[TrainingInstance]]:\n",
    "    \"Get a batch of documents of size `batch_size` from a BaseLoader with `.lazy_load` implemented.\"\n",
    "    batch = []\n",
    "    for instance in loader:\n",
    "        batch.append(instance)\n",
    "        if len(batch) >= batch_size:\n",
    "            yield batch\n",
    "            batch = []\n",
    "    yield batch"
   ]
  },
  {
   "cell_type": "code",
   "execution_count": 179,
   "metadata": {},
   "outputs": [
    {
     "data": {
      "text/plain": [
       "TrainingInstance(idx=15159, label='Order Processing', email_subject='New soliris order', email_body='External Email â€“ Please use caution before opening attachments or clicking links  Hello, Iâ€™d like to place a new order please  Account #2057189687 PO# PIC23100401 Patient: FS Soliris -  300 mg/30ml      CIN:  400-3091 Quantity: 4 Vials NPI:1619288172 TX:10/09/2023        Lena Oâ€™Brien, CPHT Oncology Pharmacy Technician Tri-City Medical Center | Outpatient Infusion Center 3617 Vista Way, Oceanside, CA 92056 P: 442.266.2809 or 442.266.2804 | F: 760.721.8736  [cid:image003.png@01D8952D.AC5BE480]  CONFIDENTIALITY NOTICE  This message and any included attachments are from the Tri-City Healthcare District and are intended only for the addressee.  The information contained in this message is confidential and may constitute non-public information under international, federal, or state securities laws and is intended only for the use of the addressee.  Unauthorized forwarding, printing, copying, distributing, or using such information is strictly prohibited and may be unlawful.  If you are not the addressee, please promptly delete this message and notify the sender of the delivery error by e-mail.         This message has been scanned for malware by Websense. www.websense.com<http://www.websense.com/>', metadata={'BU': 'SPD', 'case_number': 3530234, 'ACCOUNT_BUSINESS_UNIT__C': nan, 'received_at': '2023-10-04T15:34:31', 'sfdc_subcategory': 'Order Entry', 'predicted_category': 'Order Processing', 'predicted_subcategory': nan, 'record_type': 2, 'probability': 0.738666, 'Accuracy_upd': 'Correct', 'Bin': 7})"
      ]
     },
     "execution_count": 179,
     "metadata": {},
     "output_type": "execute_result"
    }
   ],
   "source": [
    "next(instance_loader)"
   ]
  },
  {
   "cell_type": "code",
   "execution_count": 180,
   "metadata": {},
   "outputs": [
    {
     "data": {
      "text/plain": [
       "TrainingInstance(idx=2756, label='Account/Inquiry', email_subject='Paid - Invoice 7322186957 - to State of Florida Next Gen (ANID: AN01722330651) - Notification from Ariba Network', email_body='External Email â€“ Please use caution before opening attachments or clicking links   Your customer State of Florida Next Gen updated your invoice on SAP Business Network.  You can view the invoice in your online Outbox (ANID: AN11096391905).  Country  US Customer  State of Florida Next Gen Invoice number  7322186957 Invoice Status  Paid Description:   Header Level Exceptions: Accounting Verification Exception Please accept or edit the accounting information---   If you have any questions, contact your customer.   Download the SAP Business Network Supplier app to your mobile device and manage customer orders on the go.  Ariba, Inc., 3420 Hillview Ave, Bldg3, Palo Alto, CA 94304, USA SAP Business Network Privacy Statement Ariba Data Policy Support If a customer-specific privacy statement applies to this processing of personal data, you can view it when logged into your account.', metadata={'BU': 'PD', 'case_number': 3479534, 'ACCOUNT_BUSINESS_UNIT__C': nan, 'received_at': '2023-09-13T20:53:32', 'sfdc_subcategory': 'Account updates', 'predicted_category': 'Account/Inquiry', 'predicted_subcategory': nan, 'record_type': 1, 'probability': 0.98751974, 'Accuracy_upd': 'Correct', 'Bin': 9})"
      ]
     },
     "execution_count": 180,
     "metadata": {},
     "output_type": "execute_result"
    }
   ],
   "source": [
    "next(instance_loader)"
   ]
  },
  {
   "cell_type": "code",
   "execution_count": 181,
   "metadata": {},
   "outputs": [
    {
     "data": {
      "text/html": [
       "<div>\n",
       "<style scoped>\n",
       "    .dataframe tbody tr th:only-of-type {\n",
       "        vertical-align: middle;\n",
       "    }\n",
       "\n",
       "    .dataframe tbody tr th {\n",
       "        vertical-align: top;\n",
       "    }\n",
       "\n",
       "    .dataframe thead th {\n",
       "        text-align: right;\n",
       "    }\n",
       "</style>\n",
       "<table border=\"1\" class=\"dataframe\">\n",
       "  <thead>\n",
       "    <tr style=\"text-align: right;\">\n",
       "      <th></th>\n",
       "      <th>BU</th>\n",
       "      <th>case_number</th>\n",
       "      <th>ACCOUNT_BUSINESS_UNIT__C</th>\n",
       "      <th>received_at</th>\n",
       "      <th>sfdc_category</th>\n",
       "      <th>sfdc_subcategory</th>\n",
       "      <th>predicted_category</th>\n",
       "      <th>predicted_subcategory</th>\n",
       "      <th>record_type</th>\n",
       "      <th>probability</th>\n",
       "      <th>Accuracy_upd</th>\n",
       "      <th>Bin</th>\n",
       "      <th>email_subject</th>\n",
       "      <th>email_body</th>\n",
       "    </tr>\n",
       "  </thead>\n",
       "  <tbody>\n",
       "    <tr>\n",
       "      <th>20775</th>\n",
       "      <td>PD</td>\n",
       "      <td>3553288</td>\n",
       "      <td>a1G4z00000H6C4aEAF</td>\n",
       "      <td>2023-10-13T12:37:20</td>\n",
       "      <td>Billing / Invoice</td>\n",
       "      <td>Billing Statements</td>\n",
       "      <td>Billing / Invoice</td>\n",
       "      <td>NaN</td>\n",
       "      <td>1</td>\n",
       "      <td>0.474032</td>\n",
       "      <td>Correct</td>\n",
       "      <td>4</td>\n",
       "      <td>Invoices 1 of 1 for 2057199110 , TEXAS INSTITU...</td>\n",
       "      <td>Dear Valued Customer,  Your Cardinal Health in...</td>\n",
       "    </tr>\n",
       "    <tr>\n",
       "      <th>46774</th>\n",
       "      <td>PD</td>\n",
       "      <td>3658829</td>\n",
       "      <td>NaN</td>\n",
       "      <td>2023-11-29T20:25:47</td>\n",
       "      <td>Account/Inquiry</td>\n",
       "      <td>Account updates</td>\n",
       "      <td>Billing / Invoice</td>\n",
       "      <td>NaN</td>\n",
       "      <td>1</td>\n",
       "      <td>0.566661</td>\n",
       "      <td>Incorrect</td>\n",
       "      <td>5</td>\n",
       "      <td>Invoice status from State of Florida Next Gen</td>\n",
       "      <td>External Email â€“ Please use caution before o...</td>\n",
       "    </tr>\n",
       "    <tr>\n",
       "      <th>15159</th>\n",
       "      <td>SPD</td>\n",
       "      <td>3530234</td>\n",
       "      <td>NaN</td>\n",
       "      <td>2023-10-04T15:34:31</td>\n",
       "      <td>Order Processing</td>\n",
       "      <td>Order Entry</td>\n",
       "      <td>Order Processing</td>\n",
       "      <td>NaN</td>\n",
       "      <td>2</td>\n",
       "      <td>0.738666</td>\n",
       "      <td>Correct</td>\n",
       "      <td>7</td>\n",
       "      <td>New soliris order</td>\n",
       "      <td>External Email â€“ Please use caution before o...</td>\n",
       "    </tr>\n",
       "    <tr>\n",
       "      <th>2756</th>\n",
       "      <td>PD</td>\n",
       "      <td>3479534</td>\n",
       "      <td>NaN</td>\n",
       "      <td>2023-09-13T20:53:32</td>\n",
       "      <td>Account/Inquiry</td>\n",
       "      <td>Account updates</td>\n",
       "      <td>Account/Inquiry</td>\n",
       "      <td>NaN</td>\n",
       "      <td>1</td>\n",
       "      <td>0.987520</td>\n",
       "      <td>Correct</td>\n",
       "      <td>9</td>\n",
       "      <td>Paid - Invoice 7322186957 - to State of Florid...</td>\n",
       "      <td>External Email â€“ Please use caution before o...</td>\n",
       "    </tr>\n",
       "    <tr>\n",
       "      <th>26009</th>\n",
       "      <td>SPD</td>\n",
       "      <td>3575015</td>\n",
       "      <td>NaN</td>\n",
       "      <td>2023-10-23T19:21:39</td>\n",
       "      <td>General Inquiry</td>\n",
       "      <td>Drop-Ship Issue</td>\n",
       "      <td>Delivery</td>\n",
       "      <td>NaN</td>\n",
       "      <td>2</td>\n",
       "      <td>0.486582</td>\n",
       "      <td>Incorrect</td>\n",
       "      <td>4</td>\n",
       "      <td>DROPSHIP VYVGART-160644502-TRACKING CENTRAL</td>\n",
       "      <td>ACCOUNT NUMBER  2150137661 ORDER NUMBER  10543...</td>\n",
       "    </tr>\n",
       "  </tbody>\n",
       "</table>\n",
       "</div>"
      ],
      "text/plain": [
       "        BU  case_number ACCOUNT_BUSINESS_UNIT__C          received_at  \\\n",
       "20775   PD      3553288       a1G4z00000H6C4aEAF  2023-10-13T12:37:20   \n",
       "46774   PD      3658829                      NaN  2023-11-29T20:25:47   \n",
       "15159  SPD      3530234                      NaN  2023-10-04T15:34:31   \n",
       "2756    PD      3479534                      NaN  2023-09-13T20:53:32   \n",
       "26009  SPD      3575015                      NaN  2023-10-23T19:21:39   \n",
       "\n",
       "           sfdc_category    sfdc_subcategory predicted_category  \\\n",
       "20775  Billing / Invoice  Billing Statements  Billing / Invoice   \n",
       "46774    Account/Inquiry     Account updates  Billing / Invoice   \n",
       "15159   Order Processing         Order Entry   Order Processing   \n",
       "2756     Account/Inquiry     Account updates    Account/Inquiry   \n",
       "26009    General Inquiry     Drop-Ship Issue           Delivery   \n",
       "\n",
       "      predicted_subcategory  record_type  probability Accuracy_upd  Bin  \\\n",
       "20775                   NaN            1     0.474032      Correct    4   \n",
       "46774                   NaN            1     0.566661    Incorrect    5   \n",
       "15159                   NaN            2     0.738666      Correct    7   \n",
       "2756                    NaN            1     0.987520      Correct    9   \n",
       "26009                   NaN            2     0.486582    Incorrect    4   \n",
       "\n",
       "                                           email_subject  \\\n",
       "20775  Invoices 1 of 1 for 2057199110 , TEXAS INSTITU...   \n",
       "46774      Invoice status from State of Florida Next Gen   \n",
       "15159                                  New soliris order   \n",
       "2756   Paid - Invoice 7322186957 - to State of Florid...   \n",
       "26009        DROPSHIP VYVGART-160644502-TRACKING CENTRAL   \n",
       "\n",
       "                                              email_body  \n",
       "20775  Dear Valued Customer,  Your Cardinal Health in...  \n",
       "46774  External Email â€“ Please use caution before o...  \n",
       "15159  External Email â€“ Please use caution before o...  \n",
       "2756   External Email â€“ Please use caution before o...  \n",
       "26009  ACCOUNT NUMBER  2150137661 ORDER NUMBER  10543...  "
      ]
     },
     "execution_count": 181,
     "metadata": {},
     "output_type": "execute_result"
    }
   ],
   "source": [
    "training_data_included.loc[train_idx, :].head(5)"
   ]
  },
  {
   "cell_type": "code",
   "execution_count": 182,
   "metadata": {},
   "outputs": [],
   "source": [
    "large_docs = training_data[~size_mask]"
   ]
  },
  {
   "cell_type": "code",
   "execution_count": 183,
   "metadata": {},
   "outputs": [
    {
     "data": {
      "text/plain": [
       "(1141, 14)"
      ]
     },
     "execution_count": 183,
     "metadata": {},
     "output_type": "execute_result"
    }
   ],
   "source": [
    "large_docs.shape"
   ]
  },
  {
   "cell_type": "code",
   "execution_count": 184,
   "metadata": {},
   "outputs": [
    {
     "data": {
      "text/plain": [
       "'--SUBJECT--\\n'"
      ]
     },
     "metadata": {},
     "output_type": "display_data"
    },
    {
     "data": {
      "text/plain": [
       "'RE: Drop Ship Invoices'"
      ]
     },
     "metadata": {},
     "output_type": "display_data"
    },
    {
     "data": {
      "text/plain": [
       "'--BODY START--\\n'"
      ]
     },
     "metadata": {},
     "output_type": "display_data"
    },
    {
     "data": {
      "text/plain": [
       "'Hi, Tara.  Thank you for your patience. I have sent a follow up email last week to the dropship billing team but have not heard back. Usually for Dropship invoices, it does not come the same day the order arrives. It arrives days/weeks (depending on the vendor)  later than the order.  Can you kindly provide the confirmation number/s of the orders?  Let me loop in customer service to assist.  Hi, @Pharma-CustomerService<mailto:Pharma-CustomerService@cardinalhealth.com>.  Kindly assist Tara with her issue. They have not been receiving their invoices for dropship orders  SAP Ship To Name 2052014745 PHOENIXVILLE HOSPITAL CO LLC 2057194735 PHOENIXVILLE HSP SYS PHARM 2150232475 PHOENIXVILLE HSP SYS PHARM  Let me know if you have any questions.  Thank you,   [cid:image002.png@01D9E48E.FD2FFD90]     Winona Fejer Sr. Specialist, Account Operations, Customer Success Pharmaceutical Distribution AcctOpsE@cardinalhealth.com<mailto:AcctOpsE@cardinalhealth.com>     From: May, Tara <TaraM.May@towerhealth.org> Sent: Monday, September 11, 2023 8:49 AM To: GMB-AcctOpsE <AcctOpsE@cardinalhealth.com>; Brannen, Chris <chris.brannen@cardinalhealth.com> Cc: McGrory, Gerald <GeraldE.Mcgrory@towerhealth.org>; Blankenbiller, Kelly <Kelly.Blankenbiller@towerhealth.org> Subject: RE: Drop Ship Invoices           External Email â€“ Please use caution before opening attachments or clicking links  Good Morning,  Is there any word on this yet?  We still are not receiving the invoices for the drop ships in our'"
      ]
     },
     "metadata": {},
     "output_type": "display_data"
    },
    {
     "name": "stdout",
     "output_type": "stream",
     "text": [
      "--BODY END--\n",
      " __________________________________________  This message is for the designated recipient only and may contain privileged, proprietary or otherwise private information. If you have received it in error, please notify the sender immediately and delete the original. Any other use of the email by you is prohibited.  Dansk - Deutsch - Espanol - Francais - Italiano - Japanese - Nederlands - Norsk - Portuguese - Chinese Svenska: http://www.cardinalhealth.com/en/support/terms-and-conditions-english.html\n"
     ]
    },
    {
     "data": {
      "text/plain": [
       "(None, None)"
      ]
     },
     "execution_count": 184,
     "metadata": {},
     "output_type": "execute_result"
    }
   ],
   "source": [
    "sample_large_doc = large_docs.iloc[0]\n",
    "display(\"--SUBJECT--\\n\", sample_large_doc.email_subject)\n",
    "display(\"--BODY START--\\n\", sample_large_doc.email_body[:1500]), print(\"--BODY END--\\n\", sample_large_doc.email_body[-500:])"
   ]
  },
  {
   "cell_type": "markdown",
   "metadata": {},
   "source": [
    "## Export"
   ]
  },
  {
   "cell_type": "code",
   "execution_count": 190,
   "metadata": {},
   "outputs": [],
   "source": [
    "#| hide\n",
    "import nbdev; nbdev.nbdev_export()"
   ]
  },
  {
   "cell_type": "code",
   "execution_count": null,
   "metadata": {},
   "outputs": [],
   "source": []
  }
 ],
 "metadata": {
  "kernelspec": {
   "display_name": ".venv",
   "language": "python",
   "name": "python3"
  },
  "language_info": {
   "codemirror_mode": {
    "name": "ipython",
    "version": 3
   },
   "file_extension": ".py",
   "mimetype": "text/x-python",
   "name": "python",
   "nbconvert_exporter": "python",
   "pygments_lexer": "ipython3",
   "version": "3.11.4"
  }
 },
 "nbformat": 4,
 "nbformat_minor": 2
}
