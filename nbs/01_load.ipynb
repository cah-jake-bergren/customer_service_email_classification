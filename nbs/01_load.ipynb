{
 "cells": [
  {
   "cell_type": "markdown",
   "metadata": {},
   "source": [
    "# load\n",
    "\n",
    "> Load documents from GCS"
   ]
  },
  {
   "cell_type": "code",
   "execution_count": 1,
   "metadata": {},
   "outputs": [],
   "source": [
    "#| default_exp load"
   ]
  },
  {
   "cell_type": "code",
   "execution_count": 51,
   "metadata": {},
   "outputs": [],
   "source": [
    "#| export\n",
    "from typing import Dict, Any, Iterable, List\n",
    "import pandas as pd\n",
    "\n",
    "from pydantic import BaseModel\n",
    "from langchain.schema import Document\n",
    "from langchain.document_loaders.base import BaseLoader\n",
    "\n",
    "from classifier.schema import PROJECT_ID, PROJECT_BUCKET"
   ]
  },
  {
   "cell_type": "markdown",
   "metadata": {},
   "source": [
    "Load the data from GCS"
   ]
  },
  {
   "cell_type": "code",
   "execution_count": 4,
   "metadata": {},
   "outputs": [],
   "source": [
    "training_data = pd.read_excel(\n",
    "    f\"gs://{PROJECT_BUCKET}/Last50KCases_withSubjectAndBody.xlsx\")"
   ]
  },
  {
   "cell_type": "code",
   "execution_count": 5,
   "metadata": {},
   "outputs": [],
   "source": [
    "#| export\n",
    "label_column = \"sfdc_category\""
   ]
  },
  {
   "cell_type": "code",
   "execution_count": 6,
   "metadata": {},
   "outputs": [
    {
     "data": {
      "text/plain": [
       "sfdc_category\n",
       "Order Processing        23011\n",
       "Account/Inquiry         12128\n",
       "General Inquiry          5645\n",
       "Order Discrepancy        3924\n",
       "Returns                  3806\n",
       "Product Inquiry          3034\n",
       "Billing / Invoice        2262\n",
       "Delivery                 1880\n",
       "Credits                  1066\n",
       "Pricing                   241\n",
       "Program / Promotions      240\n",
       "Name: count, dtype: int64"
      ]
     },
     "execution_count": 6,
     "metadata": {},
     "output_type": "execute_result"
    }
   ],
   "source": [
    "training_data.sfdc_category.value_counts()"
   ]
  },
  {
   "cell_type": "code",
   "execution_count": 8,
   "metadata": {},
   "outputs": [
    {
     "data": {
      "text/plain": [
       "BU                                                                        SPD\n",
       "case_number                                                           3469839\n",
       "ACCOUNT_BUSINESS_UNIT__C                                                  NaN\n",
       "received_at                                               2023-09-11T13:22:32\n",
       "sfdc_category                                                Order Processing\n",
       "sfdc_subcategory                                                  Order Entry\n",
       "predicted_category                                           Order Processing\n",
       "predicted_subcategory                                                     NaN\n",
       "record_type                                                                 2\n",
       "probability                                                          0.876806\n",
       "Accuracy_upd                                                          Correct\n",
       "Bin                                                                         8\n",
       "email_subject               PO# 7004014842 || Walgreens Store 16422 || Ohi...\n",
       "email_body                  External Email â€“ Please use caution before o...\n",
       "Name: 0, dtype: object"
      ]
     },
     "execution_count": 8,
     "metadata": {},
     "output_type": "execute_result"
    }
   ],
   "source": [
    "training_data.iloc[0]"
   ]
  },
  {
   "cell_type": "code",
   "execution_count": 52,
   "metadata": {},
   "outputs": [],
   "source": [
    "#| export\n",
    "def get_possible_labels() -> List[str]:\n",
    "    return pd.read_excel(\n",
    "        f\"gs://{PROJECT_BUCKET}/Last50KCases_withSubjectAndBody.xlsx\"\n",
    "        ).sfdc_category.unique().tolist()"
   ]
  },
  {
   "cell_type": "code",
   "execution_count": 41,
   "metadata": {},
   "outputs": [],
   "source": [
    "#| export\n",
    "class TrainingInstance(BaseModel):\n",
    "    idx: int\n",
    "    label: str\n",
    "    email_subject: str\n",
    "    email_body: str\n",
    "    metadata: Dict[str, Any]\n",
    "\n",
    "\n",
    "def training_instance_from_row(idx: int, row: pd.Series):\n",
    "    metadata = row.drop(\n",
    "        [\n",
    "            'sfdc_category', \n",
    "            'email_subject',\n",
    "            'email_body'\n",
    "        ]).to_dict()\n",
    "    return TrainingInstance(\n",
    "        idx=idx,\n",
    "        label=row.sfdc_category,\n",
    "        email_subject=row.email_subject,\n",
    "        email_body=row.email_body,\n",
    "        metadata=metadata\n",
    "    )"
   ]
  },
  {
   "cell_type": "code",
   "execution_count": 44,
   "metadata": {},
   "outputs": [],
   "source": [
    "example_training_instance = training_instance_from_row(0, training_data.iloc[0])"
   ]
  },
  {
   "cell_type": "code",
   "execution_count": 45,
   "metadata": {},
   "outputs": [],
   "source": [
    "#| export\n",
    "def get_training_instances() -> Iterable[TrainingInstance]:\n",
    "    training_data = pd.read_excel(\n",
    "        f\"gs://{PROJECT_BUCKET}/Last50KCases_withSubjectAndBody.xlsx\")\n",
    "    for idx, row in training_data.iterrows():\n",
    "        yield training_instance_from_row(idx, row)"
   ]
  },
  {
   "cell_type": "code",
   "execution_count": 46,
   "metadata": {},
   "outputs": [
    {
     "data": {
      "text/plain": [
       "TrainingInstance(idx=0, label='Order Processing', email_subject='PO# 7004014842 || Walgreens Store 16422 || Ohio State University', email_body='External Email â€“ Please use caution before opening attachments or clicking links  Cardinal Ordering Team,  Please place the drop ship order(s) listed below for:  Client Name Ohio State University PO ID 7004014842 Account # 2150126632 Store # 16422 NDC 70127010010 Drug Name EPIDIOLEX 100MG/ML SOL 100ML Order Quantity 5 Prescriber Name LUCRETIA LONG, PHILIP CLAYTON JONAS Prescriber NPI or DEA ML0822634, FJ1422132  Thanks & Regards, Bhavesh Lalwani', metadata={'BU': 'SPD', 'case_number': 3469839, 'ACCOUNT_BUSINESS_UNIT__C': nan, 'received_at': '2023-09-11T13:22:32', 'sfdc_subcategory': 'Order Entry', 'predicted_category': 'Order Processing', 'predicted_subcategory': nan, 'record_type': 2, 'probability': 0.8768061, 'Accuracy_upd': 'Correct', 'Bin': 8})"
      ]
     },
     "execution_count": 46,
     "metadata": {},
     "output_type": "execute_result"
    }
   ],
   "source": [
    "# max length\n",
    "next(get_training_instances())"
   ]
  },
  {
   "cell_type": "code",
   "execution_count": 47,
   "metadata": {},
   "outputs": [],
   "source": [
    "large_docs = training_data[training_data.email_body.str.len() > 30000]"
   ]
  },
  {
   "cell_type": "code",
   "execution_count": 48,
   "metadata": {},
   "outputs": [
    {
     "data": {
      "text/plain": [
       "(147, 14)"
      ]
     },
     "execution_count": 48,
     "metadata": {},
     "output_type": "execute_result"
    }
   ],
   "source": [
    "large_docs.shape"
   ]
  },
  {
   "cell_type": "code",
   "execution_count": 49,
   "metadata": {},
   "outputs": [
    {
     "name": "stdout",
     "output_type": "stream",
     "text": [
      "--SUBJECT--\n",
      " 09.12.23 Oncaspar and Asparlas Tracking\n",
      "--BODY START--\n",
      " CAH PO# Sales Document Ship To Customer Number Ship To Customer Name Address Street Address City Address Region Address City Postal Code Material Description QTY TRACKING # Ship Date Service Type Description NOTES 1.61E+08 1051125329 2057190317 ANNANDROBERT H LURIE CHLDRN WAC 225 EAST CHICAGO AVE CHICAGO IL 60611-2991 ASPARLAS SF 750U/ML 5ML SPD DSHP 2 703867100356 9/7/2023 12:00:00 AM FedEx Priority Overnight Delivered  1.61E+08 1051115361 2052044098 KAISER ONCOLOGY PHARMACY 598 1600 EUREKA RD \n",
      "--BODY END--\n",
      "  UNIVERSITY HOSP SUNY HSC WAC 750 E ADAMS ST SYRACUSE NY 13210-2306 ASPARLAS SF 750U/ML 5ML SPD DSHP 1 703867124592 9/11/2023 12:00:00 AM FedEx Standard Overnight At FedEx destination facility  1.61E+08 1051373221 2150204117 UK HOSP PHARM MC OP 340B 800 ROSE ST ROOM HC201 LEXINGTON KY 40536 ASPARLAS SF 750U/ML 5ML SPD DSHP 1 703867124684 9/11/2023 12:00:00 AM FedEx Standard Overnight Departed FedEx location  1.61E+08 1051366121 2057184371 CHILDRENS HOSP ORANGE CO 340B 1201 W LA VETA AVE ORANGE C\n"
     ]
    },
    {
     "data": {
      "text/plain": [
       "(None, None)"
      ]
     },
     "execution_count": 49,
     "metadata": {},
     "output_type": "execute_result"
    }
   ],
   "source": [
    "sample_large_doc = large_docs.iloc[0]\n",
    "print(\"--SUBJECT--\\n\", sample_large_doc.email_subject)\n",
    "print(\"--BODY START--\\n\", sample_large_doc.email_body[:500]), print(\"--BODY END--\\n\", sample_large_doc.email_body[-500:])"
   ]
  },
  {
   "cell_type": "code",
   "execution_count": 54,
   "metadata": {},
   "outputs": [],
   "source": [
    "#| hide\n",
    "import nbdev; nbdev.nbdev_export()"
   ]
  },
  {
   "cell_type": "code",
   "execution_count": null,
   "metadata": {},
   "outputs": [],
   "source": []
  }
 ],
 "metadata": {
  "kernelspec": {
   "display_name": ".venv",
   "language": "python",
   "name": "python3"
  },
  "language_info": {
   "codemirror_mode": {
    "name": "ipython",
    "version": 3
   },
   "file_extension": ".py",
   "mimetype": "text/x-python",
   "name": "python",
   "nbconvert_exporter": "python",
   "pygments_lexer": "ipython3",
   "version": "3.11.4"
  }
 },
 "nbformat": 4,
 "nbformat_minor": 2
}
