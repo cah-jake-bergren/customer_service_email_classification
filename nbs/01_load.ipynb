{
 "cells": [
  {
   "cell_type": "markdown",
   "metadata": {},
   "source": [
    "# load\n",
    "\n",
    "> Load documents from GCS"
   ]
  },
  {
   "cell_type": "code",
   "execution_count": 1,
   "metadata": {},
   "outputs": [],
   "source": [
    "#| default_exp load"
   ]
  },
  {
   "cell_type": "code",
   "execution_count": 2,
   "metadata": {},
   "outputs": [],
   "source": [
    "#| export\n",
    "from typing import Dict, Any, Iterable, List, Tuple\n",
    "import pandas as pd\n",
    "\n",
    "from pydantic import BaseModel\n",
    "from sklearn.model_selection import train_test_split\n",
    "\n",
    "from classifier.schema import PROJECT_BUCKET, WRITE_PREFIX"
   ]
  },
  {
   "cell_type": "markdown",
   "metadata": {},
   "source": [
    "Load the data from GCS"
   ]
  },
  {
   "cell_type": "code",
   "execution_count": 3,
   "metadata": {},
   "outputs": [],
   "source": [
    "#| export\n",
    "RAW_EMAILS_FILE = \"Last50KCases_withSubjectAndBody.xlsx\"\n",
    "TEJAS_FILE = \"train_test_split/pd_3k_cases_cleaned.csv\""
   ]
  },
  {
   "cell_type": "code",
   "execution_count": 4,
   "metadata": {},
   "outputs": [
    {
     "data": {
      "text/html": [
       "<div>\n",
       "<style scoped>\n",
       "    .dataframe tbody tr th:only-of-type {\n",
       "        vertical-align: middle;\n",
       "    }\n",
       "\n",
       "    .dataframe tbody tr th {\n",
       "        vertical-align: top;\n",
       "    }\n",
       "\n",
       "    .dataframe thead th {\n",
       "        text-align: right;\n",
       "    }\n",
       "</style>\n",
       "<table border=\"1\" class=\"dataframe\">\n",
       "  <thead>\n",
       "    <tr style=\"text-align: right;\">\n",
       "      <th></th>\n",
       "      <th>BU</th>\n",
       "      <th>case_number</th>\n",
       "      <th>ACCOUNT_BUSINESS_UNIT__C</th>\n",
       "      <th>received_at</th>\n",
       "      <th>sfdc_category</th>\n",
       "      <th>sfdc_subcategory</th>\n",
       "      <th>predicted_category</th>\n",
       "      <th>predicted_subcategory</th>\n",
       "      <th>record_type</th>\n",
       "      <th>probability</th>\n",
       "      <th>Accuracy_upd</th>\n",
       "      <th>Bin</th>\n",
       "      <th>email_subject</th>\n",
       "      <th>email_body</th>\n",
       "    </tr>\n",
       "  </thead>\n",
       "  <tbody>\n",
       "    <tr>\n",
       "      <th>0</th>\n",
       "      <td>SPD</td>\n",
       "      <td>3469839</td>\n",
       "      <td>NaN</td>\n",
       "      <td>2023-09-11T13:22:32</td>\n",
       "      <td>Order Processing</td>\n",
       "      <td>Order Entry</td>\n",
       "      <td>Order Processing</td>\n",
       "      <td>NaN</td>\n",
       "      <td>2</td>\n",
       "      <td>0.876806</td>\n",
       "      <td>Correct</td>\n",
       "      <td>8</td>\n",
       "      <td>PO# 7004014842 || Walgreens Store 16422 || Ohi...</td>\n",
       "      <td>External Email â€“ Please use caution before o...</td>\n",
       "    </tr>\n",
       "    <tr>\n",
       "      <th>1</th>\n",
       "      <td>PD</td>\n",
       "      <td>3469841</td>\n",
       "      <td>a1G4z00000H4wVrEAJ</td>\n",
       "      <td>2023-09-11T13:22:37</td>\n",
       "      <td>Order Processing</td>\n",
       "      <td>Drop Ship Order</td>\n",
       "      <td>Order Processing</td>\n",
       "      <td>Drop Ship Order</td>\n",
       "      <td>1</td>\n",
       "      <td>0.838383</td>\n",
       "      <td>Correct</td>\n",
       "      <td>8</td>\n",
       "      <td>RE: Drop Ship Invoices</td>\n",
       "      <td>Hi, Tara.  Thank you for your patience. I have...</td>\n",
       "    </tr>\n",
       "    <tr>\n",
       "      <th>2</th>\n",
       "      <td>PD</td>\n",
       "      <td>3469842</td>\n",
       "      <td>a1G4z00000H4uvREAR</td>\n",
       "      <td>2023-09-11T13:22:43</td>\n",
       "      <td>Order Processing</td>\n",
       "      <td>Order Entry</td>\n",
       "      <td>General Inquiry</td>\n",
       "      <td>NaN</td>\n",
       "      <td>1</td>\n",
       "      <td>0.838036</td>\n",
       "      <td>Incorrect</td>\n",
       "      <td>8</td>\n",
       "      <td>Purchase Order #65398</td>\n",
       "      <td>External Email â€“ Please use caution before o...</td>\n",
       "    </tr>\n",
       "    <tr>\n",
       "      <th>3</th>\n",
       "      <td>PD</td>\n",
       "      <td>3469844</td>\n",
       "      <td>a1G4z00000H4vF7EAJ</td>\n",
       "      <td>2023-09-11T13:22:47</td>\n",
       "      <td>Order Processing</td>\n",
       "      <td>Order Entry</td>\n",
       "      <td>General Inquiry</td>\n",
       "      <td>NaN</td>\n",
       "      <td>1</td>\n",
       "      <td>0.838036</td>\n",
       "      <td>Incorrect</td>\n",
       "      <td>8</td>\n",
       "      <td>Purchase Order #SSC2320930</td>\n",
       "      <td>External Email â€“ Please use caution before o...</td>\n",
       "    </tr>\n",
       "    <tr>\n",
       "      <th>4</th>\n",
       "      <td>SPD</td>\n",
       "      <td>3469845</td>\n",
       "      <td>NaN</td>\n",
       "      <td>2023-09-11T13:23:01</td>\n",
       "      <td>Order Processing</td>\n",
       "      <td>Order Entry</td>\n",
       "      <td>Order Processing</td>\n",
       "      <td>NaN</td>\n",
       "      <td>2</td>\n",
       "      <td>0.794613</td>\n",
       "      <td>Correct</td>\n",
       "      <td>7</td>\n",
       "      <td>Krystexxa PIT 09.11.2023</td>\n",
       "      <td>External Email â€“ Please use caution before o...</td>\n",
       "    </tr>\n",
       "  </tbody>\n",
       "</table>\n",
       "</div>"
      ],
      "text/plain": [
       "    BU  case_number ACCOUNT_BUSINESS_UNIT__C          received_at  \\\n",
       "0  SPD      3469839                      NaN  2023-09-11T13:22:32   \n",
       "1   PD      3469841       a1G4z00000H4wVrEAJ  2023-09-11T13:22:37   \n",
       "2   PD      3469842       a1G4z00000H4uvREAR  2023-09-11T13:22:43   \n",
       "3   PD      3469844       a1G4z00000H4vF7EAJ  2023-09-11T13:22:47   \n",
       "4  SPD      3469845                      NaN  2023-09-11T13:23:01   \n",
       "\n",
       "      sfdc_category sfdc_subcategory predicted_category predicted_subcategory  \\\n",
       "0  Order Processing      Order Entry   Order Processing                   NaN   \n",
       "1  Order Processing  Drop Ship Order   Order Processing       Drop Ship Order   \n",
       "2  Order Processing      Order Entry    General Inquiry                   NaN   \n",
       "3  Order Processing      Order Entry    General Inquiry                   NaN   \n",
       "4  Order Processing      Order Entry   Order Processing                   NaN   \n",
       "\n",
       "   record_type  probability Accuracy_upd  Bin  \\\n",
       "0            2     0.876806      Correct    8   \n",
       "1            1     0.838383      Correct    8   \n",
       "2            1     0.838036    Incorrect    8   \n",
       "3            1     0.838036    Incorrect    8   \n",
       "4            2     0.794613      Correct    7   \n",
       "\n",
       "                                       email_subject  \\\n",
       "0  PO# 7004014842 || Walgreens Store 16422 || Ohi...   \n",
       "1                             RE: Drop Ship Invoices   \n",
       "2                              Purchase Order #65398   \n",
       "3                         Purchase Order #SSC2320930   \n",
       "4                           Krystexxa PIT 09.11.2023   \n",
       "\n",
       "                                          email_body  \n",
       "0  External Email â€“ Please use caution before o...  \n",
       "1  Hi, Tara.  Thank you for your patience. I have...  \n",
       "2  External Email â€“ Please use caution before o...  \n",
       "3  External Email â€“ Please use caution before o...  \n",
       "4  External Email â€“ Please use caution before o...  "
      ]
     },
     "execution_count": 4,
     "metadata": {},
     "output_type": "execute_result"
    }
   ],
   "source": [
    "training_data_sample = pd.read_excel(\n",
    "    f\"gs://{PROJECT_BUCKET}/Last50KCases_withSubjectAndBody.xlsx\", nrows=10)\n",
    "training_data_sample.loc[:, 'email_subject'] = training_data_sample.email_subject.fillna(\"N/A\")\n",
    "training_data_sample.head()"
   ]
  },
  {
   "cell_type": "code",
   "execution_count": 5,
   "metadata": {},
   "outputs": [],
   "source": [
    "#| export\n",
    "def get_raw_emails(**read_excel_kwargs) -> pd.DataFrame:\n",
    "    return pd.read_excel(f'gs://{PROJECT_BUCKET}/{RAW_EMAILS_FILE}', **read_excel_kwargs)"
   ]
  },
  {
   "cell_type": "code",
   "execution_count": 6,
   "metadata": {},
   "outputs": [],
   "source": [
    "#| export\n",
    "LABEL_COLUMN = \"sfdc_category\"\n",
    "\n",
    "def process_raw_emails(emails: pd.DataFrame) -> pd.DataFrame:\n",
    "    emails = emails.copy().rename({LABEL_COLUMN: 'label'}, axis=1)\n",
    "    emails.loc[:, 'email_subject'] = emails.email_subject.fillna(\"N/A\").astype(str)\n",
    "    emails.loc[:, 'email_body'] = emails.email_body.fillna(\"N/A\").astype(str)\n",
    "    return emails"
   ]
  },
  {
   "cell_type": "code",
   "execution_count": 7,
   "metadata": {},
   "outputs": [
    {
     "data": {
      "text/plain": [
       "label\n",
       "Order Processing    9\n",
       "Product Inquiry     1\n",
       "Name: count, dtype: int64"
      ]
     },
     "execution_count": 7,
     "metadata": {},
     "output_type": "execute_result"
    }
   ],
   "source": [
    "training_data_sample_processed = process_raw_emails(training_data_sample)\n",
    "training_data_sample_processed.label.value_counts()"
   ]
  },
  {
   "cell_type": "code",
   "execution_count": 8,
   "metadata": {},
   "outputs": [],
   "source": [
    "#| export\n",
    "def get_possible_labels() -> List[str]:\n",
    "    labels = get_raw_emails(usecols=[LABEL_COLUMN])\n",
    "    return labels[LABEL_COLUMN].unique().tolist()"
   ]
  },
  {
   "cell_type": "code",
   "execution_count": 9,
   "metadata": {},
   "outputs": [
    {
     "data": {
      "text/plain": [
       "['Order Processing',\n",
       " 'Product Inquiry',\n",
       " 'Account/Inquiry',\n",
       " 'General Inquiry',\n",
       " 'Returns',\n",
       " 'Billing / Invoice',\n",
       " 'Delivery',\n",
       " 'Credits',\n",
       " 'Order Discrepancy',\n",
       " 'Pricing',\n",
       " 'Program / Promotions']"
      ]
     },
     "execution_count": 9,
     "metadata": {},
     "output_type": "execute_result"
    }
   ],
   "source": [
    "possible_labels = get_possible_labels()\n",
    "possible_labels"
   ]
  },
  {
   "cell_type": "markdown",
   "metadata": {},
   "source": [
    "Get Tejas index"
   ]
  },
  {
   "cell_type": "code",
   "execution_count": 10,
   "metadata": {},
   "outputs": [
    {
     "data": {
      "text/html": [
       "<div>\n",
       "<style scoped>\n",
       "    .dataframe tbody tr th:only-of-type {\n",
       "        vertical-align: middle;\n",
       "    }\n",
       "\n",
       "    .dataframe tbody tr th {\n",
       "        vertical-align: top;\n",
       "    }\n",
       "\n",
       "    .dataframe thead th {\n",
       "        text-align: right;\n",
       "    }\n",
       "</style>\n",
       "<table border=\"1\" class=\"dataframe\">\n",
       "  <thead>\n",
       "    <tr style=\"text-align: right;\">\n",
       "      <th></th>\n",
       "      <th>case_number</th>\n",
       "      <th>email_subject</th>\n",
       "      <th>clean_email_body</th>\n",
       "      <th>sfdc_category</th>\n",
       "      <th>baseline_category</th>\n",
       "      <th>category</th>\n",
       "    </tr>\n",
       "  </thead>\n",
       "  <tbody>\n",
       "    <tr>\n",
       "      <th>0</th>\n",
       "      <td>3607450</td>\n",
       "      <td>Sodium Thiosulfate dropship order</td>\n",
       "      <td>Account 2057190482 Please place an order for ...</td>\n",
       "      <td>Order Processing</td>\n",
       "      <td>Order Processing</td>\n",
       "      <td>Order Processing</td>\n",
       "    </tr>\n",
       "    <tr>\n",
       "      <th>1</th>\n",
       "      <td>3604094</td>\n",
       "      <td>Credit Rebill Request</td>\n",
       "      <td>Good afternoon, I would like to request a cre...</td>\n",
       "      <td>Billing / Invoice</td>\n",
       "      <td>Credits</td>\n",
       "      <td>Billing / Invoice</td>\n",
       "    </tr>\n",
       "  </tbody>\n",
       "</table>\n",
       "</div>"
      ],
      "text/plain": [
       "   case_number                      email_subject  \\\n",
       "0      3607450  Sodium Thiosulfate dropship order   \n",
       "1      3604094              Credit Rebill Request   \n",
       "\n",
       "                                    clean_email_body      sfdc_category  \\\n",
       "0   Account 2057190482 Please place an order for ...   Order Processing   \n",
       "1   Good afternoon, I would like to request a cre...  Billing / Invoice   \n",
       "\n",
       "  baseline_category           category  \n",
       "0  Order Processing   Order Processing  \n",
       "1           Credits  Billing / Invoice  "
      ]
     },
     "execution_count": 10,
     "metadata": {},
     "output_type": "execute_result"
    }
   ],
   "source": [
    "tejas_file_sample = pd.read_csv(f'gs://{PROJECT_BUCKET}/{TEJAS_FILE}', nrows=10)\n",
    "tejas_file_sample.head(2)"
   ]
  },
  {
   "cell_type": "code",
   "execution_count": 11,
   "metadata": {},
   "outputs": [],
   "source": [
    "#| export\n",
    "def get_tejas_case_numbers() -> pd.Series:\n",
    "    return pd.read_csv(f'gs://{PROJECT_BUCKET}/{TEJAS_FILE}', usecols=['case_number']).case_number"
   ]
  },
  {
   "cell_type": "code",
   "execution_count": 12,
   "metadata": {},
   "outputs": [],
   "source": [
    "tejas_case_numbers = get_tejas_case_numbers()\n",
    "# Are these case numbers unique?\n",
    "assert tejas_file_sample.duplicated().sum() == 0"
   ]
  },
  {
   "cell_type": "code",
   "execution_count": 13,
   "metadata": {},
   "outputs": [
    {
     "data": {
      "text/plain": [
       "Index(['BU', 'case_number', 'ACCOUNT_BUSINESS_UNIT__C', 'received_at',\n",
       "       'sfdc_category', 'sfdc_subcategory', 'predicted_category',\n",
       "       'predicted_subcategory', 'record_type', 'probability', 'Accuracy_upd',\n",
       "       'Bin', 'email_subject', 'email_body'],\n",
       "      dtype='object')"
      ]
     },
     "execution_count": 13,
     "metadata": {},
     "output_type": "execute_result"
    }
   ],
   "source": [
    "training_data_sample.columns"
   ]
  },
  {
   "cell_type": "code",
   "execution_count": 14,
   "metadata": {},
   "outputs": [
    {
     "data": {
      "text/html": [
       "<div>\n",
       "<style scoped>\n",
       "    .dataframe tbody tr th:only-of-type {\n",
       "        vertical-align: middle;\n",
       "    }\n",
       "\n",
       "    .dataframe tbody tr th {\n",
       "        vertical-align: top;\n",
       "    }\n",
       "\n",
       "    .dataframe thead th {\n",
       "        text-align: right;\n",
       "    }\n",
       "</style>\n",
       "<table border=\"1\" class=\"dataframe\">\n",
       "  <thead>\n",
       "    <tr style=\"text-align: right;\">\n",
       "      <th></th>\n",
       "      <th>BU</th>\n",
       "      <th>case_number</th>\n",
       "      <th>ACCOUNT_BUSINESS_UNIT__C</th>\n",
       "      <th>received_at</th>\n",
       "      <th>sfdc_category</th>\n",
       "      <th>sfdc_subcategory</th>\n",
       "      <th>predicted_category</th>\n",
       "      <th>predicted_subcategory</th>\n",
       "      <th>record_type</th>\n",
       "      <th>probability</th>\n",
       "      <th>Accuracy_upd</th>\n",
       "      <th>Bin</th>\n",
       "      <th>email_subject</th>\n",
       "      <th>email_body</th>\n",
       "    </tr>\n",
       "  </thead>\n",
       "  <tbody>\n",
       "  </tbody>\n",
       "</table>\n",
       "</div>"
      ],
      "text/plain": [
       "Empty DataFrame\n",
       "Columns: [BU, case_number, ACCOUNT_BUSINESS_UNIT__C, received_at, sfdc_category, sfdc_subcategory, predicted_category, predicted_subcategory, record_type, probability, Accuracy_upd, Bin, email_subject, email_body]\n",
       "Index: []"
      ]
     },
     "execution_count": 14,
     "metadata": {},
     "output_type": "execute_result"
    }
   ],
   "source": [
    "training_data_sample.merge(\n",
    "    tejas_case_numbers, how='right', on='case_number').dropna()"
   ]
  },
  {
   "cell_type": "code",
   "execution_count": 15,
   "metadata": {},
   "outputs": [],
   "source": [
    "#| export\n",
    "def get_raw_emails_tejas_case_numbers() -> pd.DataFrame:\n",
    "    raw_emails = get_raw_emails()\n",
    "    tejas_case_numbers = get_tejas_case_numbers().tolist()\n",
    "    raw_emails = raw_emails[raw_emails.case_number.isin(tejas_case_numbers)]\n",
    "    return raw_emails"
   ]
  },
  {
   "cell_type": "code",
   "execution_count": 16,
   "metadata": {},
   "outputs": [],
   "source": [
    "raw_emails_tejas = get_raw_emails_tejas_case_numbers()"
   ]
  },
  {
   "cell_type": "code",
   "execution_count": 17,
   "metadata": {},
   "outputs": [
    {
     "data": {
      "text/html": [
       "<div>\n",
       "<style scoped>\n",
       "    .dataframe tbody tr th:only-of-type {\n",
       "        vertical-align: middle;\n",
       "    }\n",
       "\n",
       "    .dataframe tbody tr th {\n",
       "        vertical-align: top;\n",
       "    }\n",
       "\n",
       "    .dataframe thead th {\n",
       "        text-align: right;\n",
       "    }\n",
       "</style>\n",
       "<table border=\"1\" class=\"dataframe\">\n",
       "  <thead>\n",
       "    <tr style=\"text-align: right;\">\n",
       "      <th></th>\n",
       "      <th>BU</th>\n",
       "      <th>case_number</th>\n",
       "      <th>ACCOUNT_BUSINESS_UNIT__C</th>\n",
       "      <th>received_at</th>\n",
       "      <th>sfdc_category</th>\n",
       "      <th>sfdc_subcategory</th>\n",
       "      <th>predicted_category</th>\n",
       "      <th>predicted_subcategory</th>\n",
       "      <th>record_type</th>\n",
       "      <th>probability</th>\n",
       "      <th>Accuracy_upd</th>\n",
       "      <th>Bin</th>\n",
       "      <th>email_subject</th>\n",
       "      <th>email_body</th>\n",
       "    </tr>\n",
       "  </thead>\n",
       "  <tbody>\n",
       "    <tr>\n",
       "      <th>19</th>\n",
       "      <td>PD</td>\n",
       "      <td>3469874</td>\n",
       "      <td>NaN</td>\n",
       "      <td>2023-09-11T13:30:10</td>\n",
       "      <td>Account/Inquiry</td>\n",
       "      <td>Account updates</td>\n",
       "      <td>Account/Inquiry</td>\n",
       "      <td>NaN</td>\n",
       "      <td>1</td>\n",
       "      <td>0.479256</td>\n",
       "      <td>Correct</td>\n",
       "      <td>4</td>\n",
       "      <td>Requesting Weblink login - 2 Cedra accounts</td>\n",
       "      <td>Good morning,  Please send Weblink username em...</td>\n",
       "    </tr>\n",
       "    <tr>\n",
       "      <th>29</th>\n",
       "      <td>PD</td>\n",
       "      <td>3469907</td>\n",
       "      <td>a1G4z00000FwveoEAB</td>\n",
       "      <td>2023-09-11T13:40:44</td>\n",
       "      <td>Delivery</td>\n",
       "      <td>Customer Request</td>\n",
       "      <td>Billing / Invoice</td>\n",
       "      <td>NaN</td>\n",
       "      <td>1</td>\n",
       "      <td>0.406604</td>\n",
       "      <td>Incorrect</td>\n",
       "      <td>4</td>\n",
       "      <td>Offboarding for IONE PHARMACY 340B</td>\n",
       "      <td>Hello Team,  Kindly assist on submitting a req...</td>\n",
       "    </tr>\n",
       "  </tbody>\n",
       "</table>\n",
       "</div>"
      ],
      "text/plain": [
       "    BU  case_number ACCOUNT_BUSINESS_UNIT__C          received_at  \\\n",
       "19  PD      3469874                      NaN  2023-09-11T13:30:10   \n",
       "29  PD      3469907       a1G4z00000FwveoEAB  2023-09-11T13:40:44   \n",
       "\n",
       "      sfdc_category  sfdc_subcategory predicted_category  \\\n",
       "19  Account/Inquiry   Account updates    Account/Inquiry   \n",
       "29         Delivery  Customer Request  Billing / Invoice   \n",
       "\n",
       "   predicted_subcategory  record_type  probability Accuracy_upd  Bin  \\\n",
       "19                   NaN            1     0.479256      Correct    4   \n",
       "29                   NaN            1     0.406604    Incorrect    4   \n",
       "\n",
       "                                  email_subject  \\\n",
       "19  Requesting Weblink login - 2 Cedra accounts   \n",
       "29           Offboarding for IONE PHARMACY 340B   \n",
       "\n",
       "                                           email_body  \n",
       "19  Good morning,  Please send Weblink username em...  \n",
       "29  Hello Team,  Kindly assist on submitting a req...  "
      ]
     },
     "execution_count": 17,
     "metadata": {},
     "output_type": "execute_result"
    }
   ],
   "source": [
    "raw_emails_tejas.head(2)"
   ]
  },
  {
   "cell_type": "markdown",
   "metadata": {},
   "source": [
    "## Define our TrainingInstance"
   ]
  },
  {
   "cell_type": "code",
   "execution_count": 18,
   "metadata": {},
   "outputs": [],
   "source": [
    "#| export\n",
    "class Email(BaseModel):\n",
    "    idx: int\n",
    "    label: str\n",
    "    email_subject: str\n",
    "    email_body: str\n",
    "    metadata: Dict[str, Any]\n",
    "\n",
    "    def to_series(self) -> pd.Series:\n",
    "        data = self.metadata.copy()\n",
    "        data['idx'] = self.idx\n",
    "        data['label'] = self.label\n",
    "        data['email_subject'] = self.email_subject\n",
    "        data['email_body'] = self.email_body\n",
    "        return pd.Series(data)        \n",
    "\n",
    "\n",
    "def email_from_row(\n",
    "        idx: int, \n",
    "        row: pd.Series,\n",
    "        label_column: str = LABEL_COLUMN):\n",
    "    metadata = row.drop(\n",
    "        [\n",
    "            label_column, \n",
    "            'email_subject',\n",
    "            'email_body'\n",
    "        ]).to_dict()\n",
    "    return Email(\n",
    "        idx=idx,\n",
    "        label=row[label_column],\n",
    "        email_subject=str(row.email_subject),\n",
    "        email_body=str(row.email_body),\n",
    "        metadata=metadata\n",
    "    )"
   ]
  },
  {
   "cell_type": "code",
   "execution_count": 20,
   "metadata": {},
   "outputs": [
    {
     "data": {
      "text/plain": [
       "Email(idx=0, label='Order Processing', email_subject='PO# 7004014842 || Walgreens Store 16422 || Ohio State University', email_body='External Email â€“ Please use caution before opening attachments or clicking links  Cardinal Ordering Team,  Please place the drop ship order(s) listed below for:  Client Name Ohio State University PO ID 7004014842 Account # 2150126632 Store # 16422 NDC 70127010010 Drug Name EPIDIOLEX 100MG/ML SOL 100ML Order Quantity 5 Prescriber Name LUCRETIA LONG, PHILIP CLAYTON JONAS Prescriber NPI or DEA ML0822634, FJ1422132  Thanks & Regards, Bhavesh Lalwani', metadata={'BU': 'SPD', 'case_number': 3469839, 'ACCOUNT_BUSINESS_UNIT__C': nan, 'received_at': '2023-09-11T13:22:32', 'sfdc_subcategory': 'Order Entry', 'predicted_category': 'Order Processing', 'predicted_subcategory': nan, 'record_type': 2, 'probability': 0.8768061, 'Accuracy_upd': 'Correct', 'Bin': 8})"
      ]
     },
     "execution_count": 20,
     "metadata": {},
     "output_type": "execute_result"
    }
   ],
   "source": [
    "example_emails = email_from_row(0, training_data_sample.iloc[0])\n",
    "example_emails"
   ]
  },
  {
   "cell_type": "markdown",
   "metadata": {},
   "source": [
    "## Get a \"training\" and \"test\" sample, remove outliers"
   ]
  },
  {
   "cell_type": "markdown",
   "metadata": {},
   "source": [
    "### Outlier removal\n",
    "We will remove outliers by subject + body length"
   ]
  },
  {
   "cell_type": "code",
   "execution_count": 21,
   "metadata": {},
   "outputs": [],
   "source": [
    "#| export\n",
    "# Our prompt to summarize takes up some amount of prompt space. This is a rough limit\n",
    "EMAIL_SIZE_LIMIT = 7800\n",
    "\n",
    "\n",
    "def email_small_enough(subject: str, body: str, limit: int = EMAIL_SIZE_LIMIT) -> bool:\n",
    "    if not isinstance(subject, str):\n",
    "        subject = str(subject)\n",
    "    if not isinstance(body, str):\n",
    "        body = str(body)\n",
    "    return (len(subject) + len(body)) < limit"
   ]
  },
  {
   "cell_type": "code",
   "execution_count": 22,
   "metadata": {},
   "outputs": [],
   "source": [
    "size_mask = raw_emails_tejas.apply(\n",
    "    lambda row: email_small_enough(\n",
    "        row.email_subject,\n",
    "        row.email_body\n",
    "    ), axis=1)"
   ]
  },
  {
   "cell_type": "code",
   "execution_count": 23,
   "metadata": {},
   "outputs": [
    {
     "data": {
      "text/plain": [
       "3137"
      ]
     },
     "execution_count": 23,
     "metadata": {},
     "output_type": "execute_result"
    }
   ],
   "source": [
    "training_data_included = raw_emails_tejas[size_mask]\n",
    "training_data_included.shape[0]"
   ]
  },
  {
   "cell_type": "code",
   "execution_count": 24,
   "metadata": {},
   "outputs": [
    {
     "data": {
      "text/html": [
       "<div>\n",
       "<style scoped>\n",
       "    .dataframe tbody tr th:only-of-type {\n",
       "        vertical-align: middle;\n",
       "    }\n",
       "\n",
       "    .dataframe tbody tr th {\n",
       "        vertical-align: top;\n",
       "    }\n",
       "\n",
       "    .dataframe thead th {\n",
       "        text-align: right;\n",
       "    }\n",
       "</style>\n",
       "<table border=\"1\" class=\"dataframe\">\n",
       "  <thead>\n",
       "    <tr style=\"text-align: right;\">\n",
       "      <th></th>\n",
       "      <th>BU</th>\n",
       "      <th>case_number</th>\n",
       "      <th>ACCOUNT_BUSINESS_UNIT__C</th>\n",
       "      <th>received_at</th>\n",
       "      <th>sfdc_category</th>\n",
       "      <th>sfdc_subcategory</th>\n",
       "      <th>predicted_category</th>\n",
       "      <th>predicted_subcategory</th>\n",
       "      <th>record_type</th>\n",
       "      <th>probability</th>\n",
       "      <th>Accuracy_upd</th>\n",
       "      <th>Bin</th>\n",
       "      <th>email_subject</th>\n",
       "      <th>email_body</th>\n",
       "    </tr>\n",
       "  </thead>\n",
       "  <tbody>\n",
       "    <tr>\n",
       "      <th>19</th>\n",
       "      <td>PD</td>\n",
       "      <td>3469874</td>\n",
       "      <td>NaN</td>\n",
       "      <td>2023-09-11T13:30:10</td>\n",
       "      <td>Account/Inquiry</td>\n",
       "      <td>Account updates</td>\n",
       "      <td>Account/Inquiry</td>\n",
       "      <td>NaN</td>\n",
       "      <td>1</td>\n",
       "      <td>0.479256</td>\n",
       "      <td>Correct</td>\n",
       "      <td>4</td>\n",
       "      <td>Requesting Weblink login - 2 Cedra accounts</td>\n",
       "      <td>Good morning,  Please send Weblink username em...</td>\n",
       "    </tr>\n",
       "    <tr>\n",
       "      <th>29</th>\n",
       "      <td>PD</td>\n",
       "      <td>3469907</td>\n",
       "      <td>a1G4z00000FwveoEAB</td>\n",
       "      <td>2023-09-11T13:40:44</td>\n",
       "      <td>Delivery</td>\n",
       "      <td>Customer Request</td>\n",
       "      <td>Billing / Invoice</td>\n",
       "      <td>NaN</td>\n",
       "      <td>1</td>\n",
       "      <td>0.406604</td>\n",
       "      <td>Incorrect</td>\n",
       "      <td>4</td>\n",
       "      <td>Offboarding for IONE PHARMACY 340B</td>\n",
       "      <td>Hello Team,  Kindly assist on submitting a req...</td>\n",
       "    </tr>\n",
       "  </tbody>\n",
       "</table>\n",
       "</div>"
      ],
      "text/plain": [
       "    BU  case_number ACCOUNT_BUSINESS_UNIT__C          received_at  \\\n",
       "19  PD      3469874                      NaN  2023-09-11T13:30:10   \n",
       "29  PD      3469907       a1G4z00000FwveoEAB  2023-09-11T13:40:44   \n",
       "\n",
       "      sfdc_category  sfdc_subcategory predicted_category  \\\n",
       "19  Account/Inquiry   Account updates    Account/Inquiry   \n",
       "29         Delivery  Customer Request  Billing / Invoice   \n",
       "\n",
       "   predicted_subcategory  record_type  probability Accuracy_upd  Bin  \\\n",
       "19                   NaN            1     0.479256      Correct    4   \n",
       "29                   NaN            1     0.406604    Incorrect    4   \n",
       "\n",
       "                                  email_subject  \\\n",
       "19  Requesting Weblink login - 2 Cedra accounts   \n",
       "29           Offboarding for IONE PHARMACY 340B   \n",
       "\n",
       "                                           email_body  \n",
       "19  Good morning,  Please send Weblink username em...  \n",
       "29  Hello Team,  Kindly assist on submitting a req...  "
      ]
     },
     "execution_count": 24,
     "metadata": {},
     "output_type": "execute_result"
    }
   ],
   "source": [
    "training_data_included.head(2)"
   ]
  },
  {
   "cell_type": "markdown",
   "metadata": {},
   "source": [
    "### Train and test set\n",
    "We will sample by label. Limit to 5,000 emails total. 90% train, 10% test."
   ]
  },
  {
   "cell_type": "code",
   "execution_count": 25,
   "metadata": {},
   "outputs": [],
   "source": [
    "#| export\n",
    "INCLUSION_COUNT = 3000\n",
    "\n",
    "\n",
    "def get_train_test_idx(\n",
    "        data: pd.DataFrame,\n",
    "        inclusion_count: int = INCLUSION_COUNT, \n",
    "        train_proportion: int = 0.8,\n",
    "        label_column: str = LABEL_COLUMN,\n",
    "        random_state: int = 42):\n",
    "    train_count = int(round(inclusion_count * train_proportion))\n",
    "    test_count = inclusion_count - train_count\n",
    "    train, test = train_test_split(\n",
    "        data,\n",
    "        test_size=test_count, \n",
    "        train_size=train_count,\n",
    "        random_state=random_state,\n",
    "        stratify=data[label_column])\n",
    "    input_data = pd.concat([train, test], axis=0)\n",
    "    return train_test_split(\n",
    "        input_data,\n",
    "        test_size=1-train_proportion,\n",
    "        train_size=train_proportion,\n",
    "        random_state=random_state,\n",
    "        stratify=input_data[label_column]\n",
    "    )"
   ]
  },
  {
   "cell_type": "code",
   "execution_count": 26,
   "metadata": {},
   "outputs": [],
   "source": [
    "train, test = get_train_test_idx(training_data_included)"
   ]
  },
  {
   "cell_type": "code",
   "execution_count": 27,
   "metadata": {},
   "outputs": [
    {
     "data": {
      "text/plain": [
       "3000"
      ]
     },
     "execution_count": 27,
     "metadata": {},
     "output_type": "execute_result"
    }
   ],
   "source": [
    "train.shape[0] + test.shape[0]"
   ]
  },
  {
   "cell_type": "code",
   "execution_count": 28,
   "metadata": {},
   "outputs": [
    {
     "data": {
      "text/plain": [
       "(sfdc_category\n",
       " Account/Inquiry         658\n",
       " Billing / Invoice       126\n",
       " Credits                  47\n",
       " Delivery                 64\n",
       " General Inquiry          35\n",
       " Order Discrepancy       215\n",
       " Order Processing        898\n",
       " Pricing                  10\n",
       " Product Inquiry         131\n",
       " Program / Promotions     13\n",
       " Returns                 203\n",
       " Name: count, dtype: int64,\n",
       " sfdc_category\n",
       " Account/Inquiry         164\n",
       " Billing / Invoice        31\n",
       " Credits                  12\n",
       " Delivery                 16\n",
       " General Inquiry           9\n",
       " Order Discrepancy        54\n",
       " Order Processing        224\n",
       " Pricing                   3\n",
       " Product Inquiry          33\n",
       " Program / Promotions      3\n",
       " Returns                  51\n",
       " Name: count, dtype: int64)"
      ]
     },
     "execution_count": 28,
     "metadata": {},
     "output_type": "execute_result"
    }
   ],
   "source": [
    "train[LABEL_COLUMN].value_counts().sort_index(), test[LABEL_COLUMN].value_counts().sort_index()"
   ]
  },
  {
   "cell_type": "code",
   "execution_count": 29,
   "metadata": {},
   "outputs": [],
   "source": [
    "#| export\n",
    "TRAIN_IDX_NAME = \"train_idx.csv\"\n",
    "TEST_IDX_NAME = \"test_idx.csv\"\n",
    "\n",
    "\n",
    "def write_idx(\n",
    "        train_idx: pd.Index, \n",
    "        test_idx: pd.Index, \n",
    "        bucket_name: str = PROJECT_BUCKET,\n",
    "        prefix: str = WRITE_PREFIX):\n",
    "    \n",
    "    train_idx.to_series().to_csv(f\"gs://{bucket_name}/{prefix}/{TRAIN_IDX_NAME}\", index=False)\n",
    "    test_idx.to_series().to_csv(f\"gs://{bucket_name}/{prefix}/{TEST_IDX_NAME}\", index=False)"
   ]
  },
  {
   "cell_type": "code",
   "execution_count": 30,
   "metadata": {},
   "outputs": [],
   "source": [
    "write_idx(\n",
    "    train.index,\n",
    "    test.index,\n",
    "    prefix=f\"{WRITE_PREFIX}/tejas\"\n",
    ")"
   ]
  },
  {
   "cell_type": "code",
   "execution_count": 31,
   "metadata": {},
   "outputs": [],
   "source": [
    "#| export\n",
    "def get_idx(\n",
    "        bucket_name: str = PROJECT_BUCKET,\n",
    "        prefix: str = WRITE_PREFIX) -> Tuple[pd.Series, pd.Series]:\n",
    "    return pd.read_csv(f'gs://{bucket_name}/{prefix}/{TRAIN_IDX_NAME}').iloc[:, 0], \\\n",
    "        pd.read_csv(f'gs://{bucket_name}/{prefix}/{TEST_IDX_NAME}').iloc[:, 0]"
   ]
  },
  {
   "cell_type": "code",
   "execution_count": 32,
   "metadata": {},
   "outputs": [
    {
     "data": {
      "text/plain": [
       "0    31716\n",
       "1    35200\n",
       "2      462\n",
       "3     3705\n",
       "4    25300\n",
       "Name: 0, dtype: int64"
      ]
     },
     "execution_count": 32,
     "metadata": {},
     "output_type": "execute_result"
    }
   ],
   "source": [
    "train_idx, test_idx = get_idx(prefix=f\"{WRITE_PREFIX}/tejas\")\n",
    "train_idx.head()"
   ]
  },
  {
   "cell_type": "code",
   "execution_count": 33,
   "metadata": {},
   "outputs": [
    {
     "data": {
      "text/html": [
       "<div>\n",
       "<style scoped>\n",
       "    .dataframe tbody tr th:only-of-type {\n",
       "        vertical-align: middle;\n",
       "    }\n",
       "\n",
       "    .dataframe tbody tr th {\n",
       "        vertical-align: top;\n",
       "    }\n",
       "\n",
       "    .dataframe thead th {\n",
       "        text-align: right;\n",
       "    }\n",
       "</style>\n",
       "<table border=\"1\" class=\"dataframe\">\n",
       "  <thead>\n",
       "    <tr style=\"text-align: right;\">\n",
       "      <th></th>\n",
       "      <th>BU</th>\n",
       "      <th>case_number</th>\n",
       "      <th>ACCOUNT_BUSINESS_UNIT__C</th>\n",
       "      <th>received_at</th>\n",
       "      <th>sfdc_category</th>\n",
       "      <th>sfdc_subcategory</th>\n",
       "      <th>predicted_category</th>\n",
       "      <th>predicted_subcategory</th>\n",
       "      <th>record_type</th>\n",
       "      <th>probability</th>\n",
       "      <th>Accuracy_upd</th>\n",
       "      <th>Bin</th>\n",
       "      <th>email_subject</th>\n",
       "      <th>email_body</th>\n",
       "    </tr>\n",
       "  </thead>\n",
       "  <tbody>\n",
       "    <tr>\n",
       "      <th>31716</th>\n",
       "      <td>PD</td>\n",
       "      <td>3598350</td>\n",
       "      <td>NaN</td>\n",
       "      <td>2023-11-01T19:40:57</td>\n",
       "      <td>Order Processing</td>\n",
       "      <td>Drop Ship Order</td>\n",
       "      <td>Order Processing</td>\n",
       "      <td>Drop Ship Order</td>\n",
       "      <td>1</td>\n",
       "      <td>0.576672</td>\n",
       "      <td>Correct</td>\n",
       "      <td>5</td>\n",
       "      <td>Equashield latest - FW: EQ II Catalog 2023 - C...</td>\n",
       "      <td>External Email â€“ Please use caution before o...</td>\n",
       "    </tr>\n",
       "    <tr>\n",
       "      <th>35200</th>\n",
       "      <td>PD</td>\n",
       "      <td>3613116</td>\n",
       "      <td>NaN</td>\n",
       "      <td>2023-11-08T17:27:04</td>\n",
       "      <td>Billing / Invoice</td>\n",
       "      <td>Account balance</td>\n",
       "      <td>Billing / Invoice</td>\n",
       "      <td>NaN</td>\n",
       "      <td>1</td>\n",
       "      <td>0.496874</td>\n",
       "      <td>Correct</td>\n",
       "      <td>4</td>\n",
       "      <td>Auto-Reply.  We Have Received Your Request</td>\n",
       "      <td>To whom it may concern,  Your request has been...</td>\n",
       "    </tr>\n",
       "  </tbody>\n",
       "</table>\n",
       "</div>"
      ],
      "text/plain": [
       "       BU  case_number ACCOUNT_BUSINESS_UNIT__C          received_at  \\\n",
       "31716  PD      3598350                      NaN  2023-11-01T19:40:57   \n",
       "35200  PD      3613116                      NaN  2023-11-08T17:27:04   \n",
       "\n",
       "           sfdc_category sfdc_subcategory predicted_category  \\\n",
       "31716   Order Processing  Drop Ship Order   Order Processing   \n",
       "35200  Billing / Invoice  Account balance  Billing / Invoice   \n",
       "\n",
       "      predicted_subcategory  record_type  probability Accuracy_upd  Bin  \\\n",
       "31716       Drop Ship Order            1     0.576672      Correct    5   \n",
       "35200                   NaN            1     0.496874      Correct    4   \n",
       "\n",
       "                                           email_subject  \\\n",
       "31716  Equashield latest - FW: EQ II Catalog 2023 - C...   \n",
       "35200         Auto-Reply.  We Have Received Your Request   \n",
       "\n",
       "                                              email_body  \n",
       "31716  External Email â€“ Please use caution before o...  \n",
       "35200  To whom it may concern,  Your request has been...  "
      ]
     },
     "execution_count": 33,
     "metadata": {},
     "output_type": "execute_result"
    }
   ],
   "source": [
    "full_idx = pd.concat(\n",
    "    [train_idx, test_idx],\n",
    "    axis=0,\n",
    "    ignore_index=True\n",
    ")\n",
    "training_data_included.loc[full_idx, :].head(2)"
   ]
  },
  {
   "cell_type": "code",
   "execution_count": 34,
   "metadata": {},
   "outputs": [],
   "source": [
    "#| export\n",
    "def get_emails_from_frame(\n",
    "        data: pd.DataFrame,\n",
    "        which: str = 'both',\n",
    "        bucket_name: str = PROJECT_BUCKET,\n",
    "        index_prefix: str = WRITE_PREFIX,\n",
    "        label_column: str = LABEL_COLUMN\n",
    ") -> Iterable[Email]:\n",
    "    \"\"\"\n",
    "    Pass a raw dataframe\n",
    "    \"\"\"\n",
    "    if which not in ['train', 'test', 'both']:\n",
    "        raise ValueError(\"which must be one of 'train', 'test', 'both'\")\n",
    "    # Load train and test idx\n",
    "    train_idx, test_idx = get_idx(bucket_name=bucket_name, prefix=index_prefix)\n",
    "    full_idx = pd.concat([train_idx, test_idx], axis=0, ignore_index=True)\n",
    "    if which == 'train':\n",
    "        data = data.loc[train_idx, :]\n",
    "    elif which == 'test':\n",
    "        data = data.loc[test_idx, :]\n",
    "    else:  # Both\n",
    "        data = data.loc[full_idx, :]\n",
    "    for idx, row in data.iterrows():\n",
    "        yield email_from_row(idx, row, label_column=label_column)"
   ]
  },
  {
   "cell_type": "code",
   "execution_count": 35,
   "metadata": {},
   "outputs": [],
   "source": [
    "# max length\n",
    "training_instance_loader = get_emails_from_frame(\n",
    "    training_data_included, \n",
    "    'train',\n",
    "    index_prefix=f\"{WRITE_PREFIX}/tejas\")\n",
    "test_instance_loader = get_emails_from_frame(\n",
    "    training_data_included, \n",
    "    'test',\n",
    "    index_prefix=f\"{WRITE_PREFIX}/tejas\")"
   ]
  },
  {
   "cell_type": "code",
   "execution_count": 36,
   "metadata": {},
   "outputs": [],
   "source": [
    "#| export\n",
    "def get_batches(loader: Iterable[Any], batch_size: int = 32) -> Iterable[List[Any]]:\n",
    "    \"Get a batch of anything from an iterable.\"\n",
    "    batch = []\n",
    "    for item in loader:\n",
    "        batch.append(item)\n",
    "        if len(batch) >= batch_size:\n",
    "            yield batch\n",
    "            batch = []\n",
    "    yield batch"
   ]
  },
  {
   "cell_type": "code",
   "execution_count": 37,
   "metadata": {},
   "outputs": [
    {
     "data": {
      "text/plain": [
       "Email(idx=31716, label='Order Processing', email_subject='Equashield latest - FW: EQ II Catalog 2023 - Cardinal Health.xlsx', email_body='External Email â€“ Please use caution before opening attachments or clicking links  Let us know if you need anything else.    Regards,  Thomas Everitt Customer Service Representative Office    +1 516 684 8200 / Ext: 220 Mobile  +1 516 398 97 25 Fax          +1 516 684 8202 www.equashield.com<http://www.equashield.com/> [cid:image001.png@01DA0CD9.861376B0] [cid:image002.png@01DA0CD9.861376B0]  From: Pavlina Georgieva <pavlina@equashield.com> Sent: Wednesday, November 1, 2023 3:39 PM To: Thomas Everitt <Thomas.e@equashield.com> Subject: EQ II Catalog 2023 - Cardinal Health.xlsx      Regards,  Pavlina Georgieva Logistics Coordinator Office    +1 516 684 8200 / Ext: 202 Fax          +1 516 684 8202 www.equashield.com<http://www.equashield.com/> [cid:image001.png@01DA0CD9.861376B0] [cid:image002.png@01DA0CD9.861376B0]   ________________________________ Confidentiality Notice: This e-mail message, including any attachments, is for the sole use of the intended recipient(s) and may contain CONFIDENTIAL or PRIVILEGED information. Any unauthorized review, use, disclosure or distribution is prohibited. If you are not the intended recipient, please contact the sender by reply e-mail and immediately destroy all copies of the original message and all attachments.', metadata={'BU': 'PD', 'case_number': 3598350, 'ACCOUNT_BUSINESS_UNIT__C': nan, 'received_at': '2023-11-01T19:40:57', 'sfdc_subcategory': 'Drop Ship Order', 'predicted_category': 'Order Processing', 'predicted_subcategory': 'Drop Ship Order', 'record_type': 1, 'probability': 0.57667184, 'Accuracy_upd': 'Correct', 'Bin': 5})"
      ]
     },
     "execution_count": 37,
     "metadata": {},
     "output_type": "execute_result"
    }
   ],
   "source": [
    "next(training_instance_loader)"
   ]
  },
  {
   "cell_type": "code",
   "execution_count": 38,
   "metadata": {},
   "outputs": [
    {
     "data": {
      "text/plain": [
       "Email(idx=13614, label='Returns', email_subject='Need signature AC account', email_body='Good afternoon,  We have received an order from customer 2057194105. They sent unsigned MRA 3901356789. Can you please reach out to the customer and let them know they have 48 hours to send a signed MRA or we will send back the case for no credit.  Thanks,   [cid:image001.png@01D9F52F.5AD273F0]  Tom Coppedge Returns Lead | Warehouse Operations 2840 Elm Pont Industrial Drive St. Charles, MO. 63301    _________________________________________________  This message is for the designated recipient only and may contain privileged, proprietary or otherwise private information. If you have received it in error, please notify the sender immediately and delete the original. Any other use of the email by you is prohibited.  Dansk - Deutsch - Espanol - Francais - Italiano - Japanese - Nederlands - Norsk - Portuguese - Chinese Svenska: http://www.cardinalhealth.com/en/support/terms-and-conditions-english.html', metadata={'BU': 'PD', 'case_number': 3524302, 'ACCOUNT_BUSINESS_UNIT__C': 'a1G4z00000H4xcvEAB', 'received_at': '2023-10-02T17:53:01', 'sfdc_subcategory': 'Overstock', 'predicted_category': 'Order Discrepancy', 'predicted_subcategory': nan, 'record_type': 1, 'probability': 0.5290409, 'Accuracy_upd': 'Incorrect', 'Bin': 5})"
      ]
     },
     "execution_count": 38,
     "metadata": {},
     "output_type": "execute_result"
    }
   ],
   "source": [
    "next(test_instance_loader)"
   ]
  },
  {
   "cell_type": "markdown",
   "metadata": {},
   "source": [
    "## Export"
   ]
  },
  {
   "cell_type": "code",
   "execution_count": 39,
   "metadata": {},
   "outputs": [],
   "source": [
    "#| hide\n",
    "import nbdev; nbdev.nbdev_export()"
   ]
  },
  {
   "cell_type": "code",
   "execution_count": null,
   "metadata": {},
   "outputs": [],
   "source": []
  }
 ],
 "metadata": {
  "kernelspec": {
   "display_name": ".venv",
   "language": "python",
   "name": "python3"
  },
  "language_info": {
   "codemirror_mode": {
    "name": "ipython",
    "version": 3
   },
   "file_extension": ".py",
   "mimetype": "text/x-python",
   "name": "python",
   "nbconvert_exporter": "python",
   "pygments_lexer": "ipython3",
   "version": "3.11.4"
  }
 },
 "nbformat": 4,
 "nbformat_minor": 2
}
