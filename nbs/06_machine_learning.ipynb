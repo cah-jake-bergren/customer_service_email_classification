{
 "cells": [
  {
   "cell_type": "markdown",
   "metadata": {},
   "source": [
    "# Machine Learning\n",
    "\n",
    "> We've got numerical vectors, why not use ML?"
   ]
  },
  {
   "cell_type": "code",
   "execution_count": 4,
   "metadata": {},
   "outputs": [],
   "source": [
    "#| default_exp machine_learning"
   ]
  },
  {
   "cell_type": "markdown",
   "metadata": {},
   "source": [
    "## Setup"
   ]
  },
  {
   "cell_type": "code",
   "execution_count": 92,
   "metadata": {},
   "outputs": [],
   "source": [
    "#| export\n",
    "import xgboost\n",
    "from pathlib import Path\n",
    "import numpy as np\n",
    "import pandas as pd\n",
    "import json\n",
    "from langchain.document_loaders import DataFrameLoader\n",
    "from langchain.schema import Document\n",
    "from tqdm import tqdm\n",
    "from google.cloud import storage\n",
    "from sklearn.preprocessing import LabelEncoder\n",
    "from sklearn import metrics\n",
    "from sklearn.utils import class_weight\n",
    "from matplotlib import pyplot as plt\n",
    "\n",
    "from classifier.schema import get_storage_client\n",
    "from classifier.load import PROJECT_BUCKET, WRITE_PREFIX, \\\n",
    "    get_training_instances, get_idx\n",
    "from classifier.chroma import read_json_lines_from_gcs, get_embedder, get_document_batches"
   ]
  },
  {
   "cell_type": "markdown",
   "metadata": {},
   "source": [
    "## Load data"
   ]
  },
  {
   "cell_type": "code",
   "execution_count": 6,
   "metadata": {},
   "outputs": [],
   "source": [
    "summary_embedding_path = \"summarization_embeddings.json\"\n",
    "summary_metadata_path = \"summarization_metadata.jsonl\"\n",
    "summary_path = \"summarization/prediction-model-2023-12-18T15:10:57.834767Z/000000000000.jsonl\""
   ]
  },
  {
   "cell_type": "markdown",
   "metadata": {},
   "source": [
    "Get summaries"
   ]
  },
  {
   "cell_type": "code",
   "execution_count": 7,
   "metadata": {},
   "outputs": [],
   "source": [
    "summaries_jsonl = list(read_json_lines_from_gcs(f\"{WRITE_PREFIX}/{summary_path}\"))"
   ]
  },
  {
   "cell_type": "code",
   "execution_count": 8,
   "metadata": {},
   "outputs": [
    {
     "data": {
      "text/plain": [
       "' The email is from Max Daugherty, Vice President of Clinical Operations at Partners Pharmacy. He is requesting a same-day order for account number 2057192443 in Stafford, TX. The confirmation number for the order is 1053194086.\\n\\nThe customer is requesting that the order be removed from credit hold, processed, and delivered to the pharmacy the same day.'"
      ]
     },
     "execution_count": 8,
     "metadata": {},
     "output_type": "execute_result"
    }
   ],
   "source": [
    "summaries_jsonl[0]['predictions'][0].get('content')"
   ]
  },
  {
   "cell_type": "code",
   "execution_count": 9,
   "metadata": {},
   "outputs": [
    {
     "data": {
      "text/plain": [
       "count    10000.000000\n",
       "mean       258.840000\n",
       "std        107.561965\n",
       "min          0.000000\n",
       "25%        216.000000\n",
       "50%        275.000000\n",
       "75%        323.000000\n",
       "max        578.000000\n",
       "dtype: float64"
      ]
     },
     "execution_count": 9,
     "metadata": {},
     "output_type": "execute_result"
    }
   ],
   "source": [
    "summaries = pd.Series([s.get('predictions',[{}])[0].get('content', \"\").strip() for s in summaries_jsonl])\n",
    "summaries.str.len().describe()"
   ]
  },
  {
   "cell_type": "markdown",
   "metadata": {},
   "source": [
    "Get metadata"
   ]
  },
  {
   "cell_type": "code",
   "execution_count": 10,
   "metadata": {},
   "outputs": [],
   "source": [
    "summary_metadata = list(read_json_lines_from_gcs(\n",
    "    f\"{WRITE_PREFIX}/{summary_metadata_path}\"\n",
    "))"
   ]
  },
  {
   "cell_type": "markdown",
   "metadata": {},
   "source": [
    "Combine"
   ]
  },
  {
   "cell_type": "code",
   "execution_count": 11,
   "metadata": {},
   "outputs": [
    {
     "data": {
      "text/html": [
       "<div>\n",
       "<style scoped>\n",
       "    .dataframe tbody tr th:only-of-type {\n",
       "        vertical-align: middle;\n",
       "    }\n",
       "\n",
       "    .dataframe tbody tr th {\n",
       "        vertical-align: top;\n",
       "    }\n",
       "\n",
       "    .dataframe thead th {\n",
       "        text-align: right;\n",
       "    }\n",
       "</style>\n",
       "<table border=\"1\" class=\"dataframe\">\n",
       "  <thead>\n",
       "    <tr style=\"text-align: right;\">\n",
       "      <th></th>\n",
       "      <th>BU</th>\n",
       "      <th>case_number</th>\n",
       "      <th>ACCOUNT_BUSINESS_UNIT__C</th>\n",
       "      <th>received_at</th>\n",
       "      <th>sfdc_subcategory</th>\n",
       "      <th>predicted_category</th>\n",
       "      <th>predicted_subcategory</th>\n",
       "      <th>record_type</th>\n",
       "      <th>probability</th>\n",
       "      <th>Accuracy_upd</th>\n",
       "      <th>Bin</th>\n",
       "      <th>summary</th>\n",
       "    </tr>\n",
       "    <tr>\n",
       "      <th>idx</th>\n",
       "      <th></th>\n",
       "      <th></th>\n",
       "      <th></th>\n",
       "      <th></th>\n",
       "      <th></th>\n",
       "      <th></th>\n",
       "      <th></th>\n",
       "      <th></th>\n",
       "      <th></th>\n",
       "      <th></th>\n",
       "      <th></th>\n",
       "      <th></th>\n",
       "    </tr>\n",
       "  </thead>\n",
       "  <tbody>\n",
       "    <tr>\n",
       "      <th>48942</th>\n",
       "      <td>PD</td>\n",
       "      <td>3665915</td>\n",
       "      <td>NaN</td>\n",
       "      <td>2023-12-01T22:43:59</td>\n",
       "      <td>Inquiry</td>\n",
       "      <td>Order Processing</td>\n",
       "      <td>Order Entry</td>\n",
       "      <td>1</td>\n",
       "      <td>0.676467</td>\n",
       "      <td>Incorrect</td>\n",
       "      <td>6</td>\n",
       "      <td>The email is from Max Daugherty, Vice Presiden...</td>\n",
       "    </tr>\n",
       "    <tr>\n",
       "      <th>37242</th>\n",
       "      <td>PD</td>\n",
       "      <td>3622254</td>\n",
       "      <td>NaN</td>\n",
       "      <td>2023-11-13T16:16:55</td>\n",
       "      <td>Account updates</td>\n",
       "      <td>Account/Inquiry</td>\n",
       "      <td>NaN</td>\n",
       "      <td>1</td>\n",
       "      <td>0.764455</td>\n",
       "      <td>Correct</td>\n",
       "      <td>7</td>\n",
       "      <td>The customer, Nicholas Brand from Slavins Hanc...</td>\n",
       "    </tr>\n",
       "  </tbody>\n",
       "</table>\n",
       "</div>"
      ],
      "text/plain": [
       "       BU  case_number ACCOUNT_BUSINESS_UNIT__C          received_at  \\\n",
       "idx                                                                    \n",
       "48942  PD      3665915                      NaN  2023-12-01T22:43:59   \n",
       "37242  PD      3622254                      NaN  2023-11-13T16:16:55   \n",
       "\n",
       "      sfdc_subcategory predicted_category predicted_subcategory  record_type  \\\n",
       "idx                                                                            \n",
       "48942          Inquiry   Order Processing           Order Entry            1   \n",
       "37242  Account updates    Account/Inquiry                   NaN            1   \n",
       "\n",
       "       probability Accuracy_upd  Bin  \\\n",
       "idx                                    \n",
       "48942     0.676467    Incorrect    6   \n",
       "37242     0.764455      Correct    7   \n",
       "\n",
       "                                                 summary  \n",
       "idx                                                       \n",
       "48942  The email is from Max Daugherty, Vice Presiden...  \n",
       "37242  The customer, Nicholas Brand from Slavins Hanc...  "
      ]
     },
     "execution_count": 11,
     "metadata": {},
     "output_type": "execute_result"
    }
   ],
   "source": [
    "summary_dataframe = pd.DataFrame.from_records(summary_metadata)\n",
    "summary_dataframe.loc[:, 'summary'] = summaries\n",
    "summary_dataframe.set_index('idx', inplace=True)\n",
    "summary_dataframe = summary_dataframe[summary_dataframe.summary.str.len() > 0]\n",
    "summary_dataframe.head(2)"
   ]
  },
  {
   "cell_type": "markdown",
   "metadata": {},
   "source": [
    "Get labels from source"
   ]
  },
  {
   "cell_type": "code",
   "execution_count": 12,
   "metadata": {},
   "outputs": [
    {
     "data": {
      "text/html": [
       "<div>\n",
       "<style scoped>\n",
       "    .dataframe tbody tr th:only-of-type {\n",
       "        vertical-align: middle;\n",
       "    }\n",
       "\n",
       "    .dataframe tbody tr th {\n",
       "        vertical-align: top;\n",
       "    }\n",
       "\n",
       "    .dataframe thead th {\n",
       "        text-align: right;\n",
       "    }\n",
       "</style>\n",
       "<table border=\"1\" class=\"dataframe\">\n",
       "  <thead>\n",
       "    <tr style=\"text-align: right;\">\n",
       "      <th></th>\n",
       "      <th>BU</th>\n",
       "      <th>case_number</th>\n",
       "      <th>ACCOUNT_BUSINESS_UNIT__C</th>\n",
       "      <th>received_at</th>\n",
       "      <th>sfdc_subcategory</th>\n",
       "      <th>predicted_category</th>\n",
       "      <th>predicted_subcategory</th>\n",
       "      <th>record_type</th>\n",
       "      <th>probability</th>\n",
       "      <th>Accuracy_upd</th>\n",
       "      <th>Bin</th>\n",
       "      <th>label</th>\n",
       "      <th>email_subject</th>\n",
       "      <th>email_body</th>\n",
       "    </tr>\n",
       "    <tr>\n",
       "      <th>idx</th>\n",
       "      <th></th>\n",
       "      <th></th>\n",
       "      <th></th>\n",
       "      <th></th>\n",
       "      <th></th>\n",
       "      <th></th>\n",
       "      <th></th>\n",
       "      <th></th>\n",
       "      <th></th>\n",
       "      <th></th>\n",
       "      <th></th>\n",
       "      <th></th>\n",
       "      <th></th>\n",
       "      <th></th>\n",
       "    </tr>\n",
       "  </thead>\n",
       "  <tbody>\n",
       "    <tr>\n",
       "      <th>35913</th>\n",
       "      <td>NaN</td>\n",
       "      <td>3616412</td>\n",
       "      <td>a1G4z00000H6hxdEAB</td>\n",
       "      <td>2023-11-09T16:57:08</td>\n",
       "      <td>Pricing Issue</td>\n",
       "      <td>General Inquiry</td>\n",
       "      <td>NaN</td>\n",
       "      <td>3</td>\n",
       "      <td>0.499070</td>\n",
       "      <td>Incorrect</td>\n",
       "      <td>4</td>\n",
       "      <td>Pricing</td>\n",
       "      <td>General Inquiry -2052030981 -Other</td>\n",
       "      <td>Case Category: General Inquiry Case Sub-Catego...</td>\n",
       "    </tr>\n",
       "    <tr>\n",
       "      <th>48645</th>\n",
       "      <td>PD</td>\n",
       "      <td>3665065</td>\n",
       "      <td>a1G4z00000H4sDsEAJ</td>\n",
       "      <td>2023-12-01T19:21:56</td>\n",
       "      <td>Drop Ship Order</td>\n",
       "      <td>Order Processing</td>\n",
       "      <td>Drop Ship Order</td>\n",
       "      <td>1</td>\n",
       "      <td>0.917244</td>\n",
       "      <td>Correct</td>\n",
       "      <td>9</td>\n",
       "      <td>Order Processing</td>\n",
       "      <td>Drop Ship Order</td>\n",
       "      <td>External Email â€“ Please use caution before o...</td>\n",
       "    </tr>\n",
       "  </tbody>\n",
       "</table>\n",
       "</div>"
      ],
      "text/plain": [
       "        BU  case_number ACCOUNT_BUSINESS_UNIT__C          received_at  \\\n",
       "idx                                                                     \n",
       "35913  NaN      3616412       a1G4z00000H6hxdEAB  2023-11-09T16:57:08   \n",
       "48645   PD      3665065       a1G4z00000H4sDsEAJ  2023-12-01T19:21:56   \n",
       "\n",
       "      sfdc_subcategory predicted_category predicted_subcategory  record_type  \\\n",
       "idx                                                                            \n",
       "35913    Pricing Issue    General Inquiry                   NaN            3   \n",
       "48645  Drop Ship Order   Order Processing       Drop Ship Order            1   \n",
       "\n",
       "       probability Accuracy_upd  Bin             label  \\\n",
       "idx                                                      \n",
       "35913     0.499070    Incorrect    4           Pricing   \n",
       "48645     0.917244      Correct    9  Order Processing   \n",
       "\n",
       "                            email_subject  \\\n",
       "idx                                         \n",
       "35913  General Inquiry -2052030981 -Other   \n",
       "48645                     Drop Ship Order   \n",
       "\n",
       "                                              email_body  \n",
       "idx                                                       \n",
       "35913  Case Category: General Inquiry Case Sub-Catego...  \n",
       "48645  External Email â€“ Please use caution before o...  "
      ]
     },
     "execution_count": 12,
     "metadata": {},
     "output_type": "execute_result"
    }
   ],
   "source": [
    "# Add label\n",
    "training_data = pd.DataFrame(\n",
    "    [\n",
    "        i.to_series() for i in list(\n",
    "            get_training_instances(\n",
    "                index_prefix=f\"{WRITE_PREFIX}/summarization_idx\"\n",
    "            ))]\n",
    ").set_index('idx')\n",
    "training_data.head(2)"
   ]
  },
  {
   "cell_type": "markdown",
   "metadata": {},
   "source": [
    "Get train, test idx"
   ]
  },
  {
   "cell_type": "code",
   "execution_count": 13,
   "metadata": {},
   "outputs": [],
   "source": [
    "train_idx, test_idx = get_idx(prefix=f\"{WRITE_PREFIX}/summarization_idx\")"
   ]
  },
  {
   "cell_type": "code",
   "execution_count": 14,
   "metadata": {},
   "outputs": [
    {
     "data": {
      "text/plain": [
       "((7418,), (1857,))"
      ]
     },
     "execution_count": 14,
     "metadata": {},
     "output_type": "execute_result"
    }
   ],
   "source": [
    "train_idx.shape, test_idx.shape"
   ]
  },
  {
   "cell_type": "code",
   "execution_count": 15,
   "metadata": {},
   "outputs": [
    {
     "data": {
      "text/plain": [
       "label\n",
       "False    9275\n",
       "Name: count, dtype: int64"
      ]
     },
     "execution_count": 15,
     "metadata": {},
     "output_type": "execute_result"
    }
   ],
   "source": [
    "summary_dataframe.loc[:, 'label'] = training_data.label\n",
    "summary_dataframe.loc[:, 'email_body'] = training_data.email_body\n",
    "summary_dataframe.loc[:, 'email_subject'] = training_data.email_subject\n",
    "summary_dataframe.label.isna().value_counts()"
   ]
  },
  {
   "cell_type": "code",
   "execution_count": 16,
   "metadata": {},
   "outputs": [
    {
     "data": {
      "text/html": [
       "<div>\n",
       "<style scoped>\n",
       "    .dataframe tbody tr th:only-of-type {\n",
       "        vertical-align: middle;\n",
       "    }\n",
       "\n",
       "    .dataframe tbody tr th {\n",
       "        vertical-align: top;\n",
       "    }\n",
       "\n",
       "    .dataframe thead th {\n",
       "        text-align: right;\n",
       "    }\n",
       "</style>\n",
       "<table border=\"1\" class=\"dataframe\">\n",
       "  <thead>\n",
       "    <tr style=\"text-align: right;\">\n",
       "      <th></th>\n",
       "      <th>BU</th>\n",
       "      <th>case_number</th>\n",
       "      <th>ACCOUNT_BUSINESS_UNIT__C</th>\n",
       "      <th>received_at</th>\n",
       "      <th>sfdc_subcategory</th>\n",
       "      <th>predicted_category</th>\n",
       "      <th>predicted_subcategory</th>\n",
       "      <th>record_type</th>\n",
       "      <th>probability</th>\n",
       "      <th>Accuracy_upd</th>\n",
       "      <th>Bin</th>\n",
       "      <th>summary</th>\n",
       "      <th>label</th>\n",
       "      <th>email_body</th>\n",
       "      <th>email_subject</th>\n",
       "    </tr>\n",
       "    <tr>\n",
       "      <th>idx</th>\n",
       "      <th></th>\n",
       "      <th></th>\n",
       "      <th></th>\n",
       "      <th></th>\n",
       "      <th></th>\n",
       "      <th></th>\n",
       "      <th></th>\n",
       "      <th></th>\n",
       "      <th></th>\n",
       "      <th></th>\n",
       "      <th></th>\n",
       "      <th></th>\n",
       "      <th></th>\n",
       "      <th></th>\n",
       "      <th></th>\n",
       "    </tr>\n",
       "  </thead>\n",
       "  <tbody>\n",
       "    <tr>\n",
       "      <th>48942</th>\n",
       "      <td>PD</td>\n",
       "      <td>3665915</td>\n",
       "      <td>NaN</td>\n",
       "      <td>2023-12-01T22:43:59</td>\n",
       "      <td>Inquiry</td>\n",
       "      <td>Order Processing</td>\n",
       "      <td>Order Entry</td>\n",
       "      <td>1</td>\n",
       "      <td>0.676467</td>\n",
       "      <td>Incorrect</td>\n",
       "      <td>6</td>\n",
       "      <td>The email is from Max Daugherty, Vice Presiden...</td>\n",
       "      <td>Order Processing</td>\n",
       "      <td>External Email â€“ Please use caution before o...</td>\n",
       "      <td>PO 70026263</td>\n",
       "    </tr>\n",
       "    <tr>\n",
       "      <th>37242</th>\n",
       "      <td>PD</td>\n",
       "      <td>3622254</td>\n",
       "      <td>NaN</td>\n",
       "      <td>2023-11-13T16:16:55</td>\n",
       "      <td>Account updates</td>\n",
       "      <td>Account/Inquiry</td>\n",
       "      <td>NaN</td>\n",
       "      <td>1</td>\n",
       "      <td>0.764455</td>\n",
       "      <td>Correct</td>\n",
       "      <td>7</td>\n",
       "      <td>The customer, Nicholas Brand from Slavins Hanc...</td>\n",
       "      <td>Account/Inquiry</td>\n",
       "      <td>External Email â€“ Please use caution before o...</td>\n",
       "      <td>Sent - Invoice 7334254502 - to State of Florid...</td>\n",
       "    </tr>\n",
       "  </tbody>\n",
       "</table>\n",
       "</div>"
      ],
      "text/plain": [
       "       BU  case_number ACCOUNT_BUSINESS_UNIT__C          received_at  \\\n",
       "idx                                                                    \n",
       "48942  PD      3665915                      NaN  2023-12-01T22:43:59   \n",
       "37242  PD      3622254                      NaN  2023-11-13T16:16:55   \n",
       "\n",
       "      sfdc_subcategory predicted_category predicted_subcategory  record_type  \\\n",
       "idx                                                                            \n",
       "48942          Inquiry   Order Processing           Order Entry            1   \n",
       "37242  Account updates    Account/Inquiry                   NaN            1   \n",
       "\n",
       "       probability Accuracy_upd  Bin  \\\n",
       "idx                                    \n",
       "48942     0.676467    Incorrect    6   \n",
       "37242     0.764455      Correct    7   \n",
       "\n",
       "                                                 summary             label  \\\n",
       "idx                                                                          \n",
       "48942  The email is from Max Daugherty, Vice Presiden...  Order Processing   \n",
       "37242  The customer, Nicholas Brand from Slavins Hanc...   Account/Inquiry   \n",
       "\n",
       "                                              email_body  \\\n",
       "idx                                                        \n",
       "48942  External Email â€“ Please use caution before o...   \n",
       "37242  External Email â€“ Please use caution before o...   \n",
       "\n",
       "                                           email_subject  \n",
       "idx                                                       \n",
       "48942                                        PO 70026263  \n",
       "37242  Sent - Invoice 7334254502 - to State of Florid...  "
      ]
     },
     "execution_count": 16,
     "metadata": {},
     "output_type": "execute_result"
    }
   ],
   "source": [
    "summary_dataframe.head(2)"
   ]
  },
  {
   "cell_type": "markdown",
   "metadata": {},
   "source": [
    "Get Embeddings"
   ]
  },
  {
   "cell_type": "code",
   "execution_count": 17,
   "metadata": {},
   "outputs": [],
   "source": [
    "with get_storage_client().bucket(PROJECT_BUCKET).blob(f\"{WRITE_PREFIX}/{summary_embedding_path}\").open('r') as f:\n",
    "    summary_embeddings = json.load(f)"
   ]
  },
  {
   "cell_type": "code",
   "execution_count": 18,
   "metadata": {},
   "outputs": [
    {
     "data": {
      "text/plain": [
       "(7418,)"
      ]
     },
     "execution_count": 18,
     "metadata": {},
     "output_type": "execute_result"
    }
   ],
   "source": [
    "train_idx.shape"
   ]
  },
  {
   "cell_type": "code",
   "execution_count": 19,
   "metadata": {},
   "outputs": [
    {
     "data": {
      "text/html": [
       "<div>\n",
       "<style scoped>\n",
       "    .dataframe tbody tr th:only-of-type {\n",
       "        vertical-align: middle;\n",
       "    }\n",
       "\n",
       "    .dataframe tbody tr th {\n",
       "        vertical-align: top;\n",
       "    }\n",
       "\n",
       "    .dataframe thead th {\n",
       "        text-align: right;\n",
       "    }\n",
       "</style>\n",
       "<table border=\"1\" class=\"dataframe\">\n",
       "  <thead>\n",
       "    <tr style=\"text-align: right;\">\n",
       "      <th></th>\n",
       "      <th>0</th>\n",
       "      <th>1</th>\n",
       "      <th>2</th>\n",
       "      <th>3</th>\n",
       "      <th>4</th>\n",
       "      <th>5</th>\n",
       "      <th>6</th>\n",
       "      <th>7</th>\n",
       "      <th>8</th>\n",
       "      <th>9</th>\n",
       "      <th>...</th>\n",
       "      <th>758</th>\n",
       "      <th>759</th>\n",
       "      <th>760</th>\n",
       "      <th>761</th>\n",
       "      <th>762</th>\n",
       "      <th>763</th>\n",
       "      <th>764</th>\n",
       "      <th>765</th>\n",
       "      <th>766</th>\n",
       "      <th>767</th>\n",
       "    </tr>\n",
       "  </thead>\n",
       "  <tbody>\n",
       "    <tr>\n",
       "      <th>35913</th>\n",
       "      <td>0.015652</td>\n",
       "      <td>-0.009372</td>\n",
       "      <td>-0.018316</td>\n",
       "      <td>-0.036093</td>\n",
       "      <td>0.026927</td>\n",
       "      <td>0.020672</td>\n",
       "      <td>-0.005812</td>\n",
       "      <td>-0.064976</td>\n",
       "      <td>0.006214</td>\n",
       "      <td>0.040197</td>\n",
       "      <td>...</td>\n",
       "      <td>0.033278</td>\n",
       "      <td>0.009020</td>\n",
       "      <td>-0.03424</td>\n",
       "      <td>0.016257</td>\n",
       "      <td>-0.061142</td>\n",
       "      <td>0.025347</td>\n",
       "      <td>0.057820</td>\n",
       "      <td>0.015422</td>\n",
       "      <td>-0.013001</td>\n",
       "      <td>-0.007241</td>\n",
       "    </tr>\n",
       "    <tr>\n",
       "      <th>48645</th>\n",
       "      <td>0.013315</td>\n",
       "      <td>-0.016115</td>\n",
       "      <td>-0.046833</td>\n",
       "      <td>0.023515</td>\n",
       "      <td>0.029719</td>\n",
       "      <td>0.011179</td>\n",
       "      <td>0.053018</td>\n",
       "      <td>-0.035807</td>\n",
       "      <td>0.029324</td>\n",
       "      <td>0.080764</td>\n",
       "      <td>...</td>\n",
       "      <td>0.040658</td>\n",
       "      <td>0.011668</td>\n",
       "      <td>-0.01131</td>\n",
       "      <td>0.041687</td>\n",
       "      <td>-0.078796</td>\n",
       "      <td>-0.002770</td>\n",
       "      <td>-0.027495</td>\n",
       "      <td>0.014569</td>\n",
       "      <td>-0.048885</td>\n",
       "      <td>0.033022</td>\n",
       "    </tr>\n",
       "  </tbody>\n",
       "</table>\n",
       "<p>2 rows × 768 columns</p>\n",
       "</div>"
      ],
      "text/plain": [
       "            0         1         2         3         4         5         6    \\\n",
       "35913  0.015652 -0.009372 -0.018316 -0.036093  0.026927  0.020672 -0.005812   \n",
       "48645  0.013315 -0.016115 -0.046833  0.023515  0.029719  0.011179  0.053018   \n",
       "\n",
       "            7         8         9    ...       758       759      760  \\\n",
       "35913 -0.064976  0.006214  0.040197  ...  0.033278  0.009020 -0.03424   \n",
       "48645 -0.035807  0.029324  0.080764  ...  0.040658  0.011668 -0.01131   \n",
       "\n",
       "            761       762       763       764       765       766       767  \n",
       "35913  0.016257 -0.061142  0.025347  0.057820  0.015422 -0.013001 -0.007241  \n",
       "48645  0.041687 -0.078796 -0.002770 -0.027495  0.014569 -0.048885  0.033022  \n",
       "\n",
       "[2 rows x 768 columns]"
      ]
     },
     "execution_count": 19,
     "metadata": {},
     "output_type": "execute_result"
    }
   ],
   "source": [
    "X_train = pd.DataFrame(summary_embeddings, index=train_idx.values)\n",
    "X_train.head(2)"
   ]
  },
  {
   "cell_type": "code",
   "execution_count": 20,
   "metadata": {},
   "outputs": [],
   "source": [
    "# Embed test summaries\n",
    "embedder = get_embedder()"
   ]
  },
  {
   "cell_type": "code",
   "execution_count": 30,
   "metadata": {},
   "outputs": [],
   "source": [
    "X_test_documents = DataFrameLoader(summary_dataframe.loc[test_idx.values.tolist(), :], 'summary').load()\n",
    "assert len(X_test_documents) == test_idx.shape[0] and isinstance(X_test_documents[0], Document)"
   ]
  },
  {
   "cell_type": "code",
   "execution_count": 34,
   "metadata": {},
   "outputs": [
    {
     "name": "stderr",
     "output_type": "stream",
     "text": [
      "                                                                                \r"
     ]
    }
   ],
   "source": [
    "pbar = tqdm(total=len(X_test_documents), ncols=80, leave=False)\n",
    "\n",
    "X_test_embeddings = []\n",
    "\n",
    "for d_batch in get_document_batches(iter(X_test_documents), 5):\n",
    "    d_batch_embeddings = embedder.embed_documents([d.page_content for d in d_batch])\n",
    "    X_test_embeddings.extend(d_batch_embeddings)\n",
    "    pbar.update(len(d_batch))\n",
    "\n",
    "pbar.close()"
   ]
  },
  {
   "cell_type": "code",
   "execution_count": 35,
   "metadata": {},
   "outputs": [
    {
     "data": {
      "text/html": [
       "<div>\n",
       "<style scoped>\n",
       "    .dataframe tbody tr th:only-of-type {\n",
       "        vertical-align: middle;\n",
       "    }\n",
       "\n",
       "    .dataframe tbody tr th {\n",
       "        vertical-align: top;\n",
       "    }\n",
       "\n",
       "    .dataframe thead th {\n",
       "        text-align: right;\n",
       "    }\n",
       "</style>\n",
       "<table border=\"1\" class=\"dataframe\">\n",
       "  <thead>\n",
       "    <tr style=\"text-align: right;\">\n",
       "      <th></th>\n",
       "      <th>0</th>\n",
       "      <th>1</th>\n",
       "      <th>2</th>\n",
       "      <th>3</th>\n",
       "      <th>4</th>\n",
       "      <th>5</th>\n",
       "      <th>6</th>\n",
       "      <th>7</th>\n",
       "      <th>8</th>\n",
       "      <th>9</th>\n",
       "      <th>...</th>\n",
       "      <th>758</th>\n",
       "      <th>759</th>\n",
       "      <th>760</th>\n",
       "      <th>761</th>\n",
       "      <th>762</th>\n",
       "      <th>763</th>\n",
       "      <th>764</th>\n",
       "      <th>765</th>\n",
       "      <th>766</th>\n",
       "      <th>767</th>\n",
       "    </tr>\n",
       "  </thead>\n",
       "  <tbody>\n",
       "    <tr>\n",
       "      <th>37508</th>\n",
       "      <td>0.025763</td>\n",
       "      <td>-0.043358</td>\n",
       "      <td>-0.059988</td>\n",
       "      <td>-0.006510</td>\n",
       "      <td>0.050462</td>\n",
       "      <td>0.031072</td>\n",
       "      <td>0.026154</td>\n",
       "      <td>-0.031391</td>\n",
       "      <td>0.004362</td>\n",
       "      <td>0.079660</td>\n",
       "      <td>...</td>\n",
       "      <td>0.039524</td>\n",
       "      <td>0.016611</td>\n",
       "      <td>-0.009875</td>\n",
       "      <td>0.037415</td>\n",
       "      <td>-0.088915</td>\n",
       "      <td>-0.003033</td>\n",
       "      <td>-0.009822</td>\n",
       "      <td>0.008075</td>\n",
       "      <td>-0.027388</td>\n",
       "      <td>0.036531</td>\n",
       "    </tr>\n",
       "    <tr>\n",
       "      <th>1092</th>\n",
       "      <td>0.010212</td>\n",
       "      <td>-0.065601</td>\n",
       "      <td>-0.046643</td>\n",
       "      <td>-0.026324</td>\n",
       "      <td>0.025507</td>\n",
       "      <td>-0.019755</td>\n",
       "      <td>0.020193</td>\n",
       "      <td>-0.028189</td>\n",
       "      <td>-0.032889</td>\n",
       "      <td>0.078821</td>\n",
       "      <td>...</td>\n",
       "      <td>0.027265</td>\n",
       "      <td>0.064589</td>\n",
       "      <td>0.007892</td>\n",
       "      <td>0.038051</td>\n",
       "      <td>-0.027449</td>\n",
       "      <td>0.048136</td>\n",
       "      <td>-0.012972</td>\n",
       "      <td>0.042120</td>\n",
       "      <td>-0.014899</td>\n",
       "      <td>0.023487</td>\n",
       "    </tr>\n",
       "    <tr>\n",
       "      <th>33786</th>\n",
       "      <td>-0.010943</td>\n",
       "      <td>-0.024541</td>\n",
       "      <td>-0.054613</td>\n",
       "      <td>0.000559</td>\n",
       "      <td>0.055305</td>\n",
       "      <td>-0.018420</td>\n",
       "      <td>-0.035239</td>\n",
       "      <td>-0.058743</td>\n",
       "      <td>0.012717</td>\n",
       "      <td>0.053802</td>\n",
       "      <td>...</td>\n",
       "      <td>0.046504</td>\n",
       "      <td>-0.008463</td>\n",
       "      <td>-0.026734</td>\n",
       "      <td>0.007011</td>\n",
       "      <td>-0.055340</td>\n",
       "      <td>0.039080</td>\n",
       "      <td>0.026713</td>\n",
       "      <td>-0.011966</td>\n",
       "      <td>-0.027616</td>\n",
       "      <td>0.026608</td>\n",
       "    </tr>\n",
       "    <tr>\n",
       "      <th>20135</th>\n",
       "      <td>-0.028766</td>\n",
       "      <td>-0.071089</td>\n",
       "      <td>-0.057118</td>\n",
       "      <td>-0.043357</td>\n",
       "      <td>0.012726</td>\n",
       "      <td>-0.013878</td>\n",
       "      <td>0.003694</td>\n",
       "      <td>-0.021237</td>\n",
       "      <td>0.004773</td>\n",
       "      <td>0.060014</td>\n",
       "      <td>...</td>\n",
       "      <td>0.018917</td>\n",
       "      <td>0.014239</td>\n",
       "      <td>-0.015978</td>\n",
       "      <td>0.011922</td>\n",
       "      <td>-0.022765</td>\n",
       "      <td>0.037982</td>\n",
       "      <td>-0.028093</td>\n",
       "      <td>0.044119</td>\n",
       "      <td>-0.035519</td>\n",
       "      <td>0.057812</td>\n",
       "    </tr>\n",
       "    <tr>\n",
       "      <th>29323</th>\n",
       "      <td>-0.009519</td>\n",
       "      <td>-0.015032</td>\n",
       "      <td>-0.011268</td>\n",
       "      <td>-0.033827</td>\n",
       "      <td>-0.014799</td>\n",
       "      <td>0.019384</td>\n",
       "      <td>0.015864</td>\n",
       "      <td>-0.061485</td>\n",
       "      <td>0.038982</td>\n",
       "      <td>0.085399</td>\n",
       "      <td>...</td>\n",
       "      <td>0.040118</td>\n",
       "      <td>0.029670</td>\n",
       "      <td>-0.005780</td>\n",
       "      <td>0.042032</td>\n",
       "      <td>-0.061004</td>\n",
       "      <td>0.022132</td>\n",
       "      <td>-0.045787</td>\n",
       "      <td>0.027441</td>\n",
       "      <td>-0.007872</td>\n",
       "      <td>0.026882</td>\n",
       "    </tr>\n",
       "  </tbody>\n",
       "</table>\n",
       "<p>5 rows × 768 columns</p>\n",
       "</div>"
      ],
      "text/plain": [
       "            0         1         2         3         4         5         6    \\\n",
       "37508  0.025763 -0.043358 -0.059988 -0.006510  0.050462  0.031072  0.026154   \n",
       "1092   0.010212 -0.065601 -0.046643 -0.026324  0.025507 -0.019755  0.020193   \n",
       "33786 -0.010943 -0.024541 -0.054613  0.000559  0.055305 -0.018420 -0.035239   \n",
       "20135 -0.028766 -0.071089 -0.057118 -0.043357  0.012726 -0.013878  0.003694   \n",
       "29323 -0.009519 -0.015032 -0.011268 -0.033827 -0.014799  0.019384  0.015864   \n",
       "\n",
       "            7         8         9    ...       758       759       760  \\\n",
       "37508 -0.031391  0.004362  0.079660  ...  0.039524  0.016611 -0.009875   \n",
       "1092  -0.028189 -0.032889  0.078821  ...  0.027265  0.064589  0.007892   \n",
       "33786 -0.058743  0.012717  0.053802  ...  0.046504 -0.008463 -0.026734   \n",
       "20135 -0.021237  0.004773  0.060014  ...  0.018917  0.014239 -0.015978   \n",
       "29323 -0.061485  0.038982  0.085399  ...  0.040118  0.029670 -0.005780   \n",
       "\n",
       "            761       762       763       764       765       766       767  \n",
       "37508  0.037415 -0.088915 -0.003033 -0.009822  0.008075 -0.027388  0.036531  \n",
       "1092   0.038051 -0.027449  0.048136 -0.012972  0.042120 -0.014899  0.023487  \n",
       "33786  0.007011 -0.055340  0.039080  0.026713 -0.011966 -0.027616  0.026608  \n",
       "20135  0.011922 -0.022765  0.037982 -0.028093  0.044119 -0.035519  0.057812  \n",
       "29323  0.042032 -0.061004  0.022132 -0.045787  0.027441 -0.007872  0.026882  \n",
       "\n",
       "[5 rows x 768 columns]"
      ]
     },
     "execution_count": 35,
     "metadata": {},
     "output_type": "execute_result"
    }
   ],
   "source": [
    "X_test = pd.DataFrame(X_test_embeddings, index=test_idx.values)\n",
    "X_test.head()"
   ]
  },
  {
   "cell_type": "markdown",
   "metadata": {},
   "source": [
    "Get train, test split"
   ]
  },
  {
   "cell_type": "code",
   "execution_count": 36,
   "metadata": {},
   "outputs": [
    {
     "data": {
      "text/plain": [
       "((7418, 768), (1857, 768))"
      ]
     },
     "execution_count": 36,
     "metadata": {},
     "output_type": "execute_result"
    }
   ],
   "source": [
    "X_train.shape, X_test.shape"
   ]
  },
  {
   "cell_type": "code",
   "execution_count": 40,
   "metadata": {},
   "outputs": [],
   "source": [
    "label_encoder = LabelEncoder().fit(summary_dataframe.label)"
   ]
  },
  {
   "cell_type": "code",
   "execution_count": 41,
   "metadata": {},
   "outputs": [
    {
     "data": {
      "text/plain": [
       "((7418,), (1857,))"
      ]
     },
     "execution_count": 41,
     "metadata": {},
     "output_type": "execute_result"
    }
   ],
   "source": [
    "y_train, y_test = label_encoder.transform(summary_dataframe.loc[train_idx.values, 'label']), \\\n",
    "    label_encoder.transform(summary_dataframe.loc[test_idx.values, 'label'])\n",
    "y_train.shape, y_test.shape"
   ]
  },
  {
   "cell_type": "code",
   "execution_count": 42,
   "metadata": {},
   "outputs": [],
   "source": [
    "d_train = xgboost.DMatrix(X_train, y_train)\n",
    "d_test = xgboost.DMatrix(X_test, y_test)"
   ]
  },
  {
   "cell_type": "markdown",
   "metadata": {},
   "source": [
    "## Train model"
   ]
  },
  {
   "cell_type": "code",
   "execution_count": 95,
   "metadata": {},
   "outputs": [
    {
     "data": {
      "text/plain": [
       "array([ 0,  1,  2,  3,  4,  5,  6,  7,  8,  9, 10])"
      ]
     },
     "execution_count": 95,
     "metadata": {},
     "output_type": "execute_result"
    }
   ],
   "source": [
    "np.unique(y_train)"
   ]
  },
  {
   "cell_type": "code",
   "execution_count": 97,
   "metadata": {},
   "outputs": [
    {
     "ename": "TypeError",
     "evalue": "compute_class_weight() missing 1 required positional argument: 'class_weight'",
     "output_type": "error",
     "traceback": [
      "\u001b[0;31m---------------------------------------------------------------------------\u001b[0m",
      "\u001b[0;31mTypeError\u001b[0m                                 Traceback (most recent call last)",
      "Cell \u001b[0;32mIn[97], line 1\u001b[0m\n\u001b[0;32m----> 1\u001b[0m \u001b[43mclass_weight\u001b[49m\u001b[38;5;241;43m.\u001b[39;49m\u001b[43mcompute_class_weight\u001b[49m\u001b[43m(\u001b[49m\u001b[43m)\u001b[49m\n",
      "\u001b[0;31mTypeError\u001b[0m: compute_class_weight() missing 1 required positional argument: 'class_weight'"
     ]
    }
   ],
   "source": [
    "class_weight.compute_class_weight()"
   ]
  },
  {
   "cell_type": "code",
   "execution_count": 98,
   "metadata": {},
   "outputs": [
    {
     "data": {
      "text/plain": [
       "array([ 0.42600356,  2.31740081,  5.76379176,  2.76378539,  0.94053506,\n",
       "        1.33802309,  0.22463812, 20.43526171,  1.68590909, 20.43526171,\n",
       "        1.36510858])"
      ]
     },
     "execution_count": 98,
     "metadata": {},
     "output_type": "execute_result"
    }
   ],
   "source": [
    "class_weight.compute_class_weight(\n",
    "    class_weight='balanced',\n",
    "    classes=np.unique(y_train),\n",
    "    y=y_train)"
   ]
  },
  {
   "cell_type": "code",
   "execution_count": 101,
   "metadata": {},
   "outputs": [],
   "source": [
    "xgb_params = {\n",
    "    \"max_depth\": 2, \n",
    "    \"eta\": 1, \n",
    "    \"objective\": \"multi:softmax\", \n",
    "    'num_class': label_encoder.classes_.shape[0],\n",
    "    'sample_weight': list(\n",
    "        class_weight.compute_class_weight(\n",
    "            class_weight='balanced',\n",
    "            classes=np.unique(y_train),\n",
    "            y=y_train))\n",
    "    }\n",
    "watchlist = [(d_test, \"eval\"), (d_train, \"train\")]\n",
    "num_round = 5"
   ]
  },
  {
   "cell_type": "code",
   "execution_count": 102,
   "metadata": {},
   "outputs": [
    {
     "name": "stderr",
     "output_type": "stream",
     "text": [
      "/Users/jake.bergren/Documents/20-29 Projects/23 Customer Service Projects/23.01 2023 Email Classification/customer_service_email_classification/.venv/lib/python3.11/site-packages/xgboost/core.py:160: UserWarning: [12:17:23] WARNING: /Users/runner/work/xgboost/xgboost/src/learner.cc:742: \n",
      "Parameters: { \"sample_weight\" } are not used.\n",
      "\n",
      "  warnings.warn(smsg, UserWarning)\n"
     ]
    },
    {
     "name": "stdout",
     "output_type": "stream",
     "text": [
      "[0]\teval-mlogloss:1.89940\ttrain-mlogloss:1.86061\n",
      "[1]\teval-mlogloss:1.85459\ttrain-mlogloss:1.77921\n",
      "[2]\teval-mlogloss:1.84633\ttrain-mlogloss:1.73709\n",
      "[3]\teval-mlogloss:1.84143\ttrain-mlogloss:1.70652\n",
      "[4]\teval-mlogloss:1.84276\ttrain-mlogloss:1.68248\n"
     ]
    }
   ],
   "source": [
    "bst = xgboost.train(xgb_params, d_train, num_boost_round=num_round, evals=watchlist)"
   ]
  },
  {
   "cell_type": "code",
   "execution_count": 103,
   "metadata": {},
   "outputs": [
    {
     "name": "stdout",
     "output_type": "stream",
     "text": [
      "error=0.945611\n"
     ]
    }
   ],
   "source": [
    "# run prediction\n",
    "preds = bst.predict(d_test)\n",
    "labels = d_test.get_label()\n",
    "print(\n",
    "    \"error=%f\"\n",
    "    % (\n",
    "        sum(1 for i in range(len(preds)) if int(preds[i] > 0.5) != labels[i])\n",
    "        / float(len(preds))\n",
    "    )\n",
    ")"
   ]
  },
  {
   "cell_type": "markdown",
   "metadata": {},
   "source": [
    "Save"
   ]
  },
  {
   "cell_type": "code",
   "execution_count": 104,
   "metadata": {},
   "outputs": [],
   "source": [
    "data_dir = Path(\"../data\")\n",
    "assert data_dir.exists()\n",
    "xgb_dir = data_dir / 'xgboost'\n",
    "if not xgb_dir.exists():\n",
    "    xgb_dir.mkdir()"
   ]
  },
  {
   "cell_type": "code",
   "execution_count": 105,
   "metadata": {},
   "outputs": [],
   "source": [
    "bst.save_model(xgb_dir / \"model-0.json\")\n",
    "# dump model\n",
    "bst.dump_model(xgb_dir / \"dump.raw.txt\")\n",
    "\n",
    "# save dmatrix into binary buffer\n",
    "d_test.save_binary(xgb_dir / \"dtest.dmatrix\")\n",
    "# save model\n",
    "bst.save_model(xgb_dir / \"model-1.json\")"
   ]
  },
  {
   "cell_type": "markdown",
   "metadata": {},
   "source": [
    "## Evaluate predictions"
   ]
  },
  {
   "cell_type": "code",
   "execution_count": 106,
   "metadata": {},
   "outputs": [
    {
     "data": {
      "text/plain": [
       "array([6., 0., 6., ..., 6., 6., 6.], dtype=float32)"
      ]
     },
     "execution_count": 106,
     "metadata": {},
     "output_type": "execute_result"
    }
   ],
   "source": [
    "preds"
   ]
  },
  {
   "cell_type": "code",
   "execution_count": 107,
   "metadata": {},
   "outputs": [
    {
     "data": {
      "text/plain": [
       "Order Processing     1670\n",
       "Account/Inquiry       136\n",
       "General Inquiry        19\n",
       "Product Inquiry        10\n",
       "Returns                10\n",
       "Order Discrepancy      10\n",
       "Delivery                2\n",
       "Name: count, dtype: int64"
      ]
     },
     "execution_count": 107,
     "metadata": {},
     "output_type": "execute_result"
    }
   ],
   "source": [
    "predictions = pd.Series(label_encoder.inverse_transform(preds.astype(int)))\n",
    "predictions.value_counts()"
   ]
  },
  {
   "cell_type": "code",
   "execution_count": 108,
   "metadata": {},
   "outputs": [
    {
     "data": {
      "text/plain": [
       "0.37964458804523427"
      ]
     },
     "execution_count": 108,
     "metadata": {},
     "output_type": "execute_result"
    }
   ],
   "source": [
    "metrics.accuracy_score(y_test, preds)"
   ]
  },
  {
   "cell_type": "code",
   "execution_count": 109,
   "metadata": {},
   "outputs": [
    {
     "data": {
      "image/png": "[encoded data removed]",
      "text/plain": [
       "<Figure size 640x480 with 2 Axes>"
      ]
     },
     "metadata": {},
     "output_type": "display_data"
    }
   ],
   "source": [
    "conf_display = metrics.ConfusionMatrixDisplay(metrics.confusion_matrix(y_test, preds)).plot()\n",
    "plt.xticks(conf_display.ax_.get_xticks(), labels=label_encoder.classes_, rotation=90)\n",
    "plt.yticks(conf_display.ax_.get_yticks(), labels=label_encoder.classes_)\n",
    "plt.show()"
   ]
  },
  {
   "cell_type": "markdown",
   "metadata": {},
   "source": [
    "## Export"
   ]
  },
  {
   "cell_type": "code",
   "execution_count": 110,
   "metadata": {},
   "outputs": [],
   "source": [
    "#| hide\n",
    "import nbdev;nbdev.nbdev_export()"
   ]
  },
  {
   "cell_type": "code",
   "execution_count": null,
   "metadata": {},
   "outputs": [],
   "source": []
  }
 ],
 "metadata": {
  "kernelspec": {
   "display_name": ".venv",
   "language": "python",
   "name": "python3"
  },
  "language_info": {
   "codemirror_mode": {
    "name": "ipython",
    "version": 3
   },
   "file_extension": ".py",
   "mimetype": "text/x-python",
   "name": "python",
   "nbconvert_exporter": "python",
   "pygments_lexer": "ipython3",
   "version": "3.11.4"
  }
 },
 "nbformat": 4,
 "nbformat_minor": 2
}
