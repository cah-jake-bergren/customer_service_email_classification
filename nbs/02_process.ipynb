{
 "cells": [
  {
   "cell_type": "markdown",
   "metadata": {},
   "source": [
    "# process\n",
    "\n",
    "> Process our emails, remove boilerplate, split email chains"
   ]
  },
  {
   "cell_type": "code",
   "execution_count": 1,
   "metadata": {},
   "outputs": [],
   "source": [
    "#| default_exp process"
   ]
  },
  {
   "cell_type": "code",
   "execution_count": 2,
   "metadata": {},
   "outputs": [],
   "source": [
    "#| export\n",
    "from typing import Dict, Any, Tuple, Iterable, List\n",
    "\n",
    "from classifier.schema import predict, get_storage_client, \\\n",
    "    get_model, DEFAULT_PREDICT_PARAMS, quota_handler\n",
    "from classifier.load import get_emails_from_frame, get_raw_emails_tejas_case_numbers, \\\n",
    "    Email, PROJECT_BUCKET, WRITE_PREFIX, get_idx, get_batches\n",
    "\n",
    "from langchain.prompts import PromptTemplate\n",
    "from langchain.schema import Document\n",
    "from langchain.llms import VertexAI\n",
    "from langchain.schema.runnable import RunnableSequence\n",
    "from tqdm.auto import tqdm\n",
    "from google.cloud.aiplatform import BatchPredictionJob"
   ]
  },
  {
   "cell_type": "code",
   "execution_count": 3,
   "metadata": {},
   "outputs": [],
   "source": [
    "import json\n",
    "from pathlib import Path\n",
    "\n",
    "import pandas as pd\n",
    "from itertools import chain"
   ]
  },
  {
   "cell_type": "code",
   "execution_count": 4,
   "metadata": {},
   "outputs": [],
   "source": [
    "raw_emails_tejas = get_raw_emails_tejas_case_numbers()"
   ]
  },
  {
   "cell_type": "code",
   "execution_count": 5,
   "metadata": {},
   "outputs": [],
   "source": [
    "training_instance_loader = get_emails_from_frame(\n",
    "    raw_emails_tejas,\n",
    "    'train',\n",
    "    index_prefix=f'{WRITE_PREFIX}/tejas'\n",
    ")"
   ]
  },
  {
   "cell_type": "code",
   "execution_count": 6,
   "metadata": {},
   "outputs": [
    {
     "data": {
      "text/plain": [
       "32"
      ]
     },
     "execution_count": 6,
     "metadata": {},
     "output_type": "execute_result"
    }
   ],
   "source": [
    "sample_training_instances = next(get_batches(training_instance_loader))\n",
    "len(sample_training_instances)"
   ]
  },
  {
   "cell_type": "code",
   "execution_count": 7,
   "metadata": {},
   "outputs": [],
   "source": [
    "#| export\n",
    "EMAIL_SUBJECT_PREFIX = \"--EMAIL SUBJECT--\"\n",
    "EMAIL_BODY_PREFIX = \"--EMAIL BODY--\"\n",
    "PREFIX_LEN = len(EMAIL_SUBJECT_PREFIX + EMAIL_BODY_PREFIX) + len(\"\\n\"*4)\n",
    "\n",
    "\n",
    "def email_to_document(\n",
    "        email: Email\n",
    "        ) -> Document:\n",
    "    metadata = email.metadata.copy()\n",
    "    metadata['idx'] = email.idx\n",
    "    metadata['label'] = email.label\n",
    "    return Document(\n",
    "        page_content=\"\\n\".join([\n",
    "            EMAIL_SUBJECT_PREFIX,\n",
    "            email.email_subject,\n",
    "            EMAIL_BODY_PREFIX,\n",
    "            email.email_body]),\n",
    "        metadata=metadata\n",
    "    )"
   ]
  },
  {
   "cell_type": "markdown",
   "metadata": {},
   "source": [
    "## Split Email Chains"
   ]
  },
  {
   "cell_type": "code",
   "execution_count": 8,
   "metadata": {},
   "outputs": [],
   "source": [
    "#| export\n",
    "SPLIT_CHAIN_PROMPT_TEMPLATE = \"\"\"The following is text from an email chain.\n",
    "If there is more than one email in the chain, return the positions in the text where each email starts.\n",
    "If there is only a single email in the chain, return [0].\n",
    "Return a list of positions in the text as integers.\n",
    "---EMAIL---\n",
    "{email}\n",
    "---END EMAIL---\n",
    "Positions:\"\"\"\n",
    "\n",
    "\n",
    "SPLIT_CHAIN_PROMPT = PromptTemplate.from_template(SPLIT_CHAIN_PROMPT_TEMPLATE)"
   ]
  },
  {
   "cell_type": "code",
   "execution_count": 9,
   "metadata": {},
   "outputs": [],
   "source": [
    "llm = VertexAI()"
   ]
  },
  {
   "cell_type": "code",
   "execution_count": 10,
   "metadata": {},
   "outputs": [],
   "source": [
    "split_chain = SPLIT_CHAIN_PROMPT | llm"
   ]
  },
  {
   "cell_type": "code",
   "execution_count": 11,
   "metadata": {},
   "outputs": [
    {
     "data": {
      "text/plain": [
       "48166"
      ]
     },
     "execution_count": 11,
     "metadata": {},
     "output_type": "execute_result"
    }
   ],
   "source": [
    "sample_training_instances[21].idx"
   ]
  },
  {
   "cell_type": "code",
   "execution_count": 12,
   "metadata": {},
   "outputs": [
    {
     "data": {
      "text/plain": [
       "\"Hi,\\n\\n\\nWe will update with the A/C no shorlty for this Ship to.\\nWould you be able to process the PO with the Ship to Location ?\\n\\nST ELIAS SPECIALTY HOSPITAL\\n4800 CORDOVA ST\\nANCHORAGE, AK 99503\\n\\n\\nThank you,\\nPreethi P\\nBuyer â€“ Order Confirmation & Open Order,\\nProvidence Resource, Engineering and Hospitality\\nO 949-381-4500 Option 2\\npreethi.panchabakesan@providence.org\\n\\n\\n\\n\\n\\n------------------------------------------------------------------------------------------------\\nTo: provpoconfirmation@providence.org, ProvPOConfirmation@provsjh.org\\nFrom: pharma-customerservice@cardinalhealth.com\\nDate: 2023-11-29 16:36:29\\nSubject: RE: RE: Document Purchase Order P0180000002700\\n\\n\\nHello Providence,\\n\\nGood day.\\n\\nMay we please have the Ship to account number for this request?\\n\\nLooking forward to your response.\\n\\nRegards,\\n[A logo with red lines  Description automatically generated]    Nico Atendido\\nSr Rep, Customer Service Ops | Pharma\\nGlobal Business Services\\nPharma-CustomerService@cardinalhealth.com\\nTel. 800.926.3161 / Fax 614-652-9304 | 866-456-4588\\nPharma-Kinray-CustomerService@cardinalhealth.com\\nTel. 888-527-6806 / Fax 614-553-9869\\n\\n\\nWe've been working to simplify how you get in touch with us by eliminating some of our email addresses and fax numbers. Please make sure you have our most up-to-date contact information so that we can continue to provide you with the assistance you need in a timely manner.\\n\\n\\n\\n--------------- Original Message ---------------\\nFrom: [provpoconfirmation@providence.org]\\nSent: 11/29/2023, 11:22 AM\\nTo: gmb-p_acu_l_w_asst@cardinalhealth.com\\nSubject: Document Purchase Order P0180000002700\\n\\n\\nExternal Email â€“ Please use caution before opening attachments or clicking links\\n\\n\\n\\nReview the purchasing document and any files that are attached to the message.\\n\\n[https://cah01.my.salesforce.com/servlet/servlet.ImageServer?oid=00Di0000000IfK8&esid=0188a000015jAax&from=ext]\\n\\n_________________________________________________\\n\\nThis message is for the designated recipient only and may contain privileged, proprietary\\nor otherwise private information. If you have received it in error, please notify the sender\\nimmediately and delete the original. Any other use of the email by you is prohibited.\\n\\nDansk - Deutsch - Espanol - Francais - Italiano - Japanese - Nederlands - Norsk - Portuguese - Chinese\\nSvenska: http://www.cardinalhealth.com/en/support/terms-and-conditions-english.html\\n\\n\\n\\nRef:MSG38225964\""
      ]
     },
     "execution_count": 12,
     "metadata": {},
     "output_type": "execute_result"
    }
   ],
   "source": [
    "sample_training_instances[21].email_body"
   ]
  },
  {
   "cell_type": "code",
   "execution_count": 13,
   "metadata": {},
   "outputs": [],
   "source": [
    "split_document_example = sample_training_instances[21]"
   ]
  },
  {
   "cell_type": "code",
   "execution_count": 14,
   "metadata": {},
   "outputs": [
    {
     "data": {
      "text/plain": [
       "' [0, 1000]'"
      ]
     },
     "execution_count": 14,
     "metadata": {},
     "output_type": "execute_result"
    }
   ],
   "source": [
    "example_split_document = email_to_document(split_document_example)\n",
    "example_split_answer = split_chain.invoke({\"email\": example_split_document.page_content})\n",
    "example_split_answer"
   ]
  },
  {
   "cell_type": "code",
   "execution_count": 15,
   "metadata": {},
   "outputs": [],
   "source": [
    "import ast\n",
    "\n",
    "example_split_answer_positions = ast.literal_eval(example_split_answer)"
   ]
  },
  {
   "cell_type": "code",
   "execution_count": 16,
   "metadata": {},
   "outputs": [
    {
     "data": {
      "text/plain": [
       "2"
      ]
     },
     "execution_count": 16,
     "metadata": {},
     "output_type": "execute_result"
    }
   ],
   "source": [
    "example_split_emails = []\n",
    "\n",
    "for start_pos, end_pos in zip(example_split_answer_positions, example_split_answer_positions[1:] + [None]):\n",
    "    example_split_emails.append(example_split_document.page_content[start_pos: end_pos])\n",
    "\n",
    "len(example_split_emails)"
   ]
  },
  {
   "cell_type": "code",
   "execution_count": 17,
   "metadata": {},
   "outputs": [
    {
     "name": "stdout",
     "output_type": "stream",
     "text": [
      "-- START EMAIL --\n",
      "--EMAIL SUBJECT--\n",
      "RE:RITM10279783 RE: Document Purchase Order P0180000002700\n",
      "--EMAIL BODY--\n",
      "Hi,\n",
      "\n",
      "\n",
      "We will update with the A/C no shorlty for this Ship to.\n",
      "Would you be able to process the PO with the Ship to Location ?\n",
      "\n",
      "ST ELIAS SPECIALTY HOSPITAL\n",
      "4800 CORDOVA ST\n",
      "ANCHORAGE, AK 99503\n",
      "\n",
      "\n",
      "Thank you,\n",
      "Preethi P\n",
      "Buyer â€“ Order Confirmation & Open Order,\n",
      "Providence Resource, Engineering and Hospitality\n",
      "O 949-381-4500 Option 2\n",
      "preethi.panchabakesan@providence.org\n",
      "\n",
      "\n",
      "\n",
      "\n",
      "\n",
      "------------------------------------------------------------------------------------------------\n",
      "To: provpoconfirmation@providence.org, ProvPOConfirmation@provsjh.org\n",
      "From: pharma-customerservice@cardinalhealth.com\n",
      "Date: 2023-11-29 16:36:29\n",
      "Subject: RE: RE: Document Purchase Order P0180000002700\n",
      "\n",
      "\n",
      "Hello Providence,\n",
      "\n",
      "Good day.\n",
      "\n",
      "May we please have the Ship to account number for this request?\n",
      "\n",
      "Looking forward to your response.\n",
      "\n",
      "Regards,\n",
      "[A logo with red lines  Description automatically generated]    Nico Atendido\n",
      "Sr Rep, Customer Se\n",
      "-- END EMAIL --\n",
      "\n",
      "-- START EMAIL --\n",
      "rvice Ops | Pharma\n",
      "Global Business Services\n",
      "Pharma-CustomerService@cardinalhealth.com\n",
      "Tel. 800.926.3161 / Fax 614-652-9304 | 866-456-4588\n",
      "Pharma-Kinray-CustomerService@cardinalhealth.com\n",
      "Tel. 888-527-6806 / Fax 614-553-9869\n",
      "\n",
      "\n",
      "We've been working to simplify how you get in touch with us by eliminating some of our email addresses and fax numbers. Please make sure you have our most up-to-date contact information so that we can continue to provide you with the assistance you need in a timely manner.\n",
      "\n",
      "\n",
      "\n",
      "--------------- Original Message ---------------\n",
      "From: [provpoconfirmation@providence.org]\n",
      "Sent: 11/29/2023, 11:22 AM\n",
      "To: gmb-p_acu_l_w_asst@cardinalhealth.com\n",
      "Subject: Document Purchase Order P0180000002700\n",
      "\n",
      "\n",
      "External Email â€“ Please use caution before opening attachments or clicking links\n",
      "\n",
      "\n",
      "\n",
      "Review the purchasing document and any files that are attached to the message.\n",
      "\n",
      "[https://cah01.my.salesforce.com/servlet/servlet.ImageServer?oid=00Di0000000IfK8&esid=0188a000015jAax&from=ext]\n",
      "\n",
      "_________________________________________________\n",
      "\n",
      "This message is for the designated recipient only and may contain privileged, proprietary\n",
      "or otherwise private information. If you have received it in error, please notify the sender\n",
      "immediately and delete the original. Any other use of the email by you is prohibited.\n",
      "\n",
      "Dansk - Deutsch - Espanol - Francais - Italiano - Japanese - Nederlands - Norsk - Portuguese - Chinese\n",
      "Svenska: http://www.cardinalhealth.com/en/support/terms-and-conditions-english.html\n",
      "\n",
      "\n",
      "\n",
      "Ref:MSG38225964\n",
      "-- END EMAIL --\n",
      "\n"
     ]
    }
   ],
   "source": [
    "for e in example_split_emails:\n",
    "    print(\"-- START EMAIL --\")\n",
    "    print(e)\n",
    "    print(\"-- END EMAIL --\\n\")"
   ]
  },
  {
   "cell_type": "markdown",
   "metadata": {},
   "source": [
    "## Summarize emails"
   ]
  },
  {
   "cell_type": "code",
   "execution_count": 18,
   "metadata": {},
   "outputs": [
    {
     "data": {
      "text/plain": [
       "count      32.000000\n",
       "mean     1396.937500\n",
       "std       656.691558\n",
       "min       400.000000\n",
       "25%      1009.500000\n",
       "50%      1115.500000\n",
       "75%      1746.750000\n",
       "max      2964.000000\n",
       "dtype: float64"
      ]
     },
     "execution_count": 18,
     "metadata": {},
     "output_type": "execute_result"
    }
   ],
   "source": [
    "pd.Series([len(d.email_body + d.email_subject) for d in sample_training_instances]).describe()"
   ]
  },
  {
   "cell_type": "markdown",
   "metadata": {},
   "source": [
    "Define summarization prompt"
   ]
  },
  {
   "cell_type": "code",
   "execution_count": 19,
   "metadata": {},
   "outputs": [],
   "source": [
    "#| export\n",
    "# TODO: Ignore sender, receiver information\n",
    "# TODO: Summarize most recent email, ignore rest\n",
    "# TODO: Remove boilerplate\n",
    "SUMMARIZE_PROMPT_PREFIX = \"\"\"Summarize the following email chain. \n",
    "Include information a customer service representative might find useful. \n",
    "Denote the business function the involved parties may perform.\n",
    "Focus on the most recent email.\n",
    "Do not include any boilerplate content in your summary.\n",
    "Only use information present in the email.\n",
    "Think through your summary step-by-step.\n",
    "EMAIL: \"\"\"\n",
    "\n",
    "SUMMARIZE_PROMPT_STR = SUMMARIZE_PROMPT_PREFIX + \"{context}\\nSummary:\"\n",
    "\n",
    "SUMMARIZE_PROMPT = PromptTemplate.from_template(SUMMARIZE_PROMPT_STR)\n",
    "\n",
    "BISON_MAXIMUM_INPUT_TOKENS = 8192\n",
    "CONTEXT_TOKEN_LIMIT = BISON_MAXIMUM_INPUT_TOKENS - len(SUMMARIZE_PROMPT_PREFIX)"
   ]
  },
  {
   "cell_type": "code",
   "execution_count": 20,
   "metadata": {},
   "outputs": [
    {
     "data": {
      "text/plain": [
       "7838"
      ]
     },
     "execution_count": 20,
     "metadata": {},
     "output_type": "execute_result"
    }
   ],
   "source": [
    "CONTEXT_TOKEN_LIMIT"
   ]
  },
  {
   "cell_type": "markdown",
   "metadata": {},
   "source": [
    "### Summarize individually"
   ]
  },
  {
   "cell_type": "code",
   "execution_count": 21,
   "metadata": {},
   "outputs": [],
   "source": [
    "model = VertexAI()"
   ]
  },
  {
   "cell_type": "code",
   "execution_count": 22,
   "metadata": {},
   "outputs": [],
   "source": [
    "#| export\n",
    "def get_summary_chain() -> RunnableSequence:\n",
    "    return SUMMARIZE_PROMPT | VertexAI()"
   ]
  },
  {
   "cell_type": "code",
   "execution_count": 23,
   "metadata": {},
   "outputs": [],
   "source": [
    "chain = get_summary_chain()"
   ]
  },
  {
   "cell_type": "code",
   "execution_count": 24,
   "metadata": {},
   "outputs": [
    {
     "data": {
      "text/plain": [
       "langchain_core.runnables.base.RunnableSequence"
      ]
     },
     "execution_count": 24,
     "metadata": {},
     "output_type": "execute_result"
    }
   ],
   "source": [
    "type(chain)"
   ]
  },
  {
   "cell_type": "code",
   "execution_count": 25,
   "metadata": {},
   "outputs": [],
   "source": [
    "example_batch = [email_to_document(i) for i in sample_training_instances]"
   ]
  },
  {
   "cell_type": "code",
   "execution_count": 53,
   "metadata": {},
   "outputs": [],
   "source": [
    "#| export\n",
    "@quota_handler\n",
    "def get_documents_summaries(\n",
    "    documents: List[Document], \n",
    "    chain: RunnableSequence\n",
    "    ) -> List[str]:\n",
    "    return chain.batch([{'context': d.page_content} for d in documents])"
   ]
  },
  {
   "cell_type": "code",
   "execution_count": 47,
   "metadata": {},
   "outputs": [
    {
     "data": {
      "text/plain": [
       "5"
      ]
     },
     "execution_count": 47,
     "metadata": {},
     "output_type": "execute_result"
    }
   ],
   "source": [
    "example_batch_summaries = get_documents_summaries(example_batch[:5], chain)\n",
    "len(example_batch_summaries)"
   ]
  },
  {
   "cell_type": "code",
   "execution_count": 48,
   "metadata": {},
   "outputs": [
    {
     "name": "stdout",
     "output_type": "stream",
     "text": [
      "-- DOCUMENT --\n",
      " --EMAIL SUBJECT--\n",
      "Equashield latest - FW: EQ II Catalog 2023 - Cardinal Health.xlsx\n",
      "--EMAIL BODY--\n",
      "External Email â€“ Please use caution before opening attachments or clicking links  Let us know if you need anything else.    Regards,  Thomas Everitt Customer Service Representative Office    +1 516 684 8200 / Ext: 220 Mobile  +1 516 398 97 25 Fax          +1 516 684 8202 www.equashield.com<http://www.equashield.com/> [cid:image001.png@01DA0CD9.861376B0] [cid:image002.png@01DA0CD9.861376B0]  From: Pavlina Georgieva <pavlina@equashield.com> Sent: Wednesday, November 1, 2023 3:39 PM To: Thomas Everitt <Thomas.e@equashield.com> Subject: EQ II Catalog 2023 - Cardinal Health.xlsx      Regards,  Pavlina Georgieva Logistics Coordinator Office    +1 516 684 8200 / Ext: 202 Fax          +1 516 684 8202 www.equashield.com<http://www.equashield.com/> [cid:image001.png@01DA0CD9.861376B0] [cid:image002.png@01DA0CD9.861376B0]   ________________________________ Confidentiality Notice: This e-mail message, including any attachments, is for the sole use of the intended recipient(s) and may contain CONFIDENTIAL or PRIVILEGED information. Any unauthorized review, use, disclosure or distribution is prohibited. If you are not the intended recipient, please contact the sender by reply e-mail and immediately destroy all copies of the original message and all attachments. \n",
      "\n",
      "-- LABEL --\n",
      " Order Processing \n",
      "\n",
      "-- SUMMARY --\n",
      " Pavlina Georgieva (Logistics Coordinator) sent the 2023 EQ II Catalog from Cardinal Health to Thomas Everitt (Customer Service Representative). \n",
      "\n",
      "-- DOCUMENT --\n",
      " --EMAIL SUBJECT--\n",
      "Auto-Reply.  We Have Received Your Request\n",
      "--EMAIL BODY--\n",
      "To whom it may concern,  Your request has been received and will be assigned to a Dropship Billing Coordinator for resolution in the order it was received. You will be notified of the coordinator assigned for resolution.  Please do not reply to this group mailbox in effort to inquire about the status of your request.  Please make sure you are sending your requests to the correct boxes listed below.  For all involving SPD issues, please send your email to gmb-dub-spd-crm@cardinalhealth.com  For all involving Dropship issues, please send your email to gmb-dub-ds-crm@cardinalhealth.com.  Please keep in mind that failure to send your request to appropriate box initially can cause a delay in getting the requested information back to you.  _________________________________________________  This message is for the designated recipient only and may contain privileged, proprietary or otherwise private information. If you have received it in error, please notify the sender immediately and delete the original. Any other use of the email by you is prohibited.  Dansk - Deutsch - Espanol - Francais - Italiano - Japanese - Nederlands - Norsk - Portuguese - Chinese Svenska: http://www.cardinalhealth.com/en/support/terms-and-conditions-english.html \n",
      "\n",
      "-- LABEL --\n",
      " Billing / Invoice \n",
      "\n",
      "-- SUMMARY --\n",
      " **Summary**\n",
      "\n",
      "A customer reached out to Cardinal Health with an unspecified request. An auto-reply was sent, informing the customer that their request has been received and will be assigned to a Dropship Billing Coordinator for resolution. The customer is advised not to reply to the group mailbox to inquire about the status of their request and to ensure they send future requests to the correct email addresses provided. Failure to do so may cause delays in receiving the requested information.\n",
      "\n",
      "**Customer Function:** Unspecified\n",
      "\n",
      "**Cardinal Health Function:** Dropship Billing Coordinator, Customer Service \n",
      "\n",
      "-- DOCUMENT --\n",
      " --EMAIL SUBJECT--\n",
      "Sent - Invoice 7322207358 - to State of Florida Next Gen (ANID: AN01722330651) - Notification from Ariba Network\n",
      "--EMAIL BODY--\n",
      "External Email â€“ Please use caution before opening attachments or clicking links   Your customer State of Florida Next Gen updated your invoice on SAP Business Network.  You can view the invoice in your online Outbox (ANID: AN11096391905).  Country  US Customer  State of Florida Next Gen Invoice number  7322207358 Invoice Status  Sent Description:   Header Level Exceptions: Accounting Verification Exception Please accept or edit the accounting information---   If you have any questions, contact your customer.   Download the SAP Business Network Supplier app to your mobile device and manage customer orders on the go.  Ariba, Inc., 3420 Hillview Ave, Bldg3, Palo Alto, CA 94304, USA SAP Business Network Privacy Statement Ariba Data Policy Support If a customer-specific privacy statement applies to this processing of personal data, you can view it when logged into your account. \n",
      "\n",
      "-- LABEL --\n",
      " Account/Inquiry \n",
      "\n",
      "-- SUMMARY --\n",
      " **Subject**: Invoice 7322207358 Update by State of Florida Next Gen\n",
      "\n",
      "**Customer**: State of Florida Next Gen (ANID: AN01722330651)\n",
      "\n",
      "**Invoice Number**: 7322207358\n",
      "\n",
      "**Invoice Status**: Sent\n",
      "\n",
      "**Description**: Accounting Verification Exception\n",
      "\n",
      "**Action Required**: Accept or edit the accounting information\n",
      "\n",
      "**Additional Information**:\n",
      "- The customer updated the invoice on SAP Business Network.\n",
      "- The supplier can view the invoice in their online Outbox (ANID: AN11096 \n",
      "\n",
      "-- DOCUMENT --\n",
      " --EMAIL SUBJECT--\n",
      "ACTION REQUIRED | ACCT#2057188355 | PO#160610538/SO#1051672552 | ADDITIONAL INFORMATION NEEDED\n",
      "--EMAIL BODY--\n",
      "Hello Team,  Please reach out to the customer and inform that the vendor is in need of a contact person and phoned number as well as their email for them to set up this new account for the customer. Until account is set up, order is on hold.   Have a great day!  Thank you,  Donna Biolanda- Roxas Dropship Coordinator | Dallas and St. Louis Division Cardinal Health | Customer Service Operations Telephone 614-356-4747 - ext 40850 dir | Fax: 614-652-9344 GMB-PD-DropshipResolution@cardinalhealth.com<mailto:GMB-PD-DropshipResolution@cardinalhealth.com>   _________________________________________________  This message is for the designated recipient only and may contain privileged, proprietary or otherwise private information. If you have received it in error, please notify the sender immediately and delete the original. Any other use of the email by you is prohibited.  Dansk - Deutsch - Espanol - Francais - Italiano - Japanese - Nederlands - Norsk - Portuguese - Chinese Svenska: http://www.cardinalhealth.com/en/support/terms-and-conditions-english.html \n",
      "\n",
      "-- LABEL --\n",
      " Order Processing \n",
      "\n",
      "-- SUMMARY --\n",
      " **Subject**: ACTION REQUIRED | Additional Information Needed\n",
      "\n",
      "**Customer**: \n",
      "- Account Number: 2057188355\n",
      "- Purchase Order Number: 160610538\n",
      "- Sales Order Number: 1051672552\n",
      "\n",
      "**Issue**: \n",
      "- The vendor needs the following information to set up a new account for the customer:\n",
      " - Contact person\n",
      " - Phone number\n",
      " - Email address\n",
      "\n",
      "**Status**: \n",
      "- Order is on hold until the account is set up.\n",
      "\n",
      "**Action Required**: \n",
      "- Customer Service Representative to \n",
      "\n",
      "-- DOCUMENT --\n",
      " --EMAIL SUBJECT--\n",
      "Paid - Invoice 7328757492 - to State of Florida Next Gen (ANID: AN01722330651) - Notification from SAP Business Network\n",
      "--EMAIL BODY--\n",
      "External Email â€“ Please use caution before opening attachments or clicking links   Your customer State of Florida Next Gen updated your invoice on SAP Business Network.  You can view the invoice in your online Outbox (ANID: AN11096391905).  Country  US Customer  State of Florida Next Gen Invoice number  7328757492 Invoice Status  Paid Description:   Header Level Exceptions: Accounting Verification Exception Please accept or edit the accounting information---   If you have any questions, contact your customer.   Download the SAP Business Network Supplier app to your mobile device and manage customer orders on the go.  Ariba, Inc., 3420 Hillview Ave, Bldg3, Palo Alto, CA 94304, USA SAP Business Network Privacy Statement Ariba Data Policy Support If a customer-specific privacy statement applies to this processing of personal data, you can view it when logged into your account. \n",
      "\n",
      "-- LABEL --\n",
      " Account/Inquiry \n",
      "\n",
      "-- SUMMARY --\n",
      " **Subject**: Paid - Invoice 7328757492\n",
      "\n",
      "**Customer**: State of Florida Next Gen (ANID: AN01722330651)\n",
      "\n",
      "**Invoice Number**: 7328757492\n",
      "\n",
      "**Invoice Status**: Paid\n",
      "\n",
      "**Description**: Header Level Exceptions: Accounting Verification Exception\n",
      "\n",
      "**Action Required**: The recipient may need to accept or edit the accounting information.\n",
      "\n",
      "**Additional Information**:\n",
      "- The customer updated the invoice on SAP Business Network.\n",
      "- The recipient can view the invoice in their online Outbox (ANID: AN \n",
      "\n"
     ]
    }
   ],
   "source": [
    "for doc, summary, instance in zip(\n",
    "    example_batch, \n",
    "    example_batch_summaries, \n",
    "    sample_training_instances[:len(example_batch)]\n",
    "    ):\n",
    "    print(\"-- DOCUMENT --\\n\", doc.page_content, \"\\n\")\n",
    "    print(\"-- LABEL --\\n\", instance.label, \"\\n\")\n",
    "    print(\"-- SUMMARY --\\n\", summary.strip(), \"\\n\")"
   ]
  },
  {
   "cell_type": "markdown",
   "metadata": {},
   "source": [
    "Get summaries for our cohort of emails."
   ]
  },
  {
   "cell_type": "code",
   "execution_count": 54,
   "metadata": {},
   "outputs": [],
   "source": [
    "#| export\n",
    "def get_summaries(\n",
    "        instances: Iterable[Email], \n",
    "        chain: RunnableSequence,\n",
    "        batch_size: int = 5) -> Iterable[List[str]]:\n",
    "    for instance_batch in get_batches(instances, batch_size):\n",
    "        instance_batch_documents = [email_to_document(i) for i in instance_batch]\n",
    "        yield get_documents_summaries(instance_batch_documents, chain)"
   ]
  },
  {
   "cell_type": "code",
   "execution_count": 50,
   "metadata": {},
   "outputs": [],
   "source": [
    "train_idx, test_idx = get_idx(prefix=f\"{WRITE_PREFIX}/tejas\")\n",
    "train_idx.shape\n",
    "total_instances = train_idx.shape[0] + test_idx.shape[0]"
   ]
  },
  {
   "cell_type": "code",
   "execution_count": 51,
   "metadata": {},
   "outputs": [
    {
     "data": {
      "text/plain": [
       "3000"
      ]
     },
     "execution_count": 51,
     "metadata": {},
     "output_type": "execute_result"
    }
   ],
   "source": [
    "total_instances"
   ]
  },
  {
   "cell_type": "code",
   "execution_count": 56,
   "metadata": {},
   "outputs": [
    {
     "data": {
      "application/vnd.jupyter.widget-view+json": {
       "model_id": "221cab5789de48d38aa2d0ec03045f2f",
       "version_major": 2,
       "version_minor": 0
      },
      "text/plain": [
       "  0%|                                                  | 0/3000 [00:00<?, ?it/s]"
      ]
     },
     "metadata": {},
     "output_type": "display_data"
    },
    {
     "data": {
      "text/plain": [
       "True"
      ]
     },
     "execution_count": 56,
     "metadata": {},
     "output_type": "execute_result"
    }
   ],
   "source": [
    "instance_loader = get_emails_from_frame(\n",
    "    raw_emails_tejas,\n",
    "    index_prefix=f'{WRITE_PREFIX}/tejas')\n",
    "\n",
    "summaries = []\n",
    "\n",
    "pbar = tqdm(total=total_instances, ncols=80, leave=True)\n",
    "\n",
    "for s in get_summaries(instance_loader, chain):\n",
    "    summaries.extend(s)\n",
    "    pbar.update(len(s))\n",
    "\n",
    "pbar.close()\n",
    "\n",
    "len(summaries) == total_instances"
   ]
  },
  {
   "cell_type": "code",
   "execution_count": 57,
   "metadata": {},
   "outputs": [
    {
     "data": {
      "text/plain": [
       "3000"
      ]
     },
     "execution_count": 57,
     "metadata": {},
     "output_type": "execute_result"
    }
   ],
   "source": [
    "len(summaries)"
   ]
  },
  {
   "cell_type": "code",
   "execution_count": 63,
   "metadata": {},
   "outputs": [],
   "source": [
    "# write summaries\n",
    "pd.DataFrame(\n",
    "    summaries, \n",
    "    columns=[\"summary\"], \n",
    "    index=pd.concat([train_idx, test_idx], axis=0).values\n",
    ").to_csv(\n",
    "    f'gs://{PROJECT_BUCKET}/{WRITE_PREFIX}/tejas/summaries.csv', \n",
    "    index=True)"
   ]
  },
  {
   "cell_type": "markdown",
   "metadata": {},
   "source": [
    "## Batch Prediction"
   ]
  },
  {
   "cell_type": "markdown",
   "metadata": {},
   "source": [
    "### Prepare prompts for batch"
   ]
  },
  {
   "cell_type": "code",
   "execution_count": 12,
   "metadata": {},
   "outputs": [
    {
     "data": {
      "text/plain": [
       "Document(page_content='--EMAIL SUBJECT--\\nPO 70026263\\n--EMAIL BODY--\\nExternal Email â€“ Please use caution before opening attachments or clicking links\\n\\nHello\\n\\nThe attached PO was sent a few days ago.  Please confirm it is in your system.\\n\\n\\nThank you\\nJoe\\n\\n\\nJoe Liesse\\nOperations Coordinator\\nSupply Chain Management â€“ P2P\\nPhone: 507-266-5551\\nEmail: liesse.joseph@mayo.edu<mailto:liesse.joseph@mayo.edu>\\n________________________\\nMayo Clinic\\n200 First Street SW\\nRochester, MN 55905', metadata={'BU': 'PD', 'case_number': 3665915, 'ACCOUNT_BUSINESS_UNIT__C': nan, 'received_at': '2023-12-01T22:43:59', 'sfdc_subcategory': 'Inquiry', 'predicted_category': 'Order Processing', 'predicted_subcategory': 'Order Entry', 'record_type': 1, 'probability': 0.6764667, 'Accuracy_upd': 'Incorrect', 'Bin': 6, 'idx': 48942})"
      ]
     },
     "execution_count": 12,
     "metadata": {},
     "output_type": "execute_result"
    }
   ],
   "source": [
    "documents = list(map(make_document_from_instance, sample_training_instances))\n",
    "documents[0]"
   ]
  },
  {
   "cell_type": "markdown",
   "metadata": {},
   "source": [
    "Prepare prompts"
   ]
  },
  {
   "cell_type": "code",
   "execution_count": null,
   "metadata": {},
   "outputs": [],
   "source": [
    "#| export\n",
    "def prepare_summarization_prompt(document: Document) -> Tuple[Dict[str, str], Dict[str, Any]]:\n",
    "    prompt = {'prompt': SUMMARIZE_PROMPT.format(context=document.page_content)}\n",
    "    return prompt, document.metadata"
   ]
  },
  {
   "cell_type": "code",
   "execution_count": 14,
   "metadata": {},
   "outputs": [
    {
     "data": {
      "text/plain": [
       "({'prompt': 'You are a customer service representative.\\nSummarize the following email, try to preserve as much information as is necessary to diagnose and solve the customers issue detailed in the email.\\nThink through your summary step-by-step.\\nOnly use information present in the email.\\nEMAIL:\\n--EMAIL SUBJECT--\\nPO 70026263\\n--EMAIL BODY--\\nExternal Email â€“ Please use caution before opening attachments or clicking links\\n\\nHello\\n\\nThe attached PO was sent a few days ago.  Please confirm it is in your system.\\n\\n\\nThank you\\nJoe\\n\\n\\nJoe Liesse\\nOperations Coordinator\\nSupply Chain Management â€“ P2P\\nPhone: 507-266-5551\\nEmail: liesse.joseph@mayo.edu<mailto:liesse.joseph@mayo.edu>\\n________________________\\nMayo Clinic\\n200 First Street SW\\nRochester, MN 55905\\nSummary:'},\n",
       " {'BU': 'PD',\n",
       "  'case_number': 3665915,\n",
       "  'ACCOUNT_BUSINESS_UNIT__C': nan,\n",
       "  'received_at': '2023-12-01T22:43:59',\n",
       "  'sfdc_subcategory': 'Inquiry',\n",
       "  'predicted_category': 'Order Processing',\n",
       "  'predicted_subcategory': 'Order Entry',\n",
       "  'record_type': 1,\n",
       "  'probability': 0.6764667,\n",
       "  'Accuracy_upd': 'Incorrect',\n",
       "  'Bin': 6,\n",
       "  'idx': 48942})"
      ]
     },
     "execution_count": 14,
     "metadata": {},
     "output_type": "execute_result"
    }
   ],
   "source": [
    "prompt_and_metadata = prepare_summarization_prompt(documents[0])\n",
    "prompt_and_metadata"
   ]
  },
  {
   "cell_type": "markdown",
   "metadata": {},
   "source": [
    "Make a summarization request"
   ]
  },
  {
   "cell_type": "code",
   "execution_count": 15,
   "metadata": {},
   "outputs": [],
   "source": [
    "sample_prompt = prompt_and_metadata[0]['prompt']"
   ]
  },
  {
   "cell_type": "code",
   "execution_count": 16,
   "metadata": {},
   "outputs": [
    {
     "data": {
      "text/plain": [
       " The customer, Joe Liesse from Mayo Clinic, is inquiring about a purchase order (PO) numbered 70026263 that was sent a few days ago. He wants confirmation that the PO has been received and is in the recipient's system."
      ]
     },
     "execution_count": 16,
     "metadata": {},
     "output_type": "execute_result"
    }
   ],
   "source": [
    "predict(sample_prompt)"
   ]
  },
  {
   "cell_type": "code",
   "execution_count": 28,
   "metadata": {},
   "outputs": [],
   "source": [
    "#| export\n",
    "SUMMARIZATION_PROMPT_FILE_NAME = \"summarization_prompts.jsonl\"\n",
    "SUMMARIZATION_METADATA_FILE_NAME = \"summarization_metadata.jsonl\"\n",
    "\n",
    "\n",
    "def prepare_batch_summarization_files(\n",
    "        loader: Iterable[Email],\n",
    "        bucket_name: str = PROJECT_BUCKET,\n",
    "        use_pbar: bool = False,\n",
    "        pbar_size: int = 10000,\n",
    "        prefix: str = WRITE_PREFIX):\n",
    "    client = get_storage_client()\n",
    "    bucket = client.bucket(bucket_name=bucket_name)\n",
    "    prompt_blob_name = f\"{prefix}/{SUMMARIZATION_PROMPT_FILE_NAME}\"\n",
    "    metadata_blob_name = f\"{prefix}/{SUMMARIZATION_METADATA_FILE_NAME}\"\n",
    "    prompt_blob = bucket.blob(blob_name=prompt_blob_name)\n",
    "    metadata_blob = bucket.blob(blob_name=metadata_blob_name)\n",
    "    if use_pbar:\n",
    "        pbar = tqdm(total=pbar_size, ncols=80, leave=False)\n",
    "    with metadata_blob.open(\"w\") as metadata_f:\n",
    "        with prompt_blob.open(\"w\") as prompt_f:\n",
    "            for instance in loader:\n",
    "                document = email_to_document(instance)\n",
    "                prompt, metadata = prepare_summarization_prompt(document)\n",
    "                # Write prompt to JSONL file in GCS, write metadat to similar file\n",
    "                json.dump(prompt, prompt_f)\n",
    "                prompt_f.write(\"\\n\")\n",
    "                json.dump(metadata, metadata_f)\n",
    "                metadata_f.write(\"\\n\")\n",
    "                if use_pbar:\n",
    "                    pbar.update(1)\n",
    "    if use_pbar:\n",
    "        pbar.close()"
   ]
  },
  {
   "cell_type": "code",
   "execution_count": 26,
   "metadata": {},
   "outputs": [
    {
     "data": {
      "application/vnd.jupyter.widget-view+json": {
       "model_id": "b4ef1fa5ebcc432a8a881b38cf310b82",
       "version_major": 2,
       "version_minor": 0
      },
      "text/plain": [
       "  0%|                                                 | 0/10000 [00:00<?, ?it/s]"
      ]
     },
     "metadata": {},
     "output_type": "display_data"
    }
   ],
   "source": [
    "# prepare_batch_summarization_files(\n",
    "#     loader=get_emails_from_frame(),\n",
    "#     use_pbar=True)"
   ]
  },
  {
   "cell_type": "markdown",
   "metadata": {},
   "source": [
    "### Invoke batch prediction"
   ]
  },
  {
   "cell_type": "code",
   "execution_count": 35,
   "metadata": {},
   "outputs": [],
   "source": [
    "#| export\n",
    "SUMMARIZATION_RESULT_PREFIX = \"summarization\"\n",
    "\n",
    "\n",
    "def summarize_prompts(\n",
    "        file_prefix: str = WRITE_PREFIX,\n",
    "        file_name: str = SUMMARIZATION_PROMPT_FILE_NAME,\n",
    "        bucket_name: str = PROJECT_BUCKET,\n",
    "        params: Dict[str, Any] = DEFAULT_PREDICT_PARAMS\n",
    "        ) -> BatchPredictionJob:\n",
    "    dataset = f\"gs://{bucket_name}/{file_prefix}/{file_name}\"\n",
    "    destination_url_prefix = f\"gs://{bucket_name}/{file_prefix}/{SUMMARIZATION_RESULT_PREFIX}\"\n",
    "    model = get_model()\n",
    "    return model.batch_predict(\n",
    "        dataset=dataset,\n",
    "        destination_uri_prefix=destination_url_prefix,\n",
    "        # Optional:\n",
    "        model_parameters=params)"
   ]
  },
  {
   "cell_type": "code",
   "execution_count": null,
   "metadata": {},
   "outputs": [],
   "source": [
    "# batch_job = summarize_prompts()"
   ]
  },
  {
   "cell_type": "code",
   "execution_count": 39,
   "metadata": {},
   "outputs": [],
   "source": [
    "#| export\n",
    "def load_batch_prediction_results():\n",
    "    pass"
   ]
  },
  {
   "cell_type": "markdown",
   "metadata": {},
   "source": [
    "## Export"
   ]
  },
  {
   "cell_type": "code",
   "execution_count": 65,
   "metadata": {},
   "outputs": [],
   "source": [
    "#| hide\n",
    "import nbdev; nbdev.nbdev_export()"
   ]
  },
  {
   "cell_type": "code",
   "execution_count": null,
   "metadata": {},
   "outputs": [],
   "source": []
  }
 ],
 "metadata": {
  "kernelspec": {
   "display_name": ".venv",
   "language": "python",
   "name": "python3"
  },
  "language_info": {
   "codemirror_mode": {
    "name": "ipython",
    "version": 3
   },
   "file_extension": ".py",
   "mimetype": "text/x-python",
   "name": "python",
   "nbconvert_exporter": "python",
   "pygments_lexer": "ipython3",
   "version": "3.11.4"
  }
 },
 "nbformat": 4,
 "nbformat_minor": 2
}
