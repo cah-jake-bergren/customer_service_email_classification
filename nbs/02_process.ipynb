{
 "cells": [
  {
   "cell_type": "markdown",
   "metadata": {},
   "source": [
    "# process\n",
    "\n",
    "> Process our emails, remove boilerplate, split email chains"
   ]
  },
  {
   "cell_type": "code",
   "execution_count": 1,
   "metadata": {},
   "outputs": [],
   "source": [
    "#| default_exp process"
   ]
  },
  {
   "cell_type": "code",
   "execution_count": 27,
   "metadata": {},
   "outputs": [],
   "source": [
    "#| export\n",
    "from typing import List, Dict\n",
    "from itertools import chain, islice\n",
    "\n",
    "from classifier.schema import batch_predict, predict\n",
    "from classifier.load import get_training_instances, TrainingInstance\n",
    "\n",
    "from langchain.text_splitter import RecursiveCharacterTextSplitter\n",
    "from langchain.prompts import PromptTemplate\n",
    "from langchain.schema import Document\n",
    "from tqdm.auto import tqdm"
   ]
  },
  {
   "cell_type": "code",
   "execution_count": 28,
   "metadata": {},
   "outputs": [],
   "source": [
    "import json\n",
    "from pathlib import Path"
   ]
  },
  {
   "cell_type": "markdown",
   "metadata": {},
   "source": [
    "## Filter text chain using map-reduce"
   ]
  },
  {
   "cell_type": "code",
   "execution_count": 4,
   "metadata": {},
   "outputs": [
    {
     "data": {
      "text/plain": [
       "20"
      ]
     },
     "execution_count": 4,
     "metadata": {},
     "output_type": "execute_result"
    }
   ],
   "source": [
    "sample_training_instances = list(islice(get_training_instances(), 20))\n",
    "len(sample_training_instances)"
   ]
  },
  {
   "cell_type": "code",
   "execution_count": 5,
   "metadata": {},
   "outputs": [
    {
     "data": {
      "text/plain": [
       "[515,\n",
       " 9884,\n",
       " 611,\n",
       " 616,\n",
       " 1006,\n",
       " 549,\n",
       " 640,\n",
       " 185,\n",
       " 1760,\n",
       " 737,\n",
       " 826,\n",
       " 2256,\n",
       " 818,\n",
       " 1709,\n",
       " 1030,\n",
       " 925,\n",
       " 515,\n",
       " 326,\n",
       " 1012,\n",
       " 7330]"
      ]
     },
     "execution_count": 5,
     "metadata": {},
     "output_type": "execute_result"
    }
   ],
   "source": [
    "[len(d.email_body + d.email_subject) for d in sample_training_instances]"
   ]
  },
  {
   "cell_type": "markdown",
   "metadata": {},
   "source": [
    "Define summarization prompt"
   ]
  },
  {
   "cell_type": "code",
   "execution_count": 6,
   "metadata": {},
   "outputs": [],
   "source": [
    "#| export\n",
    "SUMMARIZE_PROMPT_PREFIX = \"\"\"You are a customer service representative.\n",
    "Summarize the following email, try to preserve as much information as is necessary to diagnose and solve the customers issue detailed in the email.\n",
    "Think through your summary step-by-step.\n",
    "Only use information present in the email.\n",
    "EMAIL:\n",
    "\"\"\"\n",
    "\n",
    "SUMMARIZE_PROMPT_STR = SUMMARIZE_PROMPT_PREFIX + \"{context}\\nSummary:\"\n",
    "\n",
    "SUMMARIZE_PROMPT = PromptTemplate.from_template(SUMMARIZE_PROMPT_STR)\n",
    "\n",
    "BISON_MAXIMUM_INPUT_TOKENS = 8192\n",
    "CONTEXT_TOKEN_LIMIT = BISON_MAXIMUM_INPUT_TOKENS - len(SUMMARIZE_PROMPT_PREFIX)"
   ]
  },
  {
   "cell_type": "code",
   "execution_count": 7,
   "metadata": {},
   "outputs": [
    {
     "data": {
      "text/plain": [
       "7910"
      ]
     },
     "execution_count": 7,
     "metadata": {},
     "output_type": "execute_result"
    }
   ],
   "source": [
    "CONTEXT_TOKEN_LIMIT"
   ]
  },
  {
   "cell_type": "code",
   "execution_count": 55,
   "metadata": {},
   "outputs": [],
   "source": [
    "#| export\n",
    "EMAIL_SUBJECT_PREFIX = \"--EMAIL SUBJECT--\"\n",
    "EMAIL_BODY_PREFIX = \"--EMAIL BODY--\"\n",
    "PREFIX_LEN = len(EMAIL_SUBJECT_PREFIX + EMAIL_BODY_PREFIX) + len(\"\\n\"*4)\n",
    "\n",
    "\n",
    "def make_document_from_email(\n",
    "        body: str, \n",
    "        subject: str, \n",
    "        metadata: Dict[str, str]\n",
    "        ) -> Document:\n",
    "    return Document(\n",
    "        page_content=\"\\n\".join([\n",
    "            EMAIL_SUBJECT_PREFIX,\n",
    "            subject,\n",
    "            EMAIL_BODY_PREFIX,\n",
    "            body]),\n",
    "        metadata=metadata\n",
    "    )\n",
    "\n",
    "\n",
    "def split_training_instance_for_summary(\n",
    "    training_instance: TrainingInstance,\n",
    "    character_limit: int = CONTEXT_TOKEN_LIMIT\n",
    "    ) -> List[Document]:\n",
    "    subject_len = len(training_instance.email_subject)\n",
    "    body_len = len(training_instance.email_body)\n",
    "    if (subject_len + body_len + PREFIX_LEN) > character_limit:\n",
    "        body_limit = character_limit - subject_len - PREFIX_LEN\n",
    "        body_splitter = RecursiveCharacterTextSplitter(\n",
    "            chunk_size=body_limit)\n",
    "        body_texts = body_splitter.split_text(training_instance.email_body)\n",
    "    else:\n",
    "        body_texts = [training_instance.email_body]\n",
    "    metadata = training_instance.metadata\n",
    "    metadata['idx'] = training_instance.idx\n",
    "    metadata['label'] = training_instance.label\n",
    "    # Gather split instances as documents\n",
    "    split_instances = []\n",
    "    for i, body in enumerate(body_texts):\n",
    "        i_metadata = metadata.copy()\n",
    "        i_metadata['idx_chunk'] = i\n",
    "        i_document = make_document_from_email(\n",
    "            body,\n",
    "            subject=training_instance.email_subject,\n",
    "            metadata=i_metadata\n",
    "        )\n",
    "        split_instances.append(i_document)\n",
    "    return split_instances\n",
    "\n",
    "\n",
    "def split_training_instances(instances: List[TrainingInstance]) -> List[Document]:\n",
    "    return list(chain.from_iterable(map(split_training_instance_for_summary, instances)))"
   ]
  },
  {
   "cell_type": "code",
   "execution_count": 56,
   "metadata": {},
   "outputs": [
    {
     "data": {
      "text/plain": [
       "[549,\n",
       " 7907,\n",
       " 2241,\n",
       " 645,\n",
       " 650,\n",
       " 1040,\n",
       " 583,\n",
       " 674,\n",
       " 219,\n",
       " 1794,\n",
       " 771,\n",
       " 860,\n",
       " 2290,\n",
       " 852,\n",
       " 1743,\n",
       " 1064,\n",
       " 959,\n",
       " 549,\n",
       " 360,\n",
       " 1046,\n",
       " 7364]"
      ]
     },
     "execution_count": 56,
     "metadata": {},
     "output_type": "execute_result"
    }
   ],
   "source": [
    "sample_split_instances = split_training_instances(sample_training_instances)\n",
    "[len(d.page_content) for d in sample_split_instances]"
   ]
  },
  {
   "cell_type": "code",
   "execution_count": 57,
   "metadata": {},
   "outputs": [
    {
     "data": {
      "text/plain": [
       "Document(page_content='--EMAIL SUBJECT--\\nPO# 7004014842 || Walgreens Store 16422 || Ohio State University\\n--EMAIL BODY--\\nExternal Email â€“ Please use caution before opening attachments or clicking links  Cardinal Ordering Team,  Please place the drop ship order(s) listed below for:  Client Name Ohio State University PO ID 7004014842 Account # 2150126632 Store # 16422 NDC 70127010010 Drug Name EPIDIOLEX 100MG/ML SOL 100ML Order Quantity 5 Prescriber Name LUCRETIA LONG, PHILIP CLAYTON JONAS Prescriber NPI or DEA ML0822634, FJ1422132  Thanks & Regards, Bhavesh Lalwani', metadata={'BU': 'SPD', 'case_number': 3469839, 'ACCOUNT_BUSINESS_UNIT__C': nan, 'received_at': '2023-09-11T13:22:32', 'sfdc_subcategory': 'Order Entry', 'predicted_category': 'Order Processing', 'predicted_subcategory': nan, 'record_type': 2, 'probability': 0.8768061, 'Accuracy_upd': 'Correct', 'Bin': 8, 'idx': 0, 'label': 'Order Processing', 'idx_chunk': 0})"
      ]
     },
     "execution_count": 57,
     "metadata": {},
     "output_type": "execute_result"
    }
   ],
   "source": [
    "sample_split_instances[0]"
   ]
  },
  {
   "cell_type": "code",
   "execution_count": 58,
   "metadata": {},
   "outputs": [
    {
     "data": {
      "text/plain": [
       "True"
      ]
     },
     "execution_count": 58,
     "metadata": {},
     "output_type": "execute_result"
    }
   ],
   "source": [
    "# Doc 1 was split into 2 pieces\n",
    "sample_split_instances[1].metadata['idx'] == \\\n",
    "    sample_split_instances[2].metadata['idx']"
   ]
  },
  {
   "cell_type": "markdown",
   "metadata": {},
   "source": [
    "Make a summarization request"
   ]
  },
  {
   "cell_type": "code",
   "execution_count": 59,
   "metadata": {},
   "outputs": [
    {
     "data": {
      "text/plain": [
       "'You are a customer service representative.\\nSummarize the following email, try to preserve as much information as is necessary to diagnose and solve the customers issue detailed in the email.\\nThink through your summary step-by-step.\\nOnly use information present in the email.\\nEMAIL:\\n--EMAIL SUBJECT--\\nPO# 7004014842 || Walgreens Store 16422 || Ohio State University\\n--EMAIL BODY--\\nExternal Email â€“ Please use caution before opening attachments or clicking links  Cardinal Ordering Team,  Please place the drop ship order(s) listed below for:  Client Name Ohio State University PO ID 7004014842 Account # 2150126632 Store # 16422 NDC 70127010010 Drug Name EPIDIOLEX 100MG/ML SOL 100ML Order Quantity 5 Prescriber Name LUCRETIA LONG, PHILIP CLAYTON JONAS Prescriber NPI or DEA ML0822634, FJ1422132  Thanks & Regards, Bhavesh Lalwani\\nSummary:'"
      ]
     },
     "execution_count": 59,
     "metadata": {},
     "output_type": "execute_result"
    }
   ],
   "source": [
    "sample_prompt = SUMMARIZE_PROMPT.format(\n",
    "    context=sample_split_instances[0].page_content)\n",
    "sample_prompt"
   ]
  },
  {
   "cell_type": "code",
   "execution_count": 60,
   "metadata": {},
   "outputs": [],
   "source": [
    "#| export\n",
    "def get_email_document_summary(document: Document) -> str:\n",
    "    prompt = SUMMARIZE_PROMPT.format(\n",
    "        context=document.page_content\n",
    "    )\n",
    "    summary_response = predict(prompt)\n",
    "    return summary_response.text"
   ]
  },
  {
   "cell_type": "code",
   "execution_count": 61,
   "metadata": {},
   "outputs": [
    {
     "data": {
      "text/plain": [
       "' The email is requesting a drop ship order for Ohio State University.\\nThe PO number is 7004014842, the account number is 2150126632, and the store number is 16422.\\nThe drug name is EPIDIOLEX 100MG/ML SOL 100ML, the order quantity is 5, and the prescriber names are LUCRETIA LONG and PHILIP CLAYTON JONAS.\\nThe prescriber NPIs or DEAs are ML0822634 and FJ142'"
      ]
     },
     "execution_count": 61,
     "metadata": {},
     "output_type": "execute_result"
    }
   ],
   "source": [
    "example_summarization = get_email_document_summary(sample_split_instances[0])\n",
    "example_summarization"
   ]
  },
  {
   "cell_type": "code",
   "execution_count": 62,
   "metadata": {},
   "outputs": [
    {
     "data": {
      "application/vnd.jupyter.widget-view+json": {
       "model_id": "845839f2cf5f437985eebcf7db04f91a",
       "version_major": 2,
       "version_minor": 0
      },
      "text/plain": [
       "  0%|                                                    | 0/21 [00:00<?, ?it/s]"
      ]
     },
     "metadata": {},
     "output_type": "display_data"
    }
   ],
   "source": [
    "# summarize our sample\n",
    "summaries = {}\n",
    "\n",
    "for document in tqdm(sample_split_instances, ncols=80, leave=False):\n",
    "    instance_idx = document.metadata.get('idx')\n",
    "    instance_idx_chunk = document.metadata.get('idx_chunk')\n",
    "    instance_label = document.metadata.get('label')\n",
    "    instance_summary = get_email_document_summary(document)\n",
    "    if instance_idx not in summaries:\n",
    "        summaries[instance_idx] = {\n",
    "            'label': instance_label,\n",
    "            'summaries': {}\n",
    "        }\n",
    "    summaries[instance_idx]['summaries'][instance_idx_chunk] = instance_summary"
   ]
  },
  {
   "cell_type": "code",
   "execution_count": 63,
   "metadata": {},
   "outputs": [
    {
     "data": {
      "text/plain": [
       "{'label': 'Order Processing',\n",
       " 'summaries': {0: ' The email is requesting a drop ship order for Ohio State University.\\nThe PO number is 7004014842, the account number is 2150126632, and the store number is 16422.\\nThe drug name is EPIDIOLEX 100MG/ML SOL 100ML, the order quantity is 5, and the prescriber names are LUCRETIA LONG and PHILIP CLAYTON JONAS.\\nThe prescriber NPIs or DEAs are ML0822634 and FJ142'}}"
      ]
     },
     "execution_count": 63,
     "metadata": {},
     "output_type": "execute_result"
    }
   ],
   "source": [
    "summaries[0]"
   ]
  },
  {
   "cell_type": "code",
   "execution_count": 64,
   "metadata": {},
   "outputs": [],
   "source": [
    "# Save summaries\n",
    "data_dir = Path(\"../data\")\n",
    "assert data_dir.exists()\n",
    "with open(data_dir / 'summaries.json', 'w+') as f:\n",
    "    json.dump(summaries, f, indent=4)"
   ]
  },
  {
   "cell_type": "markdown",
   "metadata": {},
   "source": [
    "## Prepare batch prediction\n",
    "\n",
    ">  TODO"
   ]
  },
  {
   "cell_type": "code",
   "execution_count": 65,
   "metadata": {},
   "outputs": [],
   "source": [
    "#| hide\n",
    "import nbdev; nbdev.nbdev_export()"
   ]
  },
  {
   "cell_type": "code",
   "execution_count": null,
   "metadata": {},
   "outputs": [],
   "source": []
  }
 ],
 "metadata": {
  "kernelspec": {
   "display_name": ".venv",
   "language": "python",
   "name": "python3"
  },
  "language_info": {
   "codemirror_mode": {
    "name": "ipython",
    "version": 3
   },
   "file_extension": ".py",
   "mimetype": "text/x-python",
   "name": "python",
   "nbconvert_exporter": "python",
   "pygments_lexer": "ipython3",
   "version": "3.11.4"
  }
 },
 "nbformat": 4,
 "nbformat_minor": 2
}
