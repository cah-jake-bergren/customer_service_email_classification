{
 "cells": [
  {
   "cell_type": "markdown",
   "metadata": {},
   "source": [
    "# process\n",
    "\n",
    "> Process our emails, remove boilerplate, split email chains"
   ]
  },
  {
   "cell_type": "code",
   "execution_count": 2,
   "metadata": {},
   "outputs": [],
   "source": [
    "#| default_exp process"
   ]
  },
  {
   "cell_type": "code",
   "execution_count": 3,
   "metadata": {},
   "outputs": [],
   "source": [
    "#| export\n",
    "from typing import List, Dict, Any, Tuple, Iterable\n",
    "from itertools import chain, islice\n",
    "\n",
    "from classifier.schema import batch_predict, predict, get_storage_client, \\\n",
    "    get_model, DEFAULT_PREDICT_PARAMS\n",
    "from classifier.load import get_training_instances, TrainingInstance, \\\n",
    "    PROJECT_BUCKET, WRITE_PREFIX, get_idx, get_document_batches\n",
    "\n",
    "from langchain.text_splitter import RecursiveCharacterTextSplitter\n",
    "from langchain.prompts import PromptTemplate\n",
    "from langchain.schema import Document\n",
    "from langchain.llms import VertexAI\n",
    "from tqdm.auto import tqdm\n",
    "from google.cloud.aiplatform import BatchPredictionJob"
   ]
  },
  {
   "cell_type": "code",
   "execution_count": 4,
   "metadata": {},
   "outputs": [],
   "source": [
    "import json\n",
    "from pathlib import Path\n",
    "\n",
    "import pandas as pd"
   ]
  },
  {
   "cell_type": "code",
   "execution_count": 15,
   "metadata": {},
   "outputs": [
    {
     "data": {
      "text/plain": [
       "32"
      ]
     },
     "execution_count": 15,
     "metadata": {},
     "output_type": "execute_result"
    }
   ],
   "source": [
    "sample_training_instances = next(get_document_batches(get_training_instances()))\n",
    "len(sample_training_instances)"
   ]
  },
  {
   "cell_type": "code",
   "execution_count": 16,
   "metadata": {},
   "outputs": [],
   "source": [
    "#| export\n",
    "EMAIL_SUBJECT_PREFIX = \"--EMAIL SUBJECT--\"\n",
    "EMAIL_BODY_PREFIX = \"--EMAIL BODY--\"\n",
    "PREFIX_LEN = len(EMAIL_SUBJECT_PREFIX + EMAIL_BODY_PREFIX) + len(\"\\n\"*4)\n",
    "\n",
    "\n",
    "def make_document_from_instance(\n",
    "        instance: TrainingInstance\n",
    "        ) -> Document:\n",
    "    metadata = instance.metadata.copy()\n",
    "    metadata['idx'] = instance.idx\n",
    "    return Document(\n",
    "        page_content=\"\\n\".join([\n",
    "            EMAIL_SUBJECT_PREFIX,\n",
    "            instance.email_subject,\n",
    "            EMAIL_BODY_PREFIX,\n",
    "            instance.email_body]),\n",
    "        metadata=metadata\n",
    "    )"
   ]
  },
  {
   "cell_type": "markdown",
   "metadata": {},
   "source": [
    "## Split Email Chains"
   ]
  },
  {
   "cell_type": "code",
   "execution_count": 27,
   "metadata": {},
   "outputs": [],
   "source": [
    "#| export\n",
    "SPLIT_CHAIN_PROMPT_TEMPLATE = \"\"\"The following is text from an email chain.\n",
    "If there is more than one email in the chain, return the positions in the text where each email starts.\n",
    "If there is only a single email in the chain, return [0].\n",
    "Return a list of positions in the text as integers.\n",
    "---EMAIL---\n",
    "{email}\n",
    "---END EMAIL---\n",
    "Positions:\"\"\"\n",
    "\n",
    "\n",
    "SPLIT_CHAIN_PROMPT = PromptTemplate.from_template(SPLIT_CHAIN_PROMPT_TEMPLATE)"
   ]
  },
  {
   "cell_type": "code",
   "execution_count": 28,
   "metadata": {},
   "outputs": [],
   "source": [
    "llm = VertexAI()"
   ]
  },
  {
   "cell_type": "code",
   "execution_count": 29,
   "metadata": {},
   "outputs": [],
   "source": [
    "split_chain = SPLIT_CHAIN_PROMPT | llm"
   ]
  },
  {
   "cell_type": "code",
   "execution_count": 53,
   "metadata": {},
   "outputs": [
    {
     "data": {
      "text/plain": [
       "'Hello, Pablo. Â\\xa0 Thank you for contacting Cardinal Health Customer Service. Attached is your order confirmation. Case Number - 8107468321 Ship-to Number - 21043451 Ship-to Name - JACKSON MEMORIAL HOSPITAL Purchase Order - 100577872 Order Confirmation - 1106693811 Cardinal Health Market users now may submit new Commercial Base, Distributor, and Valuelink standard orders at any time. Visit us at https://market.cardinalhealth.com. If you have any further questions, please contact us.  Thank you,Ednalee   _____________________________________________________________________      Customer Support Services  Phone: 800.964.5227 | Fax: 614.553.9888 BUEEDN01   Did you know you can use Cardinal Health MarketÂ\\xa0to search for products, verify price/availability, place/track orders, research orders, printinvoices and more? Visit us at Cardinal Health MarketÂ\\xa0  Issues or Concerns with Cardinal Health Market? Call EIT Support @ 1-800-326-6457, Option 3, Option 1   Â\\xa0 Â\\xa0***DO NOT DELETE*** {SrvReqNo:[8107468321]} ***DO NOT DELETE*** Â\\xa0 Original Text   From: Pharma-CustomerService <pharma-customerservice@cardinalhealth.com>  To: medsupport@cardinalhealth.com  CC:   Sent: 10/04/23 13:12:11  Subject: RE: RE: FW: Company Jackson Hospital - Main Campus Purchase Order 100577872 Â\\xa0 Hello Carole, Good day! Â\\xa0 Hope this email finds you all well. Â\\xa0 Kindly see the attached file as your reference of the requested copy. Â\\xa0 Please let us know if you need further information. Â\\xa0 We greatly appreciate your assistance on this. Â\\xa0 Thank you. Â\\xa0      Daniel â€œDanâ€\\x9d Relente   Rep II, Customer Service Ops | Pharma Global Business Services   Pharma-CustomerService@cardinalhealth.com Tel. 800.926.3161 / Fax 614-652-9304 | 866-456-4588 Pharma-Kinray-CustomerService@cardinalhealth.com  Tel. 888-527-6806 / Fax 614-553-9869 Â\\xa0 Weâ€™ve been working to simplify how you get in touch with us by eliminating some of our email addresses and fax numbers. Please make sure you have our most up-to-date contact information so that we can continue to provide you with the assistance you need in a timely manner.   --------------- Original Message --------------- From: [medsupport@cardinalhealth.com] Sent: 10/4/2023, 8:33 AM To: pharma-customerservice@cardinalhealth.com Subject: RE: RE: FW: Company Jackson Hospital - Main Campus Purchase Order 100577872    Hello, Rickie. Â\\xa0 Thank you for contacting Cardinal Health Customer Service. Â\\xa0 May we request for the attachment, if any, so we could further do research on our end. Â\\xa0 Please do not hesitate to circle back should you need anything else.  Thank you,Carole Louie   _____________________________________________________________________    [Inline image name : pastedImage1.png]  Customer Support Services  Phone: 800.964.5227 | Fax: 614.553.9888 ALVCAR24   Did you know you can use Cardinal Health MarketÂ\\xa0to search for products, verify price/availability, place/track orders, research orders, print invoices and more? Visit us at Cardinal Health MarketÂ\\xa0  Issues or Concerns with Cardinal Health Market? Call EIT Support @ 1-800-326-6457, Option 3, Option 1   Â\\xa0 Â\\xa0***DO NOT DELETE*** {SrvReqNo:[8107468321]} ***DO NOT DELETE*** Â\\xa0 Original Text   From: Pharma-CustomerService <pharma-customerservice@cardinalhealth.com>  To: medsupport@cardinalhealth.com  CC:   Sent: 10/03/23 20:40:51  Subject: RE: FW: Company Jackson Hospital - Main Campus Purchase Order 100577872 Â\\xa0 Hello Team, Â\\xa0 Please confirm with the customer their account number. These appear to be medical items. Â\\xa0  Let us know if there is anything else we can assist you with. Â\\xa0 Thank you, Â\\xa0 [Inline image name : pastedImage2.png] Â\\xa0 Â\\xa0 Â\\xa0  --------------- Original Message --------------- From: [medsupport@cardinalhealth.com] Sent: 10/3/2023, 4:27 PM To: pharma-customerservice@cardinalhealth.com Subject: FW: Company Jackson Hospital - Main Campus Purchase Order 100577872   Hello, Â\\xa0 I believe based on the products needed that this might belong to your group. Â\\xa0 Please let customer know if you cannot process this please. Â\\xa0 Thank you and have a great day  Diana   _____________________________________________________________________    [Inline image name : pastedImage1.png]  Customer Support Services  Phone: 800.964.5227 | Fax: 614.553.9888 BRODIA02   Did you know you can use Cardinal Health MarketÂ\\xa0to search for products, verify price/availability, place/track orders, research orders, print invoices and more? Visit us at Cardinal Health MarketÂ\\xa0  Issues or Concerns with Cardinal Health Market? Call EIT Support @ 1-800-326-6457, Option 3, Option 1   Â\\xa0 Â\\xa0***DO NOT DELETE*** {SrvReqNo:[8107467670]} ***DO NOT DELETE*** Â\\xa0 Original Text   From: noreply@inforcloudsuite.com  To: MedSupport@cardinalhealth.com  CC:   Sent: 10/03/23 16:15:51  Subject: Company Jackson Hospital - Main Campus Purchase Order 100577872 Â\\xa0 Â\\xa0Â\\xa0Â\\xa0Â\\xa0Â\\xa0Â\\xa0Â\\xa0Â\\xa0External Email â€“ Please use caution before opening attachments or clicking linksÂ\\xa0Â\\xa0Â\\xa0Â\\xa0Â\\xa0Â\\xa0Â\\xa0Â\\xa0 Â\\xa0    Â\\xa0    [Inline image name : ATT00001.png] Â\\xa0 Â\\xa0 Â\\xa0 Â\\xa0  Â\\xa0  Â\\xa0 Hi CARDINAL HEALTH 200 LLC, Â\\xa0 Purchase Order has been Issued. Please review the attached document. Â\\xa0 Company: 1000 - Jackson Hospital - Main Campus Purchase Order: 100577872 Revision Number: 0 Status: Original Purchase Order Date: 2023-10-03 Currency: USD Total: 4,985.28 Â\\xa0 Regards,   pablo.ramirez@jhsmiami.org   Â\\xa0 Â\\xa0  _________________________________________________ This message is for the designated recipient only and may contain privileged, proprietary or otherwise private information. If you have received it in error, please notify the sender immediately and delete the original. Any other use of the email by you is prohibited. Dansk - Deutsch - Espanol - Francais - Italiano - Japanese - Nederlands - Norsk - Portuguese - Chinese Svenska: http://www.cardinalhealth.com/en/support/terms-and-conditions-english.html    _________________________________________________ This message is for the designated recipient only and may contain privileged, proprietary or otherwise private information. If you have received it in error, please notify the sender immediately and delete the original. Any other use of the email by you is prohibited. Dansk - Deutsch - Espanol - Francais - Italiano - Japanese - Nederlands - Norsk - Portuguese - Chinese Svenska: http://www.cardinalhealth.com/en/support/terms-and-conditions-english.html   _________________________________________________  This message is for the designated recipient only and may contain privileged, proprietary or otherwise private information. If you have received it in error, please notify the sender immediately and delete the original. Any other use of the email by you is prohibited.  Dansk - Deutsch - Espanol - Francais - Italiano - Japanese - Nederlands - Norsk - Portuguese - Chinese Svenska: http://www.cardinalhealth.com/en/support/terms-and-conditions-english.html'"
      ]
     },
     "execution_count": 53,
     "metadata": {},
     "output_type": "execute_result"
    }
   ],
   "source": [
    "sample_training_instances[21].email_body"
   ]
  },
  {
   "cell_type": "code",
   "execution_count": 65,
   "metadata": {},
   "outputs": [
    {
     "data": {
      "text/plain": [
       "' [0, 1004, 2008, 3012, 4016, 5020]'"
      ]
     },
     "execution_count": 65,
     "metadata": {},
     "output_type": "execute_result"
    }
   ],
   "source": [
    "example_split_document = make_document_from_instance(sample_training_instances[21])\n",
    "example_split_answer = split_chain.invoke({\"email\": example_split_document.page_content})\n",
    "example_split_answer"
   ]
  },
  {
   "cell_type": "code",
   "execution_count": 59,
   "metadata": {},
   "outputs": [],
   "source": [
    "import ast\n",
    "\n",
    "example_split_answer_positions = ast.literal_eval(example_split_answer)"
   ]
  },
  {
   "cell_type": "code",
   "execution_count": 61,
   "metadata": {},
   "outputs": [
    {
     "data": {
      "text/plain": [
       "[[0, 1003], [1004, 2007], [2008, 3011], [3012, 4015], [4016, 5019]]"
      ]
     },
     "execution_count": 61,
     "metadata": {},
     "output_type": "execute_result"
    }
   ],
   "source": [
    "example_split_answer_positions_ends = [\n",
    "    [p, example_split_answer_positions[i+1] - 1] for i, p in enumerate(example_split_answer_positions[:-1])]\n",
    "example_split_answer_positions_ends"
   ]
  },
  {
   "cell_type": "code",
   "execution_count": 62,
   "metadata": {},
   "outputs": [],
   "source": [
    "example_split_emails = [example_split_document.page_content[start: end] for start, end in example_split_answer_positions_ends]"
   ]
  },
  {
   "cell_type": "code",
   "execution_count": 64,
   "metadata": {},
   "outputs": [
    {
     "name": "stdout",
     "output_type": "stream",
     "text": [
      "EMAIL:\n",
      "--EMAIL SUBJECT--\n",
      "RE: RE: RE: FW: Company Jackson Hospital - Main Campus Purchase Order 100577872\n",
      "--EMAIL BODY--\n",
      "Hello, Pablo. Â  Thank you for contacting Cardinal Health Customer Service. Attached is your order confirmation. Case Number - 8107468321 Ship-to Number - 21043451 Ship-to Name - JACKSON MEMORIAL HOSPITAL Purchase Order - 100577872 Order Confirmation - 1106693811 Cardinal Health Market users now may submit new Commercial Base, Distributor, and Valuelink standard orders at any time. Visit us at https://market.cardinalhealth.com. If you have any further questions, please contact us.  Thank you,Ednalee   _____________________________________________________________________      Customer Support Services  Phone: 800.964.5227 | Fax: 614.553.9888 BUEEDN01   Did you know you can use Cardinal Health MarketÂ to search for products, verify price/availability, place/track orders, research orders, printinvoices and more? Visit us at Cardinal Health MarketÂ   Issues or Concerns with Cardina\n",
      "\n",
      "\n",
      "EMAIL:\n",
      " Health Market? Call EIT Support @ 1-800-326-6457, Option 3, Option 1   Â  Â ***DO NOT DELETE*** {SrvReqNo:[8107468321]} ***DO NOT DELETE*** Â  Original Text   From: Pharma-CustomerService <pharma-customerservice@cardinalhealth.com>  To: medsupport@cardinalhealth.com  CC:   Sent: 10/04/23 13:12:11  Subject: RE: RE: FW: Company Jackson Hospital - Main Campus Purchase Order 100577872 Â  Hello Carole, Good day! Â  Hope this email finds you all well. Â  Kindly see the attached file as your reference of the requested copy. Â  Please let us know if you need further information. Â  We greatly appreciate your assistance on this. Â  Thank you. Â       Daniel â€œDanâ€ Relente   Rep II, Customer Service Ops | Pharma Global Business Services   Pharma-CustomerService@cardinalhealth.com Tel. 800.926.3161 / Fax 614-652-9304 | 866-456-4588 Pharma-Kinray-CustomerService@cardinalhealth.com  Tel. 888-527-6806 / Fax 614-553-9869 Â  Weâ€™ve been working to simplify how you get in touch with us by eliminating\n",
      "\n",
      "\n",
      "EMAIL:\n",
      "some of our email addresses and fax numbers. Please make sure you have our most up-to-date contact information so that we can continue to provide you with the assistance you need in a timely manner.   --------------- Original Message --------------- From: [medsupport@cardinalhealth.com] Sent: 10/4/2023, 8:33 AM To: pharma-customerservice@cardinalhealth.com Subject: RE: RE: FW: Company Jackson Hospital - Main Campus Purchase Order 100577872    Hello, Rickie. Â  Thank you for contacting Cardinal Health Customer Service. Â  May we request for the attachment, if any, so we could further do research on our end. Â  Please do not hesitate to circle back should you need anything else.  Thank you,Carole Louie   _____________________________________________________________________    [Inline image name : pastedImage1.png]  Customer Support Services  Phone: 800.964.5227 | Fax: 614.553.9888 ALVCAR24   Did you know you can use Cardinal Health MarketÂ to search for products, verify price/availability, \n",
      "\n",
      "\n",
      "EMAIL:\n",
      "lace/track orders, research orders, print invoices and more? Visit us at Cardinal Health MarketÂ   Issues or Concerns with Cardinal Health Market? Call EIT Support @ 1-800-326-6457, Option 3, Option 1   Â  Â ***DO NOT DELETE*** {SrvReqNo:[8107468321]} ***DO NOT DELETE*** Â  Original Text   From: Pharma-CustomerService <pharma-customerservice@cardinalhealth.com>  To: medsupport@cardinalhealth.com  CC:   Sent: 10/03/23 20:40:51  Subject: RE: FW: Company Jackson Hospital - Main Campus Purchase Order 100577872 Â  Hello Team, Â  Please confirm with the customer their account number. These appear to be medical items. Â   Let us know if there is anything else we can assist you with. Â  Thank you, Â  [Inline image name : pastedImage2.png] Â  Â  Â   --------------- Original Message --------------- From: [medsupport@cardinalhealth.com] Sent: 10/3/2023, 4:27 PM To: pharma-customerservice@cardinalhealth.com Subject: FW: Company Jackson Hospital - Main Campus Purchase Order 100577872   Hello, Â  I bel\n",
      "\n",
      "\n",
      "EMAIL:\n",
      "eve based on the products needed that this might belong to your group. Â  Please let customer know if you cannot process this please. Â  Thank you and have a great day  Diana   _____________________________________________________________________    [Inline image name : pastedImage1.png]  Customer Support Services  Phone: 800.964.5227 | Fax: 614.553.9888 BRODIA02   Did you know you can use Cardinal Health MarketÂ to search for products, verify price/availability, place/track orders, research orders, print invoices and more? Visit us at Cardinal Health MarketÂ   Issues or Concerns with Cardinal Health Market? Call EIT Support @ 1-800-326-6457, Option 3, Option 1   Â  Â ***DO NOT DELETE*** {SrvReqNo:[8107467670]} ***DO NOT DELETE*** Â  Original Text   From: noreply@inforcloudsuite.com  To: MedSupport@cardinalhealth.com  CC:   Sent: 10/03/23 16:15:51  Subject: Company Jackson Hospital - Main Campus Purchase Order 100577872 Â  Â Â Â Â Â Â Â Â External Email â€“ Please use caution before openi\n",
      "\n",
      "\n"
     ]
    }
   ],
   "source": [
    "for e in example_split_emails:\n",
    "    print(\"EMAIL:\")\n",
    "    print(e)\n",
    "    print(\"\\n\")"
   ]
  },
  {
   "cell_type": "markdown",
   "metadata": {},
   "source": [
    "## Summarize emails"
   ]
  },
  {
   "cell_type": "code",
   "execution_count": 6,
   "metadata": {},
   "outputs": [
    {
     "data": {
      "text/plain": [
       "count      32.000000\n",
       "mean     1350.812500\n",
       "std      1262.578683\n",
       "min       125.000000\n",
       "25%       766.000000\n",
       "50%      1007.000000\n",
       "75%      1516.000000\n",
       "max      6949.000000\n",
       "dtype: float64"
      ]
     },
     "execution_count": 6,
     "metadata": {},
     "output_type": "execute_result"
    }
   ],
   "source": [
    "pd.Series([len(d.email_body + d.email_subject) for d in sample_training_instances]).describe()"
   ]
  },
  {
   "cell_type": "markdown",
   "metadata": {},
   "source": [
    "Define summarization prompt"
   ]
  },
  {
   "cell_type": "code",
   "execution_count": 7,
   "metadata": {},
   "outputs": [],
   "source": [
    "#| export\n",
    "SUMMARIZE_PROMPT_PREFIX = \"\"\"You are a customer service representative.\n",
    "Summarize the following email, try to preserve as much information as is necessary to diagnose and solve the customers issue detailed in the email.\n",
    "Think through your summary step-by-step.\n",
    "Only use information present in the email.\n",
    "EMAIL:\n",
    "\"\"\"\n",
    "\n",
    "SUMMARIZE_PROMPT_STR = SUMMARIZE_PROMPT_PREFIX + \"{context}\\nSummary:\"\n",
    "\n",
    "SUMMARIZE_PROMPT = PromptTemplate.from_template(SUMMARIZE_PROMPT_STR)\n",
    "\n",
    "BISON_MAXIMUM_INPUT_TOKENS = 8192\n",
    "CONTEXT_TOKEN_LIMIT = BISON_MAXIMUM_INPUT_TOKENS - len(SUMMARIZE_PROMPT_PREFIX)"
   ]
  },
  {
   "cell_type": "code",
   "execution_count": 8,
   "metadata": {},
   "outputs": [
    {
     "data": {
      "text/plain": [
       "7910"
      ]
     },
     "execution_count": 8,
     "metadata": {},
     "output_type": "execute_result"
    }
   ],
   "source": [
    "CONTEXT_TOKEN_LIMIT"
   ]
  },
  {
   "cell_type": "markdown",
   "metadata": {},
   "source": [
    "### Format Prompts"
   ]
  },
  {
   "cell_type": "code",
   "execution_count": 14,
   "metadata": {},
   "outputs": [],
   "source": [
    "#| export\n",
    "def prepare_summarization_prompt(document: Document) -> Tuple[Dict[str, str], Dict[str, Any]]:\n",
    "    prompt = {'prompt': SUMMARIZE_PROMPT.format(context=document.page_content)}\n",
    "    return prompt, document.metadata"
   ]
  },
  {
   "cell_type": "markdown",
   "metadata": {},
   "source": [
    "### Summarize individually"
   ]
  },
  {
   "cell_type": "code",
   "execution_count": 15,
   "metadata": {},
   "outputs": [
    {
     "data": {
      "text/plain": [
       "1000"
      ]
     },
     "execution_count": 15,
     "metadata": {},
     "output_type": "execute_result"
    }
   ],
   "source": [
    "train_idx, test_idx = get_idx()\n",
    "total_instances = train_idx.shape[0] + test_idx.shape[0]\n",
    "total_instances"
   ]
  },
  {
   "cell_type": "code",
   "execution_count": 16,
   "metadata": {},
   "outputs": [],
   "source": [
    "model = VertexAI()"
   ]
  },
  {
   "cell_type": "code",
   "execution_count": 17,
   "metadata": {},
   "outputs": [],
   "source": [
    "chain = SUMMARIZE_PROMPT | model"
   ]
  },
  {
   "cell_type": "code",
   "execution_count": 18,
   "metadata": {},
   "outputs": [],
   "source": [
    "example_batch = [make_document_from_instance(i) for i in sample_training_instances]"
   ]
  },
  {
   "cell_type": "code",
   "execution_count": 20,
   "metadata": {},
   "outputs": [
    {
     "data": {
      "text/plain": [
       "[' The customer received an invoice from Cardinal Health for invoice number 1 of 1 for account number 2057199110, but they have questions about the invoice.',\n",
       " ' The customer received an email from the State of Florida Next Gen regarding an invoice with the following details:\\n\\n- Invoice Date: 28th November 2023\\n- Invoice Number: 7340827424\\n- Invoice Amount: $11,523.00 USD\\n\\nThe email informs the customer that the State of Florida Next Gen has transitioned to using the SAP Business Network for invoice status visibility and tracking. The customer is required to activate their account on the SAP Business Network to view and track invoices.\\n\\nThe email provides a link for the customer to register for a free',\n",
       " ' The customer would like to place a new order for their patient, FS.\\n- Account number: 2057189687\\n- PO number: PIC23100401\\n- Patient: FS\\n- Medication: Soliris - 300 mg/30ml\\n- CIN: 400-3091\\n- Quantity: 4 Vials\\n- NPI: 1619288172\\n- Requested delivery date: 10/09/2023\\n\\nThe customer is Lena O’Brien',\n",
       " \" The customer, State of Florida Next Gen, updated invoice 7322186957 in SAP Business Network. The invoice status is now 'Paid'.\\n\\nThere is an accounting verification exception that needs to be accepted or edited.\\n\\nThe customer service representative can view the invoice in their online Outbox (ANID: AN11096391905).\",\n",
       " ' The customer is inquiring about an order placed on 10/18/2023 for VYVGART X4 with order number 1054328598 and Cardinal PO number 160644502. \\n\\nThe customer has not received the order and is reaching out for information on the status of the order.']"
      ]
     },
     "execution_count": 20,
     "metadata": {},
     "output_type": "execute_result"
    }
   ],
   "source": [
    "chain.batch([{'context': d.page_content} for d in example_batch[:5]])"
   ]
  },
  {
   "cell_type": "code",
   "execution_count": 21,
   "metadata": {},
   "outputs": [
    {
     "data": {
      "application/vnd.jupyter.widget-view+json": {
       "model_id": "71701dfe045d41649714aac2bcdfc1a7",
       "version_major": 2,
       "version_minor": 0
      },
      "text/plain": [
       "  0%|                                                  | 0/1000 [00:00<?, ?it/s]"
      ]
     },
     "metadata": {},
     "output_type": "display_data"
    }
   ],
   "source": [
    "summaries = []\n",
    "\n",
    "pbar = tqdm(total=total_instances, ncols=80, leave=False)\n",
    "for instance_batch in get_document_batches(get_training_instances(), 5):\n",
    "    documents = [make_document_from_instance(i) for i in instance_batch]\n",
    "    summary = chain.batch([{'context': d.page_content} for d in documents])\n",
    "    summaries.extend(summary)\n",
    "    pbar.update(len(instance_batch))\n",
    "pbar.close()"
   ]
  },
  {
   "cell_type": "code",
   "execution_count": 24,
   "metadata": {},
   "outputs": [],
   "source": [
    "data_dir = Path(\"../data\")\n",
    "assert data_dir.exists()"
   ]
  },
  {
   "cell_type": "code",
   "execution_count": 29,
   "metadata": {},
   "outputs": [],
   "source": [
    "# write summaries\n",
    "pd.Series(summaries, name=\"summary\").to_csv(data_dir / 'summaries.csv', index=False)"
   ]
  },
  {
   "cell_type": "markdown",
   "metadata": {},
   "source": [
    "### Prepare prompts for batch"
   ]
  },
  {
   "cell_type": "code",
   "execution_count": 12,
   "metadata": {},
   "outputs": [
    {
     "data": {
      "text/plain": [
       "Document(page_content='--EMAIL SUBJECT--\\nPO 70026263\\n--EMAIL BODY--\\nExternal Email â€“ Please use caution before opening attachments or clicking links\\n\\nHello\\n\\nThe attached PO was sent a few days ago.  Please confirm it is in your system.\\n\\n\\nThank you\\nJoe\\n\\n\\nJoe Liesse\\nOperations Coordinator\\nSupply Chain Management â€“ P2P\\nPhone: 507-266-5551\\nEmail: liesse.joseph@mayo.edu<mailto:liesse.joseph@mayo.edu>\\n________________________\\nMayo Clinic\\n200 First Street SW\\nRochester, MN 55905', metadata={'BU': 'PD', 'case_number': 3665915, 'ACCOUNT_BUSINESS_UNIT__C': nan, 'received_at': '2023-12-01T22:43:59', 'sfdc_subcategory': 'Inquiry', 'predicted_category': 'Order Processing', 'predicted_subcategory': 'Order Entry', 'record_type': 1, 'probability': 0.6764667, 'Accuracy_upd': 'Incorrect', 'Bin': 6, 'idx': 48942})"
      ]
     },
     "execution_count": 12,
     "metadata": {},
     "output_type": "execute_result"
    }
   ],
   "source": [
    "documents = list(map(make_document_from_instance, sample_training_instances))\n",
    "documents[0]"
   ]
  },
  {
   "cell_type": "markdown",
   "metadata": {},
   "source": [
    "Prepare prompts"
   ]
  },
  {
   "cell_type": "code",
   "execution_count": 14,
   "metadata": {},
   "outputs": [
    {
     "data": {
      "text/plain": [
       "({'prompt': 'You are a customer service representative.\\nSummarize the following email, try to preserve as much information as is necessary to diagnose and solve the customers issue detailed in the email.\\nThink through your summary step-by-step.\\nOnly use information present in the email.\\nEMAIL:\\n--EMAIL SUBJECT--\\nPO 70026263\\n--EMAIL BODY--\\nExternal Email â€“ Please use caution before opening attachments or clicking links\\n\\nHello\\n\\nThe attached PO was sent a few days ago.  Please confirm it is in your system.\\n\\n\\nThank you\\nJoe\\n\\n\\nJoe Liesse\\nOperations Coordinator\\nSupply Chain Management â€“ P2P\\nPhone: 507-266-5551\\nEmail: liesse.joseph@mayo.edu<mailto:liesse.joseph@mayo.edu>\\n________________________\\nMayo Clinic\\n200 First Street SW\\nRochester, MN 55905\\nSummary:'},\n",
       " {'BU': 'PD',\n",
       "  'case_number': 3665915,\n",
       "  'ACCOUNT_BUSINESS_UNIT__C': nan,\n",
       "  'received_at': '2023-12-01T22:43:59',\n",
       "  'sfdc_subcategory': 'Inquiry',\n",
       "  'predicted_category': 'Order Processing',\n",
       "  'predicted_subcategory': 'Order Entry',\n",
       "  'record_type': 1,\n",
       "  'probability': 0.6764667,\n",
       "  'Accuracy_upd': 'Incorrect',\n",
       "  'Bin': 6,\n",
       "  'idx': 48942})"
      ]
     },
     "execution_count": 14,
     "metadata": {},
     "output_type": "execute_result"
    }
   ],
   "source": [
    "prompt_and_metadata = prepare_summarization_prompt(documents[0])\n",
    "prompt_and_metadata"
   ]
  },
  {
   "cell_type": "markdown",
   "metadata": {},
   "source": [
    "Make a summarization request"
   ]
  },
  {
   "cell_type": "code",
   "execution_count": 15,
   "metadata": {},
   "outputs": [],
   "source": [
    "sample_prompt = prompt_and_metadata[0]['prompt']"
   ]
  },
  {
   "cell_type": "code",
   "execution_count": 16,
   "metadata": {},
   "outputs": [
    {
     "data": {
      "text/plain": [
       " The customer, Joe Liesse from Mayo Clinic, is inquiring about a purchase order (PO) numbered 70026263 that was sent a few days ago. He wants confirmation that the PO has been received and is in the recipient's system."
      ]
     },
     "execution_count": 16,
     "metadata": {},
     "output_type": "execute_result"
    }
   ],
   "source": [
    "predict(sample_prompt)"
   ]
  },
  {
   "cell_type": "code",
   "execution_count": 28,
   "metadata": {},
   "outputs": [],
   "source": [
    "#| export\n",
    "SUMMARIZATION_PROMPT_FILE_NAME = \"summarization_prompts.jsonl\"\n",
    "SUMMARIZATION_METADATA_FILE_NAME = \"summarization_metadata.jsonl\"\n",
    "\n",
    "\n",
    "def prepare_batch_summarization_files(\n",
    "        loader: Iterable[TrainingInstance],\n",
    "        bucket_name: str = PROJECT_BUCKET,\n",
    "        use_pbar: bool = False,\n",
    "        pbar_size: int = 10000,\n",
    "        prefix: str = WRITE_PREFIX):\n",
    "    client = get_storage_client()\n",
    "    bucket = client.bucket(bucket_name=bucket_name)\n",
    "    prompt_blob_name = f\"{prefix}/{SUMMARIZATION_PROMPT_FILE_NAME}\"\n",
    "    metadata_blob_name = f\"{prefix}/{SUMMARIZATION_METADATA_FILE_NAME}\"\n",
    "    prompt_blob = bucket.blob(blob_name=prompt_blob_name)\n",
    "    metadata_blob = bucket.blob(blob_name=metadata_blob_name)\n",
    "    if use_pbar:\n",
    "        pbar = tqdm(total=pbar_size, ncols=80, leave=False)\n",
    "    with metadata_blob.open(\"w\") as metadata_f:\n",
    "        with prompt_blob.open(\"w\") as prompt_f:\n",
    "            for instance in loader:\n",
    "                document = make_document_from_instance(instance)\n",
    "                prompt, metadata = prepare_summarization_prompt(document)\n",
    "                # Write prompt to JSONL file in GCS, write metadat to similar file\n",
    "                json.dump(prompt, prompt_f)\n",
    "                prompt_f.write(\"\\n\")\n",
    "                json.dump(metadata, metadata_f)\n",
    "                metadata_f.write(\"\\n\")\n",
    "                if use_pbar:\n",
    "                    pbar.update(1)\n",
    "    if use_pbar:\n",
    "        pbar.close()"
   ]
  },
  {
   "cell_type": "code",
   "execution_count": 26,
   "metadata": {},
   "outputs": [
    {
     "data": {
      "application/vnd.jupyter.widget-view+json": {
       "model_id": "b4ef1fa5ebcc432a8a881b38cf310b82",
       "version_major": 2,
       "version_minor": 0
      },
      "text/plain": [
       "  0%|                                                 | 0/10000 [00:00<?, ?it/s]"
      ]
     },
     "metadata": {},
     "output_type": "display_data"
    }
   ],
   "source": [
    "prepare_batch_summarization_files(\n",
    "    loader=get_training_instances(),\n",
    "    use_pbar=True)"
   ]
  },
  {
   "cell_type": "markdown",
   "metadata": {},
   "source": [
    "## Invoke batch prediction"
   ]
  },
  {
   "cell_type": "code",
   "execution_count": 35,
   "metadata": {},
   "outputs": [],
   "source": [
    "#| export\n",
    "SUMMARIZATION_RESULT_PREFIX = \"summarization\"\n",
    "\n",
    "\n",
    "def summarize_prompts(\n",
    "        file_prefix: str = WRITE_PREFIX,\n",
    "        file_name: str = SUMMARIZATION_PROMPT_FILE_NAME,\n",
    "        bucket_name: str = PROJECT_BUCKET,\n",
    "        params: Dict[str, Any] = DEFAULT_PREDICT_PARAMS\n",
    "        ) -> BatchPredictionJob:\n",
    "    dataset = f\"gs://{bucket_name}/{file_prefix}/{file_name}\"\n",
    "    destination_url_prefix = f\"gs://{bucket_name}/{file_prefix}/{SUMMARIZATION_RESULT_PREFIX}\"\n",
    "    model = get_model()\n",
    "    return model.batch_predict(\n",
    "        dataset=dataset,\n",
    "        destination_uri_prefix=destination_url_prefix,\n",
    "        # Optional:\n",
    "        model_parameters=params)"
   ]
  },
  {
   "cell_type": "code",
   "execution_count": null,
   "metadata": {},
   "outputs": [],
   "source": [
    "# batch_job = summarize_prompts()"
   ]
  },
  {
   "cell_type": "code",
   "execution_count": 39,
   "metadata": {},
   "outputs": [],
   "source": [
    "#| export\n",
    "def load_batch_prediction_results():\n",
    "    pass"
   ]
  },
  {
   "cell_type": "markdown",
   "metadata": {},
   "source": [
    "## Export"
   ]
  },
  {
   "cell_type": "code",
   "execution_count": 28,
   "metadata": {},
   "outputs": [],
   "source": [
    "#| hide\n",
    "import nbdev; nbdev.nbdev_export()"
   ]
  },
  {
   "cell_type": "code",
   "execution_count": null,
   "metadata": {},
   "outputs": [],
   "source": []
  }
 ],
 "metadata": {
  "kernelspec": {
   "display_name": ".venv",
   "language": "python",
   "name": "python3"
  },
  "language_info": {
   "codemirror_mode": {
    "name": "ipython",
    "version": 3
   },
   "file_extension": ".py",
   "mimetype": "text/x-python",
   "name": "python",
   "nbconvert_exporter": "python",
   "pygments_lexer": "ipython3",
   "version": "3.11.4"
  }
 },
 "nbformat": 4,
 "nbformat_minor": 2
}
