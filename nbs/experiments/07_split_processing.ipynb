{
 "cells": [
  {
   "cell_type": "markdown",
   "metadata": {},
   "source": [
    "# Split processing\n",
    "\n",
    "> Lets process documents differently based on whether we're predicting a label or embedding into a vector store."
   ]
  },
  {
   "cell_type": "code",
   "execution_count": 1,
   "metadata": {},
   "outputs": [],
   "source": [
    "#| default_exp experiments.split_processing"
   ]
  },
  {
   "cell_type": "code",
   "execution_count": 64,
   "metadata": {},
   "outputs": [],
   "source": [
    "#| export\n",
    "from typing import Dict, List\n",
    "from pathlib import Path\n",
    "import numpy as np\n",
    "import pandas as pd\n",
    "from tqdm import tqdm\n",
    "from sklearn import metrics\n",
    "\n",
    "from langchain.prompts import PromptTemplate\n",
    "from langchain.schema.runnable import RunnableSequence\n",
    "from langchain.llms import VertexAI\n",
    "from langchain.vectorstores import Chroma\n",
    "from langchain.document_loaders import DataFrameLoader\n",
    "\n",
    "from classifier.schema import get_embedder, get_model, quota_handler, WRITE_PREFIX\n",
    "from classifier.load import Email, get_batches, get_idx, get_emails_from_frame, \\\n",
    "    get_raw_emails_tejas_case_numbers, get_possible_labels, PROJECT_BUCKET\n",
    "from classifier.chroma import get_or_make_chroma\n",
    "from classifier.predict import make_prediction_prompt, get_predictions, write_predictions"
   ]
  },
  {
   "cell_type": "markdown",
   "metadata": {},
   "source": [
    "## Process"
   ]
  },
  {
   "cell_type": "markdown",
   "metadata": {},
   "source": [
    "Load training emails"
   ]
  },
  {
   "cell_type": "code",
   "execution_count": 3,
   "metadata": {},
   "outputs": [],
   "source": [
    "#| export\n",
    "TEJAS_PREFIX = f\"{WRITE_PREFIX}/tejas\""
   ]
  },
  {
   "cell_type": "code",
   "execution_count": 10,
   "metadata": {},
   "outputs": [
    {
     "data": {
      "text/plain": [
       "3200"
      ]
     },
     "execution_count": 10,
     "metadata": {},
     "output_type": "execute_result"
    }
   ],
   "source": [
    "all_emails = get_raw_emails_tejas_case_numbers()\n",
    "all_emails.shape[0]"
   ]
  },
  {
   "cell_type": "code",
   "execution_count": 11,
   "metadata": {},
   "outputs": [],
   "source": [
    "train_idx, test_idx = get_idx(prefix=TEJAS_PREFIX)"
   ]
  },
  {
   "cell_type": "markdown",
   "metadata": {},
   "source": [
    "### Prepare Training Documents\n",
    "\n",
    "> For inclusion in a vector store for few-shot prompting."
   ]
  },
  {
   "cell_type": "code",
   "execution_count": 12,
   "metadata": {},
   "outputs": [
    {
     "data": {
      "text/plain": [
       "2400"
      ]
     },
     "execution_count": 12,
     "metadata": {},
     "output_type": "execute_result"
    }
   ],
   "source": [
    "training_emails = list(get_emails_from_frame(\n",
    "    all_emails,\n",
    "    'train',\n",
    "    index_prefix=TEJAS_PREFIX\n",
    "))\n",
    "len(training_emails)"
   ]
  },
  {
   "cell_type": "code",
   "execution_count": 13,
   "metadata": {},
   "outputs": [
    {
     "data": {
      "text/plain": [
       "Email(idx=31716, label='Order Processing', email_subject='Equashield latest - FW: EQ II Catalog 2023 - Cardinal Health.xlsx', email_body='External Email â€“ Please use caution before opening attachments or clicking links  Let us know if you need anything else.    Regards,  Thomas Everitt Customer Service Representative Office    +1 516 684 8200 / Ext: 220 Mobile  +1 516 398 97 25 Fax          +1 516 684 8202 www.equashield.com<http://www.equashield.com/> [cid:image001.png@01DA0CD9.861376B0] [cid:image002.png@01DA0CD9.861376B0]  From: Pavlina Georgieva <pavlina@equashield.com> Sent: Wednesday, November 1, 2023 3:39 PM To: Thomas Everitt <Thomas.e@equashield.com> Subject: EQ II Catalog 2023 - Cardinal Health.xlsx      Regards,  Pavlina Georgieva Logistics Coordinator Office    +1 516 684 8200 / Ext: 202 Fax          +1 516 684 8202 www.equashield.com<http://www.equashield.com/> [cid:image001.png@01DA0CD9.861376B0] [cid:image002.png@01DA0CD9.861376B0]   ________________________________ Confidentiality Notice: This e-mail message, including any attachments, is for the sole use of the intended recipient(s) and may contain CONFIDENTIAL or PRIVILEGED information. Any unauthorized review, use, disclosure or distribution is prohibited. If you are not the intended recipient, please contact the sender by reply e-mail and immediately destroy all copies of the original message and all attachments.', metadata={'BU': 'PD', 'case_number': 3598350, 'ACCOUNT_BUSINESS_UNIT__C': nan, 'received_at': '2023-11-01T19:40:57', 'sfdc_subcategory': 'Drop Ship Order', 'predicted_category': 'Order Processing', 'predicted_subcategory': 'Drop Ship Order', 'record_type': 1, 'probability': 0.57667184, 'Accuracy_upd': 'Correct', 'Bin': 5})"
      ]
     },
     "execution_count": 13,
     "metadata": {},
     "output_type": "execute_result"
    }
   ],
   "source": [
    "training_emails[0]"
   ]
  },
  {
   "cell_type": "markdown",
   "metadata": {},
   "source": [
    "Load descriptions"
   ]
  },
  {
   "cell_type": "code",
   "execution_count": 14,
   "metadata": {},
   "outputs": [
    {
     "data": {
      "text/html": [
       "<div>\n",
       "<style scoped>\n",
       "    .dataframe tbody tr th:only-of-type {\n",
       "        vertical-align: middle;\n",
       "    }\n",
       "\n",
       "    .dataframe tbody tr th {\n",
       "        vertical-align: top;\n",
       "    }\n",
       "\n",
       "    .dataframe thead th {\n",
       "        text-align: right;\n",
       "    }\n",
       "</style>\n",
       "<table border=\"1\" class=\"dataframe\">\n",
       "  <thead>\n",
       "    <tr style=\"text-align: right;\">\n",
       "      <th></th>\n",
       "      <th>CATEGORY</th>\n",
       "      <th>Account/Inquiry</th>\n",
       "      <th>Order Processing</th>\n",
       "      <th>Delivery</th>\n",
       "      <th>Order Discrepancy</th>\n",
       "      <th>Returns</th>\n",
       "      <th>Billing / Invoice</th>\n",
       "      <th>Credits</th>\n",
       "      <th>Pricing</th>\n",
       "      <th>Product Quality</th>\n",
       "      <th>Product Inquiry</th>\n",
       "      <th>Claims</th>\n",
       "      <th>General Inquiry</th>\n",
       "      <th>IT Customer Technology Issue</th>\n",
       "      <th>Program / Promotions</th>\n",
       "    </tr>\n",
       "  </thead>\n",
       "  <tbody>\n",
       "    <tr>\n",
       "      <th>0</th>\n",
       "      <td>SUBCATEGORY</td>\n",
       "      <td>New Account Set Up</td>\n",
       "      <td>Order Entry</td>\n",
       "      <td>Refused Delivery</td>\n",
       "      <td>Keying Error</td>\n",
       "      <td>Customer order error</td>\n",
       "      <td>Freight charge error</td>\n",
       "      <td>Billed Wrong Account</td>\n",
       "      <td>Product Pricing</td>\n",
       "      <td>Adverse Event</td>\n",
       "      <td>General Product inquiry</td>\n",
       "      <td>NaN</td>\n",
       "      <td>Sales</td>\n",
       "      <td>NaN</td>\n",
       "      <td>NaN</td>\n",
       "    </tr>\n",
       "    <tr>\n",
       "      <th>1</th>\n",
       "      <td>NaN</td>\n",
       "      <td>Licensing</td>\n",
       "      <td>Will Call</td>\n",
       "      <td>Deliver/ Carrier issue</td>\n",
       "      <td>Wrong Item Shipped</td>\n",
       "      <td>Damage</td>\n",
       "      <td>NaN</td>\n",
       "      <td>Credit Inquiry</td>\n",
       "      <td>Pricing Issue</td>\n",
       "      <td>Defective Item</td>\n",
       "      <td>Product Availability</td>\n",
       "      <td>NaN</td>\n",
       "      <td>NaN</td>\n",
       "      <td>NaN</td>\n",
       "      <td>NaN</td>\n",
       "    </tr>\n",
       "    <tr>\n",
       "      <th>2</th>\n",
       "      <td>NaN</td>\n",
       "      <td>Account updates</td>\n",
       "      <td>Emergency Order</td>\n",
       "      <td>Missing/ mis-routed tote</td>\n",
       "      <td>Miss Label</td>\n",
       "      <td>Expired product</td>\n",
       "      <td>NaN</td>\n",
       "      <td>credit not issued / error</td>\n",
       "      <td>NaN</td>\n",
       "      <td>Safety Issue</td>\n",
       "      <td>Restricted item</td>\n",
       "      <td>NaN</td>\n",
       "      <td>NaN</td>\n",
       "      <td>NaN</td>\n",
       "      <td>NaN</td>\n",
       "    </tr>\n",
       "    <tr>\n",
       "      <th>3</th>\n",
       "      <td>NaN</td>\n",
       "      <td>NaN</td>\n",
       "      <td>Adjust Order</td>\n",
       "      <td>NaN</td>\n",
       "      <td>Overage</td>\n",
       "      <td>Flu Return</td>\n",
       "      <td>NaN</td>\n",
       "      <td>Pass Thru Credit</td>\n",
       "      <td>NaN</td>\n",
       "      <td>Suspicious Product</td>\n",
       "      <td>NaN</td>\n",
       "      <td>NaN</td>\n",
       "      <td>NaN</td>\n",
       "      <td>NaN</td>\n",
       "      <td>NaN</td>\n",
       "    </tr>\n",
       "    <tr>\n",
       "      <th>4</th>\n",
       "      <td>NaN</td>\n",
       "      <td>NaN</td>\n",
       "      <td>Shipping Service Change</td>\n",
       "      <td>NaN</td>\n",
       "      <td>Partial Carton</td>\n",
       "      <td>Overstock</td>\n",
       "      <td>NaN</td>\n",
       "      <td>NaN</td>\n",
       "      <td>NaN</td>\n",
       "      <td>NaN</td>\n",
       "      <td>NaN</td>\n",
       "      <td>NaN</td>\n",
       "      <td>NaN</td>\n",
       "      <td>NaN</td>\n",
       "      <td>NaN</td>\n",
       "    </tr>\n",
       "  </tbody>\n",
       "</table>\n",
       "</div>"
      ],
      "text/plain": [
       "      CATEGORY     Account/Inquiry         Order Processing  \\\n",
       "0  SUBCATEGORY  New Account Set Up              Order Entry   \n",
       "1          NaN           Licensing                Will Call   \n",
       "2          NaN     Account updates          Emergency Order   \n",
       "3          NaN                 NaN             Adjust Order   \n",
       "4          NaN                 NaN  Shipping Service Change   \n",
       "\n",
       "                   Delivery   Order Discrepancy               Returns  \\\n",
       "0          Refused Delivery        Keying Error  Customer order error   \n",
       "1    Deliver/ Carrier issue  Wrong Item Shipped                Damage   \n",
       "2  Missing/ mis-routed tote          Miss Label       Expired product   \n",
       "3                       NaN             Overage            Flu Return   \n",
       "4                       NaN      Partial Carton             Overstock   \n",
       "\n",
       "      Billing / Invoice                    Credits          Pricing  \\\n",
       "0  Freight charge error       Billed Wrong Account  Product Pricing   \n",
       "1                   NaN             Credit Inquiry    Pricing Issue   \n",
       "2                   NaN  credit not issued / error              NaN   \n",
       "3                   NaN           Pass Thru Credit              NaN   \n",
       "4                   NaN                        NaN              NaN   \n",
       "\n",
       "      Product Quality          Product Inquiry  Claims General Inquiry  \\\n",
       "0       Adverse Event  General Product inquiry     NaN           Sales   \n",
       "1      Defective Item     Product Availability     NaN             NaN   \n",
       "2        Safety Issue          Restricted item     NaN             NaN   \n",
       "3  Suspicious Product                      NaN     NaN             NaN   \n",
       "4                 NaN                      NaN     NaN             NaN   \n",
       "\n",
       "   IT Customer Technology Issue  Program / Promotions  \n",
       "0                           NaN                   NaN  \n",
       "1                           NaN                   NaN  \n",
       "2                           NaN                   NaN  \n",
       "3                           NaN                   NaN  \n",
       "4                           NaN                   NaN  "
      ]
     },
     "execution_count": 14,
     "metadata": {},
     "output_type": "execute_result"
    }
   ],
   "source": [
    "data_dir = Path(\"../../data\")\n",
    "assert data_dir.exists()\n",
    "experiment_dir = data_dir / 'split_processing'\n",
    "if not experiment_dir.exists():\n",
    "    experiment_dir.mkdir()\n",
    "\n",
    "descriptions_path = data_dir / 'labels.xlsx'\n",
    "assert descriptions_path.exists()\n",
    "\n",
    "descriptions = pd.read_excel(descriptions_path).map(lambda s: s.strip() if isinstance(s, str) else s)\n",
    "descriptions.head()"
   ]
  },
  {
   "cell_type": "code",
   "execution_count": 17,
   "metadata": {},
   "outputs": [],
   "source": [
    "# labels = get_possible_labels()\n",
    "# labels"
   ]
  },
  {
   "cell_type": "code",
   "execution_count": 21,
   "metadata": {},
   "outputs": [],
   "source": [
    "#| export\n",
    "def make_description_from_row(row: pd.Series) -> str:\n",
    "    if row.dropna().shape[0] == 0:\n",
    "        return \"\"\n",
    "    return \"Issues including:\\n\" + \"\\n\".join([\"- \" + v.strip() for v in row.dropna().values])"
   ]
  },
  {
   "cell_type": "code",
   "execution_count": 22,
   "metadata": {},
   "outputs": [
    {
     "data": {
      "text/plain": [
       "{'Account/Inquiry': 'Issues including:\\n- New Account Set Up\\n- Licensing\\n- Account updates',\n",
       " 'Order Processing': 'Issues including:\\n- Order Entry\\n- Will Call\\n- Emergency Order\\n- Adjust Order\\n- Shipping Service Change\\n- Cancel Order\\n- Allocation override',\n",
       " 'Delivery': 'Issues including:\\n- Refused Delivery\\n- Deliver/ Carrier issue\\n- Missing/ mis-routed tote',\n",
       " 'Order Discrepancy': 'Issues including:\\n- Keying Error\\n- Wrong Item Shipped\\n- Miss Label\\n- Overage\\n- Partial Carton\\n- Product Excursions\\n- Shipped Short Dated product\\n- Shortage',\n",
       " 'Returns': 'Issues including:\\n- Customer order error\\n- Damage\\n- Expired product\\n- Flu Return\\n- Overstock\\n- Product Description Not Clear\\n- Recall\\n- Shipping Label/Rtn\\n- Short Dated product\\n- Unauthorized Return',\n",
       " 'Billing / Invoice': 'Issues including:\\n- Freight charge error',\n",
       " 'Credits': 'Issues including:\\n- Billed Wrong Account\\n- Credit Inquiry\\n- credit not issued / error\\n- Pass Thru Credit',\n",
       " 'Pricing': 'Issues including:\\n- Product Pricing\\n- Pricing Issue',\n",
       " 'Product Quality': 'Issues including:\\n- Adverse Event\\n- Defective Item\\n- Safety Issue\\n- Suspicious Product',\n",
       " 'Product Inquiry': 'Issues including:\\n- General Product inquiry\\n- Product Availability\\n- Restricted item',\n",
       " 'Claims': '',\n",
       " 'General Inquiry': 'Issues including:\\n- Sales',\n",
       " 'IT Customer Technology Issue': '',\n",
       " 'Program / Promotions': ''}"
      ]
     },
     "execution_count": 22,
     "metadata": {},
     "output_type": "execute_result"
    }
   ],
   "source": [
    "descriptions_dict = descriptions.T.iloc[1:, :].apply(make_description_from_row, axis=1).to_dict()\n",
    "descriptions_dict"
   ]
  },
  {
   "cell_type": "code",
   "execution_count": 24,
   "metadata": {},
   "outputs": [],
   "source": [
    "# all([l in descriptions_dict.keys() for l in labels])"
   ]
  },
  {
   "cell_type": "markdown",
   "metadata": {},
   "source": [
    "Define prompt"
   ]
  },
  {
   "cell_type": "code",
   "execution_count": 25,
   "metadata": {},
   "outputs": [],
   "source": [
    "#| export\n",
    "TRAIN_PROMPT_TEMPLATE = \"\"\"Here is an email chain sent to customer service \\\n",
    "and how customer service labeled it for handling, including a description of the label. \n",
    "Summarize the email and explain why the email was labeled the way it was.\n",
    "Do not include any boilerplate content in your summary.\n",
    "Only use information present in the email chain.\n",
    "Think through your explanation step-by-step.\n",
    "-- EMAIL --\n",
    "{email}\n",
    "-- LABEL --\n",
    "{label}\n",
    "-- LABEL DESCRIPTION --\n",
    "{label_description}\n",
    "-- SUMMARY AND EXPLANATION --\n",
    "\"\"\"\n",
    "\n",
    "TRAIN_PROMPT = PromptTemplate.from_template(TRAIN_PROMPT_TEMPLATE)"
   ]
  },
  {
   "cell_type": "code",
   "execution_count": 26,
   "metadata": {},
   "outputs": [],
   "source": [
    "llm = VertexAI()"
   ]
  },
  {
   "cell_type": "code",
   "execution_count": 27,
   "metadata": {},
   "outputs": [],
   "source": [
    "train_processing_chain = TRAIN_PROMPT | llm"
   ]
  },
  {
   "cell_type": "code",
   "execution_count": 28,
   "metadata": {},
   "outputs": [],
   "source": [
    "#| export\n",
    "def format_email_for_train_summary(\n",
    "        email: Email,\n",
    "        descriptions: Dict[str, str]\n",
    "        ) -> Dict[str, str]:\n",
    "    return {\n",
    "        'email': f'SUBJECT: {email.email_subject}\\nBODY: {email.email_body}',\n",
    "        'label': email.label,\n",
    "        'label_description': descriptions.get(email.label)\n",
    "    }"
   ]
  },
  {
   "cell_type": "code",
   "execution_count": 29,
   "metadata": {},
   "outputs": [
    {
     "name": "stdout",
     "output_type": "stream",
     "text": [
      "Here is an email chain sent to customer service and how customer service labeled it for handling, including a description of the label. \n",
      "Summarize the email and explain why the email was labeled the way it was.\n",
      "Do not include any boilerplate content in your summary.\n",
      "Only use information present in the email chain.\n",
      "Think through your explanation step-by-step.\n",
      "-- EMAIL --\n",
      "SUBJECT: Equashield latest - FW: EQ II Catalog 2023 - Cardinal Health.xlsx\n",
      "BODY: External Email â€“ Please use caution before opening attachments or clicking links  Let us know if you need anything else.    Regards,  Thomas Everitt Customer Service Representative Office    +1 516 684 8200 / Ext: 220 Mobile  +1 516 398 97 25 Fax          +1 516 684 8202 www.equashield.com<http://www.equashield.com/> [cid:image001.png@01DA0CD9.861376B0] [cid:image002.png@01DA0CD9.861376B0]  From: Pavlina Georgieva <pavlina@equashield.com> Sent: Wednesday, November 1, 2023 3:39 PM To: Thomas Everitt <Thomas.e@equashield.com> Subject: EQ II Catalog 2023 - Cardinal Health.xlsx      Regards,  Pavlina Georgieva Logistics Coordinator Office    +1 516 684 8200 / Ext: 202 Fax          +1 516 684 8202 www.equashield.com<http://www.equashield.com/> [cid:image001.png@01DA0CD9.861376B0] [cid:image002.png@01DA0CD9.861376B0]   ________________________________ Confidentiality Notice: This e-mail message, including any attachments, is for the sole use of the intended recipient(s) and may contain CONFIDENTIAL or PRIVILEGED information. Any unauthorized review, use, disclosure or distribution is prohibited. If you are not the intended recipient, please contact the sender by reply e-mail and immediately destroy all copies of the original message and all attachments.\n",
      "-- LABEL --\n",
      "Order Processing\n",
      "-- LABEL DESCRIPTION --\n",
      "Issues including:\n",
      "- Order Entry\n",
      "- Will Call\n",
      "- Emergency Order\n",
      "- Adjust Order\n",
      "- Shipping Service Change\n",
      "- Cancel Order\n",
      "- Allocation override\n",
      "-- SUMMARY AND EXPLANATION --\n",
      "\n"
     ]
    }
   ],
   "source": [
    "example_train_prompt = TRAIN_PROMPT.format(**format_email_for_train_summary(training_emails[0], descriptions_dict))\n",
    "print(example_train_prompt)"
   ]
  },
  {
   "cell_type": "code",
   "execution_count": 30,
   "metadata": {},
   "outputs": [
    {
     "data": {
      "text/plain": [
       "' The email chain is about sharing a catalog for the year 2023.\\nThe email was labeled as \"Order Processing\" because it contains information about a catalog, which is related to order processing.\\nThe label \"Order Processing\" is appropriate because the email is about an order for a catalog.\\nThe email is not about any of the other issues listed in the label description, such as order entry, will call, emergency order, adjust order, shipping service change, cancel order, or allocation override.'"
      ]
     },
     "execution_count": 30,
     "metadata": {},
     "output_type": "execute_result"
    }
   ],
   "source": [
    "llm(example_train_prompt)"
   ]
  },
  {
   "cell_type": "markdown",
   "metadata": {},
   "source": [
    "### Prepare test documents"
   ]
  },
  {
   "cell_type": "code",
   "execution_count": 31,
   "metadata": {},
   "outputs": [
    {
     "data": {
      "text/plain": [
       "600"
      ]
     },
     "execution_count": 31,
     "metadata": {},
     "output_type": "execute_result"
    }
   ],
   "source": [
    "test_emails = list(get_emails_from_frame(\n",
    "    all_emails,\n",
    "    'test',\n",
    "    index_prefix=TEJAS_PREFIX\n",
    "))\n",
    "len(test_emails)"
   ]
  },
  {
   "cell_type": "code",
   "execution_count": 32,
   "metadata": {},
   "outputs": [],
   "source": [
    "#| export\n",
    "TEST_PROMPT_TEMPLATE = \"\"\"Here is an email sent to our customer service department.\n",
    "Summarize it, identifying points of action for customer service if there are any.\n",
    "Do not include any names, company names, addresses or other identifying information.\n",
    "Remove boilerplate. \n",
    "-- EMAIL SUBJECT --\n",
    "{subject}\n",
    "-- EMAIL BODY --\n",
    "{body}\n",
    "-- SUMMARY --\n",
    "\"\"\"\n",
    "\n",
    "TEST_PROMPT = PromptTemplate.from_template(TEST_PROMPT_TEMPLATE)"
   ]
  },
  {
   "cell_type": "code",
   "execution_count": 33,
   "metadata": {},
   "outputs": [],
   "source": [
    "#| export\n",
    "def format_email_for_test_summary(\n",
    "        email: Email,\n",
    "        ) -> Dict[str, str]:\n",
    "    return {\n",
    "        'subject': email.email_subject,\n",
    "        'body': email.email_body,\n",
    "    }"
   ]
  },
  {
   "cell_type": "code",
   "execution_count": 34,
   "metadata": {},
   "outputs": [
    {
     "name": "stdout",
     "output_type": "stream",
     "text": [
      "Here is an email sent to our customer service department.\n",
      "Summarize it, identifying points of action for customer service if there are any.\n",
      "Do not include any names, company names, addresses or other identifying information.\n",
      "Remove boilerplate. \n",
      "-- EMAIL SUBJECT --\n",
      "Need signature AC account\n",
      "-- EMAIL BODY --\n",
      "Good afternoon,  We have received an order from customer 2057194105. They sent unsigned MRA 3901356789. Can you please reach out to the customer and let them know they have 48 hours to send a signed MRA or we will send back the case for no credit.  Thanks,   [cid:image001.png@01D9F52F.5AD273F0]  Tom Coppedge Returns Lead | Warehouse Operations 2840 Elm Pont Industrial Drive St. Charles, MO. 63301    _________________________________________________  This message is for the designated recipient only and may contain privileged, proprietary or otherwise private information. If you have received it in error, please notify the sender immediately and delete the original. Any other use of the email by you is prohibited.  Dansk - Deutsch - Espanol - Francais - Italiano - Japanese - Nederlands - Norsk - Portuguese - Chinese Svenska: http://www.cardinalhealth.com/en/support/terms-and-conditions-english.html\n",
      "-- SUMMARY --\n",
      "\n"
     ]
    }
   ],
   "source": [
    "example_test_prompt = TEST_PROMPT.format(**format_email_for_test_summary(test_emails[0]))\n",
    "print(example_test_prompt)"
   ]
  },
  {
   "cell_type": "code",
   "execution_count": 35,
   "metadata": {},
   "outputs": [],
   "source": [
    "test_processing_chain = TEST_PROMPT | llm"
   ]
  },
  {
   "cell_type": "code",
   "execution_count": 36,
   "metadata": {},
   "outputs": [
    {
     "data": {
      "text/plain": [
       "' Customer 2057194105 sent an unsigned MRA 3901356789 with their order.\\n\\n**Action:** Customer service should reach out to the customer and inform them that they have 48 hours to send a signed MRA or the case will be returned for no credit.'"
      ]
     },
     "execution_count": 36,
     "metadata": {},
     "output_type": "execute_result"
    }
   ],
   "source": [
    "test_processing_chain.invoke(format_email_for_test_summary(test_emails[0]))"
   ]
  },
  {
   "cell_type": "markdown",
   "metadata": {},
   "source": [
    "### Process everything"
   ]
  },
  {
   "cell_type": "code",
   "execution_count": 37,
   "metadata": {},
   "outputs": [],
   "source": [
    "#| export\n",
    "@quota_handler\n",
    "def batch_predict(prompts: List[Dict[str, str]], chain: RunnableSequence) -> List[str]:\n",
    "    return chain.batch(prompts)"
   ]
  },
  {
   "cell_type": "markdown",
   "metadata": {},
   "source": [
    "Process training data"
   ]
  },
  {
   "cell_type": "code",
   "execution_count": null,
   "metadata": {},
   "outputs": [
    {
     "name": "stderr",
     "output_type": "stream",
     "text": [
      "100%|█████████████████████████████████████| 2400/2400 [1:13:02<00:00,  1.83s/it]\n"
     ]
    },
    {
     "data": {
      "text/plain": [
       "True"
      ]
     },
     "execution_count": 110,
     "metadata": {},
     "output_type": "execute_result"
    }
   ],
   "source": [
    "## Takes about 1.25 hours\n",
    "# train_summaries = []\n",
    "\n",
    "# pbar = tqdm(total=len(training_emails), ncols=80, leave=True)\n",
    "\n",
    "# try:\n",
    "#     for batch in get_batches(training_emails, 5):\n",
    "#         batch_prompts = [format_email_for_train_summary(e, descriptions_dict) for e in batch]\n",
    "#         train_summaries.extend(batch_predict(batch_prompts, train_processing_chain))\n",
    "#         pbar.update(len(batch))\n",
    "# except:\n",
    "#     pass\n",
    "# finally:\n",
    "#     pbar.close()\n",
    "\n",
    "# len(train_summaries) == len(training_emails)"
   ]
  },
  {
   "cell_type": "code",
   "execution_count": 44,
   "metadata": {},
   "outputs": [],
   "source": [
    "# train_summary_df = pd.DataFrame(\n",
    "#     zip(\n",
    "#         train_summaries,\n",
    "#         [t.idx for t in training_emails],\n",
    "#         [t.label for t in training_emails]\n",
    "#     ),\n",
    "#     columns=['summary', 'idx', 'label']\n",
    "# )\n",
    "# train_summary_df.to_csv(\n",
    "#     f'gs://{PROJECT_BUCKET}/{TEJAS_PREFIX}/split_train_summaries.csv', \n",
    "#     index=False)"
   ]
  },
  {
   "cell_type": "code",
   "execution_count": 43,
   "metadata": {},
   "outputs": [
    {
     "data": {
      "text/html": [
       "<div>\n",
       "<style scoped>\n",
       "    .dataframe tbody tr th:only-of-type {\n",
       "        vertical-align: middle;\n",
       "    }\n",
       "\n",
       "    .dataframe tbody tr th {\n",
       "        vertical-align: top;\n",
       "    }\n",
       "\n",
       "    .dataframe thead th {\n",
       "        text-align: right;\n",
       "    }\n",
       "</style>\n",
       "<table border=\"1\" class=\"dataframe\">\n",
       "  <thead>\n",
       "    <tr style=\"text-align: right;\">\n",
       "      <th></th>\n",
       "      <th>summary</th>\n",
       "      <th>idx</th>\n",
       "      <th>label</th>\n",
       "    </tr>\n",
       "  </thead>\n",
       "  <tbody>\n",
       "    <tr>\n",
       "      <th>0</th>\n",
       "      <td>The email chain is about sharing a catalog fo...</td>\n",
       "      <td>31716</td>\n",
       "      <td>Order Processing</td>\n",
       "    </tr>\n",
       "    <tr>\n",
       "      <th>1</th>\n",
       "      <td>**Summary**\\nThe customer sent an email to th...</td>\n",
       "      <td>35200</td>\n",
       "      <td>Billing / Invoice</td>\n",
       "    </tr>\n",
       "    <tr>\n",
       "      <th>2</th>\n",
       "      <td>**Summary**\\nThe email is a notification from...</td>\n",
       "      <td>462</td>\n",
       "      <td>Account/Inquiry</td>\n",
       "    </tr>\n",
       "    <tr>\n",
       "      <th>3</th>\n",
       "      <td>**Summary:**\\nThe email is about an order tha...</td>\n",
       "      <td>3705</td>\n",
       "      <td>Order Processing</td>\n",
       "    </tr>\n",
       "    <tr>\n",
       "      <th>4</th>\n",
       "      <td>**Summary**\\nThe email is a notification from...</td>\n",
       "      <td>25300</td>\n",
       "      <td>Account/Inquiry</td>\n",
       "    </tr>\n",
       "  </tbody>\n",
       "</table>\n",
       "</div>"
      ],
      "text/plain": [
       "                                             summary    idx              label\n",
       "0   The email chain is about sharing a catalog fo...  31716   Order Processing\n",
       "1   **Summary**\\nThe customer sent an email to th...  35200  Billing / Invoice\n",
       "2   **Summary**\\nThe email is a notification from...    462    Account/Inquiry\n",
       "3   **Summary:**\\nThe email is about an order tha...   3705   Order Processing\n",
       "4   **Summary**\\nThe email is a notification from...  25300    Account/Inquiry"
      ]
     },
     "execution_count": 43,
     "metadata": {},
     "output_type": "execute_result"
    }
   ],
   "source": [
    "train_summary_df = pd.read_csv(\n",
    "    f'gs://{PROJECT_BUCKET}/{TEJAS_PREFIX}/split_train_summaries.csv',\n",
    "    usecols=['summary', 'idx', 'label']\n",
    "    )\n",
    "train_summary_df.head()"
   ]
  },
  {
   "cell_type": "markdown",
   "metadata": {},
   "source": [
    "Process test"
   ]
  },
  {
   "cell_type": "code",
   "execution_count": 45,
   "metadata": {},
   "outputs": [],
   "source": [
    "## Takes about ~15 minutes\n",
    "# test_summaries = []\n",
    "\n",
    "# pbar = tqdm(total=len(test_emails), ncols=80, leave=True)\n",
    "\n",
    "# try:\n",
    "#     for batch in get_batches(test_emails, 5):\n",
    "#         batch_prompts = [format_email_for_test_summary(e) for e in batch]\n",
    "#         test_summaries.extend(batch_predict(batch_prompts, test_processing_chain))\n",
    "#         pbar.update(len(batch))\n",
    "# except:\n",
    "#     pass\n",
    "# finally:\n",
    "#     pbar.close()\n",
    "\n",
    "# len(test_summaries) == len(test_emails)"
   ]
  },
  {
   "cell_type": "code",
   "execution_count": 46,
   "metadata": {},
   "outputs": [],
   "source": [
    "# test_summary_df = pd.DataFrame(\n",
    "#     zip(\n",
    "#         test_summaries,\n",
    "#         [t.idx for t in test_emails],\n",
    "#         [t.label for t in test_emails]\n",
    "#     ),\n",
    "#     columns=['summary', 'idx', 'label']\n",
    "# )\n",
    "# test_summary_df.to_csv(\n",
    "#     f'gs://{PROJECT_BUCKET}/{TEJAS_PREFIX}/split_test_summaries.csv', \n",
    "#     index=False)"
   ]
  },
  {
   "cell_type": "code",
   "execution_count": 47,
   "metadata": {},
   "outputs": [],
   "source": [
    "test_summary_df = pd.read_csv(\n",
    "    f'gs://{PROJECT_BUCKET}/{TEJAS_PREFIX}/split_test_summaries.csv', \n",
    "    usecols=['summary', 'idx', 'label']\n",
    ")"
   ]
  },
  {
   "cell_type": "markdown",
   "metadata": {},
   "source": [
    "## Build our vector store"
   ]
  },
  {
   "cell_type": "code",
   "execution_count": 48,
   "metadata": {},
   "outputs": [
    {
     "data": {
      "text/plain": [
       "2400"
      ]
     },
     "execution_count": 48,
     "metadata": {},
     "output_type": "execute_result"
    }
   ],
   "source": [
    "chroma_documents = DataFrameLoader(\n",
    "    train_summary_df,\n",
    "    page_content_column='summary').load()\n",
    "len(chroma_documents)"
   ]
  },
  {
   "cell_type": "code",
   "execution_count": 49,
   "metadata": {},
   "outputs": [],
   "source": [
    "embedder = get_embedder()"
   ]
  },
  {
   "cell_type": "code",
   "execution_count": 50,
   "metadata": {},
   "outputs": [],
   "source": [
    "chroma = get_or_make_chroma(\n",
    "    data_dir=experiment_dir,\n",
    "    documents=chroma_documents\n",
    ")"
   ]
  },
  {
   "cell_type": "markdown",
   "metadata": {},
   "source": [
    "## Predict"
   ]
  },
  {
   "cell_type": "code",
   "execution_count": 51,
   "metadata": {},
   "outputs": [],
   "source": [
    "prediction_documents = DataFrameLoader(\n",
    "    test_summary_df, \n",
    "    page_content_column='summary'\n",
    ").load()"
   ]
  },
  {
   "cell_type": "code",
   "execution_count": 52,
   "metadata": {},
   "outputs": [
    {
     "name": "stdout",
     "output_type": "stream",
     "text": [
      "Our customer service team wants to classify emails so they can be sent to the right support team.\n",
      "Here are the labels they use;\n",
      "\n",
      "--LABELS--\n",
      "- Order Processing\n",
      "- Product Inquiry\n",
      "- Account/Inquiry\n",
      "- General Inquiry\n",
      "- Returns\n",
      "- Billing / Invoice\n",
      "- Delivery\n",
      "- Credits\n",
      "- Order Discrepancy\n",
      "- Pricing\n",
      "- Program / Promotions\n",
      "\n",
      "Below are a series of emails that have already been labeled, use their example to identify what label the final email should get.\n",
      "Your answer must be one of the options in the --LABELS-- list.\n",
      "Return only the label from the above list that you chose.\n",
      "\n",
      "--EMAILS--\n",
      "EMAIL: **Summary:**\n",
      "- Customer 2057201348 sent two orders with an unsigned MRA (Mutual Recognition Agreement) 3901263910.\n",
      "- Customer service needs to contact the customer and inform them that they have 48 hours to send a signed MRA, or the case will be returned for no credit.\n",
      "\n",
      "**Explanation:**\n",
      "- The email is about an issue with a customer's order, specifically the lack of a signed MRA.\n",
      "- The customer service representative needs to take action to resolve the issue, which involves contacting the customer and giving ||| LABEL: Returns\n",
      "EMAIL: The email is about a customer who has not received a $12,000 credit for an invoice. The customer never received the product and there is no MRA to sign. The customer service representative who the email was sent to stated that the customer never signed the MRA, but there is no MRA to sign since it is not a return and the customer did not receive the product. The email was labeled as \"Credits\" because it is about a credit that has not been issued. ||| LABEL: Credits\n",
      "EMAIL: **Summary**\n",
      "The customer, Cathy Smith, reported a damaged item on August 28, 2023, but has not yet received the Material Return Authorization (MRA). She included the confirmation of the reported item in her email.\n",
      "\n",
      "**Explanation**\n",
      "The email was labeled as \"Returns\" because it pertains to a damaged item that needs to be returned. The customer service team will likely need to investigate the issue and send Cathy the MRA so she can return the damaged item. ||| LABEL: Returns\n",
      "EMAIL: **Summary:**\n",
      "The email is from a customer, Patricia De Sousa, informing the customer service department about an order with short-dated items. The specific order number is 405030, and the account number is 2057200456. The short-dated item is HumuLIN 70/30 KWIK 100U/ML 5X3ML #13, with an expiration date of 04/2024. Patricia requests that the customer service department send a Material Return Authorization (MRA) for the short-dated item ||| LABEL: Order Discrepancy\n",
      "EMAIL: **Summary**\n",
      "The email is about a discrepancy in an order with PO number 404111. Two drugs, Prolia and Inflectra, were received damaged and not cold, making them unusable by the customer. The customer is requesting a Material Return Authorization (MRA) and a credit memo.\n",
      "\n",
      "**Explanation**\n",
      "The email was labeled as \"Returns\" because it pertains to an issue with received products. The specific type of return is not immediately clear from the email, but it is likely related to damage or temperature control. The customer service team will need to investigate further to determine the exact nature of the ||| LABEL: Returns\n",
      "EMAIL:  Customer 2057194105 sent an unsigned MRA 3901356789 with their order.\n",
      "\n",
      "**Action:** Customer service should reach out to the customer and inform them that they have 48 hours to send a signed MRA or the case will be returned for no credit. ||| LABEL: \n"
     ]
    }
   ],
   "source": [
    "print(\n",
    "    make_prediction_prompt(\n",
    "        prediction_documents[0],\n",
    "        chroma=chroma,\n",
    "        limit=3\n",
    "    ))"
   ]
  },
  {
   "cell_type": "markdown",
   "metadata": {},
   "source": [
    "Get predictions"
   ]
  },
  {
   "cell_type": "code",
   "execution_count": 53,
   "metadata": {},
   "outputs": [
    {
     "name": "stderr",
     "output_type": "stream",
     "text": [
      "                                                                                \r"
     ]
    }
   ],
   "source": [
    "prediction_prompts = [\n",
    "    make_prediction_prompt(s, chroma, 3) for s in tqdm(\n",
    "        prediction_documents, \n",
    "        leave=False, \n",
    "        ncols=80)]"
   ]
  },
  {
   "cell_type": "code",
   "execution_count": 54,
   "metadata": {},
   "outputs": [
    {
     "name": "stderr",
     "output_type": "stream",
     "text": [
      "                                                                                \r"
     ]
    }
   ],
   "source": [
    "predictions = get_predictions(\n",
    "    llm=llm,\n",
    "    prompts=prediction_prompts\n",
    ")"
   ]
  },
  {
   "cell_type": "code",
   "execution_count": 59,
   "metadata": {},
   "outputs": [],
   "source": [
    "predictions_df = pd.DataFrame(\n",
    "    list(zip(\n",
    "        [s.strip() for s in predictions], \n",
    "        [d.metadata.get('label') for d in prediction_documents],\n",
    "        [d.metadata.get('idx') for d in prediction_documents],\n",
    "        prediction_prompts,\n",
    "        [f\"-- SUBJECT --\\n{e.email_subject}\\n-- BODY --\\n{e.email_body}\" for e in test_emails]\n",
    "    )),\n",
    "    columns=['prediction', 'label', 'idx', 'prompt', 'email']\n",
    ")\n",
    "predictions_df.to_csv(experiment_dir / 'sample_predictions.csv', index=False)"
   ]
  },
  {
   "cell_type": "markdown",
   "metadata": {},
   "source": [
    "## Evaluate"
   ]
  },
  {
   "cell_type": "code",
   "execution_count": 60,
   "metadata": {},
   "outputs": [],
   "source": [
    "performance_kwargs = {\n",
    "    'y_true': predictions_df.label,\n",
    "    'y_pred': predictions_df.prediction\n",
    "}"
   ]
  },
  {
   "cell_type": "code",
   "execution_count": 61,
   "metadata": {},
   "outputs": [
    {
     "data": {
      "text/plain": [
       "0.6916666666666667"
      ]
     },
     "execution_count": 61,
     "metadata": {},
     "output_type": "execute_result"
    }
   ],
   "source": [
    "metrics.accuracy_score(**performance_kwargs)"
   ]
  },
  {
   "cell_type": "code",
   "execution_count": 62,
   "metadata": {},
   "outputs": [
    {
     "data": {
      "image/png": "[encoded data removed]",
      "text/plain": [
       "<Figure size 640x480 with 2 Axes>"
      ]
     },
     "metadata": {},
     "output_type": "display_data"
    }
   ],
   "source": [
    "matrix_display = metrics.ConfusionMatrixDisplay.from_predictions(\n",
    "    normalize='true',\n",
    "    xticks_rotation='vertical',\n",
    "    **performance_kwargs\n",
    ")"
   ]
  },
  {
   "cell_type": "code",
   "execution_count": 65,
   "metadata": {},
   "outputs": [
    {
     "name": "stdout",
     "output_type": "stream",
     "text": [
      "                      precision    recall  f1-score   support\n",
      "\n",
      "     Account/Inquiry       0.83      0.76      0.79       164\n",
      "   Billing / Invoice       0.47      0.90      0.62        31\n",
      "             Credits       0.33      0.25      0.29        12\n",
      "            Delivery       0.29      0.62      0.39        16\n",
      "     General Inquiry       0.00      0.00       nan         9\n",
      "   Order Discrepancy       0.63      0.78      0.69        54\n",
      "    Order Processing       0.90      0.74      0.81       224\n",
      "             Pricing       0.50      1.00      0.67         3\n",
      "     Product Inquiry       0.37      0.33      0.35        33\n",
      "Program / Promotions       0.00      0.00       nan         3\n",
      "             Returns       0.62      0.55      0.58        51\n",
      "\n",
      "            accuracy                           0.69       600\n",
      "           macro avg       0.45      0.54      0.58       600\n",
      "        weighted avg       0.73      0.69      0.72       600\n",
      "\n"
     ]
    }
   ],
   "source": [
    "performance_report_str = metrics.classification_report(\n",
    "    zero_division=np.nan,\n",
    "    output_dict=False,\n",
    "    **performance_kwargs)\n",
    "print(performance_report_str)"
   ]
  },
  {
   "cell_type": "markdown",
   "metadata": {},
   "source": [
    "## Export"
   ]
  },
  {
   "cell_type": "code",
   "execution_count": 66,
   "metadata": {},
   "outputs": [],
   "source": [
    "import nbdev; nbdev.nbdev_export()"
   ]
  },
  {
   "cell_type": "code",
   "execution_count": null,
   "metadata": {},
   "outputs": [],
   "source": []
  }
 ],
 "metadata": {
  "kernelspec": {
   "display_name": ".venv",
   "language": "python",
   "name": "python3"
  },
  "language_info": {
   "codemirror_mode": {
    "name": "ipython",
    "version": 3
   },
   "file_extension": ".py",
   "mimetype": "text/x-python",
   "name": "python",
   "nbconvert_exporter": "python",
   "pygments_lexer": "ipython3",
   "version": "3.11.4"
  }
 },
 "nbformat": 4,
 "nbformat_minor": 2
}
