{
 "cells": [
  {
   "cell_type": "markdown",
   "metadata": {},
   "source": [
    "# Split processing\n",
    "\n",
    "> Lets process documents differently based on whether we're predicting a label or embedding into a vector store."
   ]
  },
  {
   "cell_type": "code",
   "execution_count": 1,
   "metadata": {},
   "outputs": [],
   "source": [
    "#| default_exp experiments.split_processing"
   ]
  },
  {
   "cell_type": "code",
   "execution_count": 81,
   "metadata": {},
   "outputs": [],
   "source": [
    "#| export\n",
    "from typing import Dict, List\n",
    "from pathlib import Path\n",
    "import pandas as pd\n",
    "from tqdm import tqdm\n",
    "\n",
    "from classifier.schema import get_embedder, get_model, quota_handler, WRITE_PREFIX\n",
    "from classifier.load import Email, get_batches, get_idx, get_emails_from_frame, \\\n",
    "    get_raw_emails_tejas_case_numbers, get_possible_labels\n",
    "\n",
    "from langchain.prompts import PromptTemplate\n",
    "from langchain.schema.runnable import RunnableSequence\n",
    "from langchain.llms import VertexAI"
   ]
  },
  {
   "cell_type": "markdown",
   "metadata": {},
   "source": [
    "## Process"
   ]
  },
  {
   "cell_type": "markdown",
   "metadata": {},
   "source": [
    "Load training emails"
   ]
  },
  {
   "cell_type": "code",
   "execution_count": 13,
   "metadata": {},
   "outputs": [],
   "source": [
    "#| export\n",
    "TEJAS_PREFIX = f\"{WRITE_PREFIX}/tejas\""
   ]
  },
  {
   "cell_type": "code",
   "execution_count": 9,
   "metadata": {},
   "outputs": [
    {
     "data": {
      "text/plain": [
       "3200"
      ]
     },
     "execution_count": 9,
     "metadata": {},
     "output_type": "execute_result"
    }
   ],
   "source": [
    "all_emails = get_raw_emails_tejas_case_numbers()\n",
    "all_emails.shape[0]"
   ]
  },
  {
   "cell_type": "code",
   "execution_count": 12,
   "metadata": {},
   "outputs": [],
   "source": [
    "train_idx, test_idx = get_idx(prefix=TEJAS_PREFIX)"
   ]
  },
  {
   "cell_type": "markdown",
   "metadata": {},
   "source": [
    "### Prepare Training Documents\n",
    "\n",
    "> For inclusion in a vector store for few-shot prompting."
   ]
  },
  {
   "cell_type": "code",
   "execution_count": 18,
   "metadata": {},
   "outputs": [
    {
     "data": {
      "text/plain": [
       "2400"
      ]
     },
     "execution_count": 18,
     "metadata": {},
     "output_type": "execute_result"
    }
   ],
   "source": [
    "training_emails = list(get_emails_from_frame(\n",
    "    all_emails,\n",
    "    'train',\n",
    "    index_prefix=TEJAS_PREFIX\n",
    "))\n",
    "len(training_emails)"
   ]
  },
  {
   "cell_type": "code",
   "execution_count": 22,
   "metadata": {},
   "outputs": [
    {
     "data": {
      "text/plain": [
       "Email(idx=31716, label='Order Processing', email_subject='Equashield latest - FW: EQ II Catalog 2023 - Cardinal Health.xlsx', email_body='External Email â€“ Please use caution before opening attachments or clicking links  Let us know if you need anything else.    Regards,  Thomas Everitt Customer Service Representative Office    +1 516 684 8200 / Ext: 220 Mobile  +1 516 398 97 25 Fax          +1 516 684 8202 www.equashield.com<http://www.equashield.com/> [cid:image001.png@01DA0CD9.861376B0] [cid:image002.png@01DA0CD9.861376B0]  From: Pavlina Georgieva <pavlina@equashield.com> Sent: Wednesday, November 1, 2023 3:39 PM To: Thomas Everitt <Thomas.e@equashield.com> Subject: EQ II Catalog 2023 - Cardinal Health.xlsx      Regards,  Pavlina Georgieva Logistics Coordinator Office    +1 516 684 8200 / Ext: 202 Fax          +1 516 684 8202 www.equashield.com<http://www.equashield.com/> [cid:image001.png@01DA0CD9.861376B0] [cid:image002.png@01DA0CD9.861376B0]   ________________________________ Confidentiality Notice: This e-mail message, including any attachments, is for the sole use of the intended recipient(s) and may contain CONFIDENTIAL or PRIVILEGED information. Any unauthorized review, use, disclosure or distribution is prohibited. If you are not the intended recipient, please contact the sender by reply e-mail and immediately destroy all copies of the original message and all attachments.', metadata={'BU': 'PD', 'case_number': 3598350, 'ACCOUNT_BUSINESS_UNIT__C': nan, 'received_at': '2023-11-01T19:40:57', 'sfdc_subcategory': 'Drop Ship Order', 'predicted_category': 'Order Processing', 'predicted_subcategory': 'Drop Ship Order', 'record_type': 1, 'probability': 0.57667184, 'Accuracy_upd': 'Correct', 'Bin': 5})"
      ]
     },
     "execution_count": 22,
     "metadata": {},
     "output_type": "execute_result"
    }
   ],
   "source": [
    "training_emails[0]"
   ]
  },
  {
   "cell_type": "markdown",
   "metadata": {},
   "source": [
    "Load descriptions"
   ]
  },
  {
   "cell_type": "code",
   "execution_count": 51,
   "metadata": {},
   "outputs": [
    {
     "data": {
      "text/html": [
       "<div>\n",
       "<style scoped>\n",
       "    .dataframe tbody tr th:only-of-type {\n",
       "        vertical-align: middle;\n",
       "    }\n",
       "\n",
       "    .dataframe tbody tr th {\n",
       "        vertical-align: top;\n",
       "    }\n",
       "\n",
       "    .dataframe thead th {\n",
       "        text-align: right;\n",
       "    }\n",
       "</style>\n",
       "<table border=\"1\" class=\"dataframe\">\n",
       "  <thead>\n",
       "    <tr style=\"text-align: right;\">\n",
       "      <th></th>\n",
       "      <th>CATEGORY</th>\n",
       "      <th>Account/Inquiry</th>\n",
       "      <th>Order Processing</th>\n",
       "      <th>Delivery</th>\n",
       "      <th>Order Discrepancy</th>\n",
       "      <th>Returns</th>\n",
       "      <th>Billing / Invoice</th>\n",
       "      <th>Credits</th>\n",
       "      <th>Pricing</th>\n",
       "      <th>Product Quality</th>\n",
       "      <th>Product Inquiry</th>\n",
       "      <th>Claims</th>\n",
       "      <th>General Inquiry</th>\n",
       "      <th>IT Customer Technology Issue</th>\n",
       "      <th>Program / Promotions</th>\n",
       "    </tr>\n",
       "  </thead>\n",
       "  <tbody>\n",
       "    <tr>\n",
       "      <th>0</th>\n",
       "      <td>SUBCATEGORY</td>\n",
       "      <td>New Account Set Up</td>\n",
       "      <td>Order Entry</td>\n",
       "      <td>Refused Delivery</td>\n",
       "      <td>Keying Error</td>\n",
       "      <td>Customer order error</td>\n",
       "      <td>Freight charge error</td>\n",
       "      <td>Billed Wrong Account</td>\n",
       "      <td>Product Pricing</td>\n",
       "      <td>Adverse Event</td>\n",
       "      <td>General Product inquiry</td>\n",
       "      <td>NaN</td>\n",
       "      <td>Sales</td>\n",
       "      <td>NaN</td>\n",
       "      <td>NaN</td>\n",
       "    </tr>\n",
       "    <tr>\n",
       "      <th>1</th>\n",
       "      <td>NaN</td>\n",
       "      <td>Licensing</td>\n",
       "      <td>Will Call</td>\n",
       "      <td>Deliver/ Carrier issue</td>\n",
       "      <td>Wrong Item Shipped</td>\n",
       "      <td>Damage</td>\n",
       "      <td>NaN</td>\n",
       "      <td>Credit Inquiry</td>\n",
       "      <td>Pricing Issue</td>\n",
       "      <td>Defective Item</td>\n",
       "      <td>Product Availability</td>\n",
       "      <td>NaN</td>\n",
       "      <td>NaN</td>\n",
       "      <td>NaN</td>\n",
       "      <td>NaN</td>\n",
       "    </tr>\n",
       "    <tr>\n",
       "      <th>2</th>\n",
       "      <td>NaN</td>\n",
       "      <td>Account updates</td>\n",
       "      <td>Emergency Order</td>\n",
       "      <td>Missing/ mis-routed tote</td>\n",
       "      <td>Miss Label</td>\n",
       "      <td>Expired product</td>\n",
       "      <td>NaN</td>\n",
       "      <td>credit not issued / error</td>\n",
       "      <td>NaN</td>\n",
       "      <td>Safety Issue</td>\n",
       "      <td>Restricted item</td>\n",
       "      <td>NaN</td>\n",
       "      <td>NaN</td>\n",
       "      <td>NaN</td>\n",
       "      <td>NaN</td>\n",
       "    </tr>\n",
       "    <tr>\n",
       "      <th>3</th>\n",
       "      <td>NaN</td>\n",
       "      <td>NaN</td>\n",
       "      <td>Adjust Order</td>\n",
       "      <td>NaN</td>\n",
       "      <td>Overage</td>\n",
       "      <td>Flu Return</td>\n",
       "      <td>NaN</td>\n",
       "      <td>Pass Thru Credit</td>\n",
       "      <td>NaN</td>\n",
       "      <td>Suspicious Product</td>\n",
       "      <td>NaN</td>\n",
       "      <td>NaN</td>\n",
       "      <td>NaN</td>\n",
       "      <td>NaN</td>\n",
       "      <td>NaN</td>\n",
       "    </tr>\n",
       "    <tr>\n",
       "      <th>4</th>\n",
       "      <td>NaN</td>\n",
       "      <td>NaN</td>\n",
       "      <td>Shipping Service Change</td>\n",
       "      <td>NaN</td>\n",
       "      <td>Partial Carton</td>\n",
       "      <td>Overstock</td>\n",
       "      <td>NaN</td>\n",
       "      <td>NaN</td>\n",
       "      <td>NaN</td>\n",
       "      <td>NaN</td>\n",
       "      <td>NaN</td>\n",
       "      <td>NaN</td>\n",
       "      <td>NaN</td>\n",
       "      <td>NaN</td>\n",
       "      <td>NaN</td>\n",
       "    </tr>\n",
       "  </tbody>\n",
       "</table>\n",
       "</div>"
      ],
      "text/plain": [
       "      CATEGORY  ... Program / Promotions\n",
       "0  SUBCATEGORY  ...                  NaN\n",
       "1          NaN  ...                  NaN\n",
       "2          NaN  ...                  NaN\n",
       "3          NaN  ...                  NaN\n",
       "4          NaN  ...                  NaN\n",
       "\n",
       "[5 rows x 15 columns]"
      ]
     },
     "execution_count": 51,
     "metadata": {},
     "output_type": "execute_result"
    }
   ],
   "source": [
    "data_dir = Path(\"../../data\")\n",
    "assert data_dir.exists()\n",
    "\n",
    "descriptions_path = data_dir / 'labels.xlsx'\n",
    "assert descriptions_path.exists()\n",
    "\n",
    "descriptions = pd.read_excel(descriptions_path).map(lambda s: s.strip() if isinstance(s, str) else s)\n",
    "descriptions.head()"
   ]
  },
  {
   "cell_type": "code",
   "execution_count": 52,
   "metadata": {},
   "outputs": [],
   "source": [
    "labels = get_possible_labels()"
   ]
  },
  {
   "cell_type": "code",
   "execution_count": 53,
   "metadata": {},
   "outputs": [
    {
     "data": {
      "text/plain": [
       "['Order Processing',\n",
       " 'Product Inquiry',\n",
       " 'Account/Inquiry',\n",
       " 'General Inquiry',\n",
       " 'Returns',\n",
       " 'Billing / Invoice',\n",
       " 'Delivery',\n",
       " 'Credits',\n",
       " 'Order Discrepancy',\n",
       " 'Pricing',\n",
       " 'Program / Promotions']"
      ]
     },
     "execution_count": 53,
     "metadata": {},
     "output_type": "execute_result"
    }
   ],
   "source": [
    "labels"
   ]
  },
  {
   "cell_type": "code",
   "execution_count": 54,
   "metadata": {},
   "outputs": [],
   "source": [
    "#| export\n",
    "def make_description_from_row(row: pd.Series) -> str:\n",
    "    if row.dropna().shape[0] == 0:\n",
    "        return \"\"\n",
    "    return \"Issues including:\\n\" + \"\\n\".join([\"- \" + v.strip() for v in row.dropna().values])"
   ]
  },
  {
   "cell_type": "code",
   "execution_count": 55,
   "metadata": {},
   "outputs": [
    {
     "data": {
      "text/plain": [
       "{'Account/Inquiry': 'Issues including:\\n- New Account Set Up\\n- Licensing\\n- Account updates',\n",
       " 'Order Processing': 'Issues including:\\n- Order Entry\\n- Will Call\\n- Emergency Order\\n- Adjust Order\\n- Shipping Service Change\\n- Cancel Order\\n- Allocation override',\n",
       " 'Delivery': 'Issues including:\\n- Refused Delivery\\n- Deliver/ Carrier issue\\n- Missing/ mis-routed tote',\n",
       " 'Order Discrepancy': 'Issues including:\\n- Keying Error\\n- Wrong Item Shipped\\n- Miss Label\\n- Overage\\n- Partial Carton\\n- Product Excursions\\n- Shipped Short Dated product\\n- Shortage',\n",
       " 'Returns': 'Issues including:\\n- Customer order error\\n- Damage\\n- Expired product\\n- Flu Return\\n- Overstock\\n- Product Description Not Clear\\n- Recall\\n- Shipping Label/Rtn\\n- Short Dated product\\n- Unauthorized Return',\n",
       " 'Billing / Invoice': 'Issues including:\\n- Freight charge error',\n",
       " 'Credits': 'Issues including:\\n- Billed Wrong Account\\n- Credit Inquiry\\n- credit not issued / error\\n- Pass Thru Credit',\n",
       " 'Pricing': 'Issues including:\\n- Product Pricing\\n- Pricing Issue',\n",
       " 'Product Quality': 'Issues including:\\n- Adverse Event\\n- Defective Item\\n- Safety Issue\\n- Suspicious Product',\n",
       " 'Product Inquiry': 'Issues including:\\n- General Product inquiry\\n- Product Availability\\n- Restricted item',\n",
       " 'Claims': '',\n",
       " 'General Inquiry': 'Issues including:\\n- Sales',\n",
       " 'IT Customer Technology Issue': '',\n",
       " 'Program / Promotions': ''}"
      ]
     },
     "execution_count": 55,
     "metadata": {},
     "output_type": "execute_result"
    }
   ],
   "source": [
    "descriptions_dict = descriptions.T.iloc[1:, :].apply(make_description_from_row, axis=1).to_dict()\n",
    "descriptions_dict"
   ]
  },
  {
   "cell_type": "code",
   "execution_count": 56,
   "metadata": {},
   "outputs": [
    {
     "data": {
      "text/plain": [
       "True"
      ]
     },
     "execution_count": 56,
     "metadata": {},
     "output_type": "execute_result"
    }
   ],
   "source": [
    "all([l in descriptions_dict.keys() for l in labels])"
   ]
  },
  {
   "cell_type": "markdown",
   "metadata": {},
   "source": [
    "Define prompt"
   ]
  },
  {
   "cell_type": "code",
   "execution_count": 66,
   "metadata": {},
   "outputs": [],
   "source": [
    "#| export\n",
    "TRAIN_PROMPT_TEMPLATE = \"\"\"Here is an email chain sent to customer service \\\n",
    "and how customer service labeled it for handling, including a description of the label. \n",
    "Summarize the email and explain why the email was labeled the way it was.\n",
    "Do not include any boilerplate content in your summary.\n",
    "Only use information present in the email.\n",
    "Think through your explanation step-by-step.\n",
    "-- EMAIL --\n",
    "{email}\n",
    "-- LABEL --\n",
    "{label}\n",
    "-- LABEL DESCRIPTION --\n",
    "{label_description}\n",
    "-- SUMMARY AND EXPLANATION --\n",
    "\"\"\"\n",
    "\n",
    "TRAIN_PROMPT = PromptTemplate.from_template(TRAIN_PROMPT_TEMPLATE)"
   ]
  },
  {
   "cell_type": "code",
   "execution_count": 67,
   "metadata": {},
   "outputs": [],
   "source": [
    "llm = VertexAI()"
   ]
  },
  {
   "cell_type": "code",
   "execution_count": 101,
   "metadata": {},
   "outputs": [],
   "source": [
    "train_processing_chain = TRAIN_PROMPT | llm"
   ]
  },
  {
   "cell_type": "code",
   "execution_count": 69,
   "metadata": {},
   "outputs": [],
   "source": [
    "#| export\n",
    "def format_email_for_train_summary(\n",
    "        email: Email,\n",
    "        descriptions: Dict[str, str]\n",
    "        ) -> Dict[str, str]:\n",
    "    return {\n",
    "        'email': f'SUBJECT: {email.email_subject}\\nBODY: {email.email_body}',\n",
    "        'label': email.label,\n",
    "        'label_description': descriptions.get(email.label)\n",
    "    }"
   ]
  },
  {
   "cell_type": "code",
   "execution_count": 74,
   "metadata": {},
   "outputs": [
    {
     "name": "stdout",
     "output_type": "stream",
     "text": [
      "Here is an email chain sent to customer service and how customer service labeled it for handling, including a description of the label. \n",
      "Summarize the email and explain why the email was labeled the way it was.\n",
      "Do not include any boilerplate content in your summary.\n",
      "Only use information present in the email.\n",
      "Think through your explanation step-by-step.\n",
      "-- EMAIL --\n",
      "SUBJECT: Equashield latest - FW: EQ II Catalog 2023 - Cardinal Health.xlsx\n",
      "BODY: External Email â€“ Please use caution before opening attachments or clicking links  Let us know if you need anything else.    Regards,  Thomas Everitt Customer Service Representative Office    +1 516 684 8200 / Ext: 220 Mobile  +1 516 398 97 25 Fax          +1 516 684 8202 www.equashield.com<http://www.equashield.com/> [cid:image001.png@01DA0CD9.861376B0] [cid:image002.png@01DA0CD9.861376B0]  From: Pavlina Georgieva <pavlina@equashield.com> Sent: Wednesday, November 1, 2023 3:39 PM To: Thomas Everitt <Thomas.e@equashield.com> Subject: EQ II Catalog 2023 - Cardinal Health.xlsx      Regards,  Pavlina Georgieva Logistics Coordinator Office    +1 516 684 8200 / Ext: 202 Fax          +1 516 684 8202 www.equashield.com<http://www.equashield.com/> [cid:image001.png@01DA0CD9.861376B0] [cid:image002.png@01DA0CD9.861376B0]   ________________________________ Confidentiality Notice: This e-mail message, including any attachments, is for the sole use of the intended recipient(s) and may contain CONFIDENTIAL or PRIVILEGED information. Any unauthorized review, use, disclosure or distribution is prohibited. If you are not the intended recipient, please contact the sender by reply e-mail and immediately destroy all copies of the original message and all attachments.\n",
      "-- LABEL --\n",
      "Order Processing\n",
      "-- LABEL DESCRIPTION --\n",
      "Issues including:\n",
      "- Order Entry\n",
      "- Will Call\n",
      "- Emergency Order\n",
      "- Adjust Order\n",
      "- Shipping Service Change\n",
      "- Cancel Order\n",
      "- Allocation override\n",
      "-- SUMMARY AND EXPLANATION --\n",
      "\n"
     ]
    }
   ],
   "source": [
    "example_train_prompt = TRAIN_PROMPT.format(**format_email_for_train_summary(training_emails[0], descriptions_dict))\n",
    "print(example_train_prompt)"
   ]
  },
  {
   "cell_type": "code",
   "execution_count": 75,
   "metadata": {},
   "outputs": [
    {
     "data": {
      "text/plain": [
       "' The email chain is about sharing a catalog for the year 2023.\\n\\nThe email was labeled as \"Order Processing\" because it contains information about a catalog, which is related to order processing. The catalog is likely used by customers to place orders, and the email is providing an updated version of the catalog to the customer service representative.'"
      ]
     },
     "execution_count": 75,
     "metadata": {},
     "output_type": "execute_result"
    }
   ],
   "source": [
    "llm(example_train_prompt)"
   ]
  },
  {
   "cell_type": "markdown",
   "metadata": {},
   "source": [
    "### Prepare test documents"
   ]
  },
  {
   "cell_type": "code",
   "execution_count": 76,
   "metadata": {},
   "outputs": [
    {
     "data": {
      "text/plain": [
       "600"
      ]
     },
     "execution_count": 76,
     "metadata": {},
     "output_type": "execute_result"
    }
   ],
   "source": [
    "test_emails = list(get_emails_from_frame(\n",
    "    all_emails,\n",
    "    'test',\n",
    "    index_prefix=TEJAS_PREFIX\n",
    "))\n",
    "len(test_emails)"
   ]
  },
  {
   "cell_type": "code",
   "execution_count": 72,
   "metadata": {},
   "outputs": [],
   "source": [
    "#| export\n",
    "TEST_PROMPT_TEMPLATE = \"\"\"Here is an email sent to our customer service department.\n",
    "Summarize it, identifying points of action for customer service if there are any.\n",
    "Do not include any names, company names, addresses or other identifying information.\n",
    "Remove boilerplate. \n",
    "-- EMAIL SUBJECT --\n",
    "{subject}\n",
    "-- EMAIL BODY --\n",
    "{body}\n",
    "-- SUMMARY --\n",
    "\"\"\"\n",
    "\n",
    "TEST_PROMPT = PromptTemplate.from_template(TEST_PROMPT_TEMPLATE)"
   ]
  },
  {
   "cell_type": "code",
   "execution_count": 73,
   "metadata": {},
   "outputs": [],
   "source": [
    "#| export\n",
    "def format_email_for_test_summary(\n",
    "        email: Email,\n",
    "        ) -> Dict[str, str]:\n",
    "    return {\n",
    "        'subject': email.email_subject,\n",
    "        'body': email.email_body,\n",
    "    }"
   ]
  },
  {
   "cell_type": "code",
   "execution_count": 78,
   "metadata": {},
   "outputs": [
    {
     "name": "stdout",
     "output_type": "stream",
     "text": [
      "Here is an email sent to our customer service department.\n",
      "Summarize it, identifying points of action for customer service if there are any.\n",
      "Do not include any names, company names, addresses or other identifying information.\n",
      "Remove boilerplate. \n",
      "-- EMAIL SUBJECT --\n",
      "Need signature AC account\n",
      "-- EMAIL BODY --\n",
      "Good afternoon,  We have received an order from customer 2057194105. They sent unsigned MRA 3901356789. Can you please reach out to the customer and let them know they have 48 hours to send a signed MRA or we will send back the case for no credit.  Thanks,   [cid:image001.png@01D9F52F.5AD273F0]  Tom Coppedge Returns Lead | Warehouse Operations 2840 Elm Pont Industrial Drive St. Charles, MO. 63301    _________________________________________________  This message is for the designated recipient only and may contain privileged, proprietary or otherwise private information. If you have received it in error, please notify the sender immediately and delete the original. Any other use of the email by you is prohibited.  Dansk - Deutsch - Espanol - Francais - Italiano - Japanese - Nederlands - Norsk - Portuguese - Chinese Svenska: http://www.cardinalhealth.com/en/support/terms-and-conditions-english.html\n",
      "-- SUMMARY --\n",
      "\n"
     ]
    }
   ],
   "source": [
    "example_test_prompt = TEST_PROMPT.format(**format_email_for_test_summary(test_emails[0]))\n",
    "print(example_test_prompt)"
   ]
  },
  {
   "cell_type": "code",
   "execution_count": 79,
   "metadata": {},
   "outputs": [
    {
     "data": {
      "text/plain": [
       "' Customer 2057194105 sent an unsigned MRA 3901356789 with their order.\\n\\n**Action:** Customer service should reach out to the customer and inform them that they have 48 hours to send a signed MRA or the case will be returned for no credit.'"
      ]
     },
     "execution_count": 79,
     "metadata": {},
     "output_type": "execute_result"
    }
   ],
   "source": [
    "llm(example_test_prompt)"
   ]
  },
  {
   "cell_type": "markdown",
   "metadata": {},
   "source": [
    "### Process everything"
   ]
  },
  {
   "cell_type": "code",
   "execution_count": null,
   "metadata": {},
   "outputs": [],
   "source": [
    "llm.batch()"
   ]
  },
  {
   "cell_type": "code",
   "execution_count": 107,
   "metadata": {},
   "outputs": [],
   "source": [
    "#| export\n",
    "@quota_handler\n",
    "def batch_predict(prompts: List[Dict[str, str]], chain: RunnableSequence) -> List[str]:\n",
    "    return chain.batch(prompts)"
   ]
  },
  {
   "cell_type": "code",
   "execution_count": 110,
   "metadata": {},
   "outputs": [
    {
     "name": "stderr",
     "output_type": "stream",
     "text": [
      " 62%|████████████████████████▏              | 1485/2400 [45:11<27:48,  1.82s/it]"
     ]
    }
   ],
   "source": [
    "train_summaries = []\n",
    "\n",
    "pbar = tqdm(total=len(training_emails), ncols=80, leave=True)\n",
    "\n",
    "try:\n",
    "    for batch in get_batches(training_emails, 5):\n",
    "        batch_prompts = [format_email_for_train_summary(e, descriptions_dict) for e in batch]\n",
    "        train_summaries.extend(batch_predict(batch_prompts, train_processing_chain))\n",
    "        pbar.update(len(batch))\n",
    "except:\n",
    "    pass\n",
    "finally:\n",
    "    pbar.close()\n",
    "\n",
    "len(train_summaries) == len(training_emails)"
   ]
  },
  {
   "cell_type": "markdown",
   "metadata": {},
   "source": [
    "## Export"
   ]
  },
  {
   "cell_type": "code",
   "execution_count": null,
   "metadata": {},
   "outputs": [],
   "source": [
    "import nbdev; nbdev.nbdev_export()"
   ]
  }
 ],
 "metadata": {
  "kernelspec": {
   "display_name": ".venv",
   "language": "python",
   "name": "python3"
  },
  "language_info": {
   "codemirror_mode": {
    "name": "ipython",
    "version": 3
   },
   "file_extension": ".py",
   "mimetype": "text/x-python",
   "name": "python",
   "nbconvert_exporter": "python",
   "pygments_lexer": "ipython3",
   "version": "3.11.4"
  }
 },
 "nbformat": 4,
 "nbformat_minor": 2
}
