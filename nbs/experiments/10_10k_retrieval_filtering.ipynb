{
 "cells": [
  {
   "cell_type": "markdown",
   "metadata": {},
   "source": [
    "# 10k retrieval filtering, 2-step prediction\n",
    "\n",
    "> Sample size up to 10k, create two-step prediction chain"
   ]
  },
  {
   "cell_type": "code",
   "execution_count": 1,
   "metadata": {},
   "outputs": [],
   "source": [
    "#| default_exp experiments.retrieval_filtering"
   ]
  },
  {
   "cell_type": "code",
   "execution_count": 91,
   "metadata": {},
   "outputs": [],
   "source": [
    "#| export\n",
    "from typing import Dict, List\n",
    "from pathlib import Path\n",
    "import os\n",
    "\n",
    "import numpy as np\n",
    "import pandas as pd\n",
    "from tqdm import tqdm\n",
    "from sklearn import metrics, model_selection\n",
    "\n",
    "from langchain.schema import Document\n",
    "from langchain.prompts import PromptTemplate\n",
    "from langchain.schema.runnable import RunnableSequence\n",
    "from langchain.llms import VertexAI\n",
    "from langchain.vectorstores import Chroma\n",
    "from langchain.document_loaders import DataFrameLoader\n",
    "from langchain.output_parsers import CommaSeparatedListOutputParser\n",
    "\n",
    "from classifier.schema import WRITE_PREFIX, PROJECT_BUCKET\n",
    "from classifier.load import Email, get_batches, get_emails_from_frame, \\\n",
    "    get_raw_emails, email_small_enough\n",
    "from classifier.chroma import get_or_make_chroma\n",
    "from classifier.predict import write_predictions\n",
    "from classifier.experiments.split_processing import \\\n",
    "    format_email_for_train_summary, \\\n",
    "    format_email_for_test_summary, \\\n",
    "    make_description_from_row, batch_predict, \\\n",
    "    TRAIN_PROMPT, TEST_PROMPT\n",
    "\n",
    "# GRPC requires this\n",
    "os.environ[\"GRPC_DNS_RESOLVER\"] = \"native\"\n",
    "EXPERIMENT_PREFIX = \"retrieval_filtering\"\n",
    "EXPERIMENT_WRITE_PREFIX = WRITE_PREFIX + \"/\" + EXPERIMENT_PREFIX"
   ]
  },
  {
   "cell_type": "code",
   "execution_count": 3,
   "metadata": {},
   "outputs": [],
   "source": [
    "data_dir = Path(\"../../data\")\n",
    "assert data_dir.exists()\n",
    "experiment_dir = data_dir / EXPERIMENT_PREFIX\n",
    "if not experiment_dir.exists():\n",
    "    experiment_dir.mkdir()"
   ]
  },
  {
   "cell_type": "markdown",
   "metadata": {},
   "source": [
    "Make sure you're authenticated with google cloud before running this notebook."
   ]
  },
  {
   "cell_type": "markdown",
   "metadata": {},
   "source": [
    "## Sample"
   ]
  },
  {
   "cell_type": "code",
   "execution_count": 4,
   "metadata": {},
   "outputs": [],
   "source": [
    "all_emails = get_raw_emails()"
   ]
  },
  {
   "cell_type": "code",
   "execution_count": 5,
   "metadata": {},
   "outputs": [
    {
     "data": {
      "text/plain": [
       "True     56096\n",
       "False     1141\n",
       "Name: count, dtype: int64"
      ]
     },
     "execution_count": 5,
     "metadata": {},
     "output_type": "execute_result"
    }
   ],
   "source": [
    "size_mask = all_emails.apply(\n",
    "    lambda row: email_small_enough(\n",
    "        row.email_subject,\n",
    "        row.email_body\n",
    "    ), axis=1)\n",
    "size_mask.value_counts()"
   ]
  },
  {
   "cell_type": "markdown",
   "metadata": {},
   "source": [
    "Filter on size"
   ]
  },
  {
   "cell_type": "code",
   "execution_count": 6,
   "metadata": {},
   "outputs": [
    {
     "data": {
      "text/plain": [
       "56096"
      ]
     },
     "execution_count": 6,
     "metadata": {},
     "output_type": "execute_result"
    }
   ],
   "source": [
    "all_emails_filtered = all_emails[size_mask]\n",
    "all_emails_filtered.shape[0]"
   ]
  },
  {
   "cell_type": "code",
   "execution_count": 7,
   "metadata": {},
   "outputs": [
    {
     "data": {
      "text/html": [
       "<div>\n",
       "<style scoped>\n",
       "    .dataframe tbody tr th:only-of-type {\n",
       "        vertical-align: middle;\n",
       "    }\n",
       "\n",
       "    .dataframe tbody tr th {\n",
       "        vertical-align: top;\n",
       "    }\n",
       "\n",
       "    .dataframe thead th {\n",
       "        text-align: right;\n",
       "    }\n",
       "</style>\n",
       "<table border=\"1\" class=\"dataframe\">\n",
       "  <thead>\n",
       "    <tr style=\"text-align: right;\">\n",
       "      <th></th>\n",
       "      <th>BU</th>\n",
       "      <th>case_number</th>\n",
       "      <th>ACCOUNT_BUSINESS_UNIT__C</th>\n",
       "      <th>received_at</th>\n",
       "      <th>sfdc_category</th>\n",
       "      <th>sfdc_subcategory</th>\n",
       "      <th>predicted_category</th>\n",
       "      <th>predicted_subcategory</th>\n",
       "      <th>record_type</th>\n",
       "      <th>probability</th>\n",
       "      <th>Accuracy_upd</th>\n",
       "      <th>Bin</th>\n",
       "      <th>email_subject</th>\n",
       "      <th>email_body</th>\n",
       "    </tr>\n",
       "  </thead>\n",
       "  <tbody>\n",
       "    <tr>\n",
       "      <th>0</th>\n",
       "      <td>SPD</td>\n",
       "      <td>3469839</td>\n",
       "      <td>NaN</td>\n",
       "      <td>2023-09-11T13:22:32</td>\n",
       "      <td>Order Processing</td>\n",
       "      <td>Order Entry</td>\n",
       "      <td>Order Processing</td>\n",
       "      <td>NaN</td>\n",
       "      <td>2</td>\n",
       "      <td>0.876806</td>\n",
       "      <td>Correct</td>\n",
       "      <td>8</td>\n",
       "      <td>PO# 7004014842 || Walgreens Store 16422 || Ohi...</td>\n",
       "      <td>External Email â€“ Please use caution before o...</td>\n",
       "    </tr>\n",
       "    <tr>\n",
       "      <th>2</th>\n",
       "      <td>PD</td>\n",
       "      <td>3469842</td>\n",
       "      <td>a1G4z00000H4uvREAR</td>\n",
       "      <td>2023-09-11T13:22:43</td>\n",
       "      <td>Order Processing</td>\n",
       "      <td>Order Entry</td>\n",
       "      <td>General Inquiry</td>\n",
       "      <td>NaN</td>\n",
       "      <td>1</td>\n",
       "      <td>0.838036</td>\n",
       "      <td>Incorrect</td>\n",
       "      <td>8</td>\n",
       "      <td>Purchase Order #65398</td>\n",
       "      <td>External Email â€“ Please use caution before o...</td>\n",
       "    </tr>\n",
       "  </tbody>\n",
       "</table>\n",
       "</div>"
      ],
      "text/plain": [
       "    BU  case_number ACCOUNT_BUSINESS_UNIT__C          received_at  \\\n",
       "0  SPD      3469839                      NaN  2023-09-11T13:22:32   \n",
       "2   PD      3469842       a1G4z00000H4uvREAR  2023-09-11T13:22:43   \n",
       "\n",
       "      sfdc_category sfdc_subcategory predicted_category predicted_subcategory  \\\n",
       "0  Order Processing      Order Entry   Order Processing                   NaN   \n",
       "2  Order Processing      Order Entry    General Inquiry                   NaN   \n",
       "\n",
       "   record_type  probability Accuracy_upd  Bin  \\\n",
       "0            2     0.876806      Correct    8   \n",
       "2            1     0.838036    Incorrect    8   \n",
       "\n",
       "                                       email_subject  \\\n",
       "0  PO# 7004014842 || Walgreens Store 16422 || Ohi...   \n",
       "2                              Purchase Order #65398   \n",
       "\n",
       "                                          email_body  \n",
       "0  External Email â€“ Please use caution before o...  \n",
       "2  External Email â€“ Please use caution before o...  "
      ]
     },
     "execution_count": 7,
     "metadata": {},
     "output_type": "execute_result"
    }
   ],
   "source": [
    "all_emails_filtered.head(2)"
   ]
  },
  {
   "cell_type": "markdown",
   "metadata": {},
   "source": [
    "Train Test Split"
   ]
  },
  {
   "cell_type": "code",
   "execution_count": 8,
   "metadata": {},
   "outputs": [],
   "source": [
    "train_idx, test_idx = model_selection.train_test_split(\n",
    "    all_emails_filtered.index.values,\n",
    "    test_size=2000,\n",
    "    train_size=8000,\n",
    "    stratify=all_emails_filtered.sfdc_category)"
   ]
  },
  {
   "cell_type": "code",
   "execution_count": 9,
   "metadata": {},
   "outputs": [
    {
     "data": {
      "text/plain": [
       "(sfdc_category\n",
       " Account/Inquiry         1712\n",
       " Billing / Invoice        316\n",
       " Credits                  128\n",
       " Delivery                 258\n",
       " General Inquiry          770\n",
       " Order Discrepancy        552\n",
       " Order Processing        3235\n",
       " Pricing                   33\n",
       " Product Inquiry          426\n",
       " Program / Promotions      34\n",
       " Returns                  536\n",
       " Name: count, dtype: int64,\n",
       " sfdc_category\n",
       " Account/Inquiry         428\n",
       " Billing / Invoice        79\n",
       " Credits                  32\n",
       " Delivery                 65\n",
       " General Inquiry         193\n",
       " Order Discrepancy       138\n",
       " Order Processing        809\n",
       " Pricing                   8\n",
       " Product Inquiry         106\n",
       " Program / Promotions      8\n",
       " Returns                 134\n",
       " Name: count, dtype: int64)"
      ]
     },
     "execution_count": 9,
     "metadata": {},
     "output_type": "execute_result"
    }
   ],
   "source": [
    "all_emails_filtered.loc[train_idx, 'sfdc_category'].value_counts().sort_index(),\\\n",
    "all_emails_filtered.loc[test_idx, 'sfdc_category'].value_counts().sort_index()"
   ]
  },
  {
   "cell_type": "code",
   "execution_count": 10,
   "metadata": {},
   "outputs": [],
   "source": [
    "# write_idx(\n",
    "#     pd.Index(train_idx),\n",
    "#     pd.Index(test_idx),\n",
    "#     prefix=EXPERIMENT_WRITE_PREFIX\n",
    "# )"
   ]
  },
  {
   "cell_type": "markdown",
   "metadata": {},
   "source": [
    "## Process"
   ]
  },
  {
   "cell_type": "code",
   "execution_count": 11,
   "metadata": {},
   "outputs": [
    {
     "data": {
      "text/plain": [
       "8000"
      ]
     },
     "execution_count": 11,
     "metadata": {},
     "output_type": "execute_result"
    }
   ],
   "source": [
    "training_emails = list(get_emails_from_frame(\n",
    "    get_raw_emails(),\n",
    "    'train',\n",
    "    index_prefix=EXPERIMENT_WRITE_PREFIX\n",
    "))\n",
    "len(training_emails)"
   ]
  },
  {
   "cell_type": "markdown",
   "metadata": {},
   "source": [
    "Load label descriptions"
   ]
  },
  {
   "cell_type": "code",
   "execution_count": 12,
   "metadata": {},
   "outputs": [],
   "source": [
    "descriptions_path = data_dir / 'labels.xlsx'\n",
    "assert descriptions_path.exists()"
   ]
  },
  {
   "cell_type": "code",
   "execution_count": 13,
   "metadata": {},
   "outputs": [],
   "source": [
    "descriptions = pd.read_excel(descriptions_path).map(lambda s: s.strip() if isinstance(s, str) else s)\n",
    "descriptions_dict = descriptions.T.iloc[1:, :].apply(make_description_from_row, axis=1).to_dict()"
   ]
  },
  {
   "cell_type": "markdown",
   "metadata": {},
   "source": [
    "Process training data"
   ]
  },
  {
   "cell_type": "code",
   "execution_count": 14,
   "metadata": {},
   "outputs": [],
   "source": [
    "train_processing_chain = TRAIN_PROMPT | VertexAI()"
   ]
  },
  {
   "cell_type": "code",
   "execution_count": 15,
   "metadata": {},
   "outputs": [],
   "source": [
    "# # Takes about 2.25 hours\n",
    "# train_summaries = []\n",
    "\n",
    "# pbar = tqdm(total=len(training_emails), ncols=80, leave=True)\n",
    "\n",
    "# try:\n",
    "#     for batch in get_batches(training_emails, 5):\n",
    "#         batch_prompts = [format_email_for_train_summary(e, descriptions_dict) for e in batch]\n",
    "#         train_summaries.extend(batch_predict(batch_prompts, train_processing_chain))\n",
    "#         pbar.update(len(batch))\n",
    "# except:\n",
    "#     pass\n",
    "# finally:\n",
    "#     pbar.close()\n",
    "\n",
    "# len(train_summaries) == len(training_emails)"
   ]
  },
  {
   "cell_type": "code",
   "execution_count": 16,
   "metadata": {},
   "outputs": [],
   "source": [
    "# train_summary_df = pd.DataFrame(\n",
    "#     zip(\n",
    "#         train_summaries,\n",
    "#         [t.idx for t in training_emails],\n",
    "#         [t.label for t in training_emails]\n",
    "#     ),\n",
    "#     columns=['summary', 'idx', 'label']\n",
    "# )\n",
    "# train_summary_df.to_csv(\n",
    "#     f'gs://{PROJECT_BUCKET}/{EXPERIMENT_WRITE_PREFIX}/split_train_summaries.csv', \n",
    "#     index=False)"
   ]
  },
  {
   "cell_type": "code",
   "execution_count": 17,
   "metadata": {},
   "outputs": [],
   "source": [
    "train_summary_df = pd.read_csv(f'gs://{PROJECT_BUCKET}/{EXPERIMENT_WRITE_PREFIX}/split_train_summaries.csv')"
   ]
  },
  {
   "cell_type": "code",
   "execution_count": 18,
   "metadata": {},
   "outputs": [
    {
     "data": {
      "text/html": [
       "<div>\n",
       "<style scoped>\n",
       "    .dataframe tbody tr th:only-of-type {\n",
       "        vertical-align: middle;\n",
       "    }\n",
       "\n",
       "    .dataframe tbody tr th {\n",
       "        vertical-align: top;\n",
       "    }\n",
       "\n",
       "    .dataframe thead th {\n",
       "        text-align: right;\n",
       "    }\n",
       "</style>\n",
       "<table border=\"1\" class=\"dataframe\">\n",
       "  <thead>\n",
       "    <tr style=\"text-align: right;\">\n",
       "      <th></th>\n",
       "      <th>summary</th>\n",
       "      <th>idx</th>\n",
       "      <th>label</th>\n",
       "    </tr>\n",
       "  </thead>\n",
       "  <tbody>\n",
       "    <tr>\n",
       "      <th>0</th>\n",
       "      <td>**Summary**\\nThe email is about a new purchas...</td>\n",
       "      <td>40220</td>\n",
       "      <td>Order Processing</td>\n",
       "    </tr>\n",
       "    <tr>\n",
       "      <th>1</th>\n",
       "      <td>**Summary:**\\nBarbara Conley, an OS&amp;D Analyst...</td>\n",
       "      <td>19920</td>\n",
       "      <td>Credits</td>\n",
       "    </tr>\n",
       "  </tbody>\n",
       "</table>\n",
       "</div>"
      ],
      "text/plain": [
       "                                             summary    idx             label\n",
       "0   **Summary**\\nThe email is about a new purchas...  40220  Order Processing\n",
       "1   **Summary:**\\nBarbara Conley, an OS&D Analyst...  19920           Credits"
      ]
     },
     "execution_count": 18,
     "metadata": {},
     "output_type": "execute_result"
    }
   ],
   "source": [
    "train_summary_df.head(2)"
   ]
  },
  {
   "cell_type": "markdown",
   "metadata": {},
   "source": [
    "Process test data"
   ]
  },
  {
   "cell_type": "code",
   "execution_count": 19,
   "metadata": {},
   "outputs": [
    {
     "data": {
      "text/plain": [
       "2000"
      ]
     },
     "execution_count": 19,
     "metadata": {},
     "output_type": "execute_result"
    }
   ],
   "source": [
    "test_emails = list(get_emails_from_frame(\n",
    "    get_raw_emails(),\n",
    "    'test',\n",
    "    index_prefix=EXPERIMENT_WRITE_PREFIX\n",
    "))\n",
    "len(test_emails)"
   ]
  },
  {
   "cell_type": "code",
   "execution_count": 20,
   "metadata": {},
   "outputs": [],
   "source": [
    "test_processing_chain = TEST_PROMPT | VertexAI()"
   ]
  },
  {
   "cell_type": "code",
   "execution_count": 21,
   "metadata": {},
   "outputs": [],
   "source": [
    "# # Takes about ~15 minutes\n",
    "# test_summaries = []\n",
    "\n",
    "# pbar = tqdm(total=len(test_emails), ncols=80, leave=True)\n",
    "\n",
    "# try:\n",
    "#     for batch in get_batches(test_emails, 5):\n",
    "#         batch_prompts = [format_email_for_test_summary(e) for e in batch]\n",
    "#         test_summaries.extend(batch_predict(batch_prompts, test_processing_chain))\n",
    "#         pbar.update(len(batch))\n",
    "# except:\n",
    "#     pass\n",
    "# finally:\n",
    "#     pbar.close()\n",
    "\n",
    "# len(test_summaries) == len(test_emails)"
   ]
  },
  {
   "cell_type": "code",
   "execution_count": 22,
   "metadata": {},
   "outputs": [],
   "source": [
    "# test_summary_df = pd.DataFrame(\n",
    "#     zip(\n",
    "#         test_summaries,\n",
    "#         [t.idx for t in test_emails],\n",
    "#         [t.label for t in test_emails]\n",
    "#     ),\n",
    "#     columns=['summary', 'idx', 'label']\n",
    "# )\n",
    "# test_summary_df.to_csv(\n",
    "#     f'gs://{PROJECT_BUCKET}/{EXPERIMENT_WRITE_PREFIX}/split_test_summaries.csv', \n",
    "#     index=False)"
   ]
  },
  {
   "cell_type": "code",
   "execution_count": 23,
   "metadata": {},
   "outputs": [],
   "source": [
    "test_summary_df = pd.read_csv(f'gs://{PROJECT_BUCKET}/{EXPERIMENT_WRITE_PREFIX}/split_test_summaries.csv')"
   ]
  },
  {
   "cell_type": "code",
   "execution_count": 24,
   "metadata": {},
   "outputs": [
    {
     "data": {
      "text/html": [
       "<div>\n",
       "<style scoped>\n",
       "    .dataframe tbody tr th:only-of-type {\n",
       "        vertical-align: middle;\n",
       "    }\n",
       "\n",
       "    .dataframe tbody tr th {\n",
       "        vertical-align: top;\n",
       "    }\n",
       "\n",
       "    .dataframe thead th {\n",
       "        text-align: right;\n",
       "    }\n",
       "</style>\n",
       "<table border=\"1\" class=\"dataframe\">\n",
       "  <thead>\n",
       "    <tr style=\"text-align: right;\">\n",
       "      <th></th>\n",
       "      <th>summary</th>\n",
       "      <th>idx</th>\n",
       "      <th>label</th>\n",
       "    </tr>\n",
       "  </thead>\n",
       "  <tbody>\n",
       "    <tr>\n",
       "      <th>0</th>\n",
       "      <td>A new purchase order (PO) 6600004025 has been...</td>\n",
       "      <td>35311</td>\n",
       "      <td>Order Processing</td>\n",
       "    </tr>\n",
       "    <tr>\n",
       "      <th>1</th>\n",
       "      <td>A fax was received from 7183538134 on 10/31/2...</td>\n",
       "      <td>30312</td>\n",
       "      <td>Delivery</td>\n",
       "    </tr>\n",
       "  </tbody>\n",
       "</table>\n",
       "</div>"
      ],
      "text/plain": [
       "                                             summary    idx             label\n",
       "0   A new purchase order (PO) 6600004025 has been...  35311  Order Processing\n",
       "1   A fax was received from 7183538134 on 10/31/2...  30312          Delivery"
      ]
     },
     "execution_count": 24,
     "metadata": {},
     "output_type": "execute_result"
    }
   ],
   "source": [
    "test_summary_df.head(2)"
   ]
  },
  {
   "cell_type": "markdown",
   "metadata": {},
   "source": [
    "## Vectorstore"
   ]
  },
  {
   "cell_type": "markdown",
   "metadata": {},
   "source": [
    "Add to chroma"
   ]
  },
  {
   "cell_type": "code",
   "execution_count": 63,
   "metadata": {},
   "outputs": [
    {
     "data": {
      "text/plain": [
       "8000"
      ]
     },
     "execution_count": 63,
     "metadata": {},
     "output_type": "execute_result"
    }
   ],
   "source": [
    "chroma_documents = DataFrameLoader(\n",
    "    train_summary_df,\n",
    "    page_content_column='summary').load()\n",
    "len(chroma_documents)"
   ]
  },
  {
   "cell_type": "code",
   "execution_count": 64,
   "metadata": {},
   "outputs": [],
   "source": [
    "# Should take about 5 minutes initially\n",
    "chroma = get_or_make_chroma(\n",
    "    data_dir=experiment_dir,\n",
    "    documents=chroma_documents\n",
    ")"
   ]
  },
  {
   "cell_type": "markdown",
   "metadata": {},
   "source": [
    "## Prediction (2-step)\n",
    "\n",
    "1. Get initial prediction, \"top 3\" of available categories, with descriptions"
   ]
  },
  {
   "cell_type": "code",
   "execution_count": 66,
   "metadata": {},
   "outputs": [],
   "source": [
    "descriptions_path = data_dir / 'labels.xlsx'\n",
    "assert descriptions_path.exists()\n",
    "\n",
    "descriptions = pd.read_excel(descriptions_path).map(lambda s: s.strip() if isinstance(s, str) else s)\n",
    "descriptions_dict = descriptions.T.iloc[1:, :].apply(make_description_from_row, axis=1).to_dict()"
   ]
  },
  {
   "cell_type": "code",
   "execution_count": 76,
   "metadata": {},
   "outputs": [
    {
     "name": "stdout",
     "output_type": "stream",
     "text": [
      "||Account/Inquiry||\n",
      "issues including:\n",
      "- new account set up\n",
      "- licensing\n",
      "- account updates\n",
      "||Order Processing||\n",
      "issues including:\n",
      "- order entry\n",
      "- will call\n",
      "- emergency order\n",
      "- adjust order\n",
      "- shipping service change\n",
      "- cancel order\n",
      "- allocation override\n",
      "||Delivery||\n",
      "issues including:\n",
      "- refused delivery\n",
      "- deliver/ carrier issue\n",
      "- missing/ mis-routed tote\n",
      "||Order Discrepancy||\n",
      "issues including:\n",
      "- keying error\n",
      "- wrong item shipped\n",
      "- miss label\n",
      "- overage\n",
      "- partial carton\n",
      "- product excursions\n",
      "- shipped short dated product\n",
      "- shortage\n",
      "||Returns||\n",
      "issues including:\n",
      "- customer order error\n",
      "- damage\n",
      "- expired product\n",
      "- flu return\n",
      "- overstock\n",
      "- product description not clear\n",
      "- recall\n",
      "- shipping label/rtn\n",
      "- short dated product\n",
      "- unauthorized return\n",
      "||Billing / Invoice||\n",
      "issues including:\n",
      "- freight charge error\n",
      "||Credits||\n",
      "issues including:\n",
      "- billed wrong account\n",
      "- credit inquiry\n",
      "- credit not issued / error\n",
      "- pass thru credit\n",
      "||Pricing||\n",
      "issues including:\n",
      "- product pricing\n",
      "- pricing issue\n",
      "||Product Quality||\n",
      "issues including:\n",
      "- adverse event\n",
      "- defective item\n",
      "- safety issue\n",
      "- suspicious product\n",
      "||Product Inquiry||\n",
      "issues including:\n",
      "- general product inquiry\n",
      "- product availability\n",
      "- restricted item\n",
      "||Claims||\n",
      "\n",
      "||General Inquiry||\n",
      "issues including:\n",
      "- sales\n",
      "||IT Customer Technology Issue||\n",
      "\n",
      "||Program / Promotions||\n",
      "\n"
     ]
    }
   ],
   "source": [
    "categories_str = \"\\n\".join([f\"||{k}||\\n{v.lower().strip()}\" for k, v in descriptions_dict.items()])\n",
    "print(categories_str)"
   ]
  },
  {
   "cell_type": "code",
   "execution_count": 87,
   "metadata": {},
   "outputs": [],
   "source": [
    "#| export\n",
    "TOP_3_PROMPT_TEMPLATE = \"\"\"Below is a summary of an email sent to our customer service department. \n",
    "Here is a list of categories and their descriptions we would like to label this email with. \n",
    "Of the options in this list, choose your 3 likeliest labels for the following email. \n",
    "Only return the categories you choose as a comma-separated list, not their descriptions (the labels surrounded by '||').\n",
    "-- CATEGORIES --\n",
    "{categories}\n",
    "-- EMAIL --\n",
    "{email}\n",
    "-- TOP 3 LIKELIEST LABELS --\n",
    "\"\"\"\n",
    "\n",
    "TOP_3_PROMPT = PromptTemplate.from_template(TOP_3_PROMPT_TEMPLATE)"
   ]
  },
  {
   "cell_type": "code",
   "execution_count": 89,
   "metadata": {},
   "outputs": [],
   "source": [
    "step_1_chain = TOP_3_PROMPT | VertexAI() | CommaSeparatedListOutputParser()"
   ]
  },
  {
   "cell_type": "code",
   "execution_count": 96,
   "metadata": {},
   "outputs": [],
   "source": [
    "test_summary = test_summary_df.iloc[0, :].summary"
   ]
  },
  {
   "cell_type": "code",
   "execution_count": 97,
   "metadata": {},
   "outputs": [
    {
     "data": {
      "text/plain": [
       "['Order Processing', 'Account/Inquiry', 'General Inquiry']"
      ]
     },
     "execution_count": 97,
     "metadata": {},
     "output_type": "execute_result"
    }
   ],
   "source": [
    "example_step_1_answer = step_1_chain.invoke({\n",
    "    'categories': categories_str,\n",
    "    'email': test_summary\n",
    "})\n",
    "example_step_1_answer"
   ]
  },
  {
   "cell_type": "markdown",
   "metadata": {},
   "source": [
    "2. Get 3 most similar examples from the top 3 categories from chroma"
   ]
  },
  {
   "cell_type": "code",
   "execution_count": 98,
   "metadata": {},
   "outputs": [
    {
     "data": {
      "text/plain": [
       "[Document(page_content=' **Summary**\\nThe email is about a new purchase order (PO) 6600005050 from CVS Caremark SpecialtyRx.\\n\\n**Explanation**\\n- The subject line of the email indicates that the email is about a new PO from CVS Caremark SpecialtyRx.\\n- The body of the email contains the PO number 6600005050.\\n- The email is labeled as \"Order Processing\" because it is about a new order.', metadata={'idx': 47696, 'label': 'Order Processing'}),\n",
       " Document(page_content=' **Summary**\\nThe email is about a new purchase order (PO) from CVS Caremark SpecialtyRx.\\n\\n**Explanation**\\n- The subject line indicates that the email is about a new PO from CVS Caremark SpecialtyRx.\\n- The body of the email contains the PO number, which is 6600002445.\\n- The email is labeled as \"Order Processing\" because it is about a new PO. The label \"Order Processing\" is used for issues related to order entry, will call, emergency orders, adjusting orders, shipping service changes, canceling orders, and allocation overrides. The', metadata={'idx': 15993, 'label': 'Order Processing'}),\n",
       " Document(page_content=' **Summary**\\nThe email is about a new purchase order (PO) from CVS Caremark SpecialtyRx.\\n\\n**Explanation**\\n- The subject line indicates that the email is about a new PO from CVS Caremark SpecialtyRx.\\n- The body of the email contains the PO number, which is 6600004023.\\n- The email is labeled as \"Order Processing\" because it is about a new PO. The label \"Order Processing\" is used for issues related to order entry, will call, emergency orders, adjusting orders, shipping service changes, canceling orders, and allocation overrides. The', metadata={'idx': 35312, 'label': 'Order Processing'})]"
      ]
     },
     "execution_count": 98,
     "metadata": {},
     "output_type": "execute_result"
    }
   ],
   "source": [
    "chroma.similarity_search(\n",
    "    test_summary, \n",
    "    filter={'label': \"Order Processing\"},\n",
    "    k=3)"
   ]
  },
  {
   "cell_type": "code",
   "execution_count": 102,
   "metadata": {},
   "outputs": [],
   "source": [
    "#| export\n",
    "def get_label_filtered_documents(\n",
    "        query: str,\n",
    "        labels: List[str],\n",
    "        chroma: Chroma,\n",
    "        k: int = 3\n",
    "        ) -> Dict[str, List[Document]]:\n",
    "    documents = {}\n",
    "    for l in labels:\n",
    "        label_documents = chroma.similarity_search(\n",
    "            query,\n",
    "            filter={'label': l},\n",
    "            k=k\n",
    "        )\n",
    "        documents[l] = label_documents\n",
    "    return documents"
   ]
  },
  {
   "cell_type": "code",
   "execution_count": 103,
   "metadata": {},
   "outputs": [
    {
     "data": {
      "text/plain": [
       "{'Order Processing': [Document(page_content=' **Summary**\\nThe email is about a new purchase order (PO) 6600005050 from CVS Caremark SpecialtyRx.\\n\\n**Explanation**\\n- The subject line of the email indicates that the email is about a new PO from CVS Caremark SpecialtyRx.\\n- The body of the email contains the PO number 6600005050.\\n- The email is labeled as \"Order Processing\" because it is about a new order.', metadata={'idx': 47696, 'label': 'Order Processing'}),\n",
       "  Document(page_content=' **Summary**\\nThe email is about a new purchase order (PO) from CVS Caremark SpecialtyRx.\\n\\n**Explanation**\\n- The subject line indicates that the email is about a new PO from CVS Caremark SpecialtyRx.\\n- The body of the email contains the PO number, which is 6600002445.\\n- The email is labeled as \"Order Processing\" because it is about a new PO. The label \"Order Processing\" is used for issues related to order entry, will call, emergency orders, adjusting orders, shipping service changes, canceling orders, and allocation overrides. The', metadata={'idx': 15993, 'label': 'Order Processing'}),\n",
       "  Document(page_content=' **Summary**\\nThe email is about a new purchase order (PO) from CVS Caremark SpecialtyRx.\\n\\n**Explanation**\\n- The subject line indicates that the email is about a new PO from CVS Caremark SpecialtyRx.\\n- The body of the email contains the PO number, which is 6600004023.\\n- The email is labeled as \"Order Processing\" because it is about a new PO. The label \"Order Processing\" is used for issues related to order entry, will call, emergency orders, adjusting orders, shipping service changes, canceling orders, and allocation overrides. The', metadata={'idx': 35312, 'label': 'Order Processing'})],\n",
       " 'Account/Inquiry': [Document(page_content=' The email chain is about a purchase order (PO-1001585573) from The Ohio State University Veterinary Medical Center. The customer service team at Cardinal Health is unable to assist with the customer\\'s request because they do not have access to Pharma-Segment account numbers. The customer is advised to contact the customer directly for further information.\\n\\nThe email is labeled as \"Account/Inquiry\" because it involves an inquiry about an account number, which falls under the category of account-related issues.', metadata={'idx': 40774, 'label': 'Account/Inquiry'}),\n",
       "  Document(page_content=' **Summary**\\nJasmine Rx Inc. received a request from CVS to conduct an inventory audit of their pharmacy. They are requesting a purchase report to be sent to CVS and a copy to be sent to their email without pricing information.\\n\\n**Explanation**\\nThe email is labeled as \"Account/Inquiry\" because it is a request for information related to an existing account. The email does not mention any issues with the account, so it is not labeled as a \"Problem/Issue.\" The email also does not mention any requests for new services or products, so it is not labeled as a \"Request/Order.\"', metadata={'idx': 36188, 'label': 'Account/Inquiry'}),\n",
       "  Document(page_content=' The email is about a request for a packing slip for a purchase order (PO). The customer, Danish Arshad, from Express Scripts, needs a copy of the packing slip for PO B0907008715083. He also provides the invoice number (7322605814), hospital name (Ampla Health), delivery number (2043571217), and customer number (2150418351).\\n\\nThe email was labeled as \"Account/Inquiry\" because it is related to an existing account and a specific', metadata={'idx': 2852, 'label': 'Account/Inquiry'})],\n",
       " 'General Inquiry': [Document(page_content=' The email is about a purchase order (PO #34170) from Urology of Virginia to Cardinal Specialty Pharmacy. The email includes a link to accept the purchase order and contact information for Lynne Scolieri and Melissa Carter at Urology of Virginia in case of any questions.\\n\\nThe email was labeled as a \"General Inquiry\" because it does not fit into any of the other specific categories for customer service handling. The email is not a complaint, a request for technical support, or a request for information about a product or service. Instead, it is a general inquiry about a purchase order.', metadata={'idx': 22479, 'label': 'General Inquiry'}),\n",
       "  Document(page_content=' The email is about a purchase order (PO #34079) from Urology of Virginia to Cardinal Specialty Pharmacy. The email includes a link to accept the purchase order and contact information for Melissa Carter at Urology of Virginia in case of any questions.\\n\\nThe email was labeled as a \"General Inquiry\" because it does not fit into any of the other specific categories for customer service handling. The email is not a complaint, a request for technical support, or a request for information about a product or service. Instead, it is a general inquiry about a purchase order.', metadata={'idx': 9770, 'label': 'General Inquiry'}),\n",
       "  Document(page_content=' **Summary**\\nPamela Thompson from Kroger Health sent an email to customer service requesting an order for Ocrevus 300Mg/10mL SDV and provided the PO number, order number, and contact information.\\n\\n**Explanation**\\n- The email is about placing an order.\\n- There are no specific issues or problems mentioned in the email.\\n- The email does not require immediate attention or follow-up.\\n- The email is labeled as a \"General Inquiry\" because it is a general request for information or assistance.', metadata={'idx': 47783, 'label': 'General Inquiry'})]}"
      ]
     },
     "execution_count": 103,
     "metadata": {},
     "output_type": "execute_result"
    }
   ],
   "source": [
    "example_filtered_documents = get_label_filtered_documents(\n",
    "    query=test_summary,\n",
    "    labels=example_step_1_answer,\n",
    "    chroma=chroma\n",
    ")\n",
    "example_filtered_documents"
   ]
  },
  {
   "cell_type": "markdown",
   "metadata": {},
   "source": [
    "3. Get final prediction"
   ]
  },
  {
   "cell_type": "code",
   "execution_count": 104,
   "metadata": {},
   "outputs": [],
   "source": [
    "#| export\n",
    "PREDICTION_TEMPLATE = \"\"\"Below is a summary of an email sent to our customer service department.\n",
    "We believe the email to belong to one of the following categories;\n",
    "{categories}\n",
    "\n",
    "Here are some similar examples for each category.\n",
    "Compare and contract the examples to the email and decide which of the categories it belongs to.\n",
    "-- EXAMPLES --\n",
    "{examples}\n",
    "\n",
    "-- EMAIL --\n",
    "{email}\n",
    "\n",
    "-- CATEGORY --\n",
    "\"\"\"\n",
    "\n",
    "PREDICTION_PROMPT = PromptTemplate.from_template(PREDICTION_TEMPLATE)"
   ]
  },
  {
   "cell_type": "code",
   "execution_count": null,
   "metadata": {},
   "outputs": [],
   "source": []
  },
  {
   "cell_type": "markdown",
   "metadata": {},
   "source": [
    "## Evaluation"
   ]
  },
  {
   "cell_type": "code",
   "execution_count": null,
   "metadata": {},
   "outputs": [],
   "source": []
  },
  {
   "cell_type": "markdown",
   "metadata": {},
   "source": [
    "## Export"
   ]
  },
  {
   "cell_type": "code",
   "execution_count": 105,
   "metadata": {},
   "outputs": [],
   "source": [
    "#| hide\n",
    "import nbdev; nbdev.nbdev_export()"
   ]
  },
  {
   "cell_type": "code",
   "execution_count": null,
   "metadata": {},
   "outputs": [],
   "source": []
  }
 ],
 "metadata": {
  "kernelspec": {
   "display_name": ".venv",
   "language": "python",
   "name": "python3"
  },
  "language_info": {
   "codemirror_mode": {
    "name": "ipython",
    "version": 3
   },
   "file_extension": ".py",
   "mimetype": "text/x-python",
   "name": "python",
   "nbconvert_exporter": "python",
   "pygments_lexer": "ipython3",
   "version": "3.11.4"
  }
 },
 "nbformat": 4,
 "nbformat_minor": 2
}
