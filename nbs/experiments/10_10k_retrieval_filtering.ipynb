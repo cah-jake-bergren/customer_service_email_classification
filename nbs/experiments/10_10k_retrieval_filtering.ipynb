{
 "cells": [
  {
   "cell_type": "markdown",
   "metadata": {},
   "source": [
    "# 10k retrieval filtering, 2-step prediction\n",
    "\n",
    "> Sample size up to 10k, create two-step prediction chain"
   ]
  },
  {
   "cell_type": "code",
   "execution_count": 1,
   "metadata": {},
   "outputs": [],
   "source": [
    "#| default_exp experiments.retrieval_filtering"
   ]
  },
  {
   "cell_type": "code",
   "execution_count": 210,
   "metadata": {},
   "outputs": [],
   "source": [
    "#| export\n",
    "from typing import Dict, List, Any, Tuple\n",
    "from pathlib import Path\n",
    "import os\n",
    "import re\n",
    "\n",
    "import numpy as np\n",
    "import pandas as pd\n",
    "from tqdm import tqdm\n",
    "from sklearn import metrics, model_selection\n",
    "\n",
    "from langchain.schema import Document\n",
    "from langchain.prompts import PromptTemplate\n",
    "from langchain.schema.runnable import RunnableSequence\n",
    "from langchain.llms import VertexAI\n",
    "from langchain.vectorstores import Chroma\n",
    "from langchain.document_loaders import DataFrameLoader\n",
    "from langchain.output_parsers import CommaSeparatedListOutputParser, RegexParser\n",
    "\n",
    "from classifier.schema import WRITE_PREFIX, PROJECT_BUCKET, quota_handler\n",
    "from classifier.load import Email, get_batches, get_emails_from_frame, \\\n",
    "    get_raw_emails, email_small_enough\n",
    "from classifier.chroma import get_or_make_chroma\n",
    "from classifier.predict import write_predictions\n",
    "from classifier.experiments.split_processing import \\\n",
    "    format_email_for_train_summary, \\\n",
    "    format_email_for_test_summary, \\\n",
    "    make_description_from_row, batch_predict, \\\n",
    "    TRAIN_PROMPT, TEST_PROMPT\n",
    "\n",
    "# GRPC requires this\n",
    "os.environ[\"GRPC_DNS_RESOLVER\"] = \"native\"\n",
    "EXPERIMENT_PREFIX = \"retrieval_filtering\"\n",
    "EXPERIMENT_WRITE_PREFIX = WRITE_PREFIX + \"/\" + EXPERIMENT_PREFIX"
   ]
  },
  {
   "cell_type": "code",
   "execution_count": 3,
   "metadata": {},
   "outputs": [],
   "source": [
    "data_dir = Path(\"../../data\")\n",
    "assert data_dir.exists()\n",
    "experiment_dir = data_dir / EXPERIMENT_PREFIX\n",
    "if not experiment_dir.exists():\n",
    "    experiment_dir.mkdir()"
   ]
  },
  {
   "cell_type": "markdown",
   "metadata": {},
   "source": [
    "Make sure you're authenticated with google cloud before running this notebook."
   ]
  },
  {
   "cell_type": "markdown",
   "metadata": {},
   "source": [
    "## Sample"
   ]
  },
  {
   "cell_type": "code",
   "execution_count": 4,
   "metadata": {},
   "outputs": [],
   "source": [
    "all_emails = get_raw_emails()"
   ]
  },
  {
   "cell_type": "code",
   "execution_count": 5,
   "metadata": {},
   "outputs": [
    {
     "data": {
      "text/plain": [
       "True     56096\n",
       "False     1141\n",
       "Name: count, dtype: int64"
      ]
     },
     "execution_count": 5,
     "metadata": {},
     "output_type": "execute_result"
    }
   ],
   "source": [
    "size_mask = all_emails.apply(\n",
    "    lambda row: email_small_enough(\n",
    "        row.email_subject,\n",
    "        row.email_body\n",
    "    ), axis=1)\n",
    "size_mask.value_counts()"
   ]
  },
  {
   "cell_type": "markdown",
   "metadata": {},
   "source": [
    "Filter on size"
   ]
  },
  {
   "cell_type": "code",
   "execution_count": 6,
   "metadata": {},
   "outputs": [
    {
     "data": {
      "text/plain": [
       "56096"
      ]
     },
     "execution_count": 6,
     "metadata": {},
     "output_type": "execute_result"
    }
   ],
   "source": [
    "all_emails_filtered = all_emails[size_mask]\n",
    "all_emails_filtered.shape[0]"
   ]
  },
  {
   "cell_type": "code",
   "execution_count": 7,
   "metadata": {},
   "outputs": [
    {
     "data": {
      "text/html": [
       "<div>\n",
       "<style scoped>\n",
       "    .dataframe tbody tr th:only-of-type {\n",
       "        vertical-align: middle;\n",
       "    }\n",
       "\n",
       "    .dataframe tbody tr th {\n",
       "        vertical-align: top;\n",
       "    }\n",
       "\n",
       "    .dataframe thead th {\n",
       "        text-align: right;\n",
       "    }\n",
       "</style>\n",
       "<table border=\"1\" class=\"dataframe\">\n",
       "  <thead>\n",
       "    <tr style=\"text-align: right;\">\n",
       "      <th></th>\n",
       "      <th>BU</th>\n",
       "      <th>case_number</th>\n",
       "      <th>ACCOUNT_BUSINESS_UNIT__C</th>\n",
       "      <th>received_at</th>\n",
       "      <th>sfdc_category</th>\n",
       "      <th>sfdc_subcategory</th>\n",
       "      <th>predicted_category</th>\n",
       "      <th>predicted_subcategory</th>\n",
       "      <th>record_type</th>\n",
       "      <th>probability</th>\n",
       "      <th>Accuracy_upd</th>\n",
       "      <th>Bin</th>\n",
       "      <th>email_subject</th>\n",
       "      <th>email_body</th>\n",
       "    </tr>\n",
       "  </thead>\n",
       "  <tbody>\n",
       "    <tr>\n",
       "      <th>0</th>\n",
       "      <td>SPD</td>\n",
       "      <td>3469839</td>\n",
       "      <td>NaN</td>\n",
       "      <td>2023-09-11T13:22:32</td>\n",
       "      <td>Order Processing</td>\n",
       "      <td>Order Entry</td>\n",
       "      <td>Order Processing</td>\n",
       "      <td>NaN</td>\n",
       "      <td>2</td>\n",
       "      <td>0.876806</td>\n",
       "      <td>Correct</td>\n",
       "      <td>8</td>\n",
       "      <td>PO# 7004014842 || Walgreens Store 16422 || Ohi...</td>\n",
       "      <td>External Email â€“ Please use caution before o...</td>\n",
       "    </tr>\n",
       "    <tr>\n",
       "      <th>2</th>\n",
       "      <td>PD</td>\n",
       "      <td>3469842</td>\n",
       "      <td>a1G4z00000H4uvREAR</td>\n",
       "      <td>2023-09-11T13:22:43</td>\n",
       "      <td>Order Processing</td>\n",
       "      <td>Order Entry</td>\n",
       "      <td>General Inquiry</td>\n",
       "      <td>NaN</td>\n",
       "      <td>1</td>\n",
       "      <td>0.838036</td>\n",
       "      <td>Incorrect</td>\n",
       "      <td>8</td>\n",
       "      <td>Purchase Order #65398</td>\n",
       "      <td>External Email â€“ Please use caution before o...</td>\n",
       "    </tr>\n",
       "  </tbody>\n",
       "</table>\n",
       "</div>"
      ],
      "text/plain": [
       "    BU  case_number ACCOUNT_BUSINESS_UNIT__C          received_at  \\\n",
       "0  SPD      3469839                      NaN  2023-09-11T13:22:32   \n",
       "2   PD      3469842       a1G4z00000H4uvREAR  2023-09-11T13:22:43   \n",
       "\n",
       "      sfdc_category sfdc_subcategory predicted_category predicted_subcategory  \\\n",
       "0  Order Processing      Order Entry   Order Processing                   NaN   \n",
       "2  Order Processing      Order Entry    General Inquiry                   NaN   \n",
       "\n",
       "   record_type  probability Accuracy_upd  Bin  \\\n",
       "0            2     0.876806      Correct    8   \n",
       "2            1     0.838036    Incorrect    8   \n",
       "\n",
       "                                       email_subject  \\\n",
       "0  PO# 7004014842 || Walgreens Store 16422 || Ohi...   \n",
       "2                              Purchase Order #65398   \n",
       "\n",
       "                                          email_body  \n",
       "0  External Email â€“ Please use caution before o...  \n",
       "2  External Email â€“ Please use caution before o...  "
      ]
     },
     "execution_count": 7,
     "metadata": {},
     "output_type": "execute_result"
    }
   ],
   "source": [
    "all_emails_filtered.head(2)"
   ]
  },
  {
   "cell_type": "markdown",
   "metadata": {},
   "source": [
    "Train Test Split"
   ]
  },
  {
   "cell_type": "code",
   "execution_count": 8,
   "metadata": {},
   "outputs": [],
   "source": [
    "train_idx, test_idx = model_selection.train_test_split(\n",
    "    all_emails_filtered.index.values,\n",
    "    test_size=2000,\n",
    "    train_size=8000,\n",
    "    stratify=all_emails_filtered.sfdc_category)"
   ]
  },
  {
   "cell_type": "code",
   "execution_count": 9,
   "metadata": {},
   "outputs": [
    {
     "data": {
      "text/plain": [
       "(sfdc_category\n",
       " Account/Inquiry         1712\n",
       " Billing / Invoice        316\n",
       " Credits                  128\n",
       " Delivery                 258\n",
       " General Inquiry          770\n",
       " Order Discrepancy        552\n",
       " Order Processing        3235\n",
       " Pricing                   33\n",
       " Product Inquiry          426\n",
       " Program / Promotions      34\n",
       " Returns                  536\n",
       " Name: count, dtype: int64,\n",
       " sfdc_category\n",
       " Account/Inquiry         428\n",
       " Billing / Invoice        79\n",
       " Credits                  32\n",
       " Delivery                 65\n",
       " General Inquiry         193\n",
       " Order Discrepancy       138\n",
       " Order Processing        809\n",
       " Pricing                   8\n",
       " Product Inquiry         106\n",
       " Program / Promotions      8\n",
       " Returns                 134\n",
       " Name: count, dtype: int64)"
      ]
     },
     "execution_count": 9,
     "metadata": {},
     "output_type": "execute_result"
    }
   ],
   "source": [
    "all_emails_filtered.loc[train_idx, 'sfdc_category'].value_counts().sort_index(),\\\n",
    "all_emails_filtered.loc[test_idx, 'sfdc_category'].value_counts().sort_index()"
   ]
  },
  {
   "cell_type": "code",
   "execution_count": 10,
   "metadata": {},
   "outputs": [],
   "source": [
    "# write_idx(\n",
    "#     pd.Index(train_idx),\n",
    "#     pd.Index(test_idx),\n",
    "#     prefix=EXPERIMENT_WRITE_PREFIX\n",
    "# )"
   ]
  },
  {
   "cell_type": "markdown",
   "metadata": {},
   "source": [
    "## Process"
   ]
  },
  {
   "cell_type": "code",
   "execution_count": 11,
   "metadata": {},
   "outputs": [
    {
     "data": {
      "text/plain": [
       "8000"
      ]
     },
     "execution_count": 11,
     "metadata": {},
     "output_type": "execute_result"
    }
   ],
   "source": [
    "training_emails = list(get_emails_from_frame(\n",
    "    get_raw_emails(),\n",
    "    'train',\n",
    "    index_prefix=EXPERIMENT_WRITE_PREFIX\n",
    "))\n",
    "len(training_emails)"
   ]
  },
  {
   "cell_type": "markdown",
   "metadata": {},
   "source": [
    "Load label descriptions"
   ]
  },
  {
   "cell_type": "code",
   "execution_count": 12,
   "metadata": {},
   "outputs": [],
   "source": [
    "descriptions_path = data_dir / 'labels.xlsx'\n",
    "assert descriptions_path.exists()"
   ]
  },
  {
   "cell_type": "code",
   "execution_count": 13,
   "metadata": {},
   "outputs": [],
   "source": [
    "descriptions = pd.read_excel(descriptions_path).map(lambda s: s.strip() if isinstance(s, str) else s)\n",
    "descriptions_dict = descriptions.T.iloc[1:, :].apply(make_description_from_row, axis=1).to_dict()"
   ]
  },
  {
   "cell_type": "markdown",
   "metadata": {},
   "source": [
    "Process training data"
   ]
  },
  {
   "cell_type": "code",
   "execution_count": 14,
   "metadata": {},
   "outputs": [],
   "source": [
    "train_processing_chain = TRAIN_PROMPT | VertexAI()"
   ]
  },
  {
   "cell_type": "code",
   "execution_count": 15,
   "metadata": {},
   "outputs": [],
   "source": [
    "# # Takes about 2.25 hours\n",
    "# train_summaries = []\n",
    "\n",
    "# pbar = tqdm(total=len(training_emails), ncols=80, leave=True)\n",
    "\n",
    "# try:\n",
    "#     for batch in get_batches(training_emails, 5):\n",
    "#         batch_prompts = [format_email_for_train_summary(e, descriptions_dict) for e in batch]\n",
    "#         train_summaries.extend(batch_predict(batch_prompts, train_processing_chain))\n",
    "#         pbar.update(len(batch))\n",
    "# except:\n",
    "#     pass\n",
    "# finally:\n",
    "#     pbar.close()\n",
    "\n",
    "# len(train_summaries) == len(training_emails)"
   ]
  },
  {
   "cell_type": "code",
   "execution_count": 16,
   "metadata": {},
   "outputs": [],
   "source": [
    "# train_summary_df = pd.DataFrame(\n",
    "#     zip(\n",
    "#         train_summaries,\n",
    "#         [t.idx for t in training_emails],\n",
    "#         [t.label for t in training_emails]\n",
    "#     ),\n",
    "#     columns=['summary', 'idx', 'label']\n",
    "# )\n",
    "# train_summary_df.to_csv(\n",
    "#     f'gs://{PROJECT_BUCKET}/{EXPERIMENT_WRITE_PREFIX}/split_train_summaries.csv', \n",
    "#     index=False)"
   ]
  },
  {
   "cell_type": "code",
   "execution_count": 17,
   "metadata": {},
   "outputs": [],
   "source": [
    "train_summary_df = pd.read_csv(f'gs://{PROJECT_BUCKET}/{EXPERIMENT_WRITE_PREFIX}/split_train_summaries.csv')"
   ]
  },
  {
   "cell_type": "code",
   "execution_count": 18,
   "metadata": {},
   "outputs": [
    {
     "data": {
      "text/html": [
       "<div>\n",
       "<style scoped>\n",
       "    .dataframe tbody tr th:only-of-type {\n",
       "        vertical-align: middle;\n",
       "    }\n",
       "\n",
       "    .dataframe tbody tr th {\n",
       "        vertical-align: top;\n",
       "    }\n",
       "\n",
       "    .dataframe thead th {\n",
       "        text-align: right;\n",
       "    }\n",
       "</style>\n",
       "<table border=\"1\" class=\"dataframe\">\n",
       "  <thead>\n",
       "    <tr style=\"text-align: right;\">\n",
       "      <th></th>\n",
       "      <th>summary</th>\n",
       "      <th>idx</th>\n",
       "      <th>label</th>\n",
       "    </tr>\n",
       "  </thead>\n",
       "  <tbody>\n",
       "    <tr>\n",
       "      <th>0</th>\n",
       "      <td>**Summary**\\nThe email is about a new purchas...</td>\n",
       "      <td>40220</td>\n",
       "      <td>Order Processing</td>\n",
       "    </tr>\n",
       "    <tr>\n",
       "      <th>1</th>\n",
       "      <td>**Summary:**\\nBarbara Conley, an OS&amp;D Analyst...</td>\n",
       "      <td>19920</td>\n",
       "      <td>Credits</td>\n",
       "    </tr>\n",
       "  </tbody>\n",
       "</table>\n",
       "</div>"
      ],
      "text/plain": [
       "                                             summary    idx             label\n",
       "0   **Summary**\\nThe email is about a new purchas...  40220  Order Processing\n",
       "1   **Summary:**\\nBarbara Conley, an OS&D Analyst...  19920           Credits"
      ]
     },
     "execution_count": 18,
     "metadata": {},
     "output_type": "execute_result"
    }
   ],
   "source": [
    "train_summary_df.head(2)"
   ]
  },
  {
   "cell_type": "markdown",
   "metadata": {},
   "source": [
    "Process test data"
   ]
  },
  {
   "cell_type": "code",
   "execution_count": 19,
   "metadata": {},
   "outputs": [
    {
     "data": {
      "text/plain": [
       "2000"
      ]
     },
     "execution_count": 19,
     "metadata": {},
     "output_type": "execute_result"
    }
   ],
   "source": [
    "test_emails = list(get_emails_from_frame(\n",
    "    get_raw_emails(),\n",
    "    'test',\n",
    "    index_prefix=EXPERIMENT_WRITE_PREFIX\n",
    "))\n",
    "len(test_emails)"
   ]
  },
  {
   "cell_type": "code",
   "execution_count": 20,
   "metadata": {},
   "outputs": [],
   "source": [
    "test_processing_chain = TEST_PROMPT | VertexAI()"
   ]
  },
  {
   "cell_type": "code",
   "execution_count": 21,
   "metadata": {},
   "outputs": [],
   "source": [
    "# # Takes about ~15 minutes\n",
    "# test_summaries = []\n",
    "\n",
    "# pbar = tqdm(total=len(test_emails), ncols=80, leave=True)\n",
    "\n",
    "# try:\n",
    "#     for batch in get_batches(test_emails, 5):\n",
    "#         batch_prompts = [format_email_for_test_summary(e) for e in batch]\n",
    "#         test_summaries.extend(batch_predict(batch_prompts, test_processing_chain))\n",
    "#         pbar.update(len(batch))\n",
    "# except:\n",
    "#     pass\n",
    "# finally:\n",
    "#     pbar.close()\n",
    "\n",
    "# len(test_summaries) == len(test_emails)"
   ]
  },
  {
   "cell_type": "code",
   "execution_count": 22,
   "metadata": {},
   "outputs": [],
   "source": [
    "# test_summary_df = pd.DataFrame(\n",
    "#     zip(\n",
    "#         test_summaries,\n",
    "#         [t.idx for t in test_emails],\n",
    "#         [t.label for t in test_emails]\n",
    "#     ),\n",
    "#     columns=['summary', 'idx', 'label']\n",
    "# )\n",
    "# test_summary_df.to_csv(\n",
    "#     f'gs://{PROJECT_BUCKET}/{EXPERIMENT_WRITE_PREFIX}/split_test_summaries.csv', \n",
    "#     index=False)"
   ]
  },
  {
   "cell_type": "code",
   "execution_count": 23,
   "metadata": {},
   "outputs": [
    {
     "data": {
      "text/plain": [
       "(1996, 3)"
      ]
     },
     "execution_count": 23,
     "metadata": {},
     "output_type": "execute_result"
    }
   ],
   "source": [
    "test_summary_df = pd.read_csv(\n",
    "    f'gs://{PROJECT_BUCKET}/{EXPERIMENT_WRITE_PREFIX}/split_test_summaries.csv'\n",
    ").dropna(subset=['summary'])\n",
    "test_summary_df.shape"
   ]
  },
  {
   "cell_type": "code",
   "execution_count": 24,
   "metadata": {},
   "outputs": [
    {
     "data": {
      "text/html": [
       "<div>\n",
       "<style scoped>\n",
       "    .dataframe tbody tr th:only-of-type {\n",
       "        vertical-align: middle;\n",
       "    }\n",
       "\n",
       "    .dataframe tbody tr th {\n",
       "        vertical-align: top;\n",
       "    }\n",
       "\n",
       "    .dataframe thead th {\n",
       "        text-align: right;\n",
       "    }\n",
       "</style>\n",
       "<table border=\"1\" class=\"dataframe\">\n",
       "  <thead>\n",
       "    <tr style=\"text-align: right;\">\n",
       "      <th></th>\n",
       "      <th>summary</th>\n",
       "      <th>idx</th>\n",
       "      <th>label</th>\n",
       "    </tr>\n",
       "  </thead>\n",
       "  <tbody>\n",
       "    <tr>\n",
       "      <th>0</th>\n",
       "      <td>A new purchase order (PO) 6600004025 has been...</td>\n",
       "      <td>35311</td>\n",
       "      <td>Order Processing</td>\n",
       "    </tr>\n",
       "    <tr>\n",
       "      <th>1</th>\n",
       "      <td>A fax was received from 7183538134 on 10/31/2...</td>\n",
       "      <td>30312</td>\n",
       "      <td>Delivery</td>\n",
       "    </tr>\n",
       "  </tbody>\n",
       "</table>\n",
       "</div>"
      ],
      "text/plain": [
       "                                             summary    idx             label\n",
       "0   A new purchase order (PO) 6600004025 has been...  35311  Order Processing\n",
       "1   A fax was received from 7183538134 on 10/31/2...  30312          Delivery"
      ]
     },
     "execution_count": 24,
     "metadata": {},
     "output_type": "execute_result"
    }
   ],
   "source": [
    "test_summary_df.head(2)"
   ]
  },
  {
   "cell_type": "markdown",
   "metadata": {},
   "source": [
    "## Vectorstore"
   ]
  },
  {
   "cell_type": "markdown",
   "metadata": {},
   "source": [
    "Add to chroma"
   ]
  },
  {
   "cell_type": "code",
   "execution_count": 25,
   "metadata": {},
   "outputs": [
    {
     "data": {
      "text/plain": [
       "8000"
      ]
     },
     "execution_count": 25,
     "metadata": {},
     "output_type": "execute_result"
    }
   ],
   "source": [
    "chroma_documents = DataFrameLoader(\n",
    "    train_summary_df,\n",
    "    page_content_column='summary').load()\n",
    "len(chroma_documents)"
   ]
  },
  {
   "cell_type": "code",
   "execution_count": 26,
   "metadata": {},
   "outputs": [],
   "source": [
    "# Should take about 5 minutes initially\n",
    "chroma = get_or_make_chroma(\n",
    "    data_dir=experiment_dir,\n",
    "    documents=chroma_documents\n",
    ")"
   ]
  },
  {
   "cell_type": "markdown",
   "metadata": {},
   "source": [
    "## Prediction (2-step)\n",
    "\n",
    "1. Get initial prediction, \"top 3\" of available categories, with descriptions"
   ]
  },
  {
   "cell_type": "code",
   "execution_count": 27,
   "metadata": {},
   "outputs": [],
   "source": [
    "descriptions_path = data_dir / 'labels.xlsx'\n",
    "assert descriptions_path.exists()\n",
    "\n",
    "descriptions = pd.read_excel(descriptions_path).map(lambda s: s.strip() if isinstance(s, str) else s)\n",
    "descriptions_dict = descriptions.T.iloc[1:, :].apply(make_description_from_row, axis=1).to_dict()"
   ]
  },
  {
   "cell_type": "code",
   "execution_count": 28,
   "metadata": {},
   "outputs": [
    {
     "data": {
      "text/plain": [
       "14"
      ]
     },
     "execution_count": 28,
     "metadata": {},
     "output_type": "execute_result"
    }
   ],
   "source": [
    "len(descriptions_dict)"
   ]
  },
  {
   "cell_type": "code",
   "execution_count": 125,
   "metadata": {},
   "outputs": [],
   "source": [
    "#| export\n",
    "def make_categories_str(\n",
    "        category_descriptions: Dict[str, str], \n",
    "        ignore: List[str] = [], \n",
    "        include: List[str] = []) -> str:\n",
    "    if len(include) == 0:\n",
    "        include = list(category_descriptions.keys())\n",
    "    return \"\\n\".join(\n",
    "        [f\"- {c}\" for c, d in category_descriptions.items() \\\n",
    "            if (c not in ignore) and (c in include)]\n",
    "    )"
   ]
  },
  {
   "cell_type": "code",
   "execution_count": 126,
   "metadata": {},
   "outputs": [
    {
     "name": "stdout",
     "output_type": "stream",
     "text": [
      "- Account/Inquiry\n",
      "- Order Processing\n",
      "- Delivery\n",
      "- Order Discrepancy\n",
      "- Returns\n",
      "- Billing / Invoice\n",
      "- Credits\n",
      "- Pricing\n",
      "- Product Quality\n",
      "- Product Inquiry\n",
      "- Claims\n",
      "- General Inquiry\n",
      "- IT Customer Technology Issue\n",
      "- Program / Promotions\n"
     ]
    }
   ],
   "source": [
    "categories_str = make_categories_str(descriptions_dict)\n",
    "print(categories_str)"
   ]
  },
  {
   "cell_type": "code",
   "execution_count": 183,
   "metadata": {},
   "outputs": [],
   "source": [
    "#| export\n",
    "TOP_3_PROMPT_TEMPLATE = \"\"\"Below is a summary of an email sent to our customer service department. \n",
    "\n",
    "-- EMAIL --\n",
    "{email}\n",
    "-- END EMAIL --\n",
    "\n",
    "Here is a list of categories we assign to emails;\n",
    "\n",
    "-- CATEGORIES --\n",
    "{categories}\n",
    "-- END CATEGORIES --\n",
    "\n",
    "Of the options in the above list, choose the 3 likeliest that describe the following email. \n",
    "Only return the categories you choose.\n",
    "Your response should be a list of comma separated values.\n",
    "\n",
    "-- TOP 3 LIKELIEST LABELS --\n",
    "\"\"\"\n",
    "\n",
    "TOP_3_PROMPT = PromptTemplate.from_template(TOP_3_PROMPT_TEMPLATE)"
   ]
  },
  {
   "cell_type": "code",
   "execution_count": 184,
   "metadata": {},
   "outputs": [],
   "source": [
    "#| export\n",
    "_LLM = None\n",
    "\n",
    "\n",
    "def get_llm() -> VertexAI:\n",
    "    global _LLM\n",
    "    if _LLM is None:\n",
    "        _LLM = VertexAI()\n",
    "    return _LLM\n",
    "\n",
    "\n",
    "def format_category_answer(answer: List[str]):\n",
    "    return [s.replace(\"||\",\"\") for s in answer]\n",
    "\n",
    "\n",
    "def fix_string(string: str) -> str:\n",
    "    return string.replace(\"[\", \"\").replace(\"]\",\"\")\n",
    "\n",
    "\n",
    "def get_top_3_chain() -> RunnableSequence:\n",
    "    return TOP_3_PROMPT | get_llm() | fix_string | CommaSeparatedListOutputParser() | format_category_answer"
   ]
  },
  {
   "cell_type": "code",
   "execution_count": 185,
   "metadata": {},
   "outputs": [],
   "source": [
    "step_1_chain = get_top_3_chain()"
   ]
  },
  {
   "cell_type": "code",
   "execution_count": 186,
   "metadata": {},
   "outputs": [],
   "source": [
    "test_summary = test_summary_df.iloc[0, :].summary"
   ]
  },
  {
   "cell_type": "code",
   "execution_count": 192,
   "metadata": {},
   "outputs": [
    {
     "data": {
      "text/plain": [
       "['Product Inquiry', 'General Inquiry', 'IT Customer Technology Issue']"
      ]
     },
     "execution_count": 192,
     "metadata": {},
     "output_type": "execute_result"
    }
   ],
   "source": [
    "example_step_1_answer = step_1_chain.invoke({\n",
    "    'categories': categories_str,\n",
    "    'email': test_summary_df.summary[187]\n",
    "})\n",
    "example_step_1_answer"
   ]
  },
  {
   "cell_type": "markdown",
   "metadata": {},
   "source": [
    "2. Get 3 most similar examples from the top 3 categories from chroma"
   ]
  },
  {
   "cell_type": "code",
   "execution_count": 193,
   "metadata": {},
   "outputs": [
    {
     "data": {
      "text/plain": [
       "[Document(page_content=' **Summary**\\nThe email is about a new purchase order (PO) 6600005050 from CVS Caremark SpecialtyRx.\\n\\n**Explanation**\\n- The subject line of the email indicates that the email is about a new PO from CVS Caremark SpecialtyRx.\\n- The body of the email contains the PO number 6600005050.\\n- The email is labeled as \"Order Processing\" because it is about a new order.', metadata={'idx': 47696, 'label': 'Order Processing'}),\n",
       " Document(page_content=' **Summary**\\nThe email is about a new purchase order (PO) from CVS Caremark SpecialtyRx.\\n\\n**Explanation**\\n- The subject line indicates that the email is about a new PO from CVS Caremark SpecialtyRx.\\n- The body of the email contains the PO number, which is 6600002445.\\n- The email is labeled as \"Order Processing\" because it is about a new PO. The label \"Order Processing\" is used for issues related to order entry, will call, emergency orders, adjusting orders, shipping service changes, canceling orders, and allocation overrides. The', metadata={'idx': 15993, 'label': 'Order Processing'}),\n",
       " Document(page_content=' **Summary**\\nThe email is about a new purchase order (PO) from CVS Caremark SpecialtyRx.\\n\\n**Explanation**\\n- The subject line indicates that the email is about a new PO from CVS Caremark SpecialtyRx.\\n- The body of the email contains the PO number, which is 6600004023.\\n- The email is labeled as \"Order Processing\" because it is about a new PO. The label \"Order Processing\" is used for issues related to order entry, will call, emergency orders, adjusting orders, shipping service changes, canceling orders, and allocation overrides. The', metadata={'idx': 35312, 'label': 'Order Processing'})]"
      ]
     },
     "execution_count": 193,
     "metadata": {},
     "output_type": "execute_result"
    }
   ],
   "source": [
    "chroma.similarity_search(\n",
    "    test_summary, \n",
    "    filter={'label': \"Order Processing\"},\n",
    "    k=3)"
   ]
  },
  {
   "cell_type": "code",
   "execution_count": 194,
   "metadata": {},
   "outputs": [],
   "source": [
    "#| export\n",
    "def get_label_filtered_documents(\n",
    "        query: str,\n",
    "        labels: List[str],\n",
    "        chroma: Chroma,\n",
    "        k: int = 3\n",
    "        ) -> Dict[str, List[Document]]:\n",
    "    documents = {}\n",
    "    for l in labels:\n",
    "        label_documents = chroma.similarity_search(\n",
    "            query,\n",
    "            filter={'label': l},\n",
    "            k=k\n",
    "        )\n",
    "        documents[l] = label_documents\n",
    "    return documents"
   ]
  },
  {
   "cell_type": "code",
   "execution_count": 195,
   "metadata": {},
   "outputs": [
    {
     "data": {
      "text/plain": [
       "{'Product Inquiry': [Document(page_content=\" **Summary**\\nBonnie Brister, a Pharmacy Business Consultant, is requesting that customer service place an order for one unit of CIN #5049549 for an unnamed customer.\\n\\n**Explanation**\\n- The subject line includes the customer's name and a reference number, indicating that this is a specific customer inquiry.\\n- The body of the email provides the customer's CIN number and the quantity they want to order.\\n- The email is from a Pharmacy Business Consultant, who is likely authorized to place orders on behalf of customers.\\n- The email does not mention any issues or problems, so it is\", metadata={'idx': 40467, 'label': 'Product Inquiry'}),\n",
       "  Document(page_content=' **Summary**\\nLogan Sawano, a Pharmacy Procurement Specialist at University of Colorado Hospital, sent an email to customer service requesting to add Diclofenac 1% topical gel to a backorder list for account number 2150403285. The requested quantity is 70 tubes, which is the outstanding amount pending for current prescription orders. Logan also provided a PO number and password for approval.\\n\\n**Explanation**\\nThe email was labeled as a \"Product Inquiry\" because it contains questions and requests related to a specific product, Diclofenac 1% topical gel. The email also includes information about', metadata={'idx': 39053, 'label': 'Product Inquiry'}),\n",
       "  Document(page_content=' **Summary**\\nYessenia Taveras, a pharmacist at NewYork-Presbyterian Brooklyn Methodist Hospital, sent an email to customer service inquiring about adding a new medication, LIVTENCITY 200MG TABLET, to their accounts. They provided the NDC number, quantity, and account numbers.\\n\\n**Explanation**\\nThe email was labeled as a \"Product Inquiry\" because it contains a general inquiry about a product, specifically its availability and addition to the hospital\\'s accounts. The email does not mention any issues or problems with the product itself, nor does it request any specific actions or support beyond adding the medication', metadata={'idx': 33328, 'label': 'Product Inquiry'})],\n",
       " 'General Inquiry': [Document(page_content=' The email is about a purchase order (PO #34170) from Urology of Virginia to Cardinal Specialty Pharmacy. The email includes a link to accept the purchase order and contact information for Lynne Scolieri and Melissa Carter at Urology of Virginia in case of any questions.\\n\\nThe email was labeled as a \"General Inquiry\" because it does not fit into any of the other specific categories for customer service handling. The email is not a complaint, a request for technical support, or a request for information about a product or service. Instead, it is a general inquiry about a purchase order.', metadata={'idx': 22479, 'label': 'General Inquiry'}),\n",
       "  Document(page_content=' The email is about a purchase order (PO #34079) from Urology of Virginia to Cardinal Specialty Pharmacy. The email includes a link to accept the purchase order and contact information for Melissa Carter at Urology of Virginia in case of any questions.\\n\\nThe email was labeled as a \"General Inquiry\" because it does not fit into any of the other specific categories for customer service handling. The email is not a complaint, a request for technical support, or a request for information about a product or service. Instead, it is a general inquiry about a purchase order.', metadata={'idx': 9770, 'label': 'General Inquiry'}),\n",
       "  Document(page_content=' **Summary**\\nPamela Thompson from Kroger Health sent an email to customer service requesting an order for Ocrevus 300Mg/10mL SDV and provided the PO number, order number, and contact information.\\n\\n**Explanation**\\n- The email is about placing an order.\\n- There are no specific issues or problems mentioned in the email.\\n- The email does not require immediate attention or follow-up.\\n- The email is labeled as a \"General Inquiry\" because it is a general request for information or assistance.', metadata={'idx': 47783, 'label': 'General Inquiry'})],\n",
       " 'IT Customer Technology Issue': []}"
      ]
     },
     "execution_count": 195,
     "metadata": {},
     "output_type": "execute_result"
    }
   ],
   "source": [
    "example_filtered_documents = get_label_filtered_documents(\n",
    "    query=test_summary,\n",
    "    labels=example_step_1_answer,\n",
    "    chroma=chroma\n",
    ")\n",
    "example_filtered_documents"
   ]
  },
  {
   "cell_type": "markdown",
   "metadata": {},
   "source": [
    "3. Get final prediction"
   ]
  },
  {
   "cell_type": "code",
   "execution_count": 196,
   "metadata": {},
   "outputs": [],
   "source": [
    "#| export\n",
    "# categories is a list like;\n",
    "# 0. CATEGORY\n",
    "# 1. CATEGORY 2\n",
    "# 2. CATEGORY 3\n",
    "PREDICTION_TEMPLATE = \"\"\"Below is a summary of an email sent to our customer service department.\n",
    "It is your job to decide which category the email belongs to.\n",
    "\n",
    "-- EMAIL --\n",
    "{email}\n",
    "-- END EMAIL --\n",
    "\n",
    "Choose which of the following categories the email above belongs to;\n",
    "\n",
    "-- CATEGORIES --\n",
    "{categories}\n",
    "-- END CATEGORIES --\n",
    "\n",
    "Here are some similar emails and how they were labeled to help you decide.\n",
    "\n",
    "-- EXAMPLES --\n",
    "{examples}\n",
    "-- END EXAMPLES --\n",
    "\n",
    "Return only the number of the category you have picked.\n",
    "\n",
    "Category Number: \"\"\"\n",
    "\n",
    "PREDICTION_PROMPT = PromptTemplate.from_template(PREDICTION_TEMPLATE)"
   ]
  },
  {
   "cell_type": "code",
   "execution_count": 197,
   "metadata": {},
   "outputs": [],
   "source": [
    "#| export\n",
    "FINAL_REGEX = \"(\\d+)(?!.*\\d)\""
   ]
  },
  {
   "cell_type": "code",
   "execution_count": 198,
   "metadata": {},
   "outputs": [],
   "source": [
    "#| export\n",
    "def get_prediction_chain() -> RunnableSequence:\n",
    "    return PREDICTION_PROMPT | get_llm() | RegexParser(\n",
    "        regex=FINAL_REGEX, \n",
    "        output_keys=['result'], \n",
    "        default_output_key='result')"
   ]
  },
  {
   "cell_type": "code",
   "execution_count": 199,
   "metadata": {},
   "outputs": [],
   "source": [
    "prediction_chain = get_prediction_chain()"
   ]
  },
  {
   "cell_type": "code",
   "execution_count": 200,
   "metadata": {},
   "outputs": [],
   "source": [
    "#| export\n",
    "def format_filtered_examples(examples: Dict[str, List[Document]]) -> str:\n",
    "    result = \"\"\n",
    "    for cat, docs in examples.items():\n",
    "        cat_header = f\"||{cat}|| examples;\"\n",
    "        document_content = \"\\n\".join(\n",
    "            [\n",
    "                f\"Summary: {d.page_content}\\nLabel: {d.metadata.get('label')}\\n\" for d in docs\n",
    "            ])\n",
    "        result = result + cat_header + document_content\n",
    "    return result"
   ]
  },
  {
   "cell_type": "code",
   "execution_count": 201,
   "metadata": {},
   "outputs": [],
   "source": [
    "#| export\n",
    "def format_final_category_string(categories: List[str]) -> str:\n",
    "    return \"\\n\".join([f'{i}. {cat}' for i, cat in enumerate(categories)])"
   ]
  },
  {
   "cell_type": "code",
   "execution_count": 202,
   "metadata": {},
   "outputs": [
    {
     "data": {
      "text/plain": [
       "{'result': '1'}"
      ]
     },
     "execution_count": 202,
     "metadata": {},
     "output_type": "execute_result"
    }
   ],
   "source": [
    "example_prediction = prediction_chain.invoke({\n",
    "    'categories': format_final_category_string(example_step_1_answer),\n",
    "    'examples': format_filtered_examples(example_filtered_documents),\n",
    "    'email': test_summary\n",
    "})\n",
    "example_prediction"
   ]
  },
  {
   "cell_type": "code",
   "execution_count": 203,
   "metadata": {},
   "outputs": [],
   "source": [
    "#| export\n",
    "@quota_handler\n",
    "def invoke_chain(chain: RunnableSequence, *args, **kwargs) -> Any:\n",
    "    return chain.invoke(*args, **kwargs)"
   ]
  },
  {
   "cell_type": "code",
   "execution_count": 211,
   "metadata": {},
   "outputs": [],
   "source": [
    "#| export\n",
    "def get_summary_prediction(\n",
    "        summary: str, \n",
    "        chroma: Chroma, \n",
    "        step_1_chain: RunnableSequence,\n",
    "        step_2_chain: RunnableSequence,\n",
    "        descriptions: Dict[str, str]) -> Tuple[List[str], List[Document], int, str]:\n",
    "    step_1_answer = None\n",
    "    similar_documents = None\n",
    "    step_1_answer_position = None\n",
    "    final_answer = None\n",
    "    if summary is None:\n",
    "        return step_1_answer, similar_documents, step_1_answer_position, final_answer\n",
    "    categories_str = make_categories_str(descriptions)\n",
    "    # Make a prediction for an input summary\n",
    "    step_1_answer = invoke_chain(\n",
    "        step_1_chain, \n",
    "        {\n",
    "            'categories': categories_str,\n",
    "            'email': summary\n",
    "        })\n",
    "    # I've run out of time to tinker with this. If it ain't right, ignore it.\n",
    "    # TODO: Fix step one prompt / chain to handle outlier inference cases that aren't formatted right.\n",
    "    if len(step_1_answer) != 3:\n",
    "        return step_1_answer, similar_documents, step_1_answer_position, final_answer\n",
    "    # Get similar documents for each likely category\n",
    "    similar_documents = get_label_filtered_documents(\n",
    "        query=summary,\n",
    "        labels=step_1_answer,\n",
    "        chroma=chroma\n",
    "    )\n",
    "    step_2_answer = invoke_chain(\n",
    "        step_2_chain,\n",
    "        {\n",
    "            'categories': format_final_category_string(step_1_answer),\n",
    "            'examples': format_filtered_examples(similar_documents),\n",
    "            'email': summary\n",
    "        })\n",
    "    step_1_answer_position = int(step_2_answer.get('result'))\n",
    "    if step_1_answer_position > len(step_1_answer):\n",
    "        return step_1_answer, similar_documents, step_1_answer_position, final_answer\n",
    "    try:\n",
    "        final_answer = step_1_answer[step_1_answer_position].strip()\n",
    "    except IndexError as e:\n",
    "        print(\"Position was \", step_1_answer_position)\n",
    "        print(\"List was \", step_1_answer)\n",
    "        raise e\n",
    "    return step_1_answer, similar_documents, step_1_answer_position, final_answer"
   ]
  },
  {
   "cell_type": "code",
   "execution_count": 212,
   "metadata": {},
   "outputs": [],
   "source": [
    "## For Debugging\n",
    "# get_summary_prediction(test_summary_df.iloc[15, :].summary, chroma,\n",
    "#                        step_1_chain, prediction_chain, descriptions_dict)"
   ]
  },
  {
   "cell_type": "markdown",
   "metadata": {},
   "source": [
    "### Issues identified and attempted to solve;\n",
    "\n",
    "1. Issues being picked in step one that aren't in the given list\n",
    "2. Parsing the issues in step one into a list of strings\n",
    "3. Final predictions not belonging to the set of categories to pick\n",
    "4. Including descriptions doesn't work well in inference.\n",
    "5. Selected category positions being greater than 2.\n",
    "\n",
    "### Lessons learned\n",
    "\n",
    "1. Multi-class classification isn't really handled well without a lot of wrangling of the LLM. Should probably re-phrase the task into a binary classification or re-think the classes so that there aren't so many.\n",
    "2. Maybe LLM should only try to identify the most prevalent class as a binary classification? Or provide value in some other way for this task?"
   ]
  },
  {
   "cell_type": "code",
   "execution_count": 213,
   "metadata": {},
   "outputs": [
    {
     "name": "stderr",
     "output_type": "stream",
     "text": [
      "100%|█████████████████████████████████████████| 500/500 [27:16<00:00,  3.27s/it]\n"
     ]
    }
   ],
   "source": [
    "test_predictions = []\n",
    "\n",
    "for s in tqdm(test_summary_df.summary[:500], ncols=80, leave=True):\n",
    "    summary_prediction = get_summary_prediction(\n",
    "        summary=s,\n",
    "        chroma=chroma,\n",
    "        step_1_chain=step_1_chain,\n",
    "        step_2_chain=prediction_chain,\n",
    "        descriptions=descriptions_dict\n",
    "    )\n",
    "    test_predictions.append(summary_prediction)"
   ]
  },
  {
   "cell_type": "markdown",
   "metadata": {},
   "source": [
    "## Evaluation"
   ]
  },
  {
   "cell_type": "code",
   "execution_count": 214,
   "metadata": {},
   "outputs": [
    {
     "data": {
      "text/html": [
       "<div>\n",
       "<style scoped>\n",
       "    .dataframe tbody tr th:only-of-type {\n",
       "        vertical-align: middle;\n",
       "    }\n",
       "\n",
       "    .dataframe tbody tr th {\n",
       "        vertical-align: top;\n",
       "    }\n",
       "\n",
       "    .dataframe thead th {\n",
       "        text-align: right;\n",
       "    }\n",
       "</style>\n",
       "<table border=\"1\" class=\"dataframe\">\n",
       "  <thead>\n",
       "    <tr style=\"text-align: right;\">\n",
       "      <th></th>\n",
       "      <th>step1</th>\n",
       "      <th>step1_documents</th>\n",
       "      <th>step2</th>\n",
       "      <th>prediction</th>\n",
       "    </tr>\n",
       "  </thead>\n",
       "  <tbody>\n",
       "    <tr>\n",
       "      <th>0</th>\n",
       "      <td>[Order Processing, Account/Inquiry, Billing / ...</td>\n",
       "      <td>{'Order Processing': [page_content=' **Summary...</td>\n",
       "      <td>0.0</td>\n",
       "      <td>Order Processing</td>\n",
       "    </tr>\n",
       "    <tr>\n",
       "      <th>1</th>\n",
       "      <td>[General Inquiry, Product Inquiry, IT Customer...</td>\n",
       "      <td>{'General Inquiry': [page_content=' The email ...</td>\n",
       "      <td>0.0</td>\n",
       "      <td>General Inquiry</td>\n",
       "    </tr>\n",
       "    <tr>\n",
       "      <th>2</th>\n",
       "      <td>[Order Processing, Order Discrepancy, Product ...</td>\n",
       "      <td>{'Order Processing': [page_content=' **Summary...</td>\n",
       "      <td>0.0</td>\n",
       "      <td>Order Processing</td>\n",
       "    </tr>\n",
       "    <tr>\n",
       "      <th>3</th>\n",
       "      <td>[Billing / Invoice, Credits, Account/Inquiry]</td>\n",
       "      <td>{'Billing / Invoice': [page_content=' The emai...</td>\n",
       "      <td>0.0</td>\n",
       "      <td>Billing / Invoice</td>\n",
       "    </tr>\n",
       "    <tr>\n",
       "      <th>4</th>\n",
       "      <td>[Order Processing, Delivery, Product Inquiry]</td>\n",
       "      <td>{'Order Processing': [page_content=' **Summary...</td>\n",
       "      <td>0.0</td>\n",
       "      <td>Order Processing</td>\n",
       "    </tr>\n",
       "  </tbody>\n",
       "</table>\n",
       "</div>"
      ],
      "text/plain": [
       "                                               step1  \\\n",
       "0  [Order Processing, Account/Inquiry, Billing / ...   \n",
       "1  [General Inquiry, Product Inquiry, IT Customer...   \n",
       "2  [Order Processing, Order Discrepancy, Product ...   \n",
       "3      [Billing / Invoice, Credits, Account/Inquiry]   \n",
       "4      [Order Processing, Delivery, Product Inquiry]   \n",
       "\n",
       "                                     step1_documents  step2         prediction  \n",
       "0  {'Order Processing': [page_content=' **Summary...    0.0   Order Processing  \n",
       "1  {'General Inquiry': [page_content=' The email ...    0.0    General Inquiry  \n",
       "2  {'Order Processing': [page_content=' **Summary...    0.0   Order Processing  \n",
       "3  {'Billing / Invoice': [page_content=' The emai...    0.0  Billing / Invoice  \n",
       "4  {'Order Processing': [page_content=' **Summary...    0.0   Order Processing  "
      ]
     },
     "execution_count": 214,
     "metadata": {},
     "output_type": "execute_result"
    }
   ],
   "source": [
    "# Remove bad predictions\n",
    "test_predictions_df = pd.DataFrame(\n",
    "    test_predictions,\n",
    "    columns=['step1', 'step1_documents', 'step2', 'prediction']\n",
    ")\n",
    "test_predictions_df.head()"
   ]
  },
  {
   "cell_type": "code",
   "execution_count": 218,
   "metadata": {},
   "outputs": [
    {
     "data": {
      "text/plain": [
       "step1              0\n",
       "step1_documents    7\n",
       "step2              7\n",
       "prediction         7\n",
       "dtype: int64"
      ]
     },
     "execution_count": 218,
     "metadata": {},
     "output_type": "execute_result"
    }
   ],
   "source": [
    "test_predictions_df.isna().sum()"
   ]
  },
  {
   "cell_type": "code",
   "execution_count": 228,
   "metadata": {},
   "outputs": [
    {
     "data": {
      "text/plain": [
       "37     [General Inquiry,Product Inquiry,IT Customer T...\n",
       "105                [General Inquiry,Product Inquiry,Fax]\n",
       "242                     [Product Quality,Returns,Claims]\n",
       "246             [Product Quality,Claims,General Inquiry]\n",
       "Name: step1, dtype: object"
      ]
     },
     "execution_count": 228,
     "metadata": {},
     "output_type": "execute_result"
    }
   ],
   "source": [
    "bad_step1_mask = test_predictions_df.step1_documents.isna()\n",
    "bad_prediction_mask = ~test_predictions_df.prediction.isin(descriptions_dict.keys())\n",
    "test_predictions_df[bad_step1_mask].step1.iloc[0:4]"
   ]
  },
  {
   "cell_type": "code",
   "execution_count": 229,
   "metadata": {},
   "outputs": [
    {
     "data": {
      "text/html": [
       "<div>\n",
       "<style scoped>\n",
       "    .dataframe tbody tr th:only-of-type {\n",
       "        vertical-align: middle;\n",
       "    }\n",
       "\n",
       "    .dataframe tbody tr th {\n",
       "        vertical-align: top;\n",
       "    }\n",
       "\n",
       "    .dataframe thead th {\n",
       "        text-align: right;\n",
       "    }\n",
       "</style>\n",
       "<table border=\"1\" class=\"dataframe\">\n",
       "  <thead>\n",
       "    <tr style=\"text-align: right;\">\n",
       "      <th></th>\n",
       "      <th>step1</th>\n",
       "      <th>step1_documents</th>\n",
       "      <th>step2</th>\n",
       "      <th>prediction</th>\n",
       "    </tr>\n",
       "  </thead>\n",
       "  <tbody>\n",
       "    <tr>\n",
       "      <th>0</th>\n",
       "      <td>[Order Processing, Account/Inquiry, Billing / ...</td>\n",
       "      <td>{'Order Processing': [page_content=' **Summary...</td>\n",
       "      <td>0.0</td>\n",
       "      <td>Order Processing</td>\n",
       "    </tr>\n",
       "    <tr>\n",
       "      <th>1</th>\n",
       "      <td>[General Inquiry, Product Inquiry, IT Customer...</td>\n",
       "      <td>{'General Inquiry': [page_content=' The email ...</td>\n",
       "      <td>0.0</td>\n",
       "      <td>General Inquiry</td>\n",
       "    </tr>\n",
       "    <tr>\n",
       "      <th>2</th>\n",
       "      <td>[Order Processing, Order Discrepancy, Product ...</td>\n",
       "      <td>{'Order Processing': [page_content=' **Summary...</td>\n",
       "      <td>0.0</td>\n",
       "      <td>Order Processing</td>\n",
       "    </tr>\n",
       "    <tr>\n",
       "      <th>3</th>\n",
       "      <td>[Billing / Invoice, Credits, Account/Inquiry]</td>\n",
       "      <td>{'Billing / Invoice': [page_content=' The emai...</td>\n",
       "      <td>0.0</td>\n",
       "      <td>Billing / Invoice</td>\n",
       "    </tr>\n",
       "    <tr>\n",
       "      <th>4</th>\n",
       "      <td>[Order Processing, Delivery, Product Inquiry]</td>\n",
       "      <td>{'Order Processing': [page_content=' **Summary...</td>\n",
       "      <td>0.0</td>\n",
       "      <td>Order Processing</td>\n",
       "    </tr>\n",
       "  </tbody>\n",
       "</table>\n",
       "</div>"
      ],
      "text/plain": [
       "                                               step1  \\\n",
       "0  [Order Processing, Account/Inquiry, Billing / ...   \n",
       "1  [General Inquiry, Product Inquiry, IT Customer...   \n",
       "2  [Order Processing, Order Discrepancy, Product ...   \n",
       "3      [Billing / Invoice, Credits, Account/Inquiry]   \n",
       "4      [Order Processing, Delivery, Product Inquiry]   \n",
       "\n",
       "                                     step1_documents  step2         prediction  \n",
       "0  {'Order Processing': [page_content=' **Summary...    0.0   Order Processing  \n",
       "1  {'General Inquiry': [page_content=' The email ...    0.0    General Inquiry  \n",
       "2  {'Order Processing': [page_content=' **Summary...    0.0   Order Processing  \n",
       "3  {'Billing / Invoice': [page_content=' The emai...    0.0  Billing / Invoice  \n",
       "4  {'Order Processing': [page_content=' **Summary...    0.0   Order Processing  "
      ]
     },
     "execution_count": 229,
     "metadata": {},
     "output_type": "execute_result"
    }
   ],
   "source": [
    "evaluation_predictions_df = test_predictions_df[\n",
    "    ~bad_step1_mask & \\\n",
    "    ~bad_prediction_mask\n",
    "]\n",
    "evaluation_predictions_df.head()"
   ]
  },
  {
   "cell_type": "code",
   "execution_count": 230,
   "metadata": {},
   "outputs": [],
   "source": [
    "pred_kwargs = {\n",
    "    'y_true': test_summary_df.iloc[evaluation_predictions_df.index.values, :].label.tolist(),\n",
    "    'y_pred': evaluation_predictions_df.prediction\n",
    "}"
   ]
  },
  {
   "cell_type": "code",
   "execution_count": 231,
   "metadata": {},
   "outputs": [
    {
     "data": {
      "text/plain": [
       "0.4742729306487696"
      ]
     },
     "execution_count": 231,
     "metadata": {},
     "output_type": "execute_result"
    }
   ],
   "source": [
    "metrics.accuracy_score(**pred_kwargs)"
   ]
  },
  {
   "cell_type": "code",
   "execution_count": 232,
   "metadata": {},
   "outputs": [
    {
     "name": "stdout",
     "output_type": "stream",
     "text": [
      "                              precision    recall  f1-score   support\n",
      "\n",
      "             Account/Inquiry       0.43      0.13      0.20        95\n",
      "           Billing / Invoice       0.08      0.88      0.15         8\n",
      "                      Claims       0.00       nan       nan         0\n",
      "                     Credits       0.15      0.33      0.21         6\n",
      "                    Delivery       0.17      0.30      0.21        20\n",
      "             General Inquiry       0.23      0.06      0.10        50\n",
      "IT Customer Technology Issue       0.00       nan       nan         0\n",
      "           Order Discrepancy       0.46      0.76      0.58        25\n",
      "            Order Processing       0.80      0.76      0.78       190\n",
      "                     Pricing       1.00      0.25      0.40         4\n",
      "             Product Inquiry       0.46      0.30      0.36        20\n",
      "             Product Quality       0.00       nan       nan         0\n",
      "        Program / Promotions       0.00      0.00       nan         1\n",
      "                     Returns       0.57      0.43      0.49        28\n",
      "\n",
      "                    accuracy                           0.47       447\n",
      "                   macro avg       0.31      0.38      0.35       447\n",
      "                weighted avg       0.56      0.47      0.48       447\n",
      "\n"
     ]
    }
   ],
   "source": [
    "print(metrics.classification_report(**pred_kwargs, zero_division=np.nan))"
   ]
  },
  {
   "cell_type": "code",
   "execution_count": 233,
   "metadata": {},
   "outputs": [
    {
     "data": {
      "text/plain": [
       "<sklearn.metrics._plot.confusion_matrix.ConfusionMatrixDisplay at 0x152c00c90>"
      ]
     },
     "execution_count": 233,
     "metadata": {},
     "output_type": "execute_result"
    },
    {
     "data": {
      "image/png": "[encoded data removed]",
      "text/plain": [
       "<Figure size 640x480 with 2 Axes>"
      ]
     },
     "metadata": {},
     "output_type": "display_data"
    }
   ],
   "source": [
    "metrics.ConfusionMatrixDisplay.from_predictions(\n",
    "    normalize='true',\n",
    "    xticks_rotation='vertical',\n",
    "    **pred_kwargs\n",
    ")"
   ]
  },
  {
   "cell_type": "markdown",
   "metadata": {},
   "source": [
    "## Export"
   ]
  },
  {
   "cell_type": "code",
   "execution_count": 234,
   "metadata": {},
   "outputs": [],
   "source": [
    "#| hide\n",
    "import nbdev; nbdev.nbdev_export()"
   ]
  },
  {
   "cell_type": "code",
   "execution_count": null,
   "metadata": {},
   "outputs": [],
   "source": []
  }
 ],
 "metadata": {
  "kernelspec": {
   "display_name": ".venv",
   "language": "python",
   "name": "python3"
  },
  "language_info": {
   "codemirror_mode": {
    "name": "ipython",
    "version": 3
   },
   "file_extension": ".py",
   "mimetype": "text/x-python",
   "name": "python",
   "nbconvert_exporter": "python",
   "pygments_lexer": "ipython3",
   "version": "3.11.4"
  }
 },
 "nbformat": 4,
 "nbformat_minor": 2
}
