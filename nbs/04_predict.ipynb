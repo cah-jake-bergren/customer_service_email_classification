{
 "cells": [
  {
   "cell_type": "markdown",
   "metadata": {},
   "source": [
    "# predict\n",
    "\n",
    "> Use chroma, labeled instances, an LLM to predict email classification"
   ]
  },
  {
   "cell_type": "code",
   "execution_count": 1,
   "metadata": {},
   "outputs": [],
   "source": [
    "#| default_exp predict"
   ]
  },
  {
   "cell_type": "code",
   "execution_count": 142,
   "metadata": {},
   "outputs": [],
   "source": [
    "#| export\n",
    "from pathlib import Path\n",
    "import json\n",
    "from typing import List, Tuple\n",
    "import time\n",
    "from google.api_core.exceptions import ResourceExhausted\n",
    "from ratelimit import sleep_and_retry\n",
    "\n",
    "from langchain.schema import Document\n",
    "from langchain.prompts import PromptTemplate\n",
    "from langchain.vectorstores import Chroma\n",
    "from langchain.document_loaders import DataFrameLoader\n",
    "\n",
    "from classifier.schema import predict\n",
    "from classifier.load import get_possible_labels, get_training_instances, get_idx\n",
    "from classifier.process import BISON_MAXIMUM_INPUT_TOKENS\n",
    "from classifier.chroma import get_or_make_chroma, merge_summaries_with_instances"
   ]
  },
  {
   "cell_type": "code",
   "execution_count": 88,
   "metadata": {},
   "outputs": [],
   "source": [
    "from tqdm import tqdm\n",
    "import pandas as pd"
   ]
  },
  {
   "cell_type": "code",
   "execution_count": 89,
   "metadata": {},
   "outputs": [],
   "source": [
    "data_dir = Path(\"../data\")\n",
    "assert data_dir.exists()"
   ]
  },
  {
   "cell_type": "markdown",
   "metadata": {},
   "source": [
    "Load chroma with embedded summaries of labeled emails"
   ]
  },
  {
   "cell_type": "code",
   "execution_count": 90,
   "metadata": {},
   "outputs": [],
   "source": [
    "chroma = get_or_make_chroma(data_dir)"
   ]
  },
  {
   "cell_type": "markdown",
   "metadata": {},
   "source": [
    "Load our test summaries"
   ]
  },
  {
   "cell_type": "code",
   "execution_count": 91,
   "metadata": {},
   "outputs": [
    {
     "data": {
      "text/html": [
       "<div>\n",
       "<style scoped>\n",
       "    .dataframe tbody tr th:only-of-type {\n",
       "        vertical-align: middle;\n",
       "    }\n",
       "\n",
       "    .dataframe tbody tr th {\n",
       "        vertical-align: top;\n",
       "    }\n",
       "\n",
       "    .dataframe thead th {\n",
       "        text-align: right;\n",
       "    }\n",
       "</style>\n",
       "<table border=\"1\" class=\"dataframe\">\n",
       "  <thead>\n",
       "    <tr style=\"text-align: right;\">\n",
       "      <th></th>\n",
       "      <th>summary</th>\n",
       "    </tr>\n",
       "  </thead>\n",
       "  <tbody>\n",
       "    <tr>\n",
       "      <th>0</th>\n",
       "      <td>The customer received an invoice from Cardina...</td>\n",
       "    </tr>\n",
       "    <tr>\n",
       "      <th>1</th>\n",
       "      <td>The customer received an email from the State...</td>\n",
       "    </tr>\n",
       "    <tr>\n",
       "      <th>2</th>\n",
       "      <td>The customer would like to place a new order ...</td>\n",
       "    </tr>\n",
       "    <tr>\n",
       "      <th>3</th>\n",
       "      <td>The customer, State of Florida Next Gen, upda...</td>\n",
       "    </tr>\n",
       "    <tr>\n",
       "      <th>4</th>\n",
       "      <td>The customer is inquiring about an order plac...</td>\n",
       "    </tr>\n",
       "  </tbody>\n",
       "</table>\n",
       "</div>"
      ],
      "text/plain": [
       "                                             summary\n",
       "0   The customer received an invoice from Cardina...\n",
       "1   The customer received an email from the State...\n",
       "2   The customer would like to place a new order ...\n",
       "3   The customer, State of Florida Next Gen, upda...\n",
       "4   The customer is inquiring about an order plac..."
      ]
     },
     "execution_count": 91,
     "metadata": {},
     "output_type": "execute_result"
    }
   ],
   "source": [
    "summary_path = data_dir / \"summaries.csv\"\n",
    "assert summary_path.exists()\n",
    "summaries = pd.read_csv(summary_path)\n",
    "summaries.head(5)"
   ]
  },
  {
   "cell_type": "code",
   "execution_count": 92,
   "metadata": {},
   "outputs": [],
   "source": [
    "training_instances = list(get_training_instances())"
   ]
  },
  {
   "cell_type": "code",
   "execution_count": 93,
   "metadata": {},
   "outputs": [
    {
     "data": {
      "text/html": [
       "<div>\n",
       "<style scoped>\n",
       "    .dataframe tbody tr th:only-of-type {\n",
       "        vertical-align: middle;\n",
       "    }\n",
       "\n",
       "    .dataframe tbody tr th {\n",
       "        vertical-align: top;\n",
       "    }\n",
       "\n",
       "    .dataframe thead th {\n",
       "        text-align: right;\n",
       "    }\n",
       "</style>\n",
       "<table border=\"1\" class=\"dataframe\">\n",
       "  <thead>\n",
       "    <tr style=\"text-align: right;\">\n",
       "      <th></th>\n",
       "      <th>summary</th>\n",
       "      <th>BU</th>\n",
       "      <th>case_number</th>\n",
       "      <th>ACCOUNT_BUSINESS_UNIT__C</th>\n",
       "      <th>received_at</th>\n",
       "      <th>sfdc_subcategory</th>\n",
       "      <th>predicted_category</th>\n",
       "      <th>predicted_subcategory</th>\n",
       "      <th>record_type</th>\n",
       "      <th>probability</th>\n",
       "      <th>Accuracy_upd</th>\n",
       "      <th>Bin</th>\n",
       "      <th>label</th>\n",
       "      <th>email_subject</th>\n",
       "      <th>email_body</th>\n",
       "    </tr>\n",
       "    <tr>\n",
       "      <th>idx</th>\n",
       "      <th></th>\n",
       "      <th></th>\n",
       "      <th></th>\n",
       "      <th></th>\n",
       "      <th></th>\n",
       "      <th></th>\n",
       "      <th></th>\n",
       "      <th></th>\n",
       "      <th></th>\n",
       "      <th></th>\n",
       "      <th></th>\n",
       "      <th></th>\n",
       "      <th></th>\n",
       "      <th></th>\n",
       "      <th></th>\n",
       "    </tr>\n",
       "  </thead>\n",
       "  <tbody>\n",
       "    <tr>\n",
       "      <th>20775</th>\n",
       "      <td>The customer received an invoice from Cardina...</td>\n",
       "      <td>PD</td>\n",
       "      <td>3553288</td>\n",
       "      <td>a1G4z00000H6C4aEAF</td>\n",
       "      <td>2023-10-13T12:37:20</td>\n",
       "      <td>Billing Statements</td>\n",
       "      <td>Billing / Invoice</td>\n",
       "      <td>NaN</td>\n",
       "      <td>1</td>\n",
       "      <td>0.474032</td>\n",
       "      <td>Correct</td>\n",
       "      <td>4</td>\n",
       "      <td>Billing / Invoice</td>\n",
       "      <td>Invoices 1 of 1 for 2057199110 , TEXAS INSTITU...</td>\n",
       "      <td>Dear Valued Customer,  Your Cardinal Health in...</td>\n",
       "    </tr>\n",
       "    <tr>\n",
       "      <th>46774</th>\n",
       "      <td>The customer received an email from the State...</td>\n",
       "      <td>PD</td>\n",
       "      <td>3658829</td>\n",
       "      <td>NaN</td>\n",
       "      <td>2023-11-29T20:25:47</td>\n",
       "      <td>Account updates</td>\n",
       "      <td>Billing / Invoice</td>\n",
       "      <td>NaN</td>\n",
       "      <td>1</td>\n",
       "      <td>0.566661</td>\n",
       "      <td>Incorrect</td>\n",
       "      <td>5</td>\n",
       "      <td>Account/Inquiry</td>\n",
       "      <td>Invoice status from State of Florida Next Gen</td>\n",
       "      <td>External Email â€“ Please use caution before o...</td>\n",
       "    </tr>\n",
       "  </tbody>\n",
       "</table>\n",
       "</div>"
      ],
      "text/plain": [
       "                                                 summary  BU  case_number  \\\n",
       "idx                                                                         \n",
       "20775   The customer received an invoice from Cardina...  PD      3553288   \n",
       "46774   The customer received an email from the State...  PD      3658829   \n",
       "\n",
       "      ACCOUNT_BUSINESS_UNIT__C          received_at    sfdc_subcategory  \\\n",
       "idx                                                                       \n",
       "20775       a1G4z00000H6C4aEAF  2023-10-13T12:37:20  Billing Statements   \n",
       "46774                      NaN  2023-11-29T20:25:47     Account updates   \n",
       "\n",
       "      predicted_category predicted_subcategory  record_type  probability  \\\n",
       "idx                                                                        \n",
       "20775  Billing / Invoice                   NaN            1     0.474032   \n",
       "46774  Billing / Invoice                   NaN            1     0.566661   \n",
       "\n",
       "      Accuracy_upd  Bin              label  \\\n",
       "idx                                          \n",
       "20775      Correct    4  Billing / Invoice   \n",
       "46774    Incorrect    5    Account/Inquiry   \n",
       "\n",
       "                                           email_subject  \\\n",
       "idx                                                        \n",
       "20775  Invoices 1 of 1 for 2057199110 , TEXAS INSTITU...   \n",
       "46774      Invoice status from State of Florida Next Gen   \n",
       "\n",
       "                                              email_body  \n",
       "idx                                                       \n",
       "20775  Dear Valued Customer,  Your Cardinal Health in...  \n",
       "46774  External Email â€“ Please use caution before o...  "
      ]
     },
     "execution_count": 93,
     "metadata": {},
     "output_type": "execute_result"
    }
   ],
   "source": [
    "chroma_document_frame = merge_summaries_with_instances(\n",
    "    summaries,\n",
    "    training_instances\n",
    ")\n",
    "chroma_document_frame.head(2)"
   ]
  },
  {
   "cell_type": "code",
   "execution_count": 94,
   "metadata": {},
   "outputs": [],
   "source": [
    "train_idx, test_idx = get_idx()"
   ]
  },
  {
   "cell_type": "code",
   "execution_count": 95,
   "metadata": {},
   "outputs": [
    {
     "data": {
      "text/html": [
       "<div>\n",
       "<style scoped>\n",
       "    .dataframe tbody tr th:only-of-type {\n",
       "        vertical-align: middle;\n",
       "    }\n",
       "\n",
       "    .dataframe tbody tr th {\n",
       "        vertical-align: top;\n",
       "    }\n",
       "\n",
       "    .dataframe thead th {\n",
       "        text-align: right;\n",
       "    }\n",
       "</style>\n",
       "<table border=\"1\" class=\"dataframe\">\n",
       "  <thead>\n",
       "    <tr style=\"text-align: right;\">\n",
       "      <th></th>\n",
       "      <th>summary</th>\n",
       "      <th>BU</th>\n",
       "      <th>case_number</th>\n",
       "      <th>ACCOUNT_BUSINESS_UNIT__C</th>\n",
       "      <th>received_at</th>\n",
       "      <th>sfdc_subcategory</th>\n",
       "      <th>predicted_category</th>\n",
       "      <th>predicted_subcategory</th>\n",
       "      <th>record_type</th>\n",
       "      <th>probability</th>\n",
       "      <th>Accuracy_upd</th>\n",
       "      <th>Bin</th>\n",
       "      <th>label</th>\n",
       "      <th>email_subject</th>\n",
       "      <th>email_body</th>\n",
       "    </tr>\n",
       "    <tr>\n",
       "      <th>idx</th>\n",
       "      <th></th>\n",
       "      <th></th>\n",
       "      <th></th>\n",
       "      <th></th>\n",
       "      <th></th>\n",
       "      <th></th>\n",
       "      <th></th>\n",
       "      <th></th>\n",
       "      <th></th>\n",
       "      <th></th>\n",
       "      <th></th>\n",
       "      <th></th>\n",
       "      <th></th>\n",
       "      <th></th>\n",
       "      <th></th>\n",
       "    </tr>\n",
       "  </thead>\n",
       "  <tbody>\n",
       "    <tr>\n",
       "      <th>50493</th>\n",
       "      <td>- Customer inquiry about a possible overage o...</td>\n",
       "      <td>PD</td>\n",
       "      <td>3671369</td>\n",
       "      <td>NaN</td>\n",
       "      <td>2023-12-05T16:02:05</td>\n",
       "      <td>Account balance</td>\n",
       "      <td>Billing / Invoice</td>\n",
       "      <td>NaN</td>\n",
       "      <td>1</td>\n",
       "      <td>0.349415</td>\n",
       "      <td>Correct</td>\n",
       "      <td>3</td>\n",
       "      <td>Billing / Invoice</td>\n",
       "      <td>Customer Inquiry Possible overage CINI 5813233...</td>\n",
       "      <td>Hello Team\\n\\nCan you please reach out to the ...</td>\n",
       "    </tr>\n",
       "    <tr>\n",
       "      <th>13780</th>\n",
       "      <td>The customer, Lauren Walsh from Sanofi, sent ...</td>\n",
       "      <td>SPD</td>\n",
       "      <td>3524801</td>\n",
       "      <td>NaN</td>\n",
       "      <td>2023-10-02T19:22:23</td>\n",
       "      <td>Order Placement</td>\n",
       "      <td>General Inquiry</td>\n",
       "      <td>NaN</td>\n",
       "      <td>2</td>\n",
       "      <td>0.732580</td>\n",
       "      <td>Correct</td>\n",
       "      <td>7</td>\n",
       "      <td>General Inquiry</td>\n",
       "      <td>new po</td>\n",
       "      <td>Good afternoon,  please reach out to acct #215...</td>\n",
       "    </tr>\n",
       "  </tbody>\n",
       "</table>\n",
       "</div>"
      ],
      "text/plain": [
       "                                                 summary   BU  case_number  \\\n",
       "idx                                                                          \n",
       "50493   - Customer inquiry about a possible overage o...   PD      3671369   \n",
       "13780   The customer, Lauren Walsh from Sanofi, sent ...  SPD      3524801   \n",
       "\n",
       "      ACCOUNT_BUSINESS_UNIT__C          received_at sfdc_subcategory  \\\n",
       "idx                                                                    \n",
       "50493                      NaN  2023-12-05T16:02:05  Account balance   \n",
       "13780                      NaN  2023-10-02T19:22:23  Order Placement   \n",
       "\n",
       "      predicted_category predicted_subcategory  record_type  probability  \\\n",
       "idx                                                                        \n",
       "50493  Billing / Invoice                   NaN            1     0.349415   \n",
       "13780    General Inquiry                   NaN            2     0.732580   \n",
       "\n",
       "      Accuracy_upd  Bin              label  \\\n",
       "idx                                          \n",
       "50493      Correct    3  Billing / Invoice   \n",
       "13780      Correct    7    General Inquiry   \n",
       "\n",
       "                                           email_subject  \\\n",
       "idx                                                        \n",
       "50493  Customer Inquiry Possible overage CINI 5813233...   \n",
       "13780                                             new po   \n",
       "\n",
       "                                              email_body  \n",
       "idx                                                       \n",
       "50493  Hello Team\\n\\nCan you please reach out to the ...  \n",
       "13780  Good afternoon,  please reach out to acct #215...  "
      ]
     },
     "execution_count": 95,
     "metadata": {},
     "output_type": "execute_result"
    }
   ],
   "source": [
    "test_frame = chroma_document_frame.loc[test_idx, :]\n",
    "test_frame.head(2)"
   ]
  },
  {
   "cell_type": "code",
   "execution_count": 96,
   "metadata": {},
   "outputs": [],
   "source": [
    "test_documents = DataFrameLoader(test_frame.reset_index(drop=False), page_content_column='summary').load()"
   ]
  },
  {
   "cell_type": "markdown",
   "metadata": {},
   "source": [
    "## Prediction prompt"
   ]
  },
  {
   "cell_type": "code",
   "execution_count": 97,
   "metadata": {},
   "outputs": [
    {
     "data": {
      "text/plain": [
       "['Order Processing',\n",
       " 'Product Inquiry',\n",
       " 'Account/Inquiry',\n",
       " 'General Inquiry',\n",
       " 'Returns',\n",
       " 'Billing / Invoice',\n",
       " 'Delivery',\n",
       " 'Credits',\n",
       " 'Order Discrepancy',\n",
       " 'Pricing',\n",
       " 'Program / Promotions']"
      ]
     },
     "execution_count": 97,
     "metadata": {},
     "output_type": "execute_result"
    }
   ],
   "source": [
    "labels = get_possible_labels()\n",
    "labels"
   ]
  },
  {
   "cell_type": "code",
   "execution_count": 124,
   "metadata": {},
   "outputs": [],
   "source": [
    "#| export\n",
    "EMAIL_LABEL_SEP = \"|||\"\n",
    "\n",
    "LABEL_STR = \"\"\"- Order Processing\n",
    "- Product Inquiry\n",
    "- Account/Inquiry\n",
    "- General Inquiry\n",
    "- Returns\n",
    "- Billing / Invoice\n",
    "- Delivery\n",
    "- Credits\n",
    "- Order Discrepancy\n",
    "- Pricing\n",
    "- Program / Promotions\n",
    "\n",
    "\"\"\"\n",
    "\n",
    "PREDICTION_PROMPT_TEMPLATE = \"\"\"\\\n",
    "Our customer service team wants to classify emails so they can be sent to the right support team.\n",
    "Here are the labels they use.\n",
    "\n",
    "--LABELS--\n",
    "\"\"\" + LABEL_STR + \"\"\"\n",
    "\n",
    "Below are a series of emails that have already been labeled, use their example to identify what label the final email should get.\n",
    "Your answer must be one of the options in the --LABELS-- list.\n",
    "Return only the label from the above list that you chose.\n",
    "\n",
    "--EMAILS--\n",
    "{examples}\n",
    "EMAIL: {email} \"\"\" + f\"{EMAIL_LABEL_SEP} LABEL: \"\n",
    "\n",
    "PREDICTION_PROMPT = PromptTemplate.from_template(PREDICTION_PROMPT_TEMPLATE)"
   ]
  },
  {
   "cell_type": "code",
   "execution_count": 125,
   "metadata": {},
   "outputs": [
    {
     "data": {
      "text/plain": [
       "PromptTemplate(input_variables=['email', 'examples'], template='Our customer service team wants to classify emails so they can be sent to the right support team.\\nHere are the labels they use.\\n\\n--LABELS--\\n- Order Processing\\n- Product Inquiry\\n- Account/Inquiry\\n- General Inquiry\\n- Returns\\n- Billing / Invoice\\n- Delivery\\n- Credits\\n- Order Discrepancy\\n- Pricing\\n- Program / Promotions\\n\\n\\n\\nBelow are a series of emails that have already been labeled, use their example to identify what label the final email should get.\\nYour answer must be one of the options in the --LABELS-- list.\\nReturn only the label from the above list that you chose.\\n\\n--EMAILS--\\n{examples}\\nEMAIL: {email} ||| LABEL: ')"
      ]
     },
     "execution_count": 125,
     "metadata": {},
     "output_type": "execute_result"
    }
   ],
   "source": [
    "PREDICTION_PROMPT"
   ]
  },
  {
   "cell_type": "code",
   "execution_count": 126,
   "metadata": {},
   "outputs": [],
   "source": [
    "#| export\n",
    "def filter_examples(examples: List[Document], idx: int) -> List[Document]:\n",
    "    return [e for e in examples if int(e.metadata.get('idx')) != int(idx)]"
   ]
  },
  {
   "cell_type": "code",
   "execution_count": 127,
   "metadata": {},
   "outputs": [
    {
     "data": {
      "text/plain": [
       "3"
      ]
     },
     "execution_count": 127,
     "metadata": {},
     "output_type": "execute_result"
    }
   ],
   "source": [
    "example_retrieved_documents = chroma.similarity_search(\n",
    "    test_documents[0].page_content, \n",
    "    k=3)\n",
    "len(example_retrieved_documents)"
   ]
  },
  {
   "cell_type": "code",
   "execution_count": 128,
   "metadata": {},
   "outputs": [
    {
     "data": {
      "text/plain": [
       "3"
      ]
     },
     "execution_count": 128,
     "metadata": {},
     "output_type": "execute_result"
    }
   ],
   "source": [
    "len(filter_examples(example_retrieved_documents, test_documents[0].metadata['idx']))"
   ]
  },
  {
   "cell_type": "code",
   "execution_count": 129,
   "metadata": {},
   "outputs": [
    {
     "data": {
      "text/plain": [
       "900"
      ]
     },
     "execution_count": 129,
     "metadata": {},
     "output_type": "execute_result"
    }
   ],
   "source": [
    "len(chroma.get()['ids'])"
   ]
  },
  {
   "cell_type": "code",
   "execution_count": 130,
   "metadata": {},
   "outputs": [],
   "source": [
    "#| export\n",
    "def format_example(example: Document) -> str:\n",
    "    return f\"EMAIL: {example.page_content.strip()} {EMAIL_LABEL_SEP} LABEL: {example.metadata.get('label')}\"\n",
    "\n",
    "\n",
    "def make_prediction_prompt(\n",
    "        email_summary: Document,\n",
    "        chroma: Chroma,\n",
    "        limit: int = None\n",
    ") -> str:\n",
    "    idx = email_summary.metadata.get('idx')\n",
    "    k = 5\n",
    "    prompt = None\n",
    "    keep_stuffing = True\n",
    "    max_k = len(chroma.get()['ids']) if limit is None else limit\n",
    "    while keep_stuffing:\n",
    "        examples = chroma.similarity_search(email_summary.page_content, k=k)\n",
    "        examples = filter_examples(examples, idx)\n",
    "        if len(examples) == 0:\n",
    "            k += 5\n",
    "            continue\n",
    "        else:\n",
    "            example_str = \"\"\n",
    "            for e in examples:\n",
    "                e_formatted = format_example(e)\n",
    "                if len(example_str) == 0:\n",
    "                    example_str = e_formatted\n",
    "                else:\n",
    "                    example_str = example_str + \"\\n\" + e_formatted\n",
    "                prompt = PREDICTION_PROMPT.format(\n",
    "                    email=email_summary.page_content,\n",
    "                    examples=example_str\n",
    "                )\n",
    "                if len(prompt) >= BISON_MAXIMUM_INPUT_TOKENS:\n",
    "                    keep_stuffing = False\n",
    "                    break\n",
    "        k += 5\n",
    "        if k >= max_k:\n",
    "            keep_stuffing = False\n",
    "    return prompt"
   ]
  },
  {
   "cell_type": "code",
   "execution_count": 131,
   "metadata": {},
   "outputs": [
    {
     "name": "stdout",
     "output_type": "stream",
     "text": [
      "2305\n",
      "Our customer service team wants to classify emails so they can be sent to the right support team.\n",
      "Here are the labels they use.\n",
      "\n",
      "--LABELS--\n",
      "- Order Processing\n",
      "- Product Inquiry\n",
      "- Account/Inquiry\n",
      "- General Inquiry\n",
      "- Returns\n",
      "- Billing / Invoice\n",
      "- Delivery\n",
      "- Credits\n",
      "- Order Discrepancy\n",
      "- Pricing\n",
      "- Program / Promotions\n",
      "\n",
      "\n",
      "\n",
      "Below are a series of emails that have already been labeled, use their example to identify what label the final email should get.\n",
      "Your answer must be one of the options in the --LABELS-- list.\n",
      "Return only the label from the above list that you chose.\n",
      "\n",
      "--EMAILS--\n",
      "EMAIL: - Item 5681788 (NABI-HB SF 312U/ML 5ML) is short by 8 units, resulting in a total shortage value of $5,846.48.\n",
      "- The last time this item was counted was on 9/21/2023.\n",
      "- The customer wants to check with the accounts listed in the attached file to inquire about a possible overage of this item.\n",
      "- The item hasn't had many sales recently. ||| LABEL: Order Discrepancy\n",
      "EMAIL: The customer is reporting a shortage in their order (PO 3167554). They are requesting credit with no reshipment for the following items:\n",
      "\n",
      "- 1 CS MFG: 8507SA\n",
      "- 6 CS MFG: 8888301622\n",
      "- 2 CS MFG: 8888565044\n",
      "- 1 CS MFG: 8888565036 ||| LABEL: Order Discrepancy\n",
      "EMAIL: - Customer HACIENDA PHARMACY received a delivery on 9/29.\n",
      "- The delivery may have included an overage of CIN 4756599 qty 1.\n",
      "- The customer needs to be contacted to confirm if they received the overage.\n",
      "- The case number associated with this issue is CASE 3521399. ||| LABEL: Order Discrepancy\n",
      "EMAIL: **Customer:** SMH IP GPO 15-728929 (15-2057198198)\n",
      "\n",
      "**Issue:** Missing product (CLEVIPREX SD 0.5MG/ML 10X50ML) from tote.\n",
      "\n",
      "**Quantity:** 1\n",
      "\n",
      "**Invoice Number:** 7332585681\n",
      "\n",
      "**Container Number:** 902423898\n",
      "\n",
      "**Product Number:** 5376694\n",
      "\n",
      "**Date:** 10/20/2023\n",
      "\n",
      "** ||| LABEL: Order Discrepancy\n",
      "EMAIL: **Customer:** Colin\n",
      "**Issue:** Missing order\n",
      "**Order Number:** 3\n",
      "**Order Date:** 10/16/23\n",
      "**Account Number:** 2057192038\n",
      "**PO Number:** 2448309SPD\n",
      "**CIN:** 3713955\n",
      "**Quantity:** 2 ||| LABEL: Order Processing\n",
      "EMAIL:  - Customer inquiry about a possible overage of CIN 5813233 qty 6.\n",
      "- Item #5813233 CRESEMBA CP 186MG is missing 6pcs (- $ 8,990.1).\n",
      "- Last counted in October, customer is asked to check from last week and yesterday.\n",
      "- Customer contact information is attached. ||| LABEL: \n"
     ]
    }
   ],
   "source": [
    "example_prompt = make_prediction_prompt(\n",
    "    test_documents[0], \n",
    "    chroma=chroma,\n",
    "    limit=3\n",
    ")\n",
    "print(len(example_prompt))\n",
    "print(example_prompt)"
   ]
  },
  {
   "cell_type": "code",
   "execution_count": 132,
   "metadata": {},
   "outputs": [
    {
     "data": {
      "text/plain": [
       " Order Discrepancy"
      ]
     },
     "execution_count": 132,
     "metadata": {},
     "output_type": "execute_result"
    }
   ],
   "source": [
    "predict(example_prompt)"
   ]
  },
  {
   "cell_type": "code",
   "execution_count": 133,
   "metadata": {},
   "outputs": [
    {
     "name": "stderr",
     "output_type": "stream",
     "text": [
      "                                                                                \r"
     ]
    }
   ],
   "source": [
    "test_prompts = [\n",
    "    make_prediction_prompt(s, chroma, 3) for s in tqdm(\n",
    "        test_documents, \n",
    "        leave=False, \n",
    "        ncols=80)]"
   ]
  },
  {
   "cell_type": "code",
   "execution_count": 143,
   "metadata": {},
   "outputs": [
    {
     "name": "stderr",
     "output_type": "stream",
     "text": [
      "                                                                                \r"
     ]
    }
   ],
   "source": [
    "test_predictions = []\n",
    "\n",
    "for p in tqdm(test_prompts, ncols=80, leave=False):\n",
    "    sleep_time = 1\n",
    "    try:\n",
    "        p_prediction = predict(p)\n",
    "    except ResourceExhausted:\n",
    "        while True:\n",
    "            try:\n",
    "                p_prediction = predict(p)\n",
    "                break\n",
    "            except ResourceExhausted:\n",
    "                time.sleep(sleep_time)\n",
    "                sleep_time = sleep_time * 2\n",
    "    test_predictions.append(p_prediction.text.strip())"
   ]
  },
  {
   "cell_type": "code",
   "execution_count": 144,
   "metadata": {},
   "outputs": [
    {
     "data": {
      "text/plain": [
       "100"
      ]
     },
     "execution_count": 144,
     "metadata": {},
     "output_type": "execute_result"
    }
   ],
   "source": [
    "len(test_predictions)"
   ]
  },
  {
   "cell_type": "code",
   "execution_count": 145,
   "metadata": {},
   "outputs": [
    {
     "data": {
      "text/plain": [
       "'Order Discrepancy'"
      ]
     },
     "execution_count": 145,
     "metadata": {},
     "output_type": "execute_result"
    }
   ],
   "source": [
    "test_predictions[0]"
   ]
  },
  {
   "cell_type": "code",
   "execution_count": 146,
   "metadata": {},
   "outputs": [],
   "source": [
    "test_labels = [d.metadata.get('label') for d in test_documents]"
   ]
  },
  {
   "cell_type": "code",
   "execution_count": 147,
   "metadata": {},
   "outputs": [
    {
     "data": {
      "text/plain": [
       "Order Processing        38\n",
       "Account/Inquiry         18\n",
       "Order Discrepancy       13\n",
       "Returns                  8\n",
       "Billing / Invoice        6\n",
       "Pricing                  4\n",
       "Delivery                 3\n",
       "Credits                  3\n",
       "Product Inquiry          3\n",
       "General Inquiry          3\n",
       "Program / Promotions     1\n",
       "Name: count, dtype: int64"
      ]
     },
     "execution_count": 147,
     "metadata": {},
     "output_type": "execute_result"
    }
   ],
   "source": [
    "pd.Series(test_predictions).value_counts()"
   ]
  },
  {
   "cell_type": "code",
   "execution_count": 148,
   "metadata": {},
   "outputs": [],
   "source": [
    "pd.DataFrame(\n",
    "    list(zip(\n",
    "        test_predictions, \n",
    "        [d.metadata.get('label') for d in test_documents],\n",
    "        [d.metadata.get('idx') for d in test_documents])),\n",
    "    columns=['pred', 'label', 'idx']\n",
    ").to_csv(data_dir / 'sample_predictions.csv', index=False)"
   ]
  },
  {
   "cell_type": "code",
   "execution_count": 149,
   "metadata": {},
   "outputs": [],
   "source": [
    "#| hide\n",
    "import nbdev; nbdev.nbdev_export()"
   ]
  },
  {
   "cell_type": "code",
   "execution_count": null,
   "metadata": {},
   "outputs": [],
   "source": []
  }
 ],
 "metadata": {
  "kernelspec": {
   "display_name": ".venv",
   "language": "python",
   "name": "python3"
  },
  "language_info": {
   "codemirror_mode": {
    "name": "ipython",
    "version": 3
   },
   "file_extension": ".py",
   "mimetype": "text/x-python",
   "name": "python",
   "nbconvert_exporter": "python",
   "pygments_lexer": "ipython3",
   "version": "3.11.4"
  }
 },
 "nbformat": 4,
 "nbformat_minor": 2
}
