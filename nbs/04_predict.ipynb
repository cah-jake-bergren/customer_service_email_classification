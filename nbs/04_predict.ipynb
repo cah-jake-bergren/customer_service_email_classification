{
 "cells": [
  {
   "cell_type": "markdown",
   "metadata": {},
   "source": [
    "# predict\n",
    "\n",
    "> Use chroma, labeled instances, an LLM to predict email classification"
   ]
  },
  {
   "cell_type": "code",
   "execution_count": 1,
   "metadata": {},
   "outputs": [],
   "source": [
    "#| default_exp predict"
   ]
  },
  {
   "cell_type": "code",
   "execution_count": 107,
   "metadata": {},
   "outputs": [],
   "source": [
    "#| export\n",
    "from pathlib import Path\n",
    "import json\n",
    "from typing import List, Tuple\n",
    "import time\n",
    "from tqdm import tqdm\n",
    "import pandas as pd\n",
    "\n",
    "import chromadb\n",
    "from langchain.schema import Document\n",
    "from langchain.prompts import PromptTemplate\n",
    "from langchain.vectorstores import Chroma\n",
    "from langchain.document_loaders import DataFrameLoader\n",
    "from langchain.llms import VertexAI\n",
    "\n",
    "from classifier.schema import predict, quota_handler, WRITE_PREFIX, PROJECT_BUCKET\n",
    "from classifier.load import get_possible_labels, get_emails_from_frame, get_idx, LABEL_COLUMN, \\\n",
    "    get_raw_emails_tejas_case_numbers, get_batches\n",
    "from classifier.process import BISON_MAXIMUM_INPUT_TOKENS\n",
    "from classifier.chroma import get_or_make_chroma, get_embedder, \\\n",
    "    read_json_lines_from_gcs"
   ]
  },
  {
   "cell_type": "code",
   "execution_count": 6,
   "metadata": {},
   "outputs": [],
   "source": [
    "data_dir = Path(\"../data\")\n",
    "assert data_dir.exists()\n",
    "tejas_dir = data_dir / \"tejas\"\n",
    "assert tejas_dir.exists() and len(list(tejas_dir.glob(\"*\"))) > 0"
   ]
  },
  {
   "cell_type": "markdown",
   "metadata": {},
   "source": [
    "## Load chroma with embedded summaries of labeled emails"
   ]
  },
  {
   "cell_type": "code",
   "execution_count": 7,
   "metadata": {},
   "outputs": [],
   "source": [
    "chroma = get_or_make_chroma(tejas_dir)"
   ]
  },
  {
   "cell_type": "code",
   "execution_count": 8,
   "metadata": {},
   "outputs": [],
   "source": [
    "# chroma_10k = Chroma(\n",
    "#     collection_name=\"emails\",\n",
    "#     client=chromadb.PersistentClient(path=str((data_dir / \"chroma_10k\").resolve())),\n",
    "#     embedding_function=get_embedder()\n",
    "# )"
   ]
  },
  {
   "cell_type": "markdown",
   "metadata": {},
   "source": [
    "## Load our test summaries"
   ]
  },
  {
   "cell_type": "code",
   "execution_count": 10,
   "metadata": {},
   "outputs": [],
   "source": [
    "## Local\n",
    "# summary_path = data_dir / \"summaries.csv\"\n",
    "# assert summary_path.exists()\n",
    "# summaries = pd.read_csv(summary_path)\n",
    "# summaries.head(5)"
   ]
  },
  {
   "cell_type": "code",
   "execution_count": 9,
   "metadata": {},
   "outputs": [
    {
     "data": {
      "text/html": [
       "<div>\n",
       "<style scoped>\n",
       "    .dataframe tbody tr th:only-of-type {\n",
       "        vertical-align: middle;\n",
       "    }\n",
       "\n",
       "    .dataframe tbody tr th {\n",
       "        vertical-align: top;\n",
       "    }\n",
       "\n",
       "    .dataframe thead th {\n",
       "        text-align: right;\n",
       "    }\n",
       "</style>\n",
       "<table border=\"1\" class=\"dataframe\">\n",
       "  <thead>\n",
       "    <tr style=\"text-align: right;\">\n",
       "      <th></th>\n",
       "      <th>idx</th>\n",
       "      <th>summary</th>\n",
       "    </tr>\n",
       "  </thead>\n",
       "  <tbody>\n",
       "    <tr>\n",
       "      <th>0</th>\n",
       "      <td>31716</td>\n",
       "      <td>Pavlina Georgieva (Logistics Coordinator) sen...</td>\n",
       "    </tr>\n",
       "    <tr>\n",
       "      <th>1</th>\n",
       "      <td>35200</td>\n",
       "      <td>**Summary**\\n\\nA customer reached out to Card...</td>\n",
       "    </tr>\n",
       "    <tr>\n",
       "      <th>2</th>\n",
       "      <td>462</td>\n",
       "      <td>**Subject**: Invoice 7322207358 - State of Fl...</td>\n",
       "    </tr>\n",
       "    <tr>\n",
       "      <th>3</th>\n",
       "      <td>3705</td>\n",
       "      <td>**Subject**: ACTION REQUIRED | Additional Inf...</td>\n",
       "    </tr>\n",
       "    <tr>\n",
       "      <th>4</th>\n",
       "      <td>25300</td>\n",
       "      <td>**Subject**: Paid - Invoice 7328757492\\n\\n**C...</td>\n",
       "    </tr>\n",
       "  </tbody>\n",
       "</table>\n",
       "</div>"
      ],
      "text/plain": [
       "     idx                                            summary\n",
       "0  31716   Pavlina Georgieva (Logistics Coordinator) sen...\n",
       "1  35200   **Summary**\\n\\nA customer reached out to Card...\n",
       "2    462   **Subject**: Invoice 7322207358 - State of Fl...\n",
       "3   3705   **Subject**: ACTION REQUIRED | Additional Inf...\n",
       "4  25300   **Subject**: Paid - Invoice 7328757492\\n\\n**C..."
      ]
     },
     "execution_count": 9,
     "metadata": {},
     "output_type": "execute_result"
    }
   ],
   "source": [
    "summaries_path = f'gs://{PROJECT_BUCKET}/{WRITE_PREFIX}/tejas/summaries.csv'\n",
    "summaries = pd.read_csv(summaries_path)\n",
    "summaries.rename({\"Unnamed: 0\": \"idx\"}, axis=1, inplace=True)\n",
    "summaries.head(5)"
   ]
  },
  {
   "cell_type": "code",
   "execution_count": 11,
   "metadata": {},
   "outputs": [],
   "source": [
    "train_idx, test_idx = get_idx(prefix=f\"{WRITE_PREFIX}/tejas\")"
   ]
  },
  {
   "cell_type": "code",
   "execution_count": 13,
   "metadata": {},
   "outputs": [],
   "source": [
    "raw_emails_tejas = get_raw_emails_tejas_case_numbers()\n",
    "emails = list(get_emails_from_frame(\n",
    "    raw_emails_tejas,\n",
    "    index_prefix=f'{WRITE_PREFIX}/tejas'\n",
    "))"
   ]
  },
  {
   "cell_type": "code",
   "execution_count": 15,
   "metadata": {},
   "outputs": [
    {
     "data": {
      "text/html": [
       "<div>\n",
       "<style scoped>\n",
       "    .dataframe tbody tr th:only-of-type {\n",
       "        vertical-align: middle;\n",
       "    }\n",
       "\n",
       "    .dataframe tbody tr th {\n",
       "        vertical-align: top;\n",
       "    }\n",
       "\n",
       "    .dataframe thead th {\n",
       "        text-align: right;\n",
       "    }\n",
       "</style>\n",
       "<table border=\"1\" class=\"dataframe\">\n",
       "  <thead>\n",
       "    <tr style=\"text-align: right;\">\n",
       "      <th></th>\n",
       "      <th>BU</th>\n",
       "      <th>case_number</th>\n",
       "      <th>ACCOUNT_BUSINESS_UNIT__C</th>\n",
       "      <th>received_at</th>\n",
       "      <th>sfdc_subcategory</th>\n",
       "      <th>predicted_category</th>\n",
       "      <th>predicted_subcategory</th>\n",
       "      <th>record_type</th>\n",
       "      <th>probability</th>\n",
       "      <th>Accuracy_upd</th>\n",
       "      <th>Bin</th>\n",
       "      <th>label</th>\n",
       "      <th>email_subject</th>\n",
       "      <th>email_body</th>\n",
       "      <th>summary</th>\n",
       "    </tr>\n",
       "    <tr>\n",
       "      <th>idx</th>\n",
       "      <th></th>\n",
       "      <th></th>\n",
       "      <th></th>\n",
       "      <th></th>\n",
       "      <th></th>\n",
       "      <th></th>\n",
       "      <th></th>\n",
       "      <th></th>\n",
       "      <th></th>\n",
       "      <th></th>\n",
       "      <th></th>\n",
       "      <th></th>\n",
       "      <th></th>\n",
       "      <th></th>\n",
       "      <th></th>\n",
       "    </tr>\n",
       "  </thead>\n",
       "  <tbody>\n",
       "    <tr>\n",
       "      <th>31716</th>\n",
       "      <td>PD</td>\n",
       "      <td>3598350</td>\n",
       "      <td>NaN</td>\n",
       "      <td>2023-11-01T19:40:57</td>\n",
       "      <td>Drop Ship Order</td>\n",
       "      <td>Order Processing</td>\n",
       "      <td>Drop Ship Order</td>\n",
       "      <td>1</td>\n",
       "      <td>0.576672</td>\n",
       "      <td>Correct</td>\n",
       "      <td>5</td>\n",
       "      <td>Order Processing</td>\n",
       "      <td>Equashield latest - FW: EQ II Catalog 2023 - C...</td>\n",
       "      <td>External Email â€“ Please use caution before o...</td>\n",
       "      <td>Pavlina Georgieva (Logistics Coordinator) sen...</td>\n",
       "    </tr>\n",
       "    <tr>\n",
       "      <th>35200</th>\n",
       "      <td>PD</td>\n",
       "      <td>3613116</td>\n",
       "      <td>NaN</td>\n",
       "      <td>2023-11-08T17:27:04</td>\n",
       "      <td>Account balance</td>\n",
       "      <td>Billing / Invoice</td>\n",
       "      <td>NaN</td>\n",
       "      <td>1</td>\n",
       "      <td>0.496874</td>\n",
       "      <td>Correct</td>\n",
       "      <td>4</td>\n",
       "      <td>Billing / Invoice</td>\n",
       "      <td>Auto-Reply.  We Have Received Your Request</td>\n",
       "      <td>To whom it may concern,  Your request has been...</td>\n",
       "      <td>**Summary**\\n\\nA customer reached out to Card...</td>\n",
       "    </tr>\n",
       "  </tbody>\n",
       "</table>\n",
       "</div>"
      ],
      "text/plain": [
       "       BU  case_number ACCOUNT_BUSINESS_UNIT__C          received_at  \\\n",
       "idx                                                                    \n",
       "31716  PD      3598350                      NaN  2023-11-01T19:40:57   \n",
       "35200  PD      3613116                      NaN  2023-11-08T17:27:04   \n",
       "\n",
       "      sfdc_subcategory predicted_category predicted_subcategory  record_type  \\\n",
       "idx                                                                            \n",
       "31716  Drop Ship Order   Order Processing       Drop Ship Order            1   \n",
       "35200  Account balance  Billing / Invoice                   NaN            1   \n",
       "\n",
       "       probability Accuracy_upd  Bin              label  \\\n",
       "idx                                                       \n",
       "31716     0.576672      Correct    5   Order Processing   \n",
       "35200     0.496874      Correct    4  Billing / Invoice   \n",
       "\n",
       "                                           email_subject  \\\n",
       "idx                                                        \n",
       "31716  Equashield latest - FW: EQ II Catalog 2023 - C...   \n",
       "35200         Auto-Reply.  We Have Received Your Request   \n",
       "\n",
       "                                              email_body  \\\n",
       "idx                                                        \n",
       "31716  External Email â€“ Please use caution before o...   \n",
       "35200  To whom it may concern,  Your request has been...   \n",
       "\n",
       "                                                 summary  \n",
       "idx                                                       \n",
       "31716   Pavlina Georgieva (Logistics Coordinator) sen...  \n",
       "35200   **Summary**\\n\\nA customer reached out to Card...  "
      ]
     },
     "execution_count": 15,
     "metadata": {},
     "output_type": "execute_result"
    }
   ],
   "source": [
    "emails_frame = pd.DataFrame([e.to_series() for e in emails])\n",
    "chroma_document_frame = emails_frame.merge(summaries, on='idx', how='inner').set_index('idx')\n",
    "chroma_document_frame.head(2)"
   ]
  },
  {
   "cell_type": "code",
   "execution_count": 18,
   "metadata": {},
   "outputs": [
    {
     "data": {
      "text/html": [
       "<div>\n",
       "<style scoped>\n",
       "    .dataframe tbody tr th:only-of-type {\n",
       "        vertical-align: middle;\n",
       "    }\n",
       "\n",
       "    .dataframe tbody tr th {\n",
       "        vertical-align: top;\n",
       "    }\n",
       "\n",
       "    .dataframe thead th {\n",
       "        text-align: right;\n",
       "    }\n",
       "</style>\n",
       "<table border=\"1\" class=\"dataframe\">\n",
       "  <thead>\n",
       "    <tr style=\"text-align: right;\">\n",
       "      <th></th>\n",
       "      <th>BU</th>\n",
       "      <th>case_number</th>\n",
       "      <th>ACCOUNT_BUSINESS_UNIT__C</th>\n",
       "      <th>received_at</th>\n",
       "      <th>sfdc_subcategory</th>\n",
       "      <th>predicted_category</th>\n",
       "      <th>predicted_subcategory</th>\n",
       "      <th>record_type</th>\n",
       "      <th>probability</th>\n",
       "      <th>Accuracy_upd</th>\n",
       "      <th>Bin</th>\n",
       "      <th>label</th>\n",
       "      <th>email_subject</th>\n",
       "      <th>email_body</th>\n",
       "      <th>summary</th>\n",
       "    </tr>\n",
       "    <tr>\n",
       "      <th>idx</th>\n",
       "      <th></th>\n",
       "      <th></th>\n",
       "      <th></th>\n",
       "      <th></th>\n",
       "      <th></th>\n",
       "      <th></th>\n",
       "      <th></th>\n",
       "      <th></th>\n",
       "      <th></th>\n",
       "      <th></th>\n",
       "      <th></th>\n",
       "      <th></th>\n",
       "      <th></th>\n",
       "      <th></th>\n",
       "      <th></th>\n",
       "    </tr>\n",
       "  </thead>\n",
       "  <tbody>\n",
       "    <tr>\n",
       "      <th>13614</th>\n",
       "      <td>PD</td>\n",
       "      <td>3524302</td>\n",
       "      <td>a1G4z00000H4xcvEAB</td>\n",
       "      <td>2023-10-02T17:53:01</td>\n",
       "      <td>Overstock</td>\n",
       "      <td>Order Discrepancy</td>\n",
       "      <td>NaN</td>\n",
       "      <td>1</td>\n",
       "      <td>0.529041</td>\n",
       "      <td>Incorrect</td>\n",
       "      <td>5</td>\n",
       "      <td>Returns</td>\n",
       "      <td>Need signature AC account</td>\n",
       "      <td>Good afternoon,  We have received an order fro...</td>\n",
       "      <td>**Customer:** 2057194105\\n\\n**Issue:** Unsign...</td>\n",
       "    </tr>\n",
       "    <tr>\n",
       "      <th>36424</th>\n",
       "      <td>PD</td>\n",
       "      <td>3618678</td>\n",
       "      <td>NaN</td>\n",
       "      <td>2023-11-10T13:32:42</td>\n",
       "      <td>Account updates</td>\n",
       "      <td>Billing / Invoice</td>\n",
       "      <td>NaN</td>\n",
       "      <td>1</td>\n",
       "      <td>0.496874</td>\n",
       "      <td>Incorrect</td>\n",
       "      <td>4</td>\n",
       "      <td>Account/Inquiry</td>\n",
       "      <td>Auto-Reply.  We Have Received Your Request</td>\n",
       "      <td>To whom it may concern,  Your request has been...</td>\n",
       "      <td>**Summary**\\n\\nA customer reached out to Card...</td>\n",
       "    </tr>\n",
       "  </tbody>\n",
       "</table>\n",
       "</div>"
      ],
      "text/plain": [
       "       BU  case_number ACCOUNT_BUSINESS_UNIT__C          received_at  \\\n",
       "idx                                                                    \n",
       "13614  PD      3524302       a1G4z00000H4xcvEAB  2023-10-02T17:53:01   \n",
       "36424  PD      3618678                      NaN  2023-11-10T13:32:42   \n",
       "\n",
       "      sfdc_subcategory predicted_category predicted_subcategory  record_type  \\\n",
       "idx                                                                            \n",
       "13614        Overstock  Order Discrepancy                   NaN            1   \n",
       "36424  Account updates  Billing / Invoice                   NaN            1   \n",
       "\n",
       "       probability Accuracy_upd  Bin            label  \\\n",
       "idx                                                     \n",
       "13614     0.529041    Incorrect    5          Returns   \n",
       "36424     0.496874    Incorrect    4  Account/Inquiry   \n",
       "\n",
       "                                    email_subject  \\\n",
       "idx                                                 \n",
       "13614                   Need signature AC account   \n",
       "36424  Auto-Reply.  We Have Received Your Request   \n",
       "\n",
       "                                              email_body  \\\n",
       "idx                                                        \n",
       "13614  Good afternoon,  We have received an order fro...   \n",
       "36424  To whom it may concern,  Your request has been...   \n",
       "\n",
       "                                                 summary  \n",
       "idx                                                       \n",
       "13614   **Customer:** 2057194105\\n\\n**Issue:** Unsign...  \n",
       "36424   **Summary**\\n\\nA customer reached out to Card...  "
      ]
     },
     "execution_count": 18,
     "metadata": {},
     "output_type": "execute_result"
    }
   ],
   "source": [
    "test_documents_frame = chroma_document_frame.loc[test_idx, :]\n",
    "test_documents_frame.head(2)"
   ]
  },
  {
   "cell_type": "code",
   "execution_count": 19,
   "metadata": {},
   "outputs": [],
   "source": [
    "test_documents = DataFrameLoader(test_documents_frame.reset_index(drop=False), page_content_column='summary').load()"
   ]
  },
  {
   "cell_type": "markdown",
   "metadata": {},
   "source": [
    "## 10k test frame"
   ]
  },
  {
   "cell_type": "code",
   "execution_count": 20,
   "metadata": {},
   "outputs": [],
   "source": [
    "# batch_result_file_uri = \"JDB_experiments/summarization/prediction-model-2023-12-18T15:10:57.834767Z/000000000000.jsonl\"\n",
    "\n",
    "# batch_result = list(read_json_lines_from_gcs(batch_result_file_uri))"
   ]
  },
  {
   "cell_type": "code",
   "execution_count": 21,
   "metadata": {},
   "outputs": [],
   "source": [
    "# batch_result_summaries = [\n",
    "#     r.get('predictions', [{}])[0].get(\"content\", \"\").strip() for r in batch_result]"
   ]
  },
  {
   "cell_type": "code",
   "execution_count": 22,
   "metadata": {},
   "outputs": [],
   "source": [
    "# batch_result_metadata = list(read_json_lines_from_gcs(\n",
    "#     \"JDB_experiments/summarization_metadata.jsonl\"\n",
    "# ))"
   ]
  },
  {
   "cell_type": "code",
   "execution_count": 23,
   "metadata": {},
   "outputs": [],
   "source": [
    "# batch_result_dataframe = pd.DataFrame.from_records(batch_result_metadata)\n",
    "# batch_result_dataframe.loc[:, 'summary'] = pd.Series(batch_result_summaries)"
   ]
  },
  {
   "cell_type": "code",
   "execution_count": 24,
   "metadata": {},
   "outputs": [],
   "source": [
    "# # Add label\n",
    "# training_data = pd.read_excel(\n",
    "#     f\"gs://{PROJECT_BUCKET}/Last50KCases_withSubjectAndBody.xlsx\")\n",
    "# training_data.loc[:, 'email_subject'] = training_data.email_subject.fillna(\"N/A\")"
   ]
  },
  {
   "cell_type": "code",
   "execution_count": 25,
   "metadata": {},
   "outputs": [],
   "source": [
    "# batch_result_labels = training_data.loc[batch_result_dataframe.idx, LABEL_COLUMN]\n",
    "# batch_result_dataframe.loc[:, 'label'] = batch_result_labels.tolist()"
   ]
  },
  {
   "cell_type": "code",
   "execution_count": 26,
   "metadata": {},
   "outputs": [],
   "source": [
    "# train_10k_idx, test_2k_idx = get_idx(prefix=WRITE_PREFIX + \"/summarization_idx\")\n",
    "# test_2k_idx.shape"
   ]
  },
  {
   "cell_type": "code",
   "execution_count": 27,
   "metadata": {},
   "outputs": [],
   "source": [
    "# test_2k_documents_df = batch_result_dataframe.set_index('idx').loc[test_2k_idx, :].reset_index(drop=False)\n",
    "# test_2k_documents_df.head(2)"
   ]
  },
  {
   "cell_type": "code",
   "execution_count": 28,
   "metadata": {},
   "outputs": [],
   "source": [
    "# test_2k_documents = DataFrameLoader(test_2k_documents_df, 'summary').load()\n",
    "# test_2k_documents[0]"
   ]
  },
  {
   "cell_type": "markdown",
   "metadata": {},
   "source": [
    "## Prediction prompt"
   ]
  },
  {
   "cell_type": "code",
   "execution_count": 29,
   "metadata": {},
   "outputs": [
    {
     "data": {
      "text/plain": [
       "['Order Processing',\n",
       " 'Product Inquiry',\n",
       " 'Account/Inquiry',\n",
       " 'General Inquiry',\n",
       " 'Returns',\n",
       " 'Billing / Invoice',\n",
       " 'Delivery',\n",
       " 'Credits',\n",
       " 'Order Discrepancy',\n",
       " 'Pricing',\n",
       " 'Program / Promotions']"
      ]
     },
     "execution_count": 29,
     "metadata": {},
     "output_type": "execute_result"
    }
   ],
   "source": [
    "labels = get_possible_labels()\n",
    "labels"
   ]
  },
  {
   "cell_type": "code",
   "execution_count": 54,
   "metadata": {},
   "outputs": [],
   "source": [
    "#| export\n",
    "EMAIL_LABEL_SEP = \"|||\"\n",
    "\n",
    "LABEL_STR = \"\"\"- Order Processing\n",
    "- Product Inquiry\n",
    "- Account/Inquiry\n",
    "- General Inquiry\n",
    "- Returns\n",
    "- Billing / Invoice\n",
    "- Delivery\n",
    "- Credits\n",
    "- Order Discrepancy\n",
    "- Pricing\n",
    "- Program / Promotions\"\"\"\n",
    "\n",
    "PREDICTION_PROMPT_TEMPLATE = \"\"\"\\\n",
    "Our customer service team wants to classify emails so they can be sent to the right support team.\n",
    "Here are the labels they use;\n",
    "\n",
    "--LABELS--\n",
    "\"\"\" + LABEL_STR + \"\"\"\n",
    "\n",
    "Below are a series of emails that have already been labeled, use their example to identify what label the final email should get.\n",
    "Your answer must be one of the options in the --LABELS-- list.\n",
    "Return only the label from the above list that you chose.\n",
    "\n",
    "--EMAILS--\n",
    "{examples}\n",
    "EMAIL: {email} \"\"\" + f\"{EMAIL_LABEL_SEP} LABEL: \"\n",
    "\n",
    "PREDICTION_PROMPT = PromptTemplate.from_template(PREDICTION_PROMPT_TEMPLATE)"
   ]
  },
  {
   "cell_type": "code",
   "execution_count": 55,
   "metadata": {},
   "outputs": [
    {
     "data": {
      "text/plain": [
       "PromptTemplate(input_variables=['email', 'examples'], template='Our customer service team wants to classify emails so they can be sent to the right support team.\\nHere are the labels they use;\\n\\n--LABELS--\\n- Order Processing\\n- Product Inquiry\\n- Account/Inquiry\\n- General Inquiry\\n- Returns\\n- Billing / Invoice\\n- Delivery\\n- Credits\\n- Order Discrepancy\\n- Pricing\\n- Program / Promotions\\n\\nBelow are a series of emails that have already been labeled, use their example to identify what label the final email should get.\\nYour answer must be one of the options in the --LABELS-- list.\\nReturn only the label from the above list that you chose.\\n\\n--EMAILS--\\n{examples}\\nEMAIL: {email} ||| LABEL: ')"
      ]
     },
     "execution_count": 55,
     "metadata": {},
     "output_type": "execute_result"
    }
   ],
   "source": [
    "PREDICTION_PROMPT"
   ]
  },
  {
   "cell_type": "code",
   "execution_count": 56,
   "metadata": {},
   "outputs": [],
   "source": [
    "#| export\n",
    "def filter_examples(examples: List[Document], idx: int) -> List[Document]:\n",
    "    return [e for e in examples if int(e.metadata.get('idx')) != int(idx)]"
   ]
  },
  {
   "cell_type": "code",
   "execution_count": 57,
   "metadata": {},
   "outputs": [
    {
     "data": {
      "text/plain": [
       "3"
      ]
     },
     "execution_count": 57,
     "metadata": {},
     "output_type": "execute_result"
    }
   ],
   "source": [
    "example_retrieved_documents = chroma.similarity_search(\n",
    "    test_documents[0].page_content, \n",
    "    k=3)\n",
    "len(example_retrieved_documents)"
   ]
  },
  {
   "cell_type": "code",
   "execution_count": 58,
   "metadata": {},
   "outputs": [
    {
     "data": {
      "text/plain": [
       "3"
      ]
     },
     "execution_count": 58,
     "metadata": {},
     "output_type": "execute_result"
    }
   ],
   "source": [
    "len(filter_examples(example_retrieved_documents, test_documents[0].metadata['idx']))"
   ]
  },
  {
   "cell_type": "code",
   "execution_count": 59,
   "metadata": {},
   "outputs": [
    {
     "data": {
      "text/plain": [
       "2400"
      ]
     },
     "execution_count": 59,
     "metadata": {},
     "output_type": "execute_result"
    }
   ],
   "source": [
    "len(chroma.get()['ids'])"
   ]
  },
  {
   "cell_type": "code",
   "execution_count": 60,
   "metadata": {},
   "outputs": [],
   "source": [
    "#| export\n",
    "def format_example(example: Document) -> str:\n",
    "    return f\"EMAIL: {example.page_content.strip()} {EMAIL_LABEL_SEP} LABEL: {example.metadata.get('label')}\"\n",
    "\n",
    "\n",
    "def make_prediction_prompt(\n",
    "        email_summary: Document,\n",
    "        chroma: Chroma,\n",
    "        limit: int = None\n",
    ") -> str:\n",
    "    idx = email_summary.metadata.get('idx')\n",
    "    k = 5\n",
    "    prompt = None\n",
    "    keep_stuffing = True\n",
    "    max_k = len(chroma.get()['ids']) if limit is None else limit\n",
    "    while keep_stuffing:\n",
    "        examples = chroma.similarity_search(email_summary.page_content, k=k)\n",
    "        examples = filter_examples(examples, idx)\n",
    "        if len(examples) == 0:\n",
    "            k += 5\n",
    "            continue\n",
    "        else:\n",
    "            example_str = \"\"\n",
    "            for e in examples:\n",
    "                e_formatted = format_example(e)\n",
    "                if len(example_str) == 0:\n",
    "                    example_str = e_formatted\n",
    "                else:\n",
    "                    example_str = example_str + \"\\n\" + e_formatted\n",
    "                prompt = PREDICTION_PROMPT.format(\n",
    "                    email=email_summary.page_content,\n",
    "                    examples=example_str\n",
    "                )\n",
    "                if len(prompt) >= BISON_MAXIMUM_INPUT_TOKENS:\n",
    "                    keep_stuffing = False\n",
    "                    break\n",
    "        k += 5\n",
    "        if k >= max_k:\n",
    "            keep_stuffing = False\n",
    "    return prompt"
   ]
  },
  {
   "cell_type": "code",
   "execution_count": 62,
   "metadata": {},
   "outputs": [
    {
     "name": "stdout",
     "output_type": "stream",
     "text": [
      "3256\n",
      "Our customer service team wants to classify emails so they can be sent to the right support team.\n",
      "Here are the labels they use;\n",
      "\n",
      "--LABELS--\n",
      "- Order Processing\n",
      "- Product Inquiry\n",
      "- Account/Inquiry\n",
      "- General Inquiry\n",
      "- Returns\n",
      "- Billing / Invoice\n",
      "- Delivery\n",
      "- Credits\n",
      "- Order Discrepancy\n",
      "- Pricing\n",
      "- Program / Promotions\n",
      "\n",
      "Below are a series of emails that have already been labeled, use their example to identify what label the final email should get.\n",
      "Your answer must be one of the options in the --LABELS-- list.\n",
      "Return only the label from the above list that you chose.\n",
      "\n",
      "--EMAILS--\n",
      "EMAIL: **Customer:** 2057201348\n",
      "\n",
      "**Issue:** Unsigned MRA (3901263910) received for two orders.\n",
      "\n",
      "**Action Required:** Customer needs to provide a signed MRA within 48 hours to avoid the return of the case without credit.\n",
      "\n",
      "**Business Function:**\n",
      "\n",
      "- Tom Coppedge: Returns Lead, Warehouse Operations\n",
      "\n",
      "**Additional Information:**\n",
      "\n",
      "- The customer has already been contacted and informed about the situation. ||| LABEL: Returns\n",
      "EMAIL: **Customer:** \n",
      "- Name: Not provided\n",
      "- Issue: Has not received paperwork for Return Authorization number #3901277327.\n",
      "- Timeline: Submitted a credit request on Monday.\n",
      "\n",
      "**Business Function:** \n",
      "- Customer: Initiated a credit request and is following up on the status of the paperwork.\n",
      "\n",
      "**Action Required:** \n",
      "- Check the status of Return Authorization number #3901277327 and provide the customer with the necessary paperwork. ||| LABEL: Returns\n",
      "EMAIL: Michelle Mitchell, an MRA Exceptions Coordinator, is requesting a signed copy of MRA # 3901741337 from customer # 2052012291 WISNER APOTHECARY.\n",
      "\n",
      "Customer Service Representative Action Items:\n",
      "- Contact customer # 2052012291 WISNER APOTHECARY and request a signed copy of MRA # 3901741337.\n",
      "- Ensure the signed copy is returned to Michelle Mitchell. ||| LABEL: Returns\n",
      "EMAIL: **Customer:** Family Pharmacy of Fulton\n",
      "**Issue:** Received an incorrect tote of \"Free Goods\".\n",
      "**Request:** Needs an RMA number to return the tote.\n",
      "**Images:** Attached are three images of the tote.\n",
      "**Additional Information:**\n",
      "- Account Number: 2052023962\n",
      "- RMA should be processed and sent with the next delivery.\n",
      "\n",
      "**Action Required:**\n",
      "- Process the RMA request and send the RMA number to the customer.\n",
      "- Ensure the RMA is included with the next delivery to the customer.\n",
      "\n",
      "**Business Functions:**\n",
      "- Larry: Sales or Customer Service ||| LABEL: Delivery\n",
      "EMAIL: **Customer:**\n",
      "- Still waiting for a status update on their return.\n",
      "- Frustrated due to lack of communication.\n",
      "\n",
      "**Business Function:**\n",
      "- Customer: Customer service.\n",
      "\n",
      "**Representative Action Items:**\n",
      "- Check on the status of the customer's return and provide an update as soon as possible.\n",
      "- Apologize for the delay and inconvenience caused. ||| LABEL: Returns\n",
      "EMAIL:  **Customer:** 2057194105\n",
      "\n",
      "**Issue:** Unsigned Mutual Release Agreement (MRA) 3901356789\n",
      "\n",
      "**Timeline:** 48 hours to provide a signed MRA\n",
      "\n",
      "**Action Required:** \n",
      "\n",
      "- Contact the customer and inform them of the situation.\n",
      "- Advise that the case will be returned for no credit if the signed MRA is not received within the specified timeframe.\n",
      "\n",
      "**Business Functions:**\n",
      "\n",
      "- **Customer Service Representative:** Contact the customer, explain the issue, and obtain the signed MRA.\n",
      "- **Returns Lead ||| LABEL: \n"
     ]
    }
   ],
   "source": [
    "example_prompt = make_prediction_prompt(\n",
    "    test_documents[0], \n",
    "    chroma=chroma,\n",
    "    limit=3\n",
    ")\n",
    "print(len(example_prompt))\n",
    "print(example_prompt)"
   ]
  },
  {
   "cell_type": "code",
   "execution_count": 65,
   "metadata": {},
   "outputs": [
    {
     "data": {
      "text/plain": [
       "{'idx': 13614,\n",
       " 'BU': 'PD',\n",
       " 'case_number': 3524302,\n",
       " 'ACCOUNT_BUSINESS_UNIT__C': 'a1G4z00000H4xcvEAB',\n",
       " 'received_at': '2023-10-02T17:53:01',\n",
       " 'sfdc_subcategory': 'Overstock',\n",
       " 'predicted_category': 'Order Discrepancy',\n",
       " 'predicted_subcategory': nan,\n",
       " 'record_type': 1,\n",
       " 'probability': 0.5290409,\n",
       " 'Accuracy_upd': 'Incorrect',\n",
       " 'Bin': 5,\n",
       " 'label': 'Returns',\n",
       " 'email_subject': 'Need signature AC account',\n",
       " 'email_body': 'Good afternoon,  We have received an order from customer 2057194105. They sent unsigned MRA 3901356789. Can you please reach out to the customer and let them know they have 48 hours to send a signed MRA or we will send back the case for no credit.  Thanks,   [cid:image001.png@01D9F52F.5AD273F0]  Tom Coppedge Returns Lead | Warehouse Operations 2840 Elm Pont Industrial Drive St. Charles, MO. 63301    _________________________________________________  This message is for the designated recipient only and may contain privileged, proprietary or otherwise private information. If you have received it in error, please notify the sender immediately and delete the original. Any other use of the email by you is prohibited.  Dansk - Deutsch - Espanol - Francais - Italiano - Japanese - Nederlands - Norsk - Portuguese - Chinese Svenska: http://www.cardinalhealth.com/en/support/terms-and-conditions-english.html'}"
      ]
     },
     "execution_count": 65,
     "metadata": {},
     "output_type": "execute_result"
    }
   ],
   "source": [
    "test_documents[0].metadata"
   ]
  },
  {
   "cell_type": "code",
   "execution_count": 66,
   "metadata": {},
   "outputs": [
    {
     "data": {
      "text/plain": [
       " Returns"
      ]
     },
     "execution_count": 66,
     "metadata": {},
     "output_type": "execute_result"
    }
   ],
   "source": [
    "predict(example_prompt)"
   ]
  },
  {
   "cell_type": "code",
   "execution_count": 67,
   "metadata": {},
   "outputs": [],
   "source": [
    "# example_10k_prompt = make_prediction_prompt(\n",
    "#     test_2k_documents[0], \n",
    "#     chroma=chroma_10k,\n",
    "#     limit=5\n",
    "# )\n",
    "# print(len(example_10k_prompt))\n",
    "# print(example_10k_prompt)"
   ]
  },
  {
   "cell_type": "code",
   "execution_count": 68,
   "metadata": {},
   "outputs": [],
   "source": [
    "# predict(example_10k_prompt)"
   ]
  },
  {
   "cell_type": "markdown",
   "metadata": {},
   "source": [
    "Batch construct prompts"
   ]
  },
  {
   "cell_type": "code",
   "execution_count": 69,
   "metadata": {},
   "outputs": [
    {
     "name": "stderr",
     "output_type": "stream",
     "text": [
      "                                                                                \r"
     ]
    }
   ],
   "source": [
    "test_prompts = [\n",
    "    make_prediction_prompt(s, chroma, 3) for s in tqdm(\n",
    "        test_documents, \n",
    "        leave=False, \n",
    "        ncols=80)]"
   ]
  },
  {
   "cell_type": "code",
   "execution_count": 70,
   "metadata": {},
   "outputs": [],
   "source": [
    "# test_2k_prompts = [\n",
    "#     make_prediction_prompt(s, chroma_10k, 3) for s in tqdm(\n",
    "#         test_2k_documents, \n",
    "#         leave=False, \n",
    "#         ncols=80)]"
   ]
  },
  {
   "cell_type": "code",
   "execution_count": 72,
   "metadata": {},
   "outputs": [],
   "source": [
    "llm = VertexAI()"
   ]
  },
  {
   "cell_type": "code",
   "execution_count": 75,
   "metadata": {},
   "outputs": [
    {
     "data": {
      "text/plain": [
       "[' Returns', ' Billing / Invoice']"
      ]
     },
     "execution_count": 75,
     "metadata": {},
     "output_type": "execute_result"
    }
   ],
   "source": [
    "llm.batch(test_prompts[:2])"
   ]
  },
  {
   "cell_type": "code",
   "execution_count": 81,
   "metadata": {},
   "outputs": [],
   "source": [
    "#| export\n",
    "@quota_handler\n",
    "def predict_batch(llm: VertexAI, prompts: List[str]) -> List[str]:\n",
    "    return llm.batch(prompts)\n",
    "\n",
    "\n",
    "def get_predictions(llm: VertexAI, prompts: List[str]) -> List[str]:\n",
    "    pbar = tqdm(total=len(prompts), ncols=80, leave=False)\n",
    "    predictions = []\n",
    "    for batch in get_batches(iter(prompts), 5):\n",
    "        batch_predictions = predict_batch(llm, batch)\n",
    "        predictions.extend(batch_predictions)\n",
    "        pbar.update(len(batch))\n",
    "    pbar.close()\n",
    "    return predictions"
   ]
  },
  {
   "cell_type": "code",
   "execution_count": 82,
   "metadata": {},
   "outputs": [
    {
     "name": "stderr",
     "output_type": "stream",
     "text": [
      "                                                                                \r"
     ]
    }
   ],
   "source": [
    "test_predictions = get_predictions(llm, test_prompts)"
   ]
  },
  {
   "cell_type": "code",
   "execution_count": 83,
   "metadata": {},
   "outputs": [],
   "source": [
    "# test_predictions_10k = get_predictions(test_2k_prompts)"
   ]
  },
  {
   "cell_type": "code",
   "execution_count": 87,
   "metadata": {},
   "outputs": [
    {
     "data": {
      "text/plain": [
       "600"
      ]
     },
     "execution_count": 87,
     "metadata": {},
     "output_type": "execute_result"
    }
   ],
   "source": [
    "len(test_predictions)# , len(test_predictions_10k)"
   ]
  },
  {
   "cell_type": "code",
   "execution_count": 88,
   "metadata": {},
   "outputs": [
    {
     "data": {
      "text/plain": [
       "' Returns'"
      ]
     },
     "execution_count": 88,
     "metadata": {},
     "output_type": "execute_result"
    }
   ],
   "source": [
    "test_predictions[0]# , test_predictions_10k[0]"
   ]
  },
  {
   "cell_type": "code",
   "execution_count": 89,
   "metadata": {},
   "outputs": [],
   "source": [
    "test_labels = [d.metadata.get('label') for d in test_documents]"
   ]
  },
  {
   "cell_type": "code",
   "execution_count": 93,
   "metadata": {},
   "outputs": [
    {
     "data": {
      "text/plain": [
       "Order Processing        194\n",
       "Account/Inquiry         120\n",
       "Billing / Invoice        69\n",
       "Order Discrepancy        68\n",
       "Returns                  44\n",
       "Product Inquiry          39\n",
       "Delivery                 33\n",
       "Credits                  14\n",
       "General Inquiry           7\n",
       "Pricing                   5\n",
       "Program / Promotions      5\n",
       "Contracts                 1\n",
       "Fax Transmission          1\n",
       "Name: count, dtype: int64"
      ]
     },
     "execution_count": 93,
     "metadata": {},
     "output_type": "execute_result"
    }
   ],
   "source": [
    "pd.Series(test_predictions).str.strip().value_counts()"
   ]
  },
  {
   "cell_type": "code",
   "execution_count": 92,
   "metadata": {},
   "outputs": [],
   "source": [
    "# pd.Series(test_predictions_10k).value_counts()"
   ]
  },
  {
   "cell_type": "code",
   "execution_count": 104,
   "metadata": {},
   "outputs": [],
   "source": [
    "#| export\n",
    "def write_predictions(\n",
    "        predictions: List[str],\n",
    "        labels: List[str],\n",
    "        idx: List[str],\n",
    "        prompts: List[str],\n",
    "        emails: List[str],\n",
    "        directory: Path,\n",
    "        file_name: str = \"predictions.csv\"):\n",
    "    pd.DataFrame(\n",
    "        list(zip(\n",
    "            predictions, \n",
    "            labels,\n",
    "            idx,\n",
    "            prompts,\n",
    "            emails)),\n",
    "        columns=['prediction', 'label', 'idx', 'prompt', 'email']\n",
    "    ).to_csv(directory / file_name, index=False)"
   ]
  },
  {
   "cell_type": "code",
   "execution_count": 106,
   "metadata": {},
   "outputs": [],
   "source": [
    "write_predictions(\n",
    "    [s.strip() for s in test_predictions], \n",
    "    [d.metadata.get('label') for d in test_documents],\n",
    "    [d.metadata.get('idx') for d in test_documents],\n",
    "    test_prompts,\n",
    "    test_documents_frame.apply(lambda row: f\"-- SUBJECT --\\n{row.email_subject}\\n-- BODY --\\n{row.email_body}\", axis=1).values.tolist(),\n",
    "    tejas_dir,\n",
    "    'sample_predictions.csv')"
   ]
  },
  {
   "cell_type": "code",
   "execution_count": 96,
   "metadata": {},
   "outputs": [],
   "source": [
    "# write_predictions(\n",
    "#     test_predictions_10k, \n",
    "#     [d.metadata.get('label') for d in test_2k_documents],\n",
    "#     [d.metadata.get('idx') for d in test_2k_documents],\n",
    "#     data_dir,\n",
    "#     'predictions_2k.csv')"
   ]
  },
  {
   "cell_type": "code",
   "execution_count": 108,
   "metadata": {},
   "outputs": [],
   "source": [
    "#| hide\n",
    "import nbdev; nbdev.nbdev_export()"
   ]
  },
  {
   "cell_type": "code",
   "execution_count": null,
   "metadata": {},
   "outputs": [],
   "source": []
  }
 ],
 "metadata": {
  "kernelspec": {
   "display_name": ".venv",
   "language": "python",
   "name": "python3"
  },
  "language_info": {
   "codemirror_mode": {
    "name": "ipython",
    "version": 3
   },
   "file_extension": ".py",
   "mimetype": "text/x-python",
   "name": "python",
   "nbconvert_exporter": "python",
   "pygments_lexer": "ipython3",
   "version": "3.11.4"
  }
 },
 "nbformat": 4,
 "nbformat_minor": 2
}
