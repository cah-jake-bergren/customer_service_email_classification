{
 "cells": [
  {
   "cell_type": "markdown",
   "metadata": {},
   "source": [
    "# predict\n",
    "\n",
    "> Use chroma, labeled instances, an LLM to predict email classification"
   ]
  },
  {
   "cell_type": "code",
   "execution_count": 1,
   "metadata": {},
   "outputs": [],
   "source": [
    "#| default_exp predict"
   ]
  },
  {
   "cell_type": "code",
   "execution_count": 71,
   "metadata": {},
   "outputs": [],
   "source": [
    "#| export\n",
    "from pathlib import Path\n",
    "import json\n",
    "from typing import List, Tuple\n",
    "\n",
    "from langchain.schema import Document\n",
    "from langchain.prompts import PromptTemplate\n",
    "from langchain.vectorstores import Chroma\n",
    "\n",
    "from classifier.schema import predict\n",
    "from classifier.load import get_possible_labels\n",
    "from classifier.process import BISON_MAXIMUM_INPUT_TOKENS\n",
    "from classifier.chroma import get_or_make_chroma, concat_email_summaries"
   ]
  },
  {
   "cell_type": "code",
   "execution_count": 113,
   "metadata": {},
   "outputs": [],
   "source": [
    "from tqdm import tqdm\n",
    "import pandas as pd"
   ]
  },
  {
   "cell_type": "code",
   "execution_count": 4,
   "metadata": {},
   "outputs": [],
   "source": [
    "data_dir = Path(\"../data\")\n",
    "assert data_dir.exists()"
   ]
  },
  {
   "cell_type": "markdown",
   "metadata": {},
   "source": [
    "Load chroma with embedded summaries of labeled emails"
   ]
  },
  {
   "cell_type": "code",
   "execution_count": 5,
   "metadata": {},
   "outputs": [],
   "source": [
    "chroma = get_or_make_chroma(data_dir)"
   ]
  },
  {
   "cell_type": "markdown",
   "metadata": {},
   "source": [
    "Load our summaries"
   ]
  },
  {
   "cell_type": "code",
   "execution_count": 11,
   "metadata": {},
   "outputs": [],
   "source": [
    "summary_path = data_dir / \"summaries.json\"\n",
    "assert summary_path.exists()\n",
    "with summary_path.open('r') as f:\n",
    "    summary_json = json.load(f)"
   ]
  },
  {
   "cell_type": "code",
   "execution_count": 13,
   "metadata": {},
   "outputs": [
    {
     "data": {
      "text/plain": [
       "Document(page_content='The email is requesting a drop ship order for Ohio State University.\\nThe PO number is 7004014842, the account number is 2150126632, and the store number is 16422.\\nThe drug name is EPIDIOLEX 100MG/ML SOL 100ML, the order quantity is 5, and the prescriber names are LUCRETIA LONG and PHILIP CLAYTON JONAS.\\nThe prescriber NPIs or DEAs are ML0822634 and FJ142\\n', metadata={'idx': 0, 'label': 'Order Processing'})"
      ]
     },
     "execution_count": 13,
     "metadata": {},
     "output_type": "execute_result"
    }
   ],
   "source": [
    "summaries = concat_email_summaries(summary_json)\n",
    "summaries[0]"
   ]
  },
  {
   "cell_type": "markdown",
   "metadata": {},
   "source": [
    "## Prediction prompt"
   ]
  },
  {
   "cell_type": "code",
   "execution_count": 18,
   "metadata": {},
   "outputs": [
    {
     "data": {
      "text/plain": [
       "['Order Processing',\n",
       " 'Product Inquiry',\n",
       " 'Account/Inquiry',\n",
       " 'General Inquiry',\n",
       " 'Returns',\n",
       " 'Billing / Invoice',\n",
       " 'Delivery',\n",
       " 'Credits',\n",
       " 'Order Discrepancy',\n",
       " 'Pricing',\n",
       " 'Program / Promotions']"
      ]
     },
     "execution_count": 18,
     "metadata": {},
     "output_type": "execute_result"
    }
   ],
   "source": [
    "labels = get_possible_labels()\n",
    "labels"
   ]
  },
  {
   "cell_type": "code",
   "execution_count": 100,
   "metadata": {},
   "outputs": [],
   "source": [
    "#| export\n",
    "LABEL_STR = \"\"\"- Order Processing\n",
    "- Product Inquiry\n",
    "- Account/Inquiry\n",
    "- General Inquiry\n",
    "- Returns\n",
    "- Billing / Invoice\n",
    "- Delivery\n",
    "- Credits\n",
    "- Order Discrepancy\n",
    "- Pricing\n",
    "- Program / Promotions\n",
    "\"\"\"\n",
    "\n",
    "PREDICTION_PROMPT_TEMPLATE = \"\"\"\\\n",
    "Classify the input email into one of the given categories using the examples to help you\n",
    "--CATEGORIES--\n",
    "\"\"\" + LABEL_STR + \"\"\"\\\n",
    "\\n--INPUT EMAIL--\n",
    "{email}\n",
    "--EXAMPLES--\n",
    "{examples}\n",
    "--Classification--\"\"\"\n",
    "\n",
    "PREDICTION_PROMPT = PromptTemplate.from_template(PREDICTION_PROMPT_TEMPLATE)"
   ]
  },
  {
   "cell_type": "code",
   "execution_count": 101,
   "metadata": {},
   "outputs": [
    {
     "data": {
      "text/plain": [
       "PromptTemplate(input_variables=['email', 'examples'], template='Classify the input email into one of the given categories using the examples to help you\\n--CATEGORIES--\\n- Order Processing\\n- Product Inquiry\\n- Account/Inquiry\\n- General Inquiry\\n- Returns\\n- Billing / Invoice\\n- Delivery\\n- Credits\\n- Order Discrepancy\\n- Pricing\\n- Program / Promotions\\n\\n--INPUT EMAIL--\\n{email}\\n--EXAMPLES--\\n{examples}\\n--Classification--')"
      ]
     },
     "execution_count": 101,
     "metadata": {},
     "output_type": "execute_result"
    }
   ],
   "source": [
    "PREDICTION_PROMPT"
   ]
  },
  {
   "cell_type": "code",
   "execution_count": 116,
   "metadata": {},
   "outputs": [],
   "source": [
    "#| export\n",
    "def filter_examples(examples: List[Tuple[Document, float]], idx: int) -> List[Document]:\n",
    "    return [(e, score) for e, score in examples if int(e.metadata.get('idx')) != int(idx)]"
   ]
  },
  {
   "cell_type": "code",
   "execution_count": 118,
   "metadata": {},
   "outputs": [
    {
     "data": {
      "text/plain": [
       "10"
      ]
     },
     "execution_count": 118,
     "metadata": {},
     "output_type": "execute_result"
    }
   ],
   "source": [
    "example_retrieved_documents = chroma.similarity_search_with_score(summaries[0].page_content, k=10)\n",
    "len(example_retrieved_documents)"
   ]
  },
  {
   "cell_type": "code",
   "execution_count": 117,
   "metadata": {},
   "outputs": [
    {
     "data": {
      "text/plain": [
       "9"
      ]
     },
     "execution_count": 117,
     "metadata": {},
     "output_type": "execute_result"
    }
   ],
   "source": [
    "len(filter_examples(example_retrieved_documents, 0))"
   ]
  },
  {
   "cell_type": "code",
   "execution_count": 103,
   "metadata": {},
   "outputs": [
    {
     "data": {
      "text/plain": [
       "20"
      ]
     },
     "execution_count": 103,
     "metadata": {},
     "output_type": "execute_result"
    }
   ],
   "source": [
    "len(chroma.get()['ids'])"
   ]
  },
  {
   "cell_type": "code",
   "execution_count": 104,
   "metadata": {},
   "outputs": [],
   "source": [
    "#| export\n",
    "def format_example(example: Document, score: float) -> str:\n",
    "    return f\"\"\"--START EXAMPLE--\n",
    "EXAMPLE EMAIL: {example.page_content.strip()}\n",
    "EXAMPLE LABEL: {example.metadata.get('label')}\n",
    "EXAMPLE COSINE DISTANCE TO INPUT EMAIL: {score}\n",
    "--END EXAMPLE--\"\"\"\n",
    "\n",
    "def make_prediction_prompt(\n",
    "        email_summary: Document,\n",
    "        chroma: Chroma\n",
    ") -> str:\n",
    "    idx = email_summary.metadata.get('idx')\n",
    "    k = 5\n",
    "    prompt = None\n",
    "    keep_stuffing = True\n",
    "    max_k = len(chroma.get()['ids'])\n",
    "    while keep_stuffing:\n",
    "        examples = chroma.similarity_search_with_score(email_summary.page_content, k=k)\n",
    "        examples = filter_examples(examples, idx)\n",
    "        if len(examples) == 0:\n",
    "            k += 5\n",
    "            continue\n",
    "        else:\n",
    "            example_str = \"\"\n",
    "            for e, score in examples:\n",
    "                e_formatted = format_example(e, score)\n",
    "                if len(example_str) == 0:\n",
    "                    example_str = e_formatted\n",
    "                else:\n",
    "                    example_str = example_str + \"\\n\" + e_formatted\n",
    "                prompt = PREDICTION_PROMPT.format(\n",
    "                    email=email_summary.page_content,\n",
    "                    examples=example_str\n",
    "                )\n",
    "                if len(prompt) >= BISON_MAXIMUM_INPUT_TOKENS:\n",
    "                    keep_stuffing = False\n",
    "                    break\n",
    "        k += 5\n",
    "        if k >= max_k:\n",
    "            keep_stuffing = False\n",
    "    return prompt"
   ]
  },
  {
   "cell_type": "code",
   "execution_count": 105,
   "metadata": {},
   "outputs": [
    {
     "name": "stdout",
     "output_type": "stream",
     "text": [
      "7225\n",
      "Classify the input email into one of the given categories using the examples to help you\n",
      "--CATEGORIES--\n",
      "- Order Processing\n",
      "- Product Inquiry\n",
      "- Account/Inquiry\n",
      "- General Inquiry\n",
      "- Returns\n",
      "- Billing / Invoice\n",
      "- Delivery\n",
      "- Credits\n",
      "- Order Discrepancy\n",
      "- Pricing\n",
      "- Program / Promotions\n",
      "\n",
      "--INPUT EMAIL--\n",
      "The email is requesting a drop ship order for Ohio State University.\n",
      "The PO number is 7004014842, the account number is 2150126632, and the store number is 16422.\n",
      "The drug name is EPIDIOLEX 100MG/ML SOL 100ML, the order quantity is 5, and the prescriber names are LUCRETIA LONG and PHILIP CLAYTON JONAS.\n",
      "The prescriber NPIs or DEAs are ML0822634 and FJ142\n",
      "\n",
      "--EXAMPLES--\n",
      "--START EXAMPLE--\n",
      "EXAMPLE EMAIL: The email is requesting a drop ship order for the following:\n",
      "\n",
      "- Client Name: Rosedale Infectious Diseases, PLLC\n",
      "- PO ID: 7004000449\n",
      "- Account #: 2150129609\n",
      "- Store #: 16405\n",
      "- NDC: 49702024015\n",
      "- Drug Name: CABENUVA 600-900MG INJ SUSP KIT\n",
      "- Order Quantity: 1\n",
      "- Prescriber Name: ASHLEY DAY SCOTT\n",
      "- Prescriber NPI\n",
      "EXAMPLE LABEL: Order Processing\n",
      "EXAMPLE COSINE DISTANCE TO INPUT EMAIL: 0.2218859635950483\n",
      "--END EXAMPLE--\n",
      "--START EXAMPLE--\n",
      "EXAMPLE EMAIL: The customer, Philip Thetford, is a purchasing agent for Kroger Specialty Pharmacy. He wants to place an order for Xyntha, a medication used in the MedImpact Direct Specialty program.\n",
      "\n",
      "The specific details of the order are as follows:\n",
      "- Kroger Specialty Pharmacy MIDS Account Number: 2150229858\n",
      "- Medication: Xyntha\n",
      "- CIN: 5593181\n",
      "- Quantity: 12 vials (3000 unit vials)\n",
      "\n",
      "Philip Thetford can be reached at 407-708-5715\n",
      "EXAMPLE LABEL: General Inquiry\n",
      "EXAMPLE COSINE DISTANCE TO INPUT EMAIL: 0.327078381998126\n",
      "--END EXAMPLE--\n",
      "--START EXAMPLE--\n",
      "EXAMPLE EMAIL: The customer, Rebecca Maholic, wants to place an order for KRYSTEXXA 8MG/ML VIAL.\n",
      "The account number for the order is 2150224885.\n",
      "Rebecca requests email confirmation when the order is available.\n",
      "EXAMPLE LABEL: Order Processing\n",
      "EXAMPLE COSINE DISTANCE TO INPUT EMAIL: 0.37186377492670997\n",
      "--END EXAMPLE--\n",
      "--START EXAMPLE--\n",
      "EXAMPLE EMAIL: The customer, Nicole Sullivan from Equiscript, LLC, is inquiring about the status of two orders:\n",
      "\n",
      "- PO # 2308-24863\n",
      "  - Submitted: 08/29/2023\n",
      "  - Bill To Account #: 2057214965\n",
      "  - Ship To Account #: 2150424768\n",
      "  - Account Name: DACA - Optum HD\n",
      "\n",
      "- PO # 2308-24857\n",
      "  - Submitted: 08/29/2\n",
      "EXAMPLE LABEL: Order Processing\n",
      "EXAMPLE COSINE DISTANCE TO INPUT EMAIL: 0.38891579362219164\n",
      "--END EXAMPLE--\n",
      "--START EXAMPLE--\n",
      "EXAMPLE EMAIL: **Customer:** Kevin Erickson, Pharmacy Purchasing Specialist at Mayo Clinic.\n",
      "\n",
      "**Issue:** Unable to sign CSOS order in Order Express for account number 2057202577 due to an unspecified error message.\n",
      "\n",
      "**Urgency:** ASAP, as the order needs to be processed for afternoon delivery.\n",
      "\n",
      "**Additional Information:**\n",
      "- Screenshot of the error message is attached to the email.\n",
      "- Contact information:\n",
      "  - Phone: (507) 255-6291\n",
      "  - Fax: (507) 255-8240\n",
      "EXAMPLE LABEL: Order Processing\n",
      "EXAMPLE COSINE DISTANCE TO INPUT EMAIL: 0.4640851965374502\n",
      "--END EXAMPLE--\n",
      "--START EXAMPLE--\n",
      "EXAMPLE EMAIL: The maintenance request (a3n8a000004t4yF) for AMBULATORY CARE CTR PH 340B (Customer Account Number: 2150408485) has been closed and approved.\n",
      "The request type was to Add/Change DEA, Schedule Change with KYC.\n",
      "The request went through several reviews and was finally approved on 2023-09-08.\n",
      "The customer is now approved to purchase controlled and monitored substances after the CSMP team completed their due diligence.\n",
      "No action was taken for the ship-to account\n",
      "EXAMPLE LABEL: Account/Inquiry\n",
      "EXAMPLE COSINE DISTANCE TO INPUT EMAIL: 0.4755172321494655\n",
      "--END EXAMPLE--\n",
      "--START EXAMPLE--\n",
      "EXAMPLE EMAIL: The customer received a purchase order (PO) #SSC2320930 from Hybrent. They need to process the PO and send the status back to orders@hybrent.com as soon as possible. If they have any questions, they can contact Hybrent at the same email address.\n",
      "EXAMPLE LABEL: Order Processing\n",
      "EXAMPLE COSINE DISTANCE TO INPUT EMAIL: 0.4791264236225923\n",
      "--END EXAMPLE--\n",
      "--START EXAMPLE--\n",
      "EXAMPLE EMAIL: Cassie Keene, a Pharmacy Purchasing Specialist at Mayo Clinic, is reporting an issue with signing a CII order for MCHS Lake City Hospital (account number 2057202574). She and a colleague have encountered the same error message when attempting to sign the order. The error message is not included in the email.\n",
      "EXAMPLE LABEL: Order Processing\n",
      "EXAMPLE COSINE DISTANCE TO INPUT EMAIL: 0.48447094576629246\n",
      "--END EXAMPLE--\n",
      "--START EXAMPLE--\n",
      "EXAMPLE EMAIL: - Customer: SHARON REG HEALTH SYS\n",
      "- Request type: Damaged Product\n",
      "- Request time: September 11, 2023, at 09:28:10 AM UTC\n",
      "- Invoice number: Not provided\n",
      "- Container number: 869834845\n",
      "- Product number: 5099601\n",
      "- Product Description: Not provided\n",
      "- Service request quantity: 1\n",
      "- Comments: Vial broken\n",
      "- Contact person: Richard Rumelfanger\n",
      "- Phone number: 724.983.3955 x\n",
      "EXAMPLE LABEL: Returns\n",
      "EXAMPLE COSINE DISTANCE TO INPUT EMAIL: 0.49206555448433575\n",
      "--END EXAMPLE--\n",
      "--START EXAMPLE--\n",
      "EXAMPLE EMAIL: The customer, Karen Miller from Cedra Pharmacy, is requesting Weblink login access for a new employee named Sean Shamy. Sean needs access to the following two accounts:\n",
      "- CEDRA HEALTHCARE LLC - BRONX (SAP#: 2057187159) (KRY)\n",
      "- CEDRA PHARMACY INC RET - BRONX (SAP#: 2057187174) (KRY)\n",
      "\n",
      "Karen has provided Sean's email address (sean@cedrapharmacy.com) and confirmed that they would like Sean to have purchasing capabilities.\n",
      "\n",
      "Karen also mentioned\n",
      "EXAMPLE LABEL: Account/Inquiry\n",
      "EXAMPLE COSINE DISTANCE TO INPUT EMAIL: 0.49894857787594926\n",
      "--END EXAMPLE--\n",
      "--START EXAMPLE--\n",
      "EXAMPLE EMAIL: The customer sent a DEA 222 form for account number 2057207750.\n",
      "EXAMPLE LABEL: Order Processing\n",
      "EXAMPLE COSINE DISTANCE TO INPUT EMAIL: 0.5000551556339697\n",
      "--END EXAMPLE--\n",
      "--START EXAMPLE--\n",
      "EXAMPLE EMAIL: The customer received a purchase order (#65398) from Hybrent and is required to process it. They are asked to respond to orders@hybrent.com with the status of the purchase order as soon as possible. If they have any questions, they can contact the same email address. A copy of the purchase order is attached as a PDF file to the email.\n",
      "EXAMPLE LABEL: Order Processing\n",
      "EXAMPLE COSINE DISTANCE TO INPUT EMAIL: 0.5359668396606865\n",
      "--END EXAMPLE--\n",
      "--START EXAMPLE--\n",
      "EXAMPLE EMAIL: The customer, Tara May from Tower Health, is not receiving the drop ship invoices for their orders with their daily packet of invoices. The issue has been ongoing since at least August 10, 2023. Tara has reached out to Chris Brannen and the GMB-AcctOpsE team multiple times, but the problem persists. The affected accounts are:\n",
      "\n",
      "- SAP Ship To Name 2052014745 PHOENIXVILLE HOSPITAL CO LLC\n",
      "- SAP Ship To Name 2057194735 PHOENIXVILLE HSP SYS PHARM\n",
      "- SAP Ship To Name 2\n",
      "The customer is inquiring about drop ship invoices.\n",
      "EXAMPLE LABEL: Order Processing\n",
      "EXAMPLE COSINE DISTANCE TO INPUT EMAIL: 0.556093211337661\n",
      "--END EXAMPLE--\n",
      "--START EXAMPLE--\n",
      "EXAMPLE EMAIL: The customer, Kimberly Seeman from Henry County Hospital, is inquiring about a missing order. She wants to know why the order was not received and why the order status is showing as \"future\".\n",
      "EXAMPLE LABEL: Order Processing\n",
      "EXAMPLE COSINE DISTANCE TO INPUT EMAIL: 0.5658043125617492\n",
      "--END EXAMPLE--\n",
      "--Classification--\n"
     ]
    }
   ],
   "source": [
    "example_prompt = make_prediction_prompt(\n",
    "    summaries[0],\n",
    "    chroma=chroma\n",
    ")\n",
    "print(len(example_prompt))\n",
    "print(example_prompt)"
   ]
  },
  {
   "cell_type": "code",
   "execution_count": 106,
   "metadata": {},
   "outputs": [],
   "source": [
    "example_prompts = [make_prediction_prompt(s, chroma) for s in summaries]"
   ]
  },
  {
   "cell_type": "code",
   "execution_count": 121,
   "metadata": {},
   "outputs": [
    {
     "name": "stderr",
     "output_type": "stream",
     "text": [
      "                                                                                \r"
     ]
    }
   ],
   "source": [
    "example_predictions = []\n",
    "\n",
    "for p in tqdm(example_prompts, ncols=80, leave=False):\n",
    "    p_prediction = predict(p)\n",
    "    example_predictions.append(p_prediction.text)"
   ]
  },
  {
   "cell_type": "code",
   "execution_count": 122,
   "metadata": {},
   "outputs": [
    {
     "data": {
      "text/plain": [
       "20"
      ]
     },
     "execution_count": 122,
     "metadata": {},
     "output_type": "execute_result"
    }
   ],
   "source": [
    "len(example_predictions)"
   ]
  },
  {
   "cell_type": "code",
   "execution_count": 123,
   "metadata": {},
   "outputs": [
    {
     "data": {
      "text/plain": [
       "Document(page_content='The email is requesting a drop ship order for Ohio State University.\\nThe PO number is 7004014842, the account number is 2150126632, and the store number is 16422.\\nThe drug name is EPIDIOLEX 100MG/ML SOL 100ML, the order quantity is 5, and the prescriber names are LUCRETIA LONG and PHILIP CLAYTON JONAS.\\nThe prescriber NPIs or DEAs are ML0822634 and FJ142\\n', metadata={'idx': 0, 'label': 'Order Processing'})"
      ]
     },
     "execution_count": 123,
     "metadata": {},
     "output_type": "execute_result"
    }
   ],
   "source": [
    "summaries[0]"
   ]
  },
  {
   "cell_type": "code",
   "execution_count": 124,
   "metadata": {},
   "outputs": [],
   "source": [
    "example_labels = [d.metadata.get('label') for d in summaries]"
   ]
  },
  {
   "cell_type": "code",
   "execution_count": 125,
   "metadata": {},
   "outputs": [],
   "source": [
    "pd.DataFrame(\n",
    "    list(zip(\n",
    "        example_predictions, \n",
    "        [d.metadata.get('label') for d in summaries],\n",
    "        [d.metadata.get('idx') for d in summaries])),\n",
    "    columns=['pred', 'label', 'idx']\n",
    ").to_csv(data_dir / 'sample_predictions.csv', index=False)"
   ]
  },
  {
   "cell_type": "code",
   "execution_count": 126,
   "metadata": {},
   "outputs": [],
   "source": [
    "#| hide\n",
    "import nbdev; nbdev.nbdev_export()"
   ]
  },
  {
   "cell_type": "code",
   "execution_count": null,
   "metadata": {},
   "outputs": [],
   "source": []
  }
 ],
 "metadata": {
  "kernelspec": {
   "display_name": ".venv",
   "language": "python",
   "name": "python3"
  },
  "language_info": {
   "codemirror_mode": {
    "name": "ipython",
    "version": 3
   },
   "file_extension": ".py",
   "mimetype": "text/x-python",
   "name": "python",
   "nbconvert_exporter": "python",
   "pygments_lexer": "ipython3",
   "version": "3.11.4"
  }
 },
 "nbformat": 4,
 "nbformat_minor": 2
}
